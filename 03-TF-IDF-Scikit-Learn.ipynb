{
 "cells": [
  {
   "cell_type": "markdown",
   "metadata": {},
   "source": [
    "# TF-IDF with Scikit-Learn"
   ]
  },
  {
   "cell_type": "markdown",
   "metadata": {},
   "source": [
    "## Breaking Down the TF-IDF Formula"
   ]
  },
  {
   "cell_type": "markdown",
   "metadata": {},
   "source": [
    "But first, let's quickly discuss the tf-idf formula. The idea is pretty simple."
   ]
  },
  {
   "cell_type": "markdown",
   "metadata": {},
   "source": [
    "**tf-idf = term_frequency * inverse_document_frequency**"
   ]
  },
  {
   "cell_type": "markdown",
   "metadata": {},
   "source": [
    "**term_frequency** = number of times a given term appears in document"
   ]
  },
  {
   "cell_type": "markdown",
   "metadata": {},
   "source": [
    "**inverse_document_frequency** = log(total number of documents / number of documents with term) + 1**\\***"
   ]
  },
  {
   "cell_type": "markdown",
   "metadata": {},
   "source": [
    "You take the number of times a term occurs in a document (term frequency). Then you take the number of documents in which the same term occurs at least once divided by the total number of documents (document frequency), and you flip that fraction on its head (inverse document frequency). Then you multiply the two numbers together (term_frequency * inverse_document_frequency).\n",
    "\n",
    "The reason we take the *inverse*, or flipped fraction, of document frequency is to boost the rarer words that occur in relatively few documents. Think about the inverse document frequency for the word \"said\" vs the word \"pigeon.\" The term \"said\" appears in 13 (document frequency) of 14 (total documents) *Lost in the City* stories (14 / 13 --> a smaller inverse document frequency) while the term \"pigeons\" only occurs in 2 (document frequency) of the 14 stories (total documents) (14 / 2 --> a bigger inverse document frequency, a bigger tf-idf boost). "
   ]
  },
  {
   "cell_type": "markdown",
   "metadata": {},
   "source": [
    "*There are a bunch of slightly different ways that you can calculate inverse document frequency. The version of idf that we're going to use is the [scikit-learn default](https://scikit-learn.org/stable/modules/generated/sklearn.feature_extraction.text.TfidfTransformer.html#sklearn.feature_extraction.text.TfidfTransformer), which uses \"smoothing\" aka it adds a \"1\" to the numerator and denominator: "
   ]
  },
  {
   "cell_type": "markdown",
   "metadata": {},
   "source": [
    "**inverse_document_frequency**  = log((1 + total_number_of_documents) / (number_of_documents_with_term +1)) + 1"
   ]
  },
  {
   "cell_type": "markdown",
   "metadata": {},
   "source": [
    "<div class=\"margin sidebar\" style=\" padding: 10px\">\n",
    "\n",
    "> If smooth_idf=True (the default), the constant “1” is added to the numerator and denominator of the idf as if an extra document was seen containing every term in the collection exactly once, which prevents zero divisions: idf(t) = log [ (1 + n) / (1 + df(t)) ] + 1.  \n",
    "> -[scikit-learn documentation](https://scikit-learn.org/stable/modules/generated/sklearn.feature_extraction.text.TfidfTransformer.html#sklearn.feature_extraction.text.TfidfTransformer)\n",
    "\n",
    "</div>"
   ]
  },
  {
   "cell_type": "markdown",
   "metadata": {},
   "source": [
    "## TF-IDF with scikit-learn"
   ]
  },
  {
   "cell_type": "markdown",
   "metadata": {},
   "source": [
    "[scikit-learn](https://scikit-learn.org/stable/index.html), imported as `sklearn`, is a popular Python library for machine learning approaches such as clustering, classification, and regression. Though we're not doing any machine learning in this lesson, we're nevertheless going to use scikit-learn's `TfidfVectorizer` and `CountVectorizer`."
   ]
  },
  {
   "cell_type": "markdown",
   "metadata": {},
   "source": [
    "Import necessary modules and libraries"
   ]
  },
  {
   "cell_type": "code",
   "execution_count": 2,
   "metadata": {},
   "outputs": [],
   "source": [
    "from sklearn.feature_extraction.text import TfidfVectorizer\n",
    "from sklearn.feature_extraction.text import CountVectorizer\n",
    "import pandas as pd\n",
    "from pathlib import Path  \n",
    "import glob"
   ]
  },
  {
   "cell_type": "markdown",
   "metadata": {},
   "source": [
    "<div class=\"admonition pandasreview\" name=\"html-admonition\" style=\"background: black; color: white; padding: 10px\">\n",
    "<p class=\"title\">Pandas</p>\n",
    " Do you need a refresher or introduction to the Python data analysis library Pandas? Be sure to check out <a href=\"https://melaniewalsh.github.io/Intro-Cultural-Analytics/Data-Analysis/Pandas-Basics-Part1.html\"> Pandas Basics (1-3) </a> in this textbook!\n",
    "    \n",
    "</div>"
   ]
  },
  {
   "cell_type": "markdown",
   "metadata": {},
   "source": [
    "We're also going to import `pandas` and change its default display setting. And we're going to import two libraries that will help us work with files and the file system: [`pathlib`](https://docs.python.org/3/library/pathlib.html##basic-use) and [`glob`](https://docs.python.org/3/library/glob.html)."
   ]
  },
  {
   "cell_type": "markdown",
   "metadata": {},
   "source": [
    "#### Set Directory Path"
   ]
  },
  {
   "cell_type": "markdown",
   "metadata": {},
   "source": [
    "Below we're setting the directory filepath that contains all the text files that we want to analyze."
   ]
  },
  {
   "cell_type": "code",
   "execution_count": 3,
   "metadata": {},
   "outputs": [],
   "source": [
    "directory_path = \"assets/Raw Corpora/F/\""
   ]
  },
  {
   "cell_type": "markdown",
   "metadata": {},
   "source": [
    "Then we're going to use `glob` and `Path` to make a list of all the filepaths in that directory and a list of all the short story titles."
   ]
  },
  {
   "cell_type": "code",
   "execution_count": 4,
   "metadata": {},
   "outputs": [],
   "source": [
    "text_files = glob.glob(f\"{directory_path}/*.txt\")"
   ]
  },
  {
   "cell_type": "code",
   "execution_count": 5,
   "metadata": {
    "scrolled": true,
    "tags": [
     "output_scroll"
    ]
   },
   "outputs": [
    {
     "data": {
      "text/plain": [
       "['assets/Raw Corpora/F/1872_de-la-ramee-a-dog-of-flanders.txt',\n",
       " 'assets/Raw Corpora/F/1857_browne-grannys-wonderful-chair.txt',\n",
       " 'assets/Raw Corpora/F/1876_ewing-six-to-sixteen-a-story-for-girls.txt',\n",
       " 'assets/Raw Corpora/F/1887_molesworth-four-winds-farm.txt',\n",
       " 'assets/Raw Corpora/F/1877_molesworth-the-cuckoo-clock.txt',\n",
       " 'assets/Raw Corpora/F/1869_ewing-the-land-of-lost-toys.txt',\n",
       " 'assets/Raw Corpora/F/1877_sewell-black-beauty.txt',\n",
       " 'assets/Raw Corpora/F/1857_tucker-the-rambles-of-a-rat.txt',\n",
       " 'assets/Raw Corpora/F/1841_martineau-the-settlers-at-home.txt',\n",
       " 'assets/Raw Corpora/F/1899_nesbit-the-story-of-the-treasure-seekers.txt',\n",
       " 'assets/Raw Corpora/F/1869_ewing-mrs-overtheways-remembrances.txt',\n",
       " 'assets/Raw Corpora/F/1877_ewing-a-great-emergency-and-other-tales.txt',\n",
       " 'assets/Raw Corpora/F/1882_ewing-brothers-of-pity-and-other-tales-of-beasts-and-men.txt',\n",
       " 'assets/Raw Corpora/F/1862_ewing-melchiors-dream-and-other-tales.txt',\n",
       " 'assets/Raw Corpora/F/1876_ewing-jan-of-the-windmill.txt',\n",
       " 'assets/Raw Corpora/F/1875_craik-the-little-lame-prince-and-his-traveling-cloack.txt',\n",
       " 'assets/Raw Corpora/F/1873_ewing-a-flat-iron-for-a-farthing.txt',\n",
       " 'assets/Raw Corpora/F/1870_ewing-the-brownies-and-other-tales.txt',\n",
       " 'assets/Raw Corpora/F/1886_hodgson-burnett-little-lord-fauntleroy.txt',\n",
       " 'assets/Raw Corpora/F/1879_ewing-jackanapes-daddy-darwins-dovecot-and-other-stories.txt',\n",
       " 'assets/Raw Corpora/F/1888_ewing-snap-dragons-old-father-christmas.txt',\n",
       " 'assets/Raw Corpora/F/1839_sinclair-holiday-house-a-series-of-tales.txt',\n",
       " 'assets/Raw Corpora/F/1872_craik-the-adventure-of-a-brownie.txt']"
      ]
     },
     "execution_count": 5,
     "metadata": {},
     "output_type": "execute_result"
    }
   ],
   "source": [
    "text_files"
   ]
  },
  {
   "cell_type": "code",
   "execution_count": 6,
   "metadata": {},
   "outputs": [],
   "source": [
    "text_titles = [Path(text).stem for text in text_files]"
   ]
  },
  {
   "cell_type": "code",
   "execution_count": 7,
   "metadata": {
    "scrolled": true,
    "tags": [
     "output_scroll"
    ]
   },
   "outputs": [
    {
     "data": {
      "text/plain": [
       "['1872_de-la-ramee-a-dog-of-flanders',\n",
       " '1857_browne-grannys-wonderful-chair',\n",
       " '1876_ewing-six-to-sixteen-a-story-for-girls',\n",
       " '1887_molesworth-four-winds-farm',\n",
       " '1877_molesworth-the-cuckoo-clock',\n",
       " '1869_ewing-the-land-of-lost-toys',\n",
       " '1877_sewell-black-beauty',\n",
       " '1857_tucker-the-rambles-of-a-rat',\n",
       " '1841_martineau-the-settlers-at-home',\n",
       " '1899_nesbit-the-story-of-the-treasure-seekers',\n",
       " '1869_ewing-mrs-overtheways-remembrances',\n",
       " '1877_ewing-a-great-emergency-and-other-tales',\n",
       " '1882_ewing-brothers-of-pity-and-other-tales-of-beasts-and-men',\n",
       " '1862_ewing-melchiors-dream-and-other-tales',\n",
       " '1876_ewing-jan-of-the-windmill',\n",
       " '1875_craik-the-little-lame-prince-and-his-traveling-cloack',\n",
       " '1873_ewing-a-flat-iron-for-a-farthing',\n",
       " '1870_ewing-the-brownies-and-other-tales',\n",
       " '1886_hodgson-burnett-little-lord-fauntleroy',\n",
       " '1879_ewing-jackanapes-daddy-darwins-dovecot-and-other-stories',\n",
       " '1888_ewing-snap-dragons-old-father-christmas',\n",
       " '1839_sinclair-holiday-house-a-series-of-tales',\n",
       " '1872_craik-the-adventure-of-a-brownie']"
      ]
     },
     "execution_count": 7,
     "metadata": {},
     "output_type": "execute_result"
    }
   ],
   "source": [
    "text_titles"
   ]
  },
  {
   "cell_type": "markdown",
   "metadata": {},
   "source": [
    "## Calculate tf–idf"
   ]
  },
  {
   "cell_type": "markdown",
   "metadata": {},
   "source": [
    "To calculate tf–idf scores for every word, we're going to use scikit-learn's [`TfidfVectorizer`](https://scikit-learn.org/stable/modules/generated/sklearn.feature_extraction.text.TfidfVectorizer.html).\n",
    "\n",
    "When you initialize TfidfVectorizer, you can choose to set it with different parameters. These parameters will change the way you calculate tf–idf."
   ]
  },
  {
   "cell_type": "markdown",
   "metadata": {},
   "source": [
    "The recommended way to run `TfidfVectorizer` is with smoothing (`smooth_idf = True`) and normalization (`norm='l2'`) turned on. These parameters will better account for differences in text length, and overall produce more meaningful tf–idf scores. Smoothing and L2 normalization are actually the default settings for `TfidfVectorizer`, so to turn them on, you don't need to include any extra code at all."
   ]
  },
  {
   "cell_type": "markdown",
   "metadata": {},
   "source": [
    "Initialize TfidfVectorizer with desired parameters (default smoothing and normalization)"
   ]
  },
  {
   "cell_type": "code",
   "execution_count": 11,
   "metadata": {},
   "outputs": [],
   "source": [
    "tfidf_vectorizer = TfidfVectorizer(input='filename', stop_words='english')"
   ]
  },
  {
   "cell_type": "markdown",
   "metadata": {},
   "source": [
    "Run TfidfVectorizer on our `text_files`"
   ]
  },
  {
   "cell_type": "code",
   "execution_count": 12,
   "metadata": {},
   "outputs": [],
   "source": [
    "tfidf_vector = tfidf_vectorizer.fit_transform(text_files)"
   ]
  },
  {
   "cell_type": "markdown",
   "metadata": {},
   "source": [
    "Make a DataFrame out of the resulting tf–idf vector, setting the \"feature names\" or words as columns and the titles as rows"
   ]
  },
  {
   "cell_type": "code",
   "execution_count": 40,
   "metadata": {},
   "outputs": [
    {
     "name": "stderr",
     "output_type": "stream",
     "text": [
      "/Library/Frameworks/Python.framework/Versions/3.10/lib/python3.10/site-packages/sklearn/utils/deprecation.py:87: FutureWarning: Function get_feature_names is deprecated; get_feature_names is deprecated in 1.0 and will be removed in 1.2. Please use get_feature_names_out instead.\n",
      "  warnings.warn(msg, category=FutureWarning)\n"
     ]
    }
   ],
   "source": [
    "tfidf_df = pd.DataFrame(tfidf_vector.toarray(), index=text_titles, columns=tfidf_vectorizer.get_feature_names())"
   ]
  },
  {
   "cell_type": "markdown",
   "metadata": {},
   "source": [
    "Add column for document frequency aka number of times word appears in all documents"
   ]
  },
  {
   "cell_type": "code",
   "execution_count": 14,
   "metadata": {},
   "outputs": [],
   "source": [
    "tfidf_df.loc['00_Document Frequency'] = (tfidf_df > 0).sum()"
   ]
  },
  {
   "cell_type": "code",
   "execution_count": 44,
   "metadata": {},
   "outputs": [
    {
     "data": {
      "text/html": [
       "<div>\n",
       "<style scoped>\n",
       "    .dataframe tbody tr th:only-of-type {\n",
       "        vertical-align: middle;\n",
       "    }\n",
       "\n",
       "    .dataframe tbody tr th {\n",
       "        vertical-align: top;\n",
       "    }\n",
       "\n",
       "    .dataframe thead th {\n",
       "        text-align: right;\n",
       "    }\n",
       "</style>\n",
       "<table border=\"1\" class=\"dataframe\">\n",
       "  <thead>\n",
       "    <tr style=\"text-align: right;\">\n",
       "      <th></th>\n",
       "      <th>heroine</th>\n",
       "      <th>dress</th>\n",
       "      <th>actress</th>\n",
       "      <th>women</th>\n",
       "      <th>aunt</th>\n",
       "      <th>aunts</th>\n",
       "      <th>bride</th>\n",
       "      <th>daughter</th>\n",
       "      <th>daughters</th>\n",
       "      <th>female</th>\n",
       "      <th>girl</th>\n",
       "      <th>girls</th>\n",
       "    </tr>\n",
       "  </thead>\n",
       "  <tbody>\n",
       "    <tr>\n",
       "      <th>1839_sinclair-holiday-house-a-series-of-tales</th>\n",
       "      <td>0.00</td>\n",
       "      <td>0.00</td>\n",
       "      <td>0.0</td>\n",
       "      <td>0.00</td>\n",
       "      <td>0.00</td>\n",
       "      <td>0.00</td>\n",
       "      <td>0.00</td>\n",
       "      <td>0.00</td>\n",
       "      <td>0.00</td>\n",
       "      <td>0.00</td>\n",
       "      <td>0.00</td>\n",
       "      <td>0.00</td>\n",
       "    </tr>\n",
       "    <tr>\n",
       "      <th>1841_martineau-the-settlers-at-home</th>\n",
       "      <td>0.00</td>\n",
       "      <td>0.00</td>\n",
       "      <td>0.0</td>\n",
       "      <td>0.00</td>\n",
       "      <td>0.00</td>\n",
       "      <td>0.00</td>\n",
       "      <td>0.00</td>\n",
       "      <td>0.00</td>\n",
       "      <td>0.00</td>\n",
       "      <td>0.00</td>\n",
       "      <td>0.01</td>\n",
       "      <td>0.00</td>\n",
       "    </tr>\n",
       "    <tr>\n",
       "      <th>1857_browne-grannys-wonderful-chair</th>\n",
       "      <td>0.00</td>\n",
       "      <td>0.01</td>\n",
       "      <td>0.0</td>\n",
       "      <td>0.00</td>\n",
       "      <td>0.01</td>\n",
       "      <td>0.00</td>\n",
       "      <td>0.01</td>\n",
       "      <td>0.05</td>\n",
       "      <td>0.02</td>\n",
       "      <td>0.00</td>\n",
       "      <td>0.04</td>\n",
       "      <td>0.00</td>\n",
       "    </tr>\n",
       "    <tr>\n",
       "      <th>1857_tucker-the-rambles-of-a-rat</th>\n",
       "      <td>0.00</td>\n",
       "      <td>0.00</td>\n",
       "      <td>0.0</td>\n",
       "      <td>0.00</td>\n",
       "      <td>0.00</td>\n",
       "      <td>0.00</td>\n",
       "      <td>0.00</td>\n",
       "      <td>0.00</td>\n",
       "      <td>0.00</td>\n",
       "      <td>0.00</td>\n",
       "      <td>0.00</td>\n",
       "      <td>0.00</td>\n",
       "    </tr>\n",
       "    <tr>\n",
       "      <th>1862_ewing-melchiors-dream-and-other-tales</th>\n",
       "      <td>0.01</td>\n",
       "      <td>0.01</td>\n",
       "      <td>0.0</td>\n",
       "      <td>0.01</td>\n",
       "      <td>0.00</td>\n",
       "      <td>0.00</td>\n",
       "      <td>0.00</td>\n",
       "      <td>0.01</td>\n",
       "      <td>0.00</td>\n",
       "      <td>0.00</td>\n",
       "      <td>0.01</td>\n",
       "      <td>0.01</td>\n",
       "    </tr>\n",
       "    <tr>\n",
       "      <th>1869_ewing-mrs-overtheways-remembrances</th>\n",
       "      <td>0.00</td>\n",
       "      <td>0.03</td>\n",
       "      <td>0.0</td>\n",
       "      <td>0.01</td>\n",
       "      <td>0.04</td>\n",
       "      <td>0.00</td>\n",
       "      <td>0.00</td>\n",
       "      <td>0.01</td>\n",
       "      <td>0.00</td>\n",
       "      <td>0.00</td>\n",
       "      <td>0.01</td>\n",
       "      <td>0.02</td>\n",
       "    </tr>\n",
       "    <tr>\n",
       "      <th>1869_ewing-the-land-of-lost-toys</th>\n",
       "      <td>0.00</td>\n",
       "      <td>0.01</td>\n",
       "      <td>0.0</td>\n",
       "      <td>0.01</td>\n",
       "      <td>0.03</td>\n",
       "      <td>0.00</td>\n",
       "      <td>0.00</td>\n",
       "      <td>0.00</td>\n",
       "      <td>0.00</td>\n",
       "      <td>0.00</td>\n",
       "      <td>0.01</td>\n",
       "      <td>0.00</td>\n",
       "    </tr>\n",
       "    <tr>\n",
       "      <th>1870_ewing-the-brownies-and-other-tales</th>\n",
       "      <td>0.00</td>\n",
       "      <td>0.01</td>\n",
       "      <td>0.0</td>\n",
       "      <td>0.01</td>\n",
       "      <td>0.02</td>\n",
       "      <td>0.00</td>\n",
       "      <td>0.01</td>\n",
       "      <td>0.01</td>\n",
       "      <td>0.00</td>\n",
       "      <td>0.00</td>\n",
       "      <td>0.01</td>\n",
       "      <td>0.00</td>\n",
       "    </tr>\n",
       "    <tr>\n",
       "      <th>1872_craik-the-adventure-of-a-brownie</th>\n",
       "      <td>0.00</td>\n",
       "      <td>0.00</td>\n",
       "      <td>0.0</td>\n",
       "      <td>0.01</td>\n",
       "      <td>0.00</td>\n",
       "      <td>0.00</td>\n",
       "      <td>0.00</td>\n",
       "      <td>0.00</td>\n",
       "      <td>0.00</td>\n",
       "      <td>0.00</td>\n",
       "      <td>0.03</td>\n",
       "      <td>0.02</td>\n",
       "    </tr>\n",
       "    <tr>\n",
       "      <th>1872_de-la-ramee-a-dog-of-flanders</th>\n",
       "      <td>0.00</td>\n",
       "      <td>0.00</td>\n",
       "      <td>0.0</td>\n",
       "      <td>0.00</td>\n",
       "      <td>0.00</td>\n",
       "      <td>0.00</td>\n",
       "      <td>0.00</td>\n",
       "      <td>0.00</td>\n",
       "      <td>0.00</td>\n",
       "      <td>0.00</td>\n",
       "      <td>0.00</td>\n",
       "      <td>0.00</td>\n",
       "    </tr>\n",
       "    <tr>\n",
       "      <th>1873_ewing-a-flat-iron-for-a-farthing</th>\n",
       "      <td>0.00</td>\n",
       "      <td>0.01</td>\n",
       "      <td>0.0</td>\n",
       "      <td>0.01</td>\n",
       "      <td>0.08</td>\n",
       "      <td>0.00</td>\n",
       "      <td>0.00</td>\n",
       "      <td>0.01</td>\n",
       "      <td>0.00</td>\n",
       "      <td>0.00</td>\n",
       "      <td>0.01</td>\n",
       "      <td>0.02</td>\n",
       "    </tr>\n",
       "    <tr>\n",
       "      <th>1875_craik-the-little-lame-prince-and-his-traveling-cloack</th>\n",
       "      <td>0.00</td>\n",
       "      <td>0.00</td>\n",
       "      <td>0.0</td>\n",
       "      <td>0.01</td>\n",
       "      <td>0.00</td>\n",
       "      <td>0.00</td>\n",
       "      <td>0.00</td>\n",
       "      <td>0.00</td>\n",
       "      <td>0.00</td>\n",
       "      <td>0.00</td>\n",
       "      <td>0.01</td>\n",
       "      <td>0.01</td>\n",
       "    </tr>\n",
       "    <tr>\n",
       "      <th>1876_ewing-jan-of-the-windmill</th>\n",
       "      <td>0.00</td>\n",
       "      <td>0.01</td>\n",
       "      <td>0.0</td>\n",
       "      <td>0.00</td>\n",
       "      <td>0.00</td>\n",
       "      <td>0.00</td>\n",
       "      <td>0.00</td>\n",
       "      <td>0.00</td>\n",
       "      <td>0.00</td>\n",
       "      <td>0.00</td>\n",
       "      <td>0.00</td>\n",
       "      <td>0.00</td>\n",
       "    </tr>\n",
       "    <tr>\n",
       "      <th>1876_ewing-six-to-sixteen-a-story-for-girls</th>\n",
       "      <td>0.00</td>\n",
       "      <td>0.02</td>\n",
       "      <td>0.0</td>\n",
       "      <td>0.01</td>\n",
       "      <td>0.07</td>\n",
       "      <td>0.00</td>\n",
       "      <td>0.02</td>\n",
       "      <td>0.01</td>\n",
       "      <td>0.01</td>\n",
       "      <td>0.00</td>\n",
       "      <td>0.01</td>\n",
       "      <td>0.04</td>\n",
       "    </tr>\n",
       "    <tr>\n",
       "      <th>1877_ewing-a-great-emergency-and-other-tales</th>\n",
       "      <td>0.00</td>\n",
       "      <td>0.01</td>\n",
       "      <td>0.0</td>\n",
       "      <td>0.00</td>\n",
       "      <td>0.06</td>\n",
       "      <td>0.00</td>\n",
       "      <td>0.00</td>\n",
       "      <td>0.00</td>\n",
       "      <td>0.00</td>\n",
       "      <td>0.00</td>\n",
       "      <td>0.01</td>\n",
       "      <td>0.01</td>\n",
       "    </tr>\n",
       "    <tr>\n",
       "      <th>1877_molesworth-the-cuckoo-clock</th>\n",
       "      <td>0.00</td>\n",
       "      <td>0.00</td>\n",
       "      <td>0.0</td>\n",
       "      <td>0.00</td>\n",
       "      <td>0.03</td>\n",
       "      <td>0.03</td>\n",
       "      <td>0.00</td>\n",
       "      <td>0.00</td>\n",
       "      <td>0.00</td>\n",
       "      <td>0.00</td>\n",
       "      <td>0.01</td>\n",
       "      <td>0.00</td>\n",
       "    </tr>\n",
       "    <tr>\n",
       "      <th>1877_sewell-black-beauty</th>\n",
       "      <td>0.00</td>\n",
       "      <td>0.00</td>\n",
       "      <td>0.0</td>\n",
       "      <td>0.00</td>\n",
       "      <td>0.00</td>\n",
       "      <td>0.00</td>\n",
       "      <td>0.00</td>\n",
       "      <td>0.00</td>\n",
       "      <td>0.00</td>\n",
       "      <td>0.00</td>\n",
       "      <td>0.01</td>\n",
       "      <td>0.00</td>\n",
       "    </tr>\n",
       "    <tr>\n",
       "      <th>1879_ewing-jackanapes-daddy-darwins-dovecot-and-other-stories</th>\n",
       "      <td>0.00</td>\n",
       "      <td>0.00</td>\n",
       "      <td>0.0</td>\n",
       "      <td>0.00</td>\n",
       "      <td>0.02</td>\n",
       "      <td>0.00</td>\n",
       "      <td>0.00</td>\n",
       "      <td>0.03</td>\n",
       "      <td>0.00</td>\n",
       "      <td>0.01</td>\n",
       "      <td>0.00</td>\n",
       "      <td>0.00</td>\n",
       "    </tr>\n",
       "    <tr>\n",
       "      <th>1882_ewing-brothers-of-pity-and-other-tales-of-beasts-and-men</th>\n",
       "      <td>0.00</td>\n",
       "      <td>0.01</td>\n",
       "      <td>0.0</td>\n",
       "      <td>0.01</td>\n",
       "      <td>0.01</td>\n",
       "      <td>0.00</td>\n",
       "      <td>0.00</td>\n",
       "      <td>0.09</td>\n",
       "      <td>0.00</td>\n",
       "      <td>0.00</td>\n",
       "      <td>0.03</td>\n",
       "      <td>0.00</td>\n",
       "    </tr>\n",
       "    <tr>\n",
       "      <th>1886_hodgson-burnett-little-lord-fauntleroy</th>\n",
       "      <td>0.00</td>\n",
       "      <td>0.00</td>\n",
       "      <td>0.0</td>\n",
       "      <td>0.01</td>\n",
       "      <td>0.00</td>\n",
       "      <td>0.00</td>\n",
       "      <td>0.00</td>\n",
       "      <td>0.00</td>\n",
       "      <td>0.00</td>\n",
       "      <td>0.00</td>\n",
       "      <td>0.00</td>\n",
       "      <td>0.00</td>\n",
       "    </tr>\n",
       "    <tr>\n",
       "      <th>1887_molesworth-four-winds-farm</th>\n",
       "      <td>0.00</td>\n",
       "      <td>0.00</td>\n",
       "      <td>0.0</td>\n",
       "      <td>0.00</td>\n",
       "      <td>0.00</td>\n",
       "      <td>0.00</td>\n",
       "      <td>0.00</td>\n",
       "      <td>0.00</td>\n",
       "      <td>0.00</td>\n",
       "      <td>0.00</td>\n",
       "      <td>0.00</td>\n",
       "      <td>0.00</td>\n",
       "    </tr>\n",
       "    <tr>\n",
       "      <th>1888_ewing-snap-dragons-old-father-christmas</th>\n",
       "      <td>0.00</td>\n",
       "      <td>0.01</td>\n",
       "      <td>0.0</td>\n",
       "      <td>0.01</td>\n",
       "      <td>0.00</td>\n",
       "      <td>0.00</td>\n",
       "      <td>0.00</td>\n",
       "      <td>0.00</td>\n",
       "      <td>0.00</td>\n",
       "      <td>0.00</td>\n",
       "      <td>0.00</td>\n",
       "      <td>0.02</td>\n",
       "    </tr>\n",
       "    <tr>\n",
       "      <th>1899_nesbit-the-story-of-the-treasure-seekers</th>\n",
       "      <td>0.00</td>\n",
       "      <td>0.00</td>\n",
       "      <td>0.0</td>\n",
       "      <td>0.00</td>\n",
       "      <td>0.00</td>\n",
       "      <td>0.00</td>\n",
       "      <td>0.00</td>\n",
       "      <td>0.00</td>\n",
       "      <td>0.00</td>\n",
       "      <td>0.00</td>\n",
       "      <td>0.02</td>\n",
       "      <td>0.02</td>\n",
       "    </tr>\n",
       "  </tbody>\n",
       "</table>\n",
       "</div>"
      ],
      "text/plain": [
       "                                                    heroine  dress  actress  \\\n",
       "1839_sinclair-holiday-house-a-series-of-tales          0.00   0.00      0.0   \n",
       "1841_martineau-the-settlers-at-home                    0.00   0.00      0.0   \n",
       "1857_browne-grannys-wonderful-chair                    0.00   0.01      0.0   \n",
       "1857_tucker-the-rambles-of-a-rat                       0.00   0.00      0.0   \n",
       "1862_ewing-melchiors-dream-and-other-tales             0.01   0.01      0.0   \n",
       "1869_ewing-mrs-overtheways-remembrances                0.00   0.03      0.0   \n",
       "1869_ewing-the-land-of-lost-toys                       0.00   0.01      0.0   \n",
       "1870_ewing-the-brownies-and-other-tales                0.00   0.01      0.0   \n",
       "1872_craik-the-adventure-of-a-brownie                  0.00   0.00      0.0   \n",
       "1872_de-la-ramee-a-dog-of-flanders                     0.00   0.00      0.0   \n",
       "1873_ewing-a-flat-iron-for-a-farthing                  0.00   0.01      0.0   \n",
       "1875_craik-the-little-lame-prince-and-his-trave...     0.00   0.00      0.0   \n",
       "1876_ewing-jan-of-the-windmill                         0.00   0.01      0.0   \n",
       "1876_ewing-six-to-sixteen-a-story-for-girls            0.00   0.02      0.0   \n",
       "1877_ewing-a-great-emergency-and-other-tales           0.00   0.01      0.0   \n",
       "1877_molesworth-the-cuckoo-clock                       0.00   0.00      0.0   \n",
       "1877_sewell-black-beauty                               0.00   0.00      0.0   \n",
       "1879_ewing-jackanapes-daddy-darwins-dovecot-and...     0.00   0.00      0.0   \n",
       "1882_ewing-brothers-of-pity-and-other-tales-of-...     0.00   0.01      0.0   \n",
       "1886_hodgson-burnett-little-lord-fauntleroy            0.00   0.00      0.0   \n",
       "1887_molesworth-four-winds-farm                        0.00   0.00      0.0   \n",
       "1888_ewing-snap-dragons-old-father-christmas           0.00   0.01      0.0   \n",
       "1899_nesbit-the-story-of-the-treasure-seekers          0.00   0.00      0.0   \n",
       "\n",
       "                                                    women  aunt  aunts  bride  \\\n",
       "1839_sinclair-holiday-house-a-series-of-tales        0.00  0.00   0.00   0.00   \n",
       "1841_martineau-the-settlers-at-home                  0.00  0.00   0.00   0.00   \n",
       "1857_browne-grannys-wonderful-chair                  0.00  0.01   0.00   0.01   \n",
       "1857_tucker-the-rambles-of-a-rat                     0.00  0.00   0.00   0.00   \n",
       "1862_ewing-melchiors-dream-and-other-tales           0.01  0.00   0.00   0.00   \n",
       "1869_ewing-mrs-overtheways-remembrances              0.01  0.04   0.00   0.00   \n",
       "1869_ewing-the-land-of-lost-toys                     0.01  0.03   0.00   0.00   \n",
       "1870_ewing-the-brownies-and-other-tales              0.01  0.02   0.00   0.01   \n",
       "1872_craik-the-adventure-of-a-brownie                0.01  0.00   0.00   0.00   \n",
       "1872_de-la-ramee-a-dog-of-flanders                   0.00  0.00   0.00   0.00   \n",
       "1873_ewing-a-flat-iron-for-a-farthing                0.01  0.08   0.00   0.00   \n",
       "1875_craik-the-little-lame-prince-and-his-trave...   0.01  0.00   0.00   0.00   \n",
       "1876_ewing-jan-of-the-windmill                       0.00  0.00   0.00   0.00   \n",
       "1876_ewing-six-to-sixteen-a-story-for-girls          0.01  0.07   0.00   0.02   \n",
       "1877_ewing-a-great-emergency-and-other-tales         0.00  0.06   0.00   0.00   \n",
       "1877_molesworth-the-cuckoo-clock                     0.00  0.03   0.03   0.00   \n",
       "1877_sewell-black-beauty                             0.00  0.00   0.00   0.00   \n",
       "1879_ewing-jackanapes-daddy-darwins-dovecot-and...   0.00  0.02   0.00   0.00   \n",
       "1882_ewing-brothers-of-pity-and-other-tales-of-...   0.01  0.01   0.00   0.00   \n",
       "1886_hodgson-burnett-little-lord-fauntleroy          0.01  0.00   0.00   0.00   \n",
       "1887_molesworth-four-winds-farm                      0.00  0.00   0.00   0.00   \n",
       "1888_ewing-snap-dragons-old-father-christmas         0.01  0.00   0.00   0.00   \n",
       "1899_nesbit-the-story-of-the-treasure-seekers        0.00  0.00   0.00   0.00   \n",
       "\n",
       "                                                    daughter  daughters  \\\n",
       "1839_sinclair-holiday-house-a-series-of-tales           0.00       0.00   \n",
       "1841_martineau-the-settlers-at-home                     0.00       0.00   \n",
       "1857_browne-grannys-wonderful-chair                     0.05       0.02   \n",
       "1857_tucker-the-rambles-of-a-rat                        0.00       0.00   \n",
       "1862_ewing-melchiors-dream-and-other-tales              0.01       0.00   \n",
       "1869_ewing-mrs-overtheways-remembrances                 0.01       0.00   \n",
       "1869_ewing-the-land-of-lost-toys                        0.00       0.00   \n",
       "1870_ewing-the-brownies-and-other-tales                 0.01       0.00   \n",
       "1872_craik-the-adventure-of-a-brownie                   0.00       0.00   \n",
       "1872_de-la-ramee-a-dog-of-flanders                      0.00       0.00   \n",
       "1873_ewing-a-flat-iron-for-a-farthing                   0.01       0.00   \n",
       "1875_craik-the-little-lame-prince-and-his-trave...      0.00       0.00   \n",
       "1876_ewing-jan-of-the-windmill                          0.00       0.00   \n",
       "1876_ewing-six-to-sixteen-a-story-for-girls             0.01       0.01   \n",
       "1877_ewing-a-great-emergency-and-other-tales            0.00       0.00   \n",
       "1877_molesworth-the-cuckoo-clock                        0.00       0.00   \n",
       "1877_sewell-black-beauty                                0.00       0.00   \n",
       "1879_ewing-jackanapes-daddy-darwins-dovecot-and...      0.03       0.00   \n",
       "1882_ewing-brothers-of-pity-and-other-tales-of-...      0.09       0.00   \n",
       "1886_hodgson-burnett-little-lord-fauntleroy             0.00       0.00   \n",
       "1887_molesworth-four-winds-farm                         0.00       0.00   \n",
       "1888_ewing-snap-dragons-old-father-christmas            0.00       0.00   \n",
       "1899_nesbit-the-story-of-the-treasure-seekers           0.00       0.00   \n",
       "\n",
       "                                                    female  girl  girls  \n",
       "1839_sinclair-holiday-house-a-series-of-tales         0.00  0.00   0.00  \n",
       "1841_martineau-the-settlers-at-home                   0.00  0.01   0.00  \n",
       "1857_browne-grannys-wonderful-chair                   0.00  0.04   0.00  \n",
       "1857_tucker-the-rambles-of-a-rat                      0.00  0.00   0.00  \n",
       "1862_ewing-melchiors-dream-and-other-tales            0.00  0.01   0.01  \n",
       "1869_ewing-mrs-overtheways-remembrances               0.00  0.01   0.02  \n",
       "1869_ewing-the-land-of-lost-toys                      0.00  0.01   0.00  \n",
       "1870_ewing-the-brownies-and-other-tales               0.00  0.01   0.00  \n",
       "1872_craik-the-adventure-of-a-brownie                 0.00  0.03   0.02  \n",
       "1872_de-la-ramee-a-dog-of-flanders                    0.00  0.00   0.00  \n",
       "1873_ewing-a-flat-iron-for-a-farthing                 0.00  0.01   0.02  \n",
       "1875_craik-the-little-lame-prince-and-his-trave...    0.00  0.01   0.01  \n",
       "1876_ewing-jan-of-the-windmill                        0.00  0.00   0.00  \n",
       "1876_ewing-six-to-sixteen-a-story-for-girls           0.00  0.01   0.04  \n",
       "1877_ewing-a-great-emergency-and-other-tales          0.00  0.01   0.01  \n",
       "1877_molesworth-the-cuckoo-clock                      0.00  0.01   0.00  \n",
       "1877_sewell-black-beauty                              0.00  0.01   0.00  \n",
       "1879_ewing-jackanapes-daddy-darwins-dovecot-and...    0.01  0.00   0.00  \n",
       "1882_ewing-brothers-of-pity-and-other-tales-of-...    0.00  0.03   0.00  \n",
       "1886_hodgson-burnett-little-lord-fauntleroy           0.00  0.00   0.00  \n",
       "1887_molesworth-four-winds-farm                       0.00  0.00   0.00  \n",
       "1888_ewing-snap-dragons-old-father-christmas          0.00  0.00   0.02  \n",
       "1899_nesbit-the-story-of-the-treasure-seekers         0.00  0.02   0.02  "
      ]
     },
     "execution_count": 44,
     "metadata": {},
     "output_type": "execute_result"
    }
   ],
   "source": [
    "tfidf_slice = tfidf_df[['heroine','dress','actress','women','aunt','aunts','bride','daughter','daughters','female','girl','girls']]\n",
    "tfidf_slice.sort_index().round(decimals=2)"
   ]
  },
  {
   "cell_type": "markdown",
   "metadata": {},
   "source": [
    "Let's drop \"OO_Document Frequency\" since we were just using it for illustration purposes."
   ]
  },
  {
   "cell_type": "code",
   "execution_count": 45,
   "metadata": {
    "scrolled": true
   },
   "outputs": [],
   "source": [
    "tfidf_df = tfidf_df.drop('00_Document Frequency', errors='ignore')"
   ]
  },
  {
   "cell_type": "markdown",
   "metadata": {},
   "source": [
    "Let's reorganize the DataFrame so that the words are in rows rather than columns."
   ]
  },
  {
   "cell_type": "code",
   "execution_count": 46,
   "metadata": {},
   "outputs": [
    {
     "data": {
      "text/html": [
       "<div>\n",
       "<style scoped>\n",
       "    .dataframe tbody tr th:only-of-type {\n",
       "        vertical-align: middle;\n",
       "    }\n",
       "\n",
       "    .dataframe tbody tr th {\n",
       "        vertical-align: top;\n",
       "    }\n",
       "\n",
       "    .dataframe thead th {\n",
       "        text-align: right;\n",
       "    }\n",
       "</style>\n",
       "<table border=\"1\" class=\"dataframe\">\n",
       "  <thead>\n",
       "    <tr style=\"text-align: right;\">\n",
       "      <th></th>\n",
       "      <th>level_0</th>\n",
       "      <th>level_1</th>\n",
       "      <th>0</th>\n",
       "    </tr>\n",
       "  </thead>\n",
       "  <tbody>\n",
       "    <tr>\n",
       "      <th>0</th>\n",
       "      <td>1872_de-la-ramee-a-dog-of-flanders</td>\n",
       "      <td>000</td>\n",
       "      <td>0.0</td>\n",
       "    </tr>\n",
       "    <tr>\n",
       "      <th>1</th>\n",
       "      <td>1872_de-la-ramee-a-dog-of-flanders</td>\n",
       "      <td>01</td>\n",
       "      <td>0.0</td>\n",
       "    </tr>\n",
       "    <tr>\n",
       "      <th>2</th>\n",
       "      <td>1872_de-la-ramee-a-dog-of-flanders</td>\n",
       "      <td>02</td>\n",
       "      <td>0.0</td>\n",
       "    </tr>\n",
       "    <tr>\n",
       "      <th>3</th>\n",
       "      <td>1872_de-la-ramee-a-dog-of-flanders</td>\n",
       "      <td>03</td>\n",
       "      <td>0.0</td>\n",
       "    </tr>\n",
       "    <tr>\n",
       "      <th>4</th>\n",
       "      <td>1872_de-la-ramee-a-dog-of-flanders</td>\n",
       "      <td>04</td>\n",
       "      <td>0.0</td>\n",
       "    </tr>\n",
       "    <tr>\n",
       "      <th>...</th>\n",
       "      <td>...</td>\n",
       "      <td>...</td>\n",
       "      <td>...</td>\n",
       "    </tr>\n",
       "    <tr>\n",
       "      <th>531088</th>\n",
       "      <td>1872_craik-the-adventure-of-a-brownie</td>\n",
       "      <td>zuch</td>\n",
       "      <td>0.0</td>\n",
       "    </tr>\n",
       "    <tr>\n",
       "      <th>531089</th>\n",
       "      <td>1872_craik-the-adventure-of-a-brownie</td>\n",
       "      <td>zz</td>\n",
       "      <td>0.0</td>\n",
       "    </tr>\n",
       "    <tr>\n",
       "      <th>531090</th>\n",
       "      <td>1872_craik-the-adventure-of-a-brownie</td>\n",
       "      <td>æolian</td>\n",
       "      <td>0.0</td>\n",
       "    </tr>\n",
       "    <tr>\n",
       "      <th>531091</th>\n",
       "      <td>1872_craik-the-adventure-of-a-brownie</td>\n",
       "      <td>ærial</td>\n",
       "      <td>0.0</td>\n",
       "    </tr>\n",
       "    <tr>\n",
       "      <th>531092</th>\n",
       "      <td>1872_craik-the-adventure-of-a-brownie</td>\n",
       "      <td>æsop</td>\n",
       "      <td>0.0</td>\n",
       "    </tr>\n",
       "  </tbody>\n",
       "</table>\n",
       "<p>531093 rows × 3 columns</p>\n",
       "</div>"
      ],
      "text/plain": [
       "                                      level_0 level_1    0\n",
       "0          1872_de-la-ramee-a-dog-of-flanders     000  0.0\n",
       "1          1872_de-la-ramee-a-dog-of-flanders      01  0.0\n",
       "2          1872_de-la-ramee-a-dog-of-flanders      02  0.0\n",
       "3          1872_de-la-ramee-a-dog-of-flanders      03  0.0\n",
       "4          1872_de-la-ramee-a-dog-of-flanders      04  0.0\n",
       "...                                       ...     ...  ...\n",
       "531088  1872_craik-the-adventure-of-a-brownie    zuch  0.0\n",
       "531089  1872_craik-the-adventure-of-a-brownie      zz  0.0\n",
       "531090  1872_craik-the-adventure-of-a-brownie  æolian  0.0\n",
       "531091  1872_craik-the-adventure-of-a-brownie   ærial  0.0\n",
       "531092  1872_craik-the-adventure-of-a-brownie    æsop  0.0\n",
       "\n",
       "[531093 rows x 3 columns]"
      ]
     },
     "execution_count": 46,
     "metadata": {},
     "output_type": "execute_result"
    }
   ],
   "source": [
    "tfidf_df.stack().reset_index()"
   ]
  },
  {
   "cell_type": "code",
   "execution_count": 47,
   "metadata": {},
   "outputs": [],
   "source": [
    "tfidf_df = tfidf_df.stack().reset_index()"
   ]
  },
  {
   "cell_type": "code",
   "execution_count": 48,
   "metadata": {},
   "outputs": [],
   "source": [
    "tfidf_df = tfidf_df.rename(columns={0:'tfidf', 'level_0': 'document','level_1': 'term', 'level_2': 'term'})"
   ]
  },
  {
   "cell_type": "markdown",
   "metadata": {},
   "source": [
    "To find out the top 10 words with the highest tf–idf for every story, we're going to sort by document and tfidf score and then groupby document and take the first 10 values."
   ]
  },
  {
   "cell_type": "code",
   "execution_count": 49,
   "metadata": {
    "scrolled": true,
    "tags": [
     "output_scroll"
    ]
   },
   "outputs": [
    {
     "data": {
      "text/html": [
       "<div>\n",
       "<style scoped>\n",
       "    .dataframe tbody tr th:only-of-type {\n",
       "        vertical-align: middle;\n",
       "    }\n",
       "\n",
       "    .dataframe tbody tr th {\n",
       "        vertical-align: top;\n",
       "    }\n",
       "\n",
       "    .dataframe thead th {\n",
       "        text-align: right;\n",
       "    }\n",
       "</style>\n",
       "<table border=\"1\" class=\"dataframe\">\n",
       "  <thead>\n",
       "    <tr style=\"text-align: right;\">\n",
       "      <th></th>\n",
       "      <th>document</th>\n",
       "      <th>term</th>\n",
       "      <th>tfidf</th>\n",
       "    </tr>\n",
       "  </thead>\n",
       "  <tbody>\n",
       "    <tr>\n",
       "      <th>496826</th>\n",
       "      <td>1839_sinclair-holiday-house-a-series-of-tales</td>\n",
       "      <td>laura</td>\n",
       "      <td>0.604090</td>\n",
       "    </tr>\n",
       "    <tr>\n",
       "      <th>494727</th>\n",
       "      <td>1839_sinclair-holiday-house-a-series-of-tales</td>\n",
       "      <td>harry</td>\n",
       "      <td>0.504806</td>\n",
       "    </tr>\n",
       "    <tr>\n",
       "      <th>490024</th>\n",
       "      <td>1839_sinclair-holiday-house-a-series-of-tales</td>\n",
       "      <td>crabtree</td>\n",
       "      <td>0.269727</td>\n",
       "    </tr>\n",
       "    <tr>\n",
       "      <th>493555</th>\n",
       "      <td>1839_sinclair-holiday-house-a-series-of-tales</td>\n",
       "      <td>frank</td>\n",
       "      <td>0.202770</td>\n",
       "    </tr>\n",
       "    <tr>\n",
       "      <th>494245</th>\n",
       "      <td>1839_sinclair-holiday-house-a-series-of-tales</td>\n",
       "      <td>graham</td>\n",
       "      <td>0.153771</td>\n",
       "    </tr>\n",
       "    <tr>\n",
       "      <th>...</th>\n",
       "      <td>...</td>\n",
       "      <td>...</td>\n",
       "      <td>...</td>\n",
       "    </tr>\n",
       "    <tr>\n",
       "      <th>213875</th>\n",
       "      <td>1899_nesbit-the-story-of-the-treasure-seekers</td>\n",
       "      <td>dicky</td>\n",
       "      <td>0.268199</td>\n",
       "    </tr>\n",
       "    <tr>\n",
       "      <th>209016</th>\n",
       "      <td>1899_nesbit-the-story-of-the-treasure-seekers</td>\n",
       "      <td>albert</td>\n",
       "      <td>0.167532</td>\n",
       "    </tr>\n",
       "    <tr>\n",
       "      <th>219941</th>\n",
       "      <td>1899_nesbit-the-story-of-the-treasure-seekers</td>\n",
       "      <td>like</td>\n",
       "      <td>0.114178</td>\n",
       "    </tr>\n",
       "    <tr>\n",
       "      <th>229175</th>\n",
       "      <td>1899_nesbit-the-story-of-the-treasure-seekers</td>\n",
       "      <td>uncle</td>\n",
       "      <td>0.091717</td>\n",
       "    </tr>\n",
       "    <tr>\n",
       "      <th>215724</th>\n",
       "      <td>1899_nesbit-the-story-of-the-treasure-seekers</td>\n",
       "      <td>father</td>\n",
       "      <td>0.089749</td>\n",
       "    </tr>\n",
       "  </tbody>\n",
       "</table>\n",
       "<p>230 rows × 3 columns</p>\n",
       "</div>"
      ],
      "text/plain": [
       "                                             document      term     tfidf\n",
       "496826  1839_sinclair-holiday-house-a-series-of-tales     laura  0.604090\n",
       "494727  1839_sinclair-holiday-house-a-series-of-tales     harry  0.504806\n",
       "490024  1839_sinclair-holiday-house-a-series-of-tales  crabtree  0.269727\n",
       "493555  1839_sinclair-holiday-house-a-series-of-tales     frank  0.202770\n",
       "494245  1839_sinclair-holiday-house-a-series-of-tales    graham  0.153771\n",
       "...                                               ...       ...       ...\n",
       "213875  1899_nesbit-the-story-of-the-treasure-seekers     dicky  0.268199\n",
       "209016  1899_nesbit-the-story-of-the-treasure-seekers    albert  0.167532\n",
       "219941  1899_nesbit-the-story-of-the-treasure-seekers      like  0.114178\n",
       "229175  1899_nesbit-the-story-of-the-treasure-seekers     uncle  0.091717\n",
       "215724  1899_nesbit-the-story-of-the-treasure-seekers    father  0.089749\n",
       "\n",
       "[230 rows x 3 columns]"
      ]
     },
     "execution_count": 49,
     "metadata": {},
     "output_type": "execute_result"
    }
   ],
   "source": [
    "tfidf_df.sort_values(by=['document','tfidf'], ascending=[True,False]).groupby(['document']).head(10)"
   ]
  },
  {
   "cell_type": "code",
   "execution_count": 50,
   "metadata": {},
   "outputs": [],
   "source": [
    "top_tfidf = tfidf_df.sort_values(by=['document','tfidf'], ascending=[True,False]).groupby(['document']).head(10)"
   ]
  },
  {
   "cell_type": "markdown",
   "metadata": {},
   "source": [
    "We can zoom in on particular words and particular documents."
   ]
  },
  {
   "cell_type": "code",
   "execution_count": 51,
   "metadata": {},
   "outputs": [
    {
     "data": {
      "text/html": [
       "<div>\n",
       "<style scoped>\n",
       "    .dataframe tbody tr th:only-of-type {\n",
       "        vertical-align: middle;\n",
       "    }\n",
       "\n",
       "    .dataframe tbody tr th {\n",
       "        vertical-align: top;\n",
       "    }\n",
       "\n",
       "    .dataframe thead th {\n",
       "        text-align: right;\n",
       "    }\n",
       "</style>\n",
       "<table border=\"1\" class=\"dataframe\">\n",
       "  <thead>\n",
       "    <tr style=\"text-align: right;\">\n",
       "      <th></th>\n",
       "      <th>document</th>\n",
       "      <th>term</th>\n",
       "      <th>tfidf</th>\n",
       "    </tr>\n",
       "  </thead>\n",
       "  <tbody>\n",
       "    <tr>\n",
       "      <th>229175</th>\n",
       "      <td>1899_nesbit-the-story-of-the-treasure-seekers</td>\n",
       "      <td>uncle</td>\n",
       "      <td>0.091717</td>\n",
       "    </tr>\n",
       "  </tbody>\n",
       "</table>\n",
       "</div>"
      ],
      "text/plain": [
       "                                             document   term     tfidf\n",
       "229175  1899_nesbit-the-story-of-the-treasure-seekers  uncle  0.091717"
      ]
     },
     "execution_count": 51,
     "metadata": {},
     "output_type": "execute_result"
    }
   ],
   "source": [
    "top_tfidf[top_tfidf['term'].str.contains('uncle')]"
   ]
  },
  {
   "cell_type": "markdown",
   "metadata": {},
   "source": [
    "It turns out that the term \"women\" is very distinctive in Obama's Inaugural Address."
   ]
  },
  {
   "cell_type": "code",
   "execution_count": 52,
   "metadata": {},
   "outputs": [
    {
     "data": {
      "text/html": [
       "<div>\n",
       "<style scoped>\n",
       "    .dataframe tbody tr th:only-of-type {\n",
       "        vertical-align: middle;\n",
       "    }\n",
       "\n",
       "    .dataframe tbody tr th {\n",
       "        vertical-align: top;\n",
       "    }\n",
       "\n",
       "    .dataframe thead th {\n",
       "        text-align: right;\n",
       "    }\n",
       "</style>\n",
       "<table border=\"1\" class=\"dataframe\">\n",
       "  <thead>\n",
       "    <tr style=\"text-align: right;\">\n",
       "      <th></th>\n",
       "      <th>document</th>\n",
       "      <th>term</th>\n",
       "      <th>tfidf</th>\n",
       "    </tr>\n",
       "  </thead>\n",
       "  <tbody>\n",
       "  </tbody>\n",
       "</table>\n",
       "</div>"
      ],
      "text/plain": [
       "Empty DataFrame\n",
       "Columns: [document, term, tfidf]\n",
       "Index: []"
      ]
     },
     "execution_count": 52,
     "metadata": {},
     "output_type": "execute_result"
    }
   ],
   "source": [
    "top_tfidf[top_tfidf['document'].str.contains('obama')]"
   ]
  },
  {
   "cell_type": "code",
   "execution_count": 20,
   "metadata": {},
   "outputs": [
    {
     "data": {
      "text/html": [
       "<div>\n",
       "<style scoped>\n",
       "    .dataframe tbody tr th:only-of-type {\n",
       "        vertical-align: middle;\n",
       "    }\n",
       "\n",
       "    .dataframe tbody tr th {\n",
       "        vertical-align: top;\n",
       "    }\n",
       "\n",
       "    .dataframe thead th {\n",
       "        text-align: right;\n",
       "    }\n",
       "</style>\n",
       "<table border=\"1\" class=\"dataframe\">\n",
       "  <thead>\n",
       "    <tr style=\"text-align: right;\">\n",
       "      <th></th>\n",
       "      <th>document</th>\n",
       "      <th>term</th>\n",
       "      <th>tfidf</th>\n",
       "    </tr>\n",
       "  </thead>\n",
       "  <tbody>\n",
       "    <tr>\n",
       "      <th>504405</th>\n",
       "      <td>58_trump_2017</td>\n",
       "      <td>america</td>\n",
       "      <td>0.350162</td>\n",
       "    </tr>\n",
       "    <tr>\n",
       "      <th>506586</th>\n",
       "      <td>58_trump_2017</td>\n",
       "      <td>dreams</td>\n",
       "      <td>0.156436</td>\n",
       "    </tr>\n",
       "    <tr>\n",
       "      <th>504406</th>\n",
       "      <td>58_trump_2017</td>\n",
       "      <td>american</td>\n",
       "      <td>0.149226</td>\n",
       "    </tr>\n",
       "    <tr>\n",
       "      <th>508577</th>\n",
       "      <td>58_trump_2017</td>\n",
       "      <td>jobs</td>\n",
       "      <td>0.142766</td>\n",
       "    </tr>\n",
       "    <tr>\n",
       "      <th>510263</th>\n",
       "      <td>58_trump_2017</td>\n",
       "      <td>protected</td>\n",
       "      <td>0.132439</td>\n",
       "    </tr>\n",
       "    <tr>\n",
       "      <th>509410</th>\n",
       "      <td>58_trump_2017</td>\n",
       "      <td>obama</td>\n",
       "      <td>0.120288</td>\n",
       "    </tr>\n",
       "    <tr>\n",
       "      <th>509767</th>\n",
       "      <td>58_trump_2017</td>\n",
       "      <td>people</td>\n",
       "      <td>0.112370</td>\n",
       "    </tr>\n",
       "    <tr>\n",
       "      <th>512002</th>\n",
       "      <td>58_trump_2017</td>\n",
       "      <td>thank</td>\n",
       "      <td>0.109171</td>\n",
       "    </tr>\n",
       "    <tr>\n",
       "      <th>504990</th>\n",
       "      <td>58_trump_2017</td>\n",
       "      <td>borders</td>\n",
       "      <td>0.107075</td>\n",
       "    </tr>\n",
       "    <tr>\n",
       "      <th>512597</th>\n",
       "      <td>58_trump_2017</td>\n",
       "      <td>ve</td>\n",
       "      <td>0.107075</td>\n",
       "    </tr>\n",
       "  </tbody>\n",
       "</table>\n",
       "</div>"
      ],
      "text/plain": [
       "             document       term     tfidf\n",
       "504405  58_trump_2017    america  0.350162\n",
       "506586  58_trump_2017     dreams  0.156436\n",
       "504406  58_trump_2017   american  0.149226\n",
       "508577  58_trump_2017       jobs  0.142766\n",
       "510263  58_trump_2017  protected  0.132439\n",
       "509410  58_trump_2017      obama  0.120288\n",
       "509767  58_trump_2017     people  0.112370\n",
       "512002  58_trump_2017      thank  0.109171\n",
       "504990  58_trump_2017    borders  0.107075\n",
       "512597  58_trump_2017         ve  0.107075"
      ]
     },
     "execution_count": 20,
     "metadata": {},
     "output_type": "execute_result"
    }
   ],
   "source": [
    "top_tfidf[top_tfidf['document'].str.contains('trump')]"
   ]
  },
  {
   "cell_type": "code",
   "execution_count": 21,
   "metadata": {},
   "outputs": [
    {
     "data": {
      "text/html": [
       "<div>\n",
       "<style scoped>\n",
       "    .dataframe tbody tr th:only-of-type {\n",
       "        vertical-align: middle;\n",
       "    }\n",
       "\n",
       "    .dataframe tbody tr th {\n",
       "        vertical-align: top;\n",
       "    }\n",
       "\n",
       "    .dataframe thead th {\n",
       "        text-align: right;\n",
       "    }\n",
       "</style>\n",
       "<table border=\"1\" class=\"dataframe\">\n",
       "  <thead>\n",
       "    <tr style=\"text-align: right;\">\n",
       "      <th></th>\n",
       "      <th>document</th>\n",
       "      <th>term</th>\n",
       "      <th>tfidf</th>\n",
       "    </tr>\n",
       "  </thead>\n",
       "  <tbody>\n",
       "    <tr>\n",
       "      <th>391774</th>\n",
       "      <td>44_kennedy_1961</td>\n",
       "      <td>let</td>\n",
       "      <td>0.267869</td>\n",
       "    </tr>\n",
       "    <tr>\n",
       "      <th>394306</th>\n",
       "      <td>44_kennedy_1961</td>\n",
       "      <td>sides</td>\n",
       "      <td>0.262849</td>\n",
       "    </tr>\n",
       "    <tr>\n",
       "      <th>392921</th>\n",
       "      <td>44_kennedy_1961</td>\n",
       "      <td>pledge</td>\n",
       "      <td>0.160960</td>\n",
       "    </tr>\n",
       "    <tr>\n",
       "      <th>387632</th>\n",
       "      <td>44_kennedy_1961</td>\n",
       "      <td>ask</td>\n",
       "      <td>0.107713</td>\n",
       "    </tr>\n",
       "    <tr>\n",
       "      <th>387864</th>\n",
       "      <td>44_kennedy_1961</td>\n",
       "      <td>begin</td>\n",
       "      <td>0.106495</td>\n",
       "    </tr>\n",
       "    <tr>\n",
       "      <th>388991</th>\n",
       "      <td>44_kennedy_1961</td>\n",
       "      <td>dare</td>\n",
       "      <td>0.106495</td>\n",
       "    </tr>\n",
       "    <tr>\n",
       "      <th>395895</th>\n",
       "      <td>44_kennedy_1961</td>\n",
       "      <td>world</td>\n",
       "      <td>0.103110</td>\n",
       "    </tr>\n",
       "    <tr>\n",
       "      <th>390313</th>\n",
       "      <td>44_kennedy_1961</td>\n",
       "      <td>final</td>\n",
       "      <td>0.102311</td>\n",
       "    </tr>\n",
       "    <tr>\n",
       "      <th>392370</th>\n",
       "      <td>44_kennedy_1961</td>\n",
       "      <td>new</td>\n",
       "      <td>0.096600</td>\n",
       "    </tr>\n",
       "    <tr>\n",
       "      <th>390120</th>\n",
       "      <td>44_kennedy_1961</td>\n",
       "      <td>explore</td>\n",
       "      <td>0.094223</td>\n",
       "    </tr>\n",
       "  </tbody>\n",
       "</table>\n",
       "</div>"
      ],
      "text/plain": [
       "               document     term     tfidf\n",
       "391774  44_kennedy_1961      let  0.267869\n",
       "394306  44_kennedy_1961    sides  0.262849\n",
       "392921  44_kennedy_1961   pledge  0.160960\n",
       "387632  44_kennedy_1961      ask  0.107713\n",
       "387864  44_kennedy_1961    begin  0.106495\n",
       "388991  44_kennedy_1961     dare  0.106495\n",
       "395895  44_kennedy_1961    world  0.103110\n",
       "390313  44_kennedy_1961    final  0.102311\n",
       "392370  44_kennedy_1961      new  0.096600\n",
       "390120  44_kennedy_1961  explore  0.094223"
      ]
     },
     "execution_count": 21,
     "metadata": {},
     "output_type": "execute_result"
    }
   ],
   "source": [
    "top_tfidf[top_tfidf['document'].str.contains('kennedy')]"
   ]
  },
  {
   "cell_type": "markdown",
   "metadata": {},
   "source": [
    "## Visualize TF-IDF"
   ]
  },
  {
   "cell_type": "markdown",
   "metadata": {},
   "source": [
    "We can also visualize our TF-IDF results with the data visualization library Altair."
   ]
  },
  {
   "cell_type": "code",
   "execution_count": null,
   "metadata": {},
   "outputs": [],
   "source": [
    "!pip install altair"
   ]
  },
  {
   "cell_type": "markdown",
   "metadata": {},
   "source": [
    "Let's make a heatmap that shows the highest TF-IDF scoring words for each president, and let's put a red dot next to two terms of interest: \"war\" and \"peace\":\n",
    "\n",
    "The code below was contributed by [Eric Monson](https://github.com/emonson). Thanks, Eric!"
   ]
  },
  {
   "cell_type": "code",
   "execution_count": 53,
   "metadata": {
    "tags": [
     "hide-input"
    ]
   },
   "outputs": [
    {
     "data": {
      "text/html": [
       "\n",
       "<div id=\"altair-viz-f293c2ca4bef4c2fa6fee775eb5704a0\"></div>\n",
       "<script type=\"text/javascript\">\n",
       "  var VEGA_DEBUG = (typeof VEGA_DEBUG == \"undefined\") ? {} : VEGA_DEBUG;\n",
       "  (function(spec, embedOpt){\n",
       "    let outputDiv = document.currentScript.previousElementSibling;\n",
       "    if (outputDiv.id !== \"altair-viz-f293c2ca4bef4c2fa6fee775eb5704a0\") {\n",
       "      outputDiv = document.getElementById(\"altair-viz-f293c2ca4bef4c2fa6fee775eb5704a0\");\n",
       "    }\n",
       "    const paths = {\n",
       "      \"vega\": \"https://cdn.jsdelivr.net/npm//vega@5?noext\",\n",
       "      \"vega-lib\": \"https://cdn.jsdelivr.net/npm//vega-lib?noext\",\n",
       "      \"vega-lite\": \"https://cdn.jsdelivr.net/npm//vega-lite@4.17.0?noext\",\n",
       "      \"vega-embed\": \"https://cdn.jsdelivr.net/npm//vega-embed@6?noext\",\n",
       "    };\n",
       "\n",
       "    function maybeLoadScript(lib, version) {\n",
       "      var key = `${lib.replace(\"-\", \"\")}_version`;\n",
       "      return (VEGA_DEBUG[key] == version) ?\n",
       "        Promise.resolve(paths[lib]) :\n",
       "        new Promise(function(resolve, reject) {\n",
       "          var s = document.createElement('script');\n",
       "          document.getElementsByTagName(\"head\")[0].appendChild(s);\n",
       "          s.async = true;\n",
       "          s.onload = () => {\n",
       "            VEGA_DEBUG[key] = version;\n",
       "            return resolve(paths[lib]);\n",
       "          };\n",
       "          s.onerror = () => reject(`Error loading script: ${paths[lib]}`);\n",
       "          s.src = paths[lib];\n",
       "        });\n",
       "    }\n",
       "\n",
       "    function showError(err) {\n",
       "      outputDiv.innerHTML = `<div class=\"error\" style=\"color:red;\">${err}</div>`;\n",
       "      throw err;\n",
       "    }\n",
       "\n",
       "    function displayChart(vegaEmbed) {\n",
       "      vegaEmbed(outputDiv, spec, embedOpt)\n",
       "        .catch(err => showError(`Javascript Error: ${err.message}<br>This usually means there's a typo in your chart specification. See the javascript console for the full traceback.`));\n",
       "    }\n",
       "\n",
       "    if(typeof define === \"function\" && define.amd) {\n",
       "      requirejs.config({paths});\n",
       "      require([\"vega-embed\"], displayChart, err => showError(`Error loading script: ${err.message}`));\n",
       "    } else {\n",
       "      maybeLoadScript(\"vega\", \"5\")\n",
       "        .then(() => maybeLoadScript(\"vega-lite\", \"4.17.0\"))\n",
       "        .then(() => maybeLoadScript(\"vega-embed\", \"6\"))\n",
       "        .catch(showError)\n",
       "        .then(() => displayChart(vegaEmbed));\n",
       "    }\n",
       "  })({\"config\": {\"view\": {\"continuousWidth\": 400, \"continuousHeight\": 300}}, \"layer\": [{\"mark\": \"rect\", \"encoding\": {\"color\": {\"field\": \"tfidf\", \"type\": \"quantitative\"}, \"x\": {\"field\": \"rank\", \"type\": \"ordinal\"}, \"y\": {\"field\": \"document\", \"type\": \"nominal\"}}, \"transform\": [{\"window\": [{\"op\": \"rank\", \"field\": \"\", \"as\": \"rank\"}], \"groupby\": [\"document\"], \"sort\": [{\"field\": \"tfidf\", \"order\": \"descending\"}]}]}, {\"mark\": {\"type\": \"circle\", \"size\": 100}, \"encoding\": {\"color\": {\"condition\": {\"value\": \"red\", \"test\": {\"field\": \"term\", \"oneOf\": [\"war\", \"peace\"]}}, \"value\": \"#FFFFFF00\"}, \"x\": {\"field\": \"rank\", \"type\": \"ordinal\"}, \"y\": {\"field\": \"document\", \"type\": \"nominal\"}}, \"transform\": [{\"window\": [{\"op\": \"rank\", \"field\": \"\", \"as\": \"rank\"}], \"groupby\": [\"document\"], \"sort\": [{\"field\": \"tfidf\", \"order\": \"descending\"}]}]}, {\"mark\": {\"type\": \"text\", \"baseline\": \"middle\"}, \"encoding\": {\"color\": {\"condition\": {\"value\": \"white\", \"test\": \"(datum.tfidf >= 0.3)\"}, \"value\": \"black\"}, \"text\": {\"field\": \"term\", \"type\": \"nominal\"}, \"x\": {\"field\": \"rank\", \"type\": \"ordinal\"}, \"y\": {\"field\": \"document\", \"type\": \"nominal\"}}, \"transform\": [{\"window\": [{\"op\": \"rank\", \"field\": \"\", \"as\": \"rank\"}], \"groupby\": [\"document\"], \"sort\": [{\"field\": \"tfidf\", \"order\": \"descending\"}]}]}], \"data\": {\"name\": \"data-febf6362270bf1f67cb07940fe5a034f\"}, \"width\": 600, \"$schema\": \"https://vega.github.io/schema/vega-lite/v4.17.0.json\", \"datasets\": {\"data-febf6362270bf1f67cb07940fe5a034f\": [{\"document\": \"1839_sinclair-holiday-house-a-series-of-tales\", \"term\": \"laura\", \"tfidf\": 0.6041229116970408}, {\"document\": \"1839_sinclair-holiday-house-a-series-of-tales\", \"term\": \"harry\", \"tfidf\": 0.5048822460733777}, {\"document\": \"1839_sinclair-holiday-house-a-series-of-tales\", \"term\": \"crabtree\", \"tfidf\": 0.2697766225954404}, {\"document\": \"1839_sinclair-holiday-house-a-series-of-tales\", \"term\": \"frank\", \"tfidf\": 0.20281287892478567}, {\"document\": \"1839_sinclair-holiday-house-a-series-of-tales\", \"term\": \"graham\", \"tfidf\": 0.15385418816348323}, {\"document\": \"1839_sinclair-holiday-house-a-series-of-tales\", \"term\": \"david\", \"tfidf\": 0.12850865443351436}, {\"document\": \"1839_sinclair-holiday-house-a-series-of-tales\", \"term\": \"grandmama\", \"tfidf\": 0.12808427292598717}, {\"document\": \"1839_sinclair-holiday-house-a-series-of-tales\", \"term\": \"mrs\", \"tfidf\": 0.11179255507645565}, {\"document\": \"1839_sinclair-holiday-house-a-series-of-tales\", \"term\": \"harriet\", \"tfidf\": 0.10173401807939818}, {\"document\": \"1839_sinclair-holiday-house-a-series-of-tales\", \"term\": \"peter\", \"tfidf\": 0.09793184690071764}, {\"document\": \"1841_martineau-the-settlers-at-home\", \"term\": \"roger\", \"tfidf\": 0.48980253061320767}, {\"document\": \"1841_martineau-the-settlers-at-home\", \"term\": \"oliver\", \"tfidf\": 0.4888387469349221}, {\"document\": \"1841_martineau-the-settlers-at-home\", \"term\": \"mildred\", \"tfidf\": 0.4841502233048786}, {\"document\": \"1841_martineau-the-settlers-at-home\", \"term\": \"ailwin\", \"tfidf\": 0.3667122250976082}, {\"document\": \"1841_martineau-the-settlers-at-home\", \"term\": \"said\", \"tfidf\": 0.11920270187164848}, {\"document\": \"1841_martineau-the-settlers-at-home\", \"term\": \"george\", \"tfidf\": 0.07211338425628001}, {\"document\": \"1841_martineau-the-settlers-at-home\", \"term\": \"did\", \"tfidf\": 0.06050889273616803}, {\"document\": \"1841_martineau-the-settlers-at-home\", \"term\": \"pastor\", \"tfidf\": 0.05950911707329032}, {\"document\": \"1841_martineau-the-settlers-at-home\", \"term\": \"water\", \"tfidf\": 0.05792619554401383}, {\"document\": \"1841_martineau-the-settlers-at-home\", \"term\": \"raft\", \"tfidf\": 0.057356883257986734}, {\"document\": \"1857_browne-grannys-wonderful-chair\", \"term\": \"said\", \"tfidf\": 0.2574050206293228}, {\"document\": \"1857_browne-grannys-wonderful-chair\", \"term\": \"snowflower\", \"tfidf\": 0.24825920277039015}, {\"document\": \"1857_browne-grannys-wonderful-chair\", \"term\": \"scrub\", \"tfidf\": 0.1815997467010063}, {\"document\": \"1857_browne-grannys-wonderful-chair\", \"term\": \"childe\", \"tfidf\": 0.16369162283812994}, {\"document\": \"1857_browne-grannys-wonderful-chair\", \"term\": \"fairfeather\", \"tfidf\": 0.16362489002720929}, {\"document\": \"1857_browne-grannys-wonderful-chair\", \"term\": \"woodwender\", \"tfidf\": 0.15239137151504245}, {\"document\": \"1857_browne-grannys-wonderful-chair\", \"term\": \"loveleaves\", \"tfidf\": 0.1467719298927074}, {\"document\": \"1857_browne-grannys-wonderful-chair\", \"term\": \"great\", \"tfidf\": 0.1424754950157052}, {\"document\": \"1857_browne-grannys-wonderful-chair\", \"term\": \"doublet\", \"tfidf\": 0.14108450161517713}, {\"document\": \"1857_browne-grannys-wonderful-chair\", \"term\": \"lords\", \"tfidf\": 0.139319562075117}, {\"document\": \"1857_tucker-the-rambles-of-a-rat\", \"term\": \"whiskerandos\", \"tfidf\": 0.5511486518326303}, {\"document\": \"1857_tucker-the-rambles-of-a-rat\", \"term\": \"rat\", \"tfidf\": 0.3083058346889573}, {\"document\": \"1857_tucker-the-rambles-of-a-rat\", \"term\": \"rats\", \"tfidf\": 0.2511023367275408}, {\"document\": \"1857_tucker-the-rambles-of-a-rat\", \"term\": \"oddity\", \"tfidf\": 0.24964877400426083}, {\"document\": \"1857_tucker-the-rambles-of-a-rat\", \"term\": \"said\", \"tfidf\": 0.16087797824837297}, {\"document\": \"1857_tucker-the-rambles-of-a-rat\", \"term\": \"billy\", \"tfidf\": 0.14913168446422267}, {\"document\": \"1857_tucker-the-rambles-of-a-rat\", \"term\": \"little\", \"tfidf\": 0.14361017990380476}, {\"document\": \"1857_tucker-the-rambles-of-a-rat\", \"term\": \"bob\", \"tfidf\": 0.13667104441312694}, {\"document\": \"1857_tucker-the-rambles-of-a-rat\", \"term\": \"wisky\", \"tfidf\": 0.10657491739223222}, {\"document\": \"1857_tucker-the-rambles-of-a-rat\", \"term\": \"russian\", \"tfidf\": 0.10157907388872196}, {\"document\": \"1862_ewing-melchiors-dream-and-other-tales\", \"term\": \"monsieur\", \"tfidf\": 0.371594994501658}, {\"document\": \"1862_ewing-melchiors-dream-and-other-tales\", \"term\": \"viscount\", \"tfidf\": 0.33530581481268273}, {\"document\": \"1862_ewing-melchiors-dream-and-other-tales\", \"term\": \"said\", \"tfidf\": 0.29424113030936294}, {\"document\": \"1862_ewing-melchiors-dream-and-other-tales\", \"term\": \"melchior\", \"tfidf\": 0.2542531101567045}, {\"document\": \"1862_ewing-melchiors-dream-and-other-tales\", \"term\": \"friedrich\", \"tfidf\": 0.2207708206058389}, {\"document\": \"1862_ewing-melchiors-dream-and-other-tales\", \"term\": \"little\", \"tfidf\": 0.14511429031778852}, {\"document\": \"1862_ewing-melchiors-dream-and-other-tales\", \"term\": \"antoine\", \"tfidf\": 0.1229767933424768}, {\"document\": \"1862_ewing-melchiors-dream-and-other-tales\", \"term\": \"did\", \"tfidf\": 0.11791409297965444}, {\"document\": \"1862_ewing-melchiors-dream-and-other-tales\", \"term\": \"marie\", \"tfidf\": 0.11180177396730856}, {\"document\": \"1862_ewing-melchiors-dream-and-other-tales\", \"term\": \"arthur\", \"tfidf\": 0.11119867325919719}, {\"document\": \"1869_ewing-mrs-overtheways-remembrances\", \"term\": \"ida\", \"tfidf\": 0.6004328615044489}, {\"document\": \"1869_ewing-mrs-overtheways-remembrances\", \"term\": \"fatima\", \"tfidf\": 0.2527218065814368}, {\"document\": \"1869_ewing-mrs-overtheways-remembrances\", \"term\": \"said\", \"tfidf\": 0.2416889336954055}, {\"document\": \"1869_ewing-mrs-overtheways-remembrances\", \"term\": \"overtheway\", \"tfidf\": 0.18211853610808404}, {\"document\": \"1869_ewing-mrs-overtheways-remembrances\", \"term\": \"old\", \"tfidf\": 0.17154525392186906}, {\"document\": \"1869_ewing-mrs-overtheways-remembrances\", \"term\": \"little\", \"tfidf\": 0.1692203894213664}, {\"document\": \"1869_ewing-mrs-overtheways-remembrances\", \"term\": \"mrs\", \"tfidf\": 0.11715648434600869}, {\"document\": \"1869_ewing-mrs-overtheways-remembrances\", \"term\": \"lady\", \"tfidf\": 0.10763212971599397}, {\"document\": \"1869_ewing-mrs-overtheways-remembrances\", \"term\": \"dear\", \"tfidf\": 0.10298026343258757}, {\"document\": \"1869_ewing-mrs-overtheways-remembrances\", \"term\": \"like\", \"tfidf\": 0.09752871634940749}, {\"document\": \"1869_ewing-the-land-of-lost-toys\", \"term\": \"said\", \"tfidf\": 0.4472936197273141}, {\"document\": \"1869_ewing-the-land-of-lost-toys\", \"term\": \"tommy\", \"tfidf\": 0.38808074495341377}, {\"document\": \"1869_ewing-the-land-of-lost-toys\", \"term\": \"dot\", \"tfidf\": 0.2782567682754756}, {\"document\": \"1869_ewing-the-land-of-lost-toys\", \"term\": \"johnnie\", \"tfidf\": 0.20869994145572826}, {\"document\": \"1869_ewing-the-land-of-lost-toys\", \"term\": \"owl\", \"tfidf\": 0.19687924274370086}, {\"document\": \"1869_ewing-the-land-of-lost-toys\", \"term\": \"brownie\", \"tfidf\": 0.18570501215604984}, {\"document\": \"1869_ewing-the-land-of-lost-toys\", \"term\": \"old\", \"tfidf\": 0.17469320499815774}, {\"document\": \"1869_ewing-the-land-of-lost-toys\", \"term\": \"sam\", \"tfidf\": 0.17021107531543325}, {\"document\": \"1869_ewing-the-land-of-lost-toys\", \"term\": \"brownies\", \"tfidf\": 0.16171366363476564}, {\"document\": \"1869_ewing-the-land-of-lost-toys\", \"term\": \"tailor\", \"tfidf\": 0.16109883860530866}, {\"document\": \"1870_ewing-the-brownies-and-other-tales\", \"term\": \"amelia\", \"tfidf\": 0.45314591682919136}, {\"document\": \"1870_ewing-the-brownies-and-other-tales\", \"term\": \"said\", \"tfidf\": 0.41219558586753646}, {\"document\": \"1870_ewing-the-brownies-and-other-tales\", \"term\": \"tommy\", \"tfidf\": 0.2355136634036396}, {\"document\": \"1870_ewing-the-brownies-and-other-tales\", \"term\": \"old\", \"tfidf\": 0.2001881571980099}, {\"document\": \"1870_ewing-the-brownies-and-other-tales\", \"term\": \"dot\", \"tfidf\": 0.1689037248377328}, {\"document\": \"1870_ewing-the-brownies-and-other-tales\", \"term\": \"like\", \"tfidf\": 0.1472136189427877}, {\"document\": \"1870_ewing-the-brownies-and-other-tales\", \"term\": \"johnnie\", \"tfidf\": 0.12945441558066717}, {\"document\": \"1870_ewing-the-brownies-and-other-tales\", \"term\": \"owl\", \"tfidf\": 0.11956371990271665}, {\"document\": \"1870_ewing-the-brownies-and-other-tales\", \"term\": \"brownie\", \"tfidf\": 0.11269181295845197}, {\"document\": \"1870_ewing-the-brownies-and-other-tales\", \"term\": \"little\", \"tfidf\": 0.10516255137612997}, {\"document\": \"1872_craik-the-adventure-of-a-brownie\", \"term\": \"brownie\", \"tfidf\": 0.5468733923563658}, {\"document\": \"1872_craik-the-adventure-of-a-brownie\", \"term\": \"jess\", \"tfidf\": 0.27437005114611446}, {\"document\": \"1872_craik-the-adventure-of-a-brownie\", \"term\": \"little\", \"tfidf\": 0.2308483212617556}, {\"document\": \"1872_craik-the-adventure-of-a-brownie\", \"term\": \"gardener\", \"tfidf\": 0.21899518138774343}, {\"document\": \"1872_craik-the-adventure-of-a-brownie\", \"term\": \"children\", \"tfidf\": 0.2040467888806016}, {\"document\": \"1872_craik-the-adventure-of-a-brownie\", \"term\": \"said\", \"tfidf\": 0.16822998149829574}, {\"document\": \"1872_craik-the-adventure-of-a-brownie\", \"term\": \"did\", \"tfidf\": 0.1574725818639657}, {\"document\": \"1872_craik-the-adventure-of-a-brownie\", \"term\": \"like\", \"tfidf\": 0.12709697026893182}, {\"document\": \"1872_craik-the-adventure-of-a-brownie\", \"term\": \"coal\", \"tfidf\": 0.12119913147930589}, {\"document\": \"1872_craik-the-adventure-of-a-brownie\", \"term\": \"ducklings\", \"tfidf\": 0.10496209062030135}, {\"document\": \"1872_de-la-ramee-a-dog-of-flanders\", \"term\": \"patrasche\", \"tfidf\": 0.7136461473861936}, {\"document\": \"1872_de-la-ramee-a-dog-of-flanders\", \"term\": \"nello\", \"tfidf\": 0.44045023606189393}, {\"document\": \"1872_de-la-ramee-a-dog-of-flanders\", \"term\": \"alois\", \"tfidf\": 0.1784690550309852}, {\"document\": \"1872_de-la-ramee-a-dog-of-flanders\", \"term\": \"little\", \"tfidf\": 0.16001334700795825}, {\"document\": \"1872_de-la-ramee-a-dog-of-flanders\", \"term\": \"baas\", \"tfidf\": 0.11715340173018879}, {\"document\": \"1872_de-la-ramee-a-dog-of-flanders\", \"term\": \"old\", \"tfidf\": 0.11204844200140886}, {\"document\": \"1872_de-la-ramee-a-dog-of-flanders\", \"term\": \"antwerp\", \"tfidf\": 0.10844665683370694}, {\"document\": \"1872_de-la-ramee-a-dog-of-flanders\", \"term\": \"cogez\", \"tfidf\": 0.09482821891309638}, {\"document\": \"1872_de-la-ramee-a-dog-of-flanders\", \"term\": \"daas\", \"tfidf\": 0.08927031781157589}, {\"document\": \"1872_de-la-ramee-a-dog-of-flanders\", \"term\": \"jehan\", \"tfidf\": 0.089220853048239}, {\"document\": \"1873_ewing-a-flat-iron-for-a-farthing\", \"term\": \"polly\", \"tfidf\": 0.31891034278100133}, {\"document\": \"1873_ewing-a-flat-iron-for-a-farthing\", \"term\": \"said\", \"tfidf\": 0.26512865605018515}, {\"document\": \"1873_ewing-a-flat-iron-for-a-farthing\", \"term\": \"andrewes\", \"tfidf\": 0.2557129047254631}, {\"document\": \"1873_ewing-a-flat-iron-for-a-farthing\", \"term\": \"maria\", \"tfidf\": 0.2462586634537581}, {\"document\": \"1873_ewing-a-flat-iron-for-a-farthing\", \"term\": \"rubens\", \"tfidf\": 0.2214982518059695}, {\"document\": \"1873_ewing-a-flat-iron-for-a-farthing\", \"term\": \"bundle\", \"tfidf\": 0.21323392831051488}, {\"document\": \"1873_ewing-a-flat-iron-for-a-farthing\", \"term\": \"leo\", \"tfidf\": 0.17723100640454525}, {\"document\": \"1873_ewing-a-flat-iron-for-a-farthing\", \"term\": \"father\", \"tfidf\": 0.17222614363379835}, {\"document\": \"1873_ewing-a-flat-iron-for-a-farthing\", \"term\": \"regie\", \"tfidf\": 0.1620166918756127}, {\"document\": \"1873_ewing-a-flat-iron-for-a-farthing\", \"term\": \"mr\", \"tfidf\": 0.15405174502275099}, {\"document\": \"1875_craik-the-little-lame-prince-and-his-traveling-cloack\", \"term\": \"dolor\", \"tfidf\": 0.45076271654804684}, {\"document\": \"1875_craik-the-little-lame-prince-and-his-traveling-cloack\", \"term\": \"prince\", \"tfidf\": 0.41991669487044475}, {\"document\": \"1875_craik-the-little-lame-prince-and-his-traveling-cloack\", \"term\": \"little\", \"tfidf\": 0.24661207995312692}, {\"document\": \"1875_craik-the-little-lame-prince-and-his-traveling-cloack\", \"term\": \"like\", \"tfidf\": 0.17381814746409477}, {\"document\": \"1875_craik-the-little-lame-prince-and-his-traveling-cloack\", \"term\": \"king\", \"tfidf\": 0.16293477038870854}, {\"document\": \"1875_craik-the-little-lame-prince-and-his-traveling-cloack\", \"term\": \"godmother\", \"tfidf\": 0.15511845309715971}, {\"document\": \"1875_craik-the-little-lame-prince-and-his-traveling-cloack\", \"term\": \"did\", \"tfidf\": 0.14685766217208224}, {\"document\": \"1875_craik-the-little-lame-prince-and-his-traveling-cloack\", \"term\": \"said\", \"tfidf\": 0.12934475646781662}, {\"document\": \"1875_craik-the-little-lame-prince-and-his-traveling-cloack\", \"term\": \"nomansland\", \"tfidf\": 0.12685240718683394}, {\"document\": \"1875_craik-the-little-lame-prince-and-his-traveling-cloack\", \"term\": \"boy\", \"tfidf\": 0.1172483447254328}, {\"document\": \"1876_ewing-jan-of-the-windmill\", \"term\": \"jan\", \"tfidf\": 0.8190411055563134}, {\"document\": \"1876_ewing-jan-of-the-windmill\", \"term\": \"abel\", \"tfidf\": 0.21510601845828384}, {\"document\": \"1876_ewing-jan-of-the-windmill\", \"term\": \"said\", \"tfidf\": 0.14424269924564737}, {\"document\": \"1876_ewing-jan-of-the-windmill\", \"term\": \"amabel\", \"tfidf\": 0.1270470599008141}, {\"document\": \"1876_ewing-jan-of-the-windmill\", \"term\": \"swift\", \"tfidf\": 0.12041976315933564}, {\"document\": \"1876_ewing-jan-of-the-windmill\", \"term\": \"miller\", \"tfidf\": 0.1130274468946987}, {\"document\": \"1876_ewing-jan-of-the-windmill\", \"term\": \"master\", \"tfidf\": 0.10768879361875829}, {\"document\": \"1876_ewing-jan-of-the-windmill\", \"term\": \"windmiller\", \"tfidf\": 0.09842207580020731}, {\"document\": \"1876_ewing-jan-of-the-windmill\", \"term\": \"cheap\", \"tfidf\": 0.09629776831085607}, {\"document\": \"1876_ewing-jan-of-the-windmill\", \"term\": \"george\", \"tfidf\": 0.09580079096883361}, {\"document\": \"1876_ewing-six-to-sixteen-a-story-for-girls\", \"term\": \"eleanor\", \"tfidf\": 0.646886321890879}, {\"document\": \"1876_ewing-six-to-sixteen-a-story-for-girls\", \"term\": \"matilda\", \"tfidf\": 0.26609570583774056}, {\"document\": \"1876_ewing-six-to-sixteen-a-story-for-girls\", \"term\": \"said\", \"tfidf\": 0.2307345109869728}, {\"document\": \"1876_ewing-six-to-sixteen-a-story-for-girls\", \"term\": \"buller\", \"tfidf\": 0.21437709162678004}, {\"document\": \"1876_ewing-six-to-sixteen-a-story-for-girls\", \"term\": \"theresa\", \"tfidf\": 0.18762304341522237}, {\"document\": \"1876_ewing-six-to-sixteen-a-story-for-girls\", \"term\": \"madame\", \"tfidf\": 0.15988700984494844}, {\"document\": \"1876_ewing-six-to-sixteen-a-story-for-girls\", \"term\": \"mrs\", \"tfidf\": 0.12536456144582855}, {\"document\": \"1876_ewing-six-to-sixteen-a-story-for-girls\", \"term\": \"margery\", \"tfidf\": 0.12061624766583713}, {\"document\": \"1876_ewing-six-to-sixteen-a-story-for-girls\", \"term\": \"arkwright\", \"tfidf\": 0.11107191319495731}, {\"document\": \"1876_ewing-six-to-sixteen-a-story-for-girls\", \"term\": \"minchin\", \"tfidf\": 0.10913123717783524}, {\"document\": \"1877_ewing-a-great-emergency-and-other-tales\", \"term\": \"liberality\", \"tfidf\": 0.3237419316616166}, {\"document\": \"1877_ewing-a-great-emergency-and-other-tales\", \"term\": \"philip\", \"tfidf\": 0.318051081664415}, {\"document\": \"1877_ewing-a-great-emergency-and-other-tales\", \"term\": \"rupert\", \"tfidf\": 0.29596459375495765}, {\"document\": \"1877_ewing-a-great-emergency-and-other-tales\", \"term\": \"fred\", \"tfidf\": 0.28292702364881417}, {\"document\": \"1877_ewing-a-great-emergency-and-other-tales\", \"term\": \"said\", \"tfidf\": 0.27250276109087307}, {\"document\": \"1877_ewing-a-great-emergency-and-other-tales\", \"term\": \"rowe\", \"tfidf\": 0.2098057848534935}, {\"document\": \"1877_ewing-a-great-emergency-and-other-tales\", \"term\": \"isobel\", \"tfidf\": 0.19880278496168335}, {\"document\": \"1877_ewing-a-great-emergency-and-other-tales\", \"term\": \"madam\", \"tfidf\": 0.19637182944351658}, {\"document\": \"1877_ewing-a-great-emergency-and-other-tales\", \"term\": \"henrietta\", \"tfidf\": 0.1656052080696648}, {\"document\": \"1877_ewing-a-great-emergency-and-other-tales\", \"term\": \"barge\", \"tfidf\": 0.11682093282214491}, {\"document\": \"1877_molesworth-the-cuckoo-clock\", \"term\": \"griselda\", \"tfidf\": 0.7392817646939078}, {\"document\": \"1877_molesworth-the-cuckoo-clock\", \"term\": \"cuckoo\", \"tfidf\": 0.517466635136347}, {\"document\": \"1877_molesworth-the-cuckoo-clock\", \"term\": \"said\", \"tfidf\": 0.1873022300889459}, {\"document\": \"1877_molesworth-the-cuckoo-clock\", \"term\": \"grizzel\", \"tfidf\": 0.15216804993849914}, {\"document\": \"1877_molesworth-the-cuckoo-clock\", \"term\": \"phil\", \"tfidf\": 0.10737683686263841}, {\"document\": \"1877_molesworth-the-cuckoo-clock\", \"term\": \"little\", \"tfidf\": 0.10000799925143936}, {\"document\": \"1877_molesworth-the-cuckoo-clock\", \"term\": \"dorcas\", \"tfidf\": 0.09671978037436342}, {\"document\": \"1877_molesworth-the-cuckoo-clock\", \"term\": \"like\", \"tfidf\": 0.07167550604009636}, {\"document\": \"1877_molesworth-the-cuckoo-clock\", \"term\": \"tabitha\", \"tfidf\": 0.0681447489578339}, {\"document\": \"1877_molesworth-the-cuckoo-clock\", \"term\": \"eileen\", \"tfidf\": 0.06279648232517046}, {\"document\": \"1877_sewell-black-beauty\", \"term\": \"said\", \"tfidf\": 0.36457645018265966}, {\"document\": \"1877_sewell-black-beauty\", \"term\": \"jerry\", \"tfidf\": 0.2907833349707982}, {\"document\": \"1877_sewell-black-beauty\", \"term\": \"good\", \"tfidf\": 0.21569450868435244}, {\"document\": \"1877_sewell-black-beauty\", \"term\": \"horse\", \"tfidf\": 0.20691293228380547}, {\"document\": \"1877_sewell-black-beauty\", \"term\": \"came\", \"tfidf\": 0.18419579718460874}, {\"document\": \"1877_sewell-black-beauty\", \"term\": \"john\", \"tfidf\": 0.17209660307627345}, {\"document\": \"1877_sewell-black-beauty\", \"term\": \"master\", \"tfidf\": 0.15527376166477258}, {\"document\": \"1877_sewell-black-beauty\", \"term\": \"horses\", \"tfidf\": 0.1504837284815148}, {\"document\": \"1877_sewell-black-beauty\", \"term\": \"rein\", \"tfidf\": 0.14889627393878135}, {\"document\": \"1877_sewell-black-beauty\", \"term\": \"man\", \"tfidf\": 0.13968377348214062}, {\"document\": \"1879_ewing-jackanapes-daddy-darwins-dovecot-and-other-stories\", \"term\": \"jackanapes\", \"tfidf\": 0.44635888822966363}, {\"document\": \"1879_ewing-jackanapes-daddy-darwins-dovecot-and-other-stories\", \"term\": \"darwin\", \"tfidf\": 0.2503492944331892}, {\"document\": \"1879_ewing-jackanapes-daddy-darwins-dovecot-and-other-stories\", \"term\": \"said\", \"tfidf\": 0.2217699311302906}, {\"document\": \"1879_ewing-jackanapes-daddy-darwins-dovecot-and-other-stories\", \"term\": \"daddy\", \"tfidf\": 0.21662077346968614}, {\"document\": \"1879_ewing-jackanapes-daddy-darwins-dovecot-and-other-stories\", \"term\": \"hermit\", \"tfidf\": 0.2166027589069485}, {\"document\": \"1879_ewing-jackanapes-daddy-darwins-dovecot-and-other-stories\", \"term\": \"lollo\", \"tfidf\": 0.18458597527122234}, {\"document\": \"1879_ewing-jackanapes-daddy-darwins-dovecot-and-other-stories\", \"term\": \"jessamine\", \"tfidf\": 0.17825679437105058}, {\"document\": \"1879_ewing-jackanapes-daddy-darwins-dovecot-and-other-stories\", \"term\": \"tony\", \"tfidf\": 0.1517112301502791}, {\"document\": \"1879_ewing-jackanapes-daddy-darwins-dovecot-and-other-stories\", \"term\": \"jack\", \"tfidf\": 0.15035037155061481}, {\"document\": \"1879_ewing-jackanapes-daddy-darwins-dovecot-and-other-stories\", \"term\": \"dovecot\", \"tfidf\": 0.14170337710643555}, {\"document\": \"1882_ewing-brothers-of-pity-and-other-tales-of-beasts-and-men\", \"term\": \"flaps\", \"tfidf\": 0.27168757286423173}, {\"document\": \"1882_ewing-brothers-of-pity-and-other-tales-of-beasts-and-men\", \"term\": \"said\", \"tfidf\": 0.2473432018149711}, {\"document\": \"1882_ewing-brothers-of-pity-and-other-tales-of-beasts-and-men\", \"term\": \"toots\", \"tfidf\": 0.19418999759516087}, {\"document\": \"1882_ewing-brothers-of-pity-and-other-tales-of-beasts-and-men\", \"term\": \"like\", \"tfidf\": 0.1811855689372099}, {\"document\": \"1882_ewing-brothers-of-pity-and-other-tales-of-beasts-and-men\", \"term\": \"hedgehog\", \"tfidf\": 0.161872650166793}, {\"document\": \"1882_ewing-brothers-of-pity-and-other-tales-of-beasts-and-men\", \"term\": \"good\", \"tfidf\": 0.14163877923541768}, {\"document\": \"1882_ewing-brothers-of-pity-and-other-tales-of-beasts-and-men\", \"term\": \"sybil\", \"tfidf\": 0.14165761589078585}, {\"document\": \"1882_ewing-brothers-of-pity-and-other-tales-of-beasts-and-men\", \"term\": \"old\", \"tfidf\": 0.13121029572188944}, {\"document\": \"1882_ewing-brothers-of-pity-and-other-tales-of-beasts-and-men\", \"term\": \"gipsy\", \"tfidf\": 0.12447507621052656}, {\"document\": \"1882_ewing-brothers-of-pity-and-other-tales-of-beasts-and-men\", \"term\": \"know\", \"tfidf\": 0.12428797829789912}, {\"document\": \"1886_hodgson-burnett-little-lord-fauntleroy\", \"term\": \"earl\", \"tfidf\": 0.4788389636682717}, {\"document\": \"1886_hodgson-burnett-little-lord-fauntleroy\", \"term\": \"fauntleroy\", \"tfidf\": 0.4508218286105821}, {\"document\": \"1886_hodgson-burnett-little-lord-fauntleroy\", \"term\": \"cedric\", \"tfidf\": 0.28052405735567487}, {\"document\": \"1886_hodgson-burnett-little-lord-fauntleroy\", \"term\": \"hobbs\", \"tfidf\": 0.2588622755476447}, {\"document\": \"1886_hodgson-burnett-little-lord-fauntleroy\", \"term\": \"havisham\", \"tfidf\": 0.23207940110354122}, {\"document\": \"1886_hodgson-burnett-little-lord-fauntleroy\", \"term\": \"said\", \"tfidf\": 0.22804621256334945}, {\"document\": \"1886_hodgson-burnett-little-lord-fauntleroy\", \"term\": \"mr\", \"tfidf\": 0.17651708677707917}, {\"document\": \"1886_hodgson-burnett-little-lord-fauntleroy\", \"term\": \"little\", \"tfidf\": 0.1629279079931675}, {\"document\": \"1886_hodgson-burnett-little-lord-fauntleroy\", \"term\": \"dorincourt\", \"tfidf\": 0.12528229156323167}, {\"document\": \"1886_hodgson-burnett-little-lord-fauntleroy\", \"term\": \"dick\", \"tfidf\": 0.11674114880968597}, {\"document\": \"1887_molesworth-four-winds-farm\", \"term\": \"gratian\", \"tfidf\": 0.8403955646342769}, {\"document\": \"1887_molesworth-four-winds-farm\", \"term\": \"fergus\", \"tfidf\": 0.22218637563890856}, {\"document\": \"1887_molesworth-four-winds-farm\", \"term\": \"said\", \"tfidf\": 0.20790995603706555}, {\"document\": \"1887_molesworth-four-winds-farm\", \"term\": \"tony\", \"tfidf\": 0.1556498537858363}, {\"document\": \"1887_molesworth-four-winds-farm\", \"term\": \"mother\", \"tfidf\": 0.1074251181678658}, {\"document\": \"1887_molesworth-four-winds-farm\", \"term\": \"little\", \"tfidf\": 0.0958945268025669}, {\"document\": \"1887_molesworth-four-winds-farm\", \"term\": \"like\", \"tfidf\": 0.08906917144633661}, {\"document\": \"1887_molesworth-four-winds-farm\", \"term\": \"good\", \"tfidf\": 0.0787146116498768}, {\"document\": \"1887_molesworth-four-winds-farm\", \"term\": \"jonas\", \"tfidf\": 0.07606495405421117}, {\"document\": \"1887_molesworth-four-winds-farm\", \"term\": \"think\", \"tfidf\": 0.07526820972345108}, {\"document\": \"1888_ewing-snap-dragons-old-father-christmas\", \"term\": \"skratdj\", \"tfidf\": 0.532719775282998}, {\"document\": \"1888_ewing-snap-dragons-old-father-christmas\", \"term\": \"harry\", \"tfidf\": 0.3926617897033226}, {\"document\": \"1888_ewing-snap-dragons-old-father-christmas\", \"term\": \"patty\", \"tfidf\": 0.31656465972381453}, {\"document\": \"1888_ewing-snap-dragons-old-father-christmas\", \"term\": \"said\", \"tfidf\": 0.23712177960443992}, {\"document\": \"1888_ewing-snap-dragons-old-father-christmas\", \"term\": \"christmas\", \"tfidf\": 0.1847587977992075}, {\"document\": \"1888_ewing-snap-dragons-old-father-christmas\", \"term\": \"snap\", \"tfidf\": 0.15380930998321593}, {\"document\": \"1888_ewing-snap-dragons-old-father-christmas\", \"term\": \"kitty\", \"tfidf\": 0.148444837447272}, {\"document\": \"1888_ewing-snap-dragons-old-father-christmas\", \"term\": \"polly\", \"tfidf\": 0.13225402003780928}, {\"document\": \"1888_ewing-snap-dragons-old-father-christmas\", \"term\": \"father\", \"tfidf\": 0.13079401619682346}, {\"document\": \"1888_ewing-snap-dragons-old-father-christmas\", \"term\": \"old\", \"tfidf\": 0.11523817153543044}, {\"document\": \"1899_nesbit-the-story-of-the-treasure-seekers\", \"term\": \"oswald\", \"tfidf\": 0.44238981985019094}, {\"document\": \"1899_nesbit-the-story-of-the-treasure-seekers\", \"term\": \"said\", \"tfidf\": 0.43441044186232153}, {\"document\": \"1899_nesbit-the-story-of-the-treasure-seekers\", \"term\": \"noel\", \"tfidf\": 0.30099382580483125}, {\"document\": \"1899_nesbit-the-story-of-the-treasure-seekers\", \"term\": \"alice\", \"tfidf\": 0.29282568550380766}, {\"document\": \"1899_nesbit-the-story-of-the-treasure-seekers\", \"term\": \"dora\", \"tfidf\": 0.27581947903009585}, {\"document\": \"1899_nesbit-the-story-of-the-treasure-seekers\", \"term\": \"dicky\", \"tfidf\": 0.26828950107565047}, {\"document\": \"1899_nesbit-the-story-of-the-treasure-seekers\", \"term\": \"albert\", \"tfidf\": 0.16754391170794675}, {\"document\": \"1899_nesbit-the-story-of-the-treasure-seekers\", \"term\": \"like\", \"tfidf\": 0.11419617476711742}, {\"document\": \"1899_nesbit-the-story-of-the-treasure-seekers\", \"term\": \"uncle\", \"tfidf\": 0.09175060579275289}, {\"document\": \"1899_nesbit-the-story-of-the-treasure-seekers\", \"term\": \"father\", \"tfidf\": 0.08974963827374319}]}}, {\"mode\": \"vega-lite\"});\n",
       "</script>"
      ],
      "text/plain": [
       "alt.LayerChart(...)"
      ]
     },
     "execution_count": 53,
     "metadata": {},
     "output_type": "execute_result"
    }
   ],
   "source": [
    "import altair as alt\n",
    "import numpy as np\n",
    "\n",
    "# Terms in this list will get a red dot in the visualization\n",
    "term_list = ['war', 'peace']\n",
    "\n",
    "# adding a little randomness to break ties in term ranking\n",
    "top_tfidf_plusRand = top_tfidf.copy()\n",
    "top_tfidf_plusRand['tfidf'] = top_tfidf_plusRand['tfidf'] + np.random.rand(top_tfidf.shape[0])*0.0001\n",
    "\n",
    "# base for all visualizations, with rank calculation\n",
    "base = alt.Chart(top_tfidf_plusRand).encode(\n",
    "    x = 'rank:O',\n",
    "    y = 'document:N'\n",
    ").transform_window(\n",
    "    rank = \"rank()\",\n",
    "    sort = [alt.SortField(\"tfidf\", order=\"descending\")],\n",
    "    groupby = [\"document\"],\n",
    ")\n",
    "\n",
    "# heatmap specification\n",
    "heatmap = base.mark_rect().encode(\n",
    "    color = 'tfidf:Q'\n",
    ")\n",
    "\n",
    "# red circle over terms in above list\n",
    "circle = base.mark_circle(size=100).encode(\n",
    "    color = alt.condition(\n",
    "        alt.FieldOneOfPredicate(field='term', oneOf=term_list),\n",
    "        alt.value('red'),\n",
    "        alt.value('#FFFFFF00')        \n",
    "    )\n",
    ")\n",
    "\n",
    "# text labels, white for darker heatmap colors\n",
    "text = base.mark_text(baseline='middle').encode(\n",
    "    text = 'term:N',\n",
    "    color = alt.condition(alt.datum.tfidf >= 0.30, alt.value('white'), alt.value('black'))\n",
    ")\n",
    "\n",
    "# display the three superimposed visualizations\n",
    "(heatmap + circle + text).properties(width = 600)"
   ]
  }
 ],
 "metadata": {
  "kernelspec": {
   "display_name": "Python 3.10.5 64-bit",
   "language": "python",
   "name": "python3"
  },
  "language_info": {
   "codemirror_mode": {
    "name": "ipython",
    "version": 3
   },
   "file_extension": ".py",
   "mimetype": "text/x-python",
   "name": "python",
   "nbconvert_exporter": "python",
   "pygments_lexer": "ipython3",
   "version": "3.10.5"
  },
  "vscode": {
   "interpreter": {
    "hash": "aee8b7b246df8f9039afb4144a1f6fd8d2ca17a180786b69acc140d282b71a49"
   }
  }
 },
 "nbformat": 4,
 "nbformat_minor": 4
}
