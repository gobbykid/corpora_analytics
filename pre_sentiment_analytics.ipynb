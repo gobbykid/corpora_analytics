{
 "cells": [
  {
   "cell_type": "markdown",
   "metadata": {},
   "source": [
    "# Sentiment analytics"
   ]
  },
  {
   "cell_type": "markdown",
   "metadata": {},
   "source": [
    "### Environment"
   ]
  },
  {
   "cell_type": "code",
   "execution_count": 1,
   "metadata": {},
   "outputs": [],
   "source": [
    "from run import *"
   ]
  },
  {
   "cell_type": "markdown",
   "metadata": {},
   "source": [
    "The first thing to do is splitting up the corpora in the reference year.</br>\n",
    "So, in order to do that, we will iterate over the corpora and remove the texts written after the year 1880."
   ]
  },
  {
   "cell_type": "code",
   "execution_count": 2,
   "metadata": {},
   "outputs": [],
   "source": [
    "delete_authors_texts = set()\n",
    "f_authors_set = set(f_authors_texts)\n",
    "for url in f_authors_set:\n",
    "    if int(url[21:25]) > 1880:\n",
    "        delete_authors_texts.add(url)\n",
    "f_authors_texts_post = f_authors_set - delete_authors_texts    \n",
    "f_authors_texts = list(f_authors_texts_post)\n",
    "quickSort(f_authors_texts, 0, len(f_authors_texts)-1)\n",
    "\n",
    "# male authors texts post 1880\n",
    "delete_authors_texts = set()\n",
    "m_authors_set = set(m_authors_texts)\n",
    "for url in m_authors_set:\n",
    "    if int(url[21:25]) > 1880:\n",
    "        delete_authors_texts.add(url)\n",
    "m_authors_texts_post = m_authors_set - delete_authors_texts    \n",
    "m_authors_texts = list(m_authors_texts_post)\n",
    "quickSort(m_authors_texts, 0, len(m_authors_texts)-1)"
   ]
  },
  {
   "cell_type": "markdown",
   "metadata": {},
   "source": [
    "### 1) Female authors corpus"
   ]
  },
  {
   "cell_type": "markdown",
   "metadata": {},
   "source": [
    "Let's start by analyzing the <i>corpus of female authors</i>."
   ]
  },
  {
   "cell_type": "markdown",
   "metadata": {},
   "source": [
    "#### 1.1) Sentiment analysis"
   ]
  },
  {
   "cell_type": "markdown",
   "metadata": {},
   "source": [
    "##### 1.1.1) Characters extraction"
   ]
  },
  {
   "cell_type": "markdown",
   "metadata": {},
   "source": [
    "First of all, we need to extract all the characters from the analyzed corpora.</br>\n",
    "The extracted characters will be stored inside a dictionary."
   ]
  },
  {
   "cell_type": "code",
   "execution_count": 3,
   "metadata": {},
   "outputs": [
    {
     "name": "stderr",
     "output_type": "stream",
     "text": [
      "100%|██████████| 46/46 [00:19<00:00,  2.37it/s]\n"
     ]
    }
   ],
   "source": [
    "f_proper_nouns_dict = {}\n",
    "for url in tqdm(f_authors_texts):\n",
    "    f_proper_nouns_dict[url] = {}\n",
    "    text = text_reader(url)\n",
    "    list_of_sentences = syntok_list_of_sentences(text)\n",
    "    for sentence in list_of_sentences:\n",
    "            for word in word_tokenization(sentence, True, False)[1:]:\n",
    "                is_it_proper(word, f_proper_nouns_dict[url])"
   ]
  },
  {
   "cell_type": "markdown",
   "metadata": {},
   "source": [
    "The extraction is based on all the capitalized words that aren't part of the words which commonly appear capitalized inside texts (such as geographical locations, religious words, exclamations, and so on...)"
   ]
  },
  {
   "cell_type": "code",
   "execution_count": 4,
   "metadata": {},
   "outputs": [],
   "source": [
    "f_characters = set()\n",
    "for url in f_proper_nouns_dict:\n",
    "    for word in f_proper_nouns_dict[url]:\n",
    "        if 'upper' in f_proper_nouns_dict[url][word] and 'lower' not in f_proper_nouns_dict[url][word]:\n",
    "            if word not in capital_not_names:\n",
    "                f_characters.add(word.lower())\n",
    "                f_characters.add(word.capitalize())"
   ]
  },
  {
   "cell_type": "markdown",
   "metadata": {},
   "source": [
    "Now, we add manually all these proper names which have been extracted as common words."
   ]
  },
  {
   "cell_type": "code",
   "execution_count": 5,
   "metadata": {},
   "outputs": [],
   "source": [
    "f_characters.add('isobel')\n",
    "f_characters.add('Isobel')\n",
    "f_characters.add('agnes')\n",
    "f_characters.add('Agnes')\n",
    "f_characters.add('mary')\n",
    "f_characters.add('Mary')\n",
    "f_characters.add('flo')\n",
    "f_characters.add('Flo')\n",
    "f_characters.add('jan')\n",
    "f_characters.add('Jan')\n",
    "f_characters.add('john')\n",
    "f_characters.add('John')"
   ]
  },
  {
   "cell_type": "markdown",
   "metadata": {},
   "source": [
    "----------"
   ]
  },
  {
   "cell_type": "markdown",
   "metadata": {},
   "source": [
    "##### 1.1.2) Raw scores"
   ]
  },
  {
   "cell_type": "markdown",
   "metadata": {},
   "source": [
    "At this point, we want to analyze the corpus thanks to the functions contained in the document for the [gender classification of sentences](functions/sentiment_functions.py).</br>\n",
    "In particular, we will call the main function of this file, that is <span style=\"color:#89FC00\">gender_analysis</span>, on each text of our \"female authors corpus\"."
   ]
  },
  {
   "cell_type": "code",
   "execution_count": 6,
   "metadata": {},
   "outputs": [
    {
     "name": "stderr",
     "output_type": "stream",
     "text": [
      "100%|██████████| 46/46 [00:48<00:00,  1.06s/it]\n"
     ]
    }
   ],
   "source": [
    "for url in tqdm(f_authors_texts):\n",
    "    text = text_reader(url)\n",
    "    gender_analysis(text, f_sent_dict, f_sentence_counter, f_word_counter, female_authors_raw_count, f_word_freq, male_words, female_words)"
   ]
  },
  {
   "cell_type": "markdown",
   "metadata": {},
   "source": [
    "Thanks to this script we have analyzed, gendered and given a polarity score as well as a qualitative sentiment label to the sentences of each one of the texts contained inside the reference corpus and we have fulfilled the dictionaries related to such corpus."
   ]
  },
  {
   "cell_type": "markdown",
   "metadata": {},
   "source": [
    "As a last step of this first part of the process, we will first print out the differences between gendered and not-gendered sentences in terms of raw percentages of gendered sentences. </br>\n",
    "Then, by following a statistical analysis of our sentences in this corpus, we will also try to determine if the differences between the way in which female authors deal with male and female sentences is significant. In particular, what we aim to do is to determine wether the mean of the sentences related sentiment scores are significantly different."
   ]
  },
  {
   "cell_type": "code",
   "execution_count": 7,
   "metadata": {},
   "outputs": [
    {
     "name": "stdout",
     "output_type": "stream",
     "text": [
      "45.1% gendered.\n",
      "33466 sentences about men.\n",
      "21740 sentences about women.\n",
      "1.5 sentences about men for each sentence about women.\n"
     ]
    }
   ],
   "source": [
    "print ('%.1f%% gendered.' % (100*(f_sentence_counter['male'] + f_sentence_counter['female'])/\n",
    "                           (f_sentence_counter['male'] + f_sentence_counter['female'] + f_sentence_counter['mainly_female'] + \n",
    "                           f_sentence_counter['mainly_male'] + f_sentence_counter['both'] + f_sentence_counter['none'])))\n",
    "print ('%s sentences about men.' % f_sentence_counter['male'])\n",
    "print ('%s sentences about women.' % f_sentence_counter['female'])\n",
    "print ('%.1f sentences about men for each sentence about women.' % (f_sentence_counter['male']/f_sentence_counter['female']))"
   ]
  },
  {
   "cell_type": "markdown",
   "metadata": {},
   "source": [
    "-------"
   ]
  },
  {
   "cell_type": "markdown",
   "metadata": {},
   "source": [
    "#### 1.2) Statystical analysis"
   ]
  },
  {
   "cell_type": "markdown",
   "metadata": {},
   "source": [
    "Once determined some raw percentages and a raw count of the sentences contained in the female authors corpus, we will compute a statistical analysis regarding the means of the scores for female and male sentences inside this corpus."
   ]
  },
  {
   "cell_type": "markdown",
   "metadata": {},
   "source": [
    "<b><u>Data extraction</b></u>"
   ]
  },
  {
   "cell_type": "markdown",
   "metadata": {},
   "source": [
    "As a first step, we need to create some lists in which we will store the scores and the sentiment labels."
   ]
  },
  {
   "cell_type": "code",
   "execution_count": 8,
   "metadata": {},
   "outputs": [],
   "source": [
    "f_f_labels = list()\n",
    "f_m_labels = list()\n",
    "f_f_scores = list()\n",
    "f_m_scores = list()"
   ]
  },
  {
   "cell_type": "markdown",
   "metadata": {},
   "source": [
    "Now, we extract the scores that have been previously saved inside the output dictionary of the gender analysis and we store them in the above defined lists."
   ]
  },
  {
   "cell_type": "code",
   "execution_count": 9,
   "metadata": {},
   "outputs": [],
   "source": [
    "for sentence in f_sent_dict:\n",
    "    if f_sent_dict[sentence][\"gender\"] == \"female\":\n",
    "        f_f_scores.append(f_sent_dict[sentence][\"score\"])\n",
    "        f_f_labels.append(f_sent_dict[sentence][\"polarity\"])\n",
    "    elif f_sent_dict[sentence][\"gender\"] == \"male\":\n",
    "        f_m_scores.append(f_sent_dict[sentence][\"score\"])\n",
    "        f_m_labels.append(f_sent_dict[sentence][\"polarity\"])"
   ]
  },
  {
   "cell_type": "markdown",
   "metadata": {},
   "source": [
    "-----"
   ]
  },
  {
   "cell_type": "markdown",
   "metadata": {},
   "source": [
    "<b><u>Raw statistics</u></b>"
   ]
  },
  {
   "cell_type": "code",
   "execution_count": 10,
   "metadata": {},
   "outputs": [
    {
     "name": "stdout",
     "output_type": "stream",
     "text": [
      "For what concerns the 21552 female gendered sentences written by female authors we have these results:\n",
      "\n",
      "\n",
      "The number of positive sentences is: 9595\n",
      "The number of negative sentences is: 5378\n",
      "The number of neutral sentences is: 6579\n"
     ]
    }
   ],
   "source": [
    "pos = 0\n",
    "neg = 0\n",
    "neu = 0\n",
    "for pol in f_f_labels:\n",
    "    if pol == \"POS\":\n",
    "        pos += 1\n",
    "    elif pol == \"NEG\":\n",
    "        neg += 1\n",
    "    else:\n",
    "        neu += 1\n",
    "print(\"For what concerns the\", pos+neg+neu,\"female gendered sentences written by female authors we have these results:\")\n",
    "print(\"\\n\")\n",
    "print(\"The number of positive sentences is:\", pos)\n",
    "print(\"The number of negative sentences is:\", neg)\n",
    "print(\"The number of neutral sentences is:\", neu)"
   ]
  },
  {
   "cell_type": "code",
   "execution_count": 11,
   "metadata": {},
   "outputs": [
    {
     "name": "stdout",
     "output_type": "stream",
     "text": [
      "For what concerns the 33197 male gendered sentences written by female authors we have these results:\n",
      "\n",
      "\n",
      "The number of positive sentences is: 14881\n",
      "The number of negative sentences is: 7833\n",
      "The number of neutral sentences is: 10483\n"
     ]
    }
   ],
   "source": [
    "pos = 0\n",
    "neg = 0\n",
    "neu = 0\n",
    "for pol in f_m_labels:\n",
    "    if pol == \"POS\":\n",
    "        pos += 1\n",
    "    elif pol == \"NEG\":\n",
    "        neg += 1\n",
    "    else:\n",
    "        neu += 1\n",
    "print(\"For what concerns the\", pos+neg+neu,\"male gendered sentences written by female authors we have these results:\")\n",
    "print(\"\\n\")\n",
    "print(\"The number of positive sentences is:\", pos)\n",
    "print(\"The number of negative sentences is:\", neg)\n",
    "print(\"The number of neutral sentences is:\", neu)"
   ]
  },
  {
   "cell_type": "markdown",
   "metadata": {},
   "source": [
    "-----"
   ]
  },
  {
   "cell_type": "markdown",
   "metadata": {},
   "source": [
    "<b><u>Sample building</u></b>"
   ]
  },
  {
   "cell_type": "markdown",
   "metadata": {},
   "source": [
    "Seen that the aim of the analysis is to see wether a significant difference between the means of the two different sets of score (for male and female related sentences) exists, we will try to perform a <span style=\"color:#EE6352\"><i>t-test for independent samples</i></span>.</br>\n",
    "In order to be able to perform such statistical test, we first need to create two equally large samples. The dimension of the sample will be of 1500 scores each (number decided by looking at theoverall counts of sentences)."
   ]
  },
  {
   "cell_type": "markdown",
   "metadata": {},
   "source": [
    "The sampling operation is computed for both female and male related sentences that has a positive or negative score. Neutral sentences will not be considered in this first analysis because of the fact that we do not think that their values should be taken into account in order to perform an analysis that tries to higlight a possible difference between the average score of female and male sentences.</br>\n",
    "Behind this choice there is the fact that by analyzing some of the sentences extracted, we noticed that neutral sentences are not essential for the analysis because many times are referred to landscapes descriptions made by female or male characters. "
   ]
  },
  {
   "cell_type": "markdown",
   "metadata": {},
   "source": [
    "<b>Data preparation</b>"
   ]
  },
  {
   "cell_type": "markdown",
   "metadata": {},
   "source": [
    "First of all, in order to prepare the stratified sampling operation we should remove all the neutral scores and labels from our lists.</br>\n",
    "With the output of this first operation we create a dictionary representing the population to sample, that will be given as input to the <span style=\"color:#EDAE49\">stratified_random_sampling function</span> that can be found in the [analytics functions file](\"functions/analytics_functions.py)."
   ]
  },
  {
   "cell_type": "code",
   "execution_count": 12,
   "metadata": {},
   "outputs": [],
   "source": [
    "# Remove neutral scores in female sentences\n",
    "try:\n",
    "    while True:\n",
    "        f_f_scores.remove(0.0)\n",
    "except ValueError:\n",
    "    pass\n",
    "# Remove neutral labels in female sentences\n",
    "try:\n",
    "    while True:\n",
    "        f_f_labels.remove('NEU')\n",
    "except ValueError:\n",
    "    pass\n",
    "# Remove neutral scores in male sentences\n",
    "try:\n",
    "    while True:\n",
    "        f_m_scores.remove(0.0)\n",
    "except ValueError:\n",
    "    pass\n",
    "# Remove neutral labels in male sentences\n",
    "try:\n",
    "    while True:\n",
    "        f_m_labels.remove('NEU')\n",
    "except ValueError:\n",
    "    pass"
   ]
  },
  {
   "cell_type": "markdown",
   "metadata": {},
   "source": [
    "Once the remove operation has been successfully accomplished, as said before, we create a dictionary to represent the entire population:"
   ]
  },
  {
   "cell_type": "code",
   "execution_count": 13,
   "metadata": {},
   "outputs": [],
   "source": [
    "# Female sentences population dictionary\n",
    "f_f_population = {\n",
    "    \"scores\":f_f_scores,\n",
    "    \"labels\":f_f_labels\n",
    "}\n",
    "# Male sentences population dictionary\n",
    "f_m_population = {\n",
    "    \"scores\":f_m_scores,\n",
    "    \"labels\":f_m_labels\n",
    "} "
   ]
  },
  {
   "cell_type": "markdown",
   "metadata": {},
   "source": [
    "Seen that we need (for the visualization) to store our data inside CSV files, we will create a dataframe object, add columns (representing samples), and finally save it as csv file."
   ]
  },
  {
   "cell_type": "code",
   "execution_count": 14,
   "metadata": {},
   "outputs": [],
   "source": [
    "pre_df = DataFrame()"
   ]
  },
  {
   "cell_type": "markdown",
   "metadata": {},
   "source": [
    "<b>SRS (Stratified Random Sampling) operation</b>"
   ]
  },
  {
   "cell_type": "code",
   "execution_count": 15,
   "metadata": {},
   "outputs": [],
   "source": [
    "f_samples = stratified_random_sampling([f_f_population,f_m_population], sample_size(len(f_f_population['scores'])+len(f_m_population['scores'])))\n",
    "f_f_sample = f_samples[0]\n",
    "f_m_sample = f_samples[1]"
   ]
  },
  {
   "cell_type": "code",
   "execution_count": 16,
   "metadata": {},
   "outputs": [],
   "source": [
    "pre_df = pd.concat([pre_df,DataFrame({\"ff_sample\":f_f_sample})], axis=1)\n",
    "pre_df = pd.concat([pre_df,DataFrame({\"fm_sample\":f_m_sample})], axis=1)"
   ]
  },
  {
   "cell_type": "markdown",
   "metadata": {},
   "source": [
    "-----"
   ]
  },
  {
   "cell_type": "markdown",
   "metadata": {},
   "source": [
    "<b><u>T-Test assumptions check</u></b>"
   ]
  },
  {
   "cell_type": "markdown",
   "metadata": {},
   "source": [
    "Once we have our samples, we need to check for the assumptions of the <span style=\"color:#EE6352\"><i>t-test</i></span>:</br>\n",
    "- Continuous or ordinal scale of measurement: this one is easily confirmed by simply looking at the scores;\n",
    "- Data must be collected from a representative, randomly selected and reasonably large sample size of the total population: again, this has yet been accomlished by the random sampling performed in the previous step;\n",
    "- Data must follow the rules of a normal distribution (we will consider the standard threshold of 5%): in order to check for this assumption we wrote the <span style=\"color:#EDAE49\">check_distribution</span> function that you can find in the [analytics functions file](analytics_functions.py), and we will use it to analyze the distribution of data;\n",
    "- Homogeneity of variance: in order to check this last assumption we will use a function contained in the [analytics functions file](analytics_functions.py) that allow us to perform an <span style=\"color:#EE6352\"><i>F-test</i></span>."
   ]
  },
  {
   "cell_type": "markdown",
   "metadata": {},
   "source": [
    "------"
   ]
  },
  {
   "cell_type": "markdown",
   "metadata": {},
   "source": [
    "<u><b>Distribution</b></u>"
   ]
  },
  {
   "cell_type": "markdown",
   "metadata": {},
   "source": [
    "Starting from the sentences about female, we will check for the kind of distribution that our data follow.</br>\n",
    "In particular, we look for a normal distribution in order to meaningfully compare the extracted means of the data related to positive and negative sentences inside and outside this corpora. In fact, in this first stage of the process, we will try to see if there is a statistically significant difference between the ways in which female authors deal with men and women, and how they treat gendered sentences. </br>\n",
    "After that, we will compute the mean and the std of the sentences we are dealing with (only if the distribution is normal).\n"
   ]
  },
  {
   "cell_type": "markdown",
   "metadata": {},
   "source": [
    "In order to highligth some hidden details of our data, we decided to transform them thanks to a <span style=\"color:#EE6352\"><i>BoxCox transformation</i></span>.</br>\n",
    "Finally, we will display a graph that shows the distribution of the scores."
   ]
  },
  {
   "cell_type": "markdown",
   "metadata": {},
   "source": [
    "<b>Normality assumption check for distribution of female sentences</b>"
   ]
  },
  {
   "cell_type": "code",
   "execution_count": 17,
   "metadata": {},
   "outputs": [
    {
     "name": "stdout",
     "output_type": "stream",
     "text": [
      "According to a D'Agostino-Pearson normality test, we cannot reject the null hypothesis, in fact:\n",
      "The p-value is: 0.6677541867208415\n",
      "The mean is: 0.09776295146274369\n",
      "The std is: 0.28785062972379516\n",
      "So, data follow a normal distribution.\n"
     ]
    },
    {
     "data": {
      "text/plain": [
       "(0.09776295146274369, 0.28785062972379516)"
      ]
     },
     "execution_count": 17,
     "metadata": {},
     "output_type": "execute_result"
    },
    {
     "data": {
      "image/png": "[encoded data removed]",
      "text/plain": [
       "<Figure size 432x288 with 1 Axes>"
      ]
     },
     "metadata": {
      "needs_background": "light"
     },
     "output_type": "display_data"
    }
   ],
   "source": [
    "check_distribution(f_f_sample)"
   ]
  },
  {
   "cell_type": "markdown",
   "metadata": {},
   "source": [
    "<b>Normality assumption check for distribution of male sentences</b>"
   ]
  },
  {
   "cell_type": "code",
   "execution_count": 18,
   "metadata": {},
   "outputs": [
    {
     "name": "stdout",
     "output_type": "stream",
     "text": [
      "According to a D'Agostino-Pearson normality test, we cannot reject the null hypothesis, in fact:\n",
      "The p-value is: 0.8960372430584375\n",
      "The mean is: 0.12168140817018769\n",
      "The std is: 0.2990579305973559\n",
      "So, data follow a normal distribution.\n"
     ]
    },
    {
     "data": {
      "text/plain": [
       "(0.12168140817018769, 0.2990579305973559)"
      ]
     },
     "execution_count": 18,
     "metadata": {},
     "output_type": "execute_result"
    },
    {
     "data": {
      "image/png": "[encoded data removed]",
      "text/plain": [
       "<Figure size 432x288 with 1 Axes>"
      ]
     },
     "metadata": {
      "needs_background": "light"
     },
     "output_type": "display_data"
    }
   ],
   "source": [
    "check_distribution(f_m_sample)"
   ]
  },
  {
   "cell_type": "markdown",
   "metadata": {},
   "source": [
    "-----"
   ]
  },
  {
   "cell_type": "markdown",
   "metadata": {},
   "source": [
    "<b><u>Homogeneity of variances</u></b>"
   ]
  },
  {
   "cell_type": "markdown",
   "metadata": {},
   "source": [
    "We can now perform an <span style=\"color:#EE6352\"><i>F-test</i></span> on the variances of the two samples."
   ]
  },
  {
   "cell_type": "code",
   "execution_count": 19,
   "metadata": {},
   "outputs": [
    {
     "name": "stdout",
     "output_type": "stream",
     "text": [
      "According to an F-test, we cannot reject the null hypothesis, in fact:\n",
      "The F-statistics is: 1.0793847547489432\n",
      "The p-value is: 0.14139195474132338\n",
      "The two variances do not differ in a significant way\n"
     ]
    },
    {
     "data": {
      "text/plain": [
       "(1.0793847547489432, 0.14139195474132338)"
      ]
     },
     "execution_count": 19,
     "metadata": {},
     "output_type": "execute_result"
    }
   ],
   "source": [
    "f_test(f_f_sample, f_m_sample)"
   ]
  },
  {
   "cell_type": "markdown",
   "metadata": {},
   "source": [
    "------"
   ]
  },
  {
   "cell_type": "markdown",
   "metadata": {},
   "source": [
    "<b><u>T-Test for independent samples</u></b>"
   ]
  },
  {
   "cell_type": "markdown",
   "metadata": {},
   "source": [
    "We can now move on into testing our data in order to see wether the means of scores related to female and male gendered sentences differ in a significant way.</br>\n",
    "In order to check that, we will perform a <span style=\"color:#EE6352\"><i>t-test for independent samples</i></span> by using the <span style=\"color:#EDAE49\">t_test_independent</span> function contained in the [analytics functions file](functions/analytics_functions.py)."
   ]
  },
  {
   "cell_type": "code",
   "execution_count": 20,
   "metadata": {},
   "outputs": [
    {
     "name": "stdout",
     "output_type": "stream",
     "text": [
      "According to a T-Test for independent samples we can not reject the null hypothesis, in fact:\n",
      "The p-value is: 0.2964969979966527\n",
      "The two means (0.09999707083580688 0.11592869759319165) do not differ in a significant way.\n"
     ]
    },
    {
     "data": {
      "text/plain": [
       "Ttest_indResult(statistic=-1.0443167028623765, pvalue=0.2964969979966527)"
      ]
     },
     "execution_count": 20,
     "metadata": {},
     "output_type": "execute_result"
    }
   ],
   "source": [
    "t_test_independent(f_f_sample, f_m_sample)"
   ]
  },
  {
   "cell_type": "markdown",
   "metadata": {},
   "source": [
    "-------"
   ]
  },
  {
   "cell_type": "markdown",
   "metadata": {},
   "source": [
    "#### 1.3) Emotion extraction"
   ]
  },
  {
   "cell_type": "markdown",
   "metadata": {},
   "source": [
    "Finally, we can move on into seeing the emotions related data that have been extracted from our corpus.</br>\n",
    "In order to do that, we will make use of the function <span style=\"color:#EDAE49\">emotion_frequencies</span> contained in the [sentiment functions file](functions/sentiment_functions.py)."
   ]
  },
  {
   "cell_type": "code",
   "execution_count": 21,
   "metadata": {},
   "outputs": [
    {
     "name": "stderr",
     "output_type": "stream",
     "text": [
      "100%|██████████| 46/46 [00:27<00:00,  1.66it/s]\n"
     ]
    },
    {
     "data": {
      "text/html": [
       "<div>\n",
       "<style scoped>\n",
       "    .dataframe tbody tr th:only-of-type {\n",
       "        vertical-align: middle;\n",
       "    }\n",
       "\n",
       "    .dataframe tbody tr th {\n",
       "        vertical-align: top;\n",
       "    }\n",
       "\n",
       "    .dataframe thead th {\n",
       "        text-align: right;\n",
       "    }\n",
       "</style>\n",
       "<table border=\"1\" class=\"dataframe\">\n",
       "  <thead>\n",
       "    <tr style=\"text-align: right;\">\n",
       "      <th></th>\n",
       "      <th>emotions</th>\n",
       "      <th>score</th>\n",
       "    </tr>\n",
       "  </thead>\n",
       "  <tbody>\n",
       "    <tr>\n",
       "      <th>0</th>\n",
       "      <td>fear</td>\n",
       "      <td>0.069138</td>\n",
       "    </tr>\n",
       "    <tr>\n",
       "      <th>1</th>\n",
       "      <td>anger</td>\n",
       "      <td>0.053908</td>\n",
       "    </tr>\n",
       "    <tr>\n",
       "      <th>2</th>\n",
       "      <td>trust</td>\n",
       "      <td>0.125146</td>\n",
       "    </tr>\n",
       "    <tr>\n",
       "      <th>3</th>\n",
       "      <td>surprise</td>\n",
       "      <td>0.053424</td>\n",
       "    </tr>\n",
       "    <tr>\n",
       "      <th>4</th>\n",
       "      <td>positive</td>\n",
       "      <td>0.210594</td>\n",
       "    </tr>\n",
       "    <tr>\n",
       "      <th>5</th>\n",
       "      <td>negative</td>\n",
       "      <td>0.144427</td>\n",
       "    </tr>\n",
       "    <tr>\n",
       "      <th>6</th>\n",
       "      <td>sadness</td>\n",
       "      <td>0.079090</td>\n",
       "    </tr>\n",
       "    <tr>\n",
       "      <th>7</th>\n",
       "      <td>disgust</td>\n",
       "      <td>0.042910</td>\n",
       "    </tr>\n",
       "    <tr>\n",
       "      <th>8</th>\n",
       "      <td>joy</td>\n",
       "      <td>0.108437</td>\n",
       "    </tr>\n",
       "    <tr>\n",
       "      <th>9</th>\n",
       "      <td>anticipation</td>\n",
       "      <td>0.112928</td>\n",
       "    </tr>\n",
       "  </tbody>\n",
       "</table>\n",
       "</div>"
      ],
      "text/plain": [
       "       emotions     score\n",
       "0          fear  0.069138\n",
       "1         anger  0.053908\n",
       "2         trust  0.125146\n",
       "3      surprise  0.053424\n",
       "4      positive  0.210594\n",
       "5      negative  0.144427\n",
       "6       sadness  0.079090\n",
       "7       disgust  0.042910\n",
       "8           joy  0.108437\n",
       "9  anticipation  0.112928"
      ]
     },
     "execution_count": 21,
     "metadata": {},
     "output_type": "execute_result"
    }
   ],
   "source": [
    "for url in tqdm(f_authors_texts):\n",
    "    f_emotions = emotion_frequencies(url, f_emotions)\n",
    "del f_emotions[\"anticip\"]\n",
    "#This dataframe is useful to plot a violin visualization of the scores\n",
    "f_df_plt = pd.DataFrame(f_emotions)\n",
    "\n",
    "f_emo_scores = list()\n",
    "for emo in f_emotions:\n",
    "    f_emotions[emo] = np.mean(f_emotions[emo])\n",
    "    f_emo_scores.append(f_emotions[emo])\n",
    "f_emotions_df = pd.DataFrame({\n",
    "    'emotions':pd.Series(f_emotions.keys()),\n",
    "    'score':pd.Series(f_emo_scores)\n",
    "})\n",
    "f_emotions_df"
   ]
  },
  {
   "cell_type": "markdown",
   "metadata": {},
   "source": [
    "#### 1.4) Common words"
   ]
  },
  {
   "cell_type": "markdown",
   "metadata": {},
   "source": [
    "Then, in order to display some statistics about the words used in gendered sentences, we first need to compute a list of the most <span style=\"color:#F7D6E0\">common words in female and male sentences</span> that female authors tend to use inside the texts that compose the related corpus.</br>\n",
    "The easiest way to do that is to retrieve our sorted <i>word_freq</i> dictionaries and to take out from these the most common words from the '<u><i>female</i></u>' and '<u><i>male</i></u>' keys.</br>\n",
    "From such list we will need to take out all the words used together with a specific gender classification."
   ]
  },
  {
   "cell_type": "code",
   "execution_count": 22,
   "metadata": {},
   "outputs": [],
   "source": [
    "f_common_words=set([w for w in sorted (f_word_freq['female'],key=f_word_freq['female'].get,reverse=True)[:1000]]+\n",
    "                    [w for w in sorted (f_word_freq['male'],key=f_word_freq['male'].get,reverse=True)[:1000]])\n",
    "f_common_words=list(f_common_words-male_words-female_words-f_characters-animals_list-common_ws_list)"
   ]
  },
  {
   "cell_type": "markdown",
   "metadata": {},
   "source": [
    "The first operation to perform, on the common_words list, is to POS-tag the words that are stored inside it.</br>\n",
    "Such POS-tagged words will be placed inside a dictionary and we will print out all the different POS in order to perform a more accurate analysis of the corpus in the subsequent stages.</br>\n",
    "The decision to use the universal POS-tagger is due to the fact that tagging operations in NLP are not so accurate, therefore we preferred to use a more general (so, with less definens) tagset."
   ]
  },
  {
   "cell_type": "code",
   "execution_count": 23,
   "metadata": {},
   "outputs": [],
   "source": [
    "f_tagged_words = {}\n",
    "for word in pos_tagging(f_common_words, True):\n",
    "    if word[1] not in f_tagged_words:\n",
    "        f_tagged_words[word[1]] = []\n",
    "    f_tagged_words[word[1]].append(word[0])  "
   ]
  },
  {
   "cell_type": "markdown",
   "metadata": {},
   "source": [
    "Once we have our list of common words and the dictionary containing POS-tagged words, what we need to do is to compute the ratio of each one of the words for what concerns its relative presence in male and female gendered sentences.</br></br>\n",
    "In this step we took into consideration the possibility that a word may appear the same amount of time for both genders but, one possible situation is when it appears 10 times, for example, in 50 male sentences and 10 times in 200 female sentences. Basically, that is the reason behind the necessity to compute its <i>relative frequency</i>.</br></br>\n",
    "\n",
    "Finally, in order to obtain the female sentences percentage of occurrency of a specific word, we will just need to compute the inverse percentage."
   ]
  },
  {
   "cell_type": "code",
   "execution_count": 24,
   "metadata": {},
   "outputs": [],
   "source": [
    "f_male_percent = { word :\n",
    "    (f_word_freq['male'].get(word,0)/f_word_counter['male'])/ \n",
    "    (f_word_freq['female'].get(word,0)/f_word_counter['female'] + \n",
    "    f_word_freq['male'].get(word,0)/f_word_counter['male']) \n",
    "    for word in f_common_words if word in f_tagged_words[\"NOUN\"] or word in f_tagged_words[\"VERB\"] or word in f_tagged_words[\"ADJ\"]}"
   ]
  },
  {
   "cell_type": "markdown",
   "metadata": {},
   "source": [
    "Once we have computed such male percentages, we will display our results in a tabular form.</br>\n",
    "In particular, we will display the 50 most common words (if exist) for female and male contexts, that has <b>a ratio of presence higher than 3</b>, that means only those words which appear at least 2 times for a gender out of 1 time for the other.</br> \n",
    "All the words which appear just for one of the two main genders (f & m) will be displayed with a ratio = 100 by default."
   ]
  },
  {
   "cell_type": "markdown",
   "metadata": {},
   "source": [
    "<b><u>Female related common words in female authors corpus</u></b>"
   ]
  },
  {
   "cell_type": "code",
   "execution_count": 25,
   "metadata": {},
   "outputs": [
    {
     "name": "stdout",
     "output_type": "stream",
     "text": [
      "COMMON WORDS\n",
      "Female words in the female author corpus\n"
     ]
    },
    {
     "data": {
      "text/html": [
       "<div>\n",
       "<style scoped>\n",
       "    .dataframe tbody tr th:only-of-type {\n",
       "        vertical-align: middle;\n",
       "    }\n",
       "\n",
       "    .dataframe tbody tr th {\n",
       "        vertical-align: top;\n",
       "    }\n",
       "\n",
       "    .dataframe thead th {\n",
       "        text-align: right;\n",
       "    }\n",
       "</style>\n",
       "<table border=\"1\" class=\"dataframe\">\n",
       "  <thead>\n",
       "    <tr style=\"text-align: right;\">\n",
       "      <th></th>\n",
       "      <th>word</th>\n",
       "      <th>ratio</th>\n",
       "      <th>f_corpus raw count</th>\n",
       "      <th>m_corpus raw count</th>\n",
       "      <th>f_corpus percentage</th>\n",
       "      <th>m_corpus percentage</th>\n",
       "    </tr>\n",
       "  </thead>\n",
       "  <tbody>\n",
       "    <tr>\n",
       "      <th>0</th>\n",
       "      <td>governess</td>\n",
       "      <td>11.63</td>\n",
       "      <td>71</td>\n",
       "      <td>10</td>\n",
       "      <td>0.9208</td>\n",
       "      <td>0.0792</td>\n",
       "    </tr>\n",
       "    <tr>\n",
       "      <th>1</th>\n",
       "      <td>bonnet</td>\n",
       "      <td>9.18</td>\n",
       "      <td>84</td>\n",
       "      <td>15</td>\n",
       "      <td>0.9017</td>\n",
       "      <td>0.0983</td>\n",
       "    </tr>\n",
       "    <tr>\n",
       "      <th>2</th>\n",
       "      <td>frock</td>\n",
       "      <td>8.81</td>\n",
       "      <td>86</td>\n",
       "      <td>16</td>\n",
       "      <td>0.8980</td>\n",
       "      <td>0.1020</td>\n",
       "    </tr>\n",
       "    <tr>\n",
       "      <th>3</th>\n",
       "      <td>shawl</td>\n",
       "      <td>6.85</td>\n",
       "      <td>46</td>\n",
       "      <td>11</td>\n",
       "      <td>0.8727</td>\n",
       "      <td>0.1273</td>\n",
       "    </tr>\n",
       "    <tr>\n",
       "      <th>4</th>\n",
       "      <td>dress</td>\n",
       "      <td>6.19</td>\n",
       "      <td>268</td>\n",
       "      <td>71</td>\n",
       "      <td>0.8608</td>\n",
       "      <td>0.1392</td>\n",
       "    </tr>\n",
       "    <tr>\n",
       "      <th>5</th>\n",
       "      <td>lap</td>\n",
       "      <td>5.38</td>\n",
       "      <td>46</td>\n",
       "      <td>14</td>\n",
       "      <td>0.8434</td>\n",
       "      <td>0.1566</td>\n",
       "    </tr>\n",
       "    <tr>\n",
       "      <th>6</th>\n",
       "      <td>weeping</td>\n",
       "      <td>5.13</td>\n",
       "      <td>47</td>\n",
       "      <td>15</td>\n",
       "      <td>0.8370</td>\n",
       "      <td>0.1630</td>\n",
       "    </tr>\n",
       "    <tr>\n",
       "      <th>7</th>\n",
       "      <td>darling</td>\n",
       "      <td>4.66</td>\n",
       "      <td>54</td>\n",
       "      <td>19</td>\n",
       "      <td>0.8232</td>\n",
       "      <td>0.1768</td>\n",
       "    </tr>\n",
       "    <tr>\n",
       "      <th>8</th>\n",
       "      <td>doll</td>\n",
       "      <td>4.41</td>\n",
       "      <td>78</td>\n",
       "      <td>29</td>\n",
       "      <td>0.8151</td>\n",
       "      <td>0.1849</td>\n",
       "    </tr>\n",
       "    <tr>\n",
       "      <th>9</th>\n",
       "      <td>pink</td>\n",
       "      <td>4.06</td>\n",
       "      <td>52</td>\n",
       "      <td>21</td>\n",
       "      <td>0.8023</td>\n",
       "      <td>0.1977</td>\n",
       "    </tr>\n",
       "    <tr>\n",
       "      <th>10</th>\n",
       "      <td>kiss</td>\n",
       "      <td>3.19</td>\n",
       "      <td>76</td>\n",
       "      <td>39</td>\n",
       "      <td>0.7615</td>\n",
       "      <td>0.2385</td>\n",
       "    </tr>\n",
       "    <tr>\n",
       "      <th>11</th>\n",
       "      <td>kissed</td>\n",
       "      <td>3.15</td>\n",
       "      <td>75</td>\n",
       "      <td>39</td>\n",
       "      <td>0.7591</td>\n",
       "      <td>0.2409</td>\n",
       "    </tr>\n",
       "  </tbody>\n",
       "</table>\n",
       "</div>"
      ],
      "text/plain": [
       "         word  ratio  f_corpus raw count  m_corpus raw count  \\\n",
       "0   governess  11.63                  71                  10   \n",
       "1      bonnet   9.18                  84                  15   \n",
       "2       frock   8.81                  86                  16   \n",
       "3       shawl   6.85                  46                  11   \n",
       "4       dress   6.19                 268                  71   \n",
       "5         lap   5.38                  46                  14   \n",
       "6     weeping   5.13                  47                  15   \n",
       "7     darling   4.66                  54                  19   \n",
       "8        doll   4.41                  78                  29   \n",
       "9        pink   4.06                  52                  21   \n",
       "10       kiss   3.19                  76                  39   \n",
       "11     kissed   3.15                  75                  39   \n",
       "\n",
       "    f_corpus percentage  m_corpus percentage  \n",
       "0                0.9208               0.0792  \n",
       "1                0.9017               0.0983  \n",
       "2                0.8980               0.1020  \n",
       "3                0.8727               0.1273  \n",
       "4                0.8608               0.1392  \n",
       "5                0.8434               0.1566  \n",
       "6                0.8370               0.1630  \n",
       "7                0.8232               0.1768  \n",
       "8                0.8151               0.1849  \n",
       "9                0.8023               0.1977  \n",
       "10               0.7615               0.2385  \n",
       "11               0.7591               0.2409  "
      ]
     },
     "execution_count": 25,
     "metadata": {},
     "output_type": "execute_result"
    }
   ],
   "source": [
    "print('COMMON WORDS')\n",
    "print('Female words in the female author corpus')\n",
    "f_fcdf = common_words_df(f_word_freq, f_male_percent, f_female_general, False)\n",
    "f_female_related_words = f_fcdf['word'].values.tolist()\n",
    "f_fcdf"
   ]
  },
  {
   "cell_type": "code",
   "execution_count": 72,
   "metadata": {},
   "outputs": [],
   "source": [
    "f_fcdf.to_csv(\"assets/Visualizations datasets/Common words/pre_ff.csv\")"
   ]
  },
  {
   "cell_type": "markdown",
   "metadata": {},
   "source": [
    "<b><u>Male related common words in female authors corpus</u></b>"
   ]
  },
  {
   "cell_type": "code",
   "execution_count": 26,
   "metadata": {},
   "outputs": [
    {
     "name": "stdout",
     "output_type": "stream",
     "text": [
      "COMMON WORDS\n",
      "Male words in the female author corpus\n"
     ]
    },
    {
     "data": {
      "text/html": [
       "<div>\n",
       "<style scoped>\n",
       "    .dataframe tbody tr th:only-of-type {\n",
       "        vertical-align: middle;\n",
       "    }\n",
       "\n",
       "    .dataframe tbody tr th {\n",
       "        vertical-align: top;\n",
       "    }\n",
       "\n",
       "    .dataframe thead th {\n",
       "        text-align: right;\n",
       "    }\n",
       "</style>\n",
       "<table border=\"1\" class=\"dataframe\">\n",
       "  <thead>\n",
       "    <tr style=\"text-align: right;\">\n",
       "      <th></th>\n",
       "      <th>word</th>\n",
       "      <th>ratio</th>\n",
       "      <th>f_corpus raw count</th>\n",
       "      <th>m_corpus raw count</th>\n",
       "      <th>f_corpus percentage</th>\n",
       "      <th>m_corpus percentage</th>\n",
       "    </tr>\n",
       "  </thead>\n",
       "  <tbody>\n",
       "    <tr>\n",
       "      <th>0</th>\n",
       "      <td>sword</td>\n",
       "      <td>9.97</td>\n",
       "      <td>6</td>\n",
       "      <td>98</td>\n",
       "      <td>0.0912</td>\n",
       "      <td>0.9088</td>\n",
       "    </tr>\n",
       "    <tr>\n",
       "      <th>1</th>\n",
       "      <td>sailor</td>\n",
       "      <td>6.89</td>\n",
       "      <td>7</td>\n",
       "      <td>79</td>\n",
       "      <td>0.1268</td>\n",
       "      <td>0.8732</td>\n",
       "    </tr>\n",
       "    <tr>\n",
       "      <th>2</th>\n",
       "      <td>rode</td>\n",
       "      <td>5.95</td>\n",
       "      <td>8</td>\n",
       "      <td>78</td>\n",
       "      <td>0.1439</td>\n",
       "      <td>0.8561</td>\n",
       "    </tr>\n",
       "    <tr>\n",
       "      <th>3</th>\n",
       "      <td>fellow</td>\n",
       "      <td>5.78</td>\n",
       "      <td>36</td>\n",
       "      <td>341</td>\n",
       "      <td>0.1475</td>\n",
       "      <td>0.8525</td>\n",
       "    </tr>\n",
       "    <tr>\n",
       "      <th>4</th>\n",
       "      <td>miller</td>\n",
       "      <td>4.88</td>\n",
       "      <td>13</td>\n",
       "      <td>104</td>\n",
       "      <td>0.1700</td>\n",
       "      <td>0.8300</td>\n",
       "    </tr>\n",
       "    <tr>\n",
       "      <th>5</th>\n",
       "      <td>lad</td>\n",
       "      <td>4.45</td>\n",
       "      <td>21</td>\n",
       "      <td>153</td>\n",
       "      <td>0.1836</td>\n",
       "      <td>0.8164</td>\n",
       "    </tr>\n",
       "    <tr>\n",
       "      <th>6</th>\n",
       "      <td>mill</td>\n",
       "      <td>4.40</td>\n",
       "      <td>14</td>\n",
       "      <td>101</td>\n",
       "      <td>0.1851</td>\n",
       "      <td>0.8149</td>\n",
       "    </tr>\n",
       "    <tr>\n",
       "      <th>7</th>\n",
       "      <td>coat</td>\n",
       "      <td>4.04</td>\n",
       "      <td>16</td>\n",
       "      <td>106</td>\n",
       "      <td>0.1983</td>\n",
       "      <td>0.8017</td>\n",
       "    </tr>\n",
       "    <tr>\n",
       "      <th>8</th>\n",
       "      <td>royal</td>\n",
       "      <td>3.87</td>\n",
       "      <td>12</td>\n",
       "      <td>76</td>\n",
       "      <td>0.2055</td>\n",
       "      <td>0.7945</td>\n",
       "    </tr>\n",
       "    <tr>\n",
       "      <th>9</th>\n",
       "      <td>boat</td>\n",
       "      <td>3.82</td>\n",
       "      <td>15</td>\n",
       "      <td>94</td>\n",
       "      <td>0.2073</td>\n",
       "      <td>0.7927</td>\n",
       "    </tr>\n",
       "    <tr>\n",
       "      <th>10</th>\n",
       "      <td>stable</td>\n",
       "      <td>3.71</td>\n",
       "      <td>13</td>\n",
       "      <td>79</td>\n",
       "      <td>0.2124</td>\n",
       "      <td>0.7876</td>\n",
       "    </tr>\n",
       "    <tr>\n",
       "      <th>11</th>\n",
       "      <td>blood</td>\n",
       "      <td>3.70</td>\n",
       "      <td>17</td>\n",
       "      <td>103</td>\n",
       "      <td>0.2129</td>\n",
       "      <td>0.7871</td>\n",
       "    </tr>\n",
       "    <tr>\n",
       "      <th>12</th>\n",
       "      <td>prisoner</td>\n",
       "      <td>3.54</td>\n",
       "      <td>15</td>\n",
       "      <td>87</td>\n",
       "      <td>0.2203</td>\n",
       "      <td>0.7797</td>\n",
       "    </tr>\n",
       "    <tr>\n",
       "      <th>13</th>\n",
       "      <td>brave</td>\n",
       "      <td>3.51</td>\n",
       "      <td>20</td>\n",
       "      <td>115</td>\n",
       "      <td>0.2218</td>\n",
       "      <td>0.7782</td>\n",
       "    </tr>\n",
       "    <tr>\n",
       "      <th>14</th>\n",
       "      <td>castle</td>\n",
       "      <td>3.25</td>\n",
       "      <td>31</td>\n",
       "      <td>165</td>\n",
       "      <td>0.2354</td>\n",
       "      <td>0.7646</td>\n",
       "    </tr>\n",
       "  </tbody>\n",
       "</table>\n",
       "</div>"
      ],
      "text/plain": [
       "        word  ratio  f_corpus raw count  m_corpus raw count  \\\n",
       "0      sword   9.97                   6                  98   \n",
       "1     sailor   6.89                   7                  79   \n",
       "2       rode   5.95                   8                  78   \n",
       "3     fellow   5.78                  36                 341   \n",
       "4     miller   4.88                  13                 104   \n",
       "5        lad   4.45                  21                 153   \n",
       "6       mill   4.40                  14                 101   \n",
       "7       coat   4.04                  16                 106   \n",
       "8      royal   3.87                  12                  76   \n",
       "9       boat   3.82                  15                  94   \n",
       "10    stable   3.71                  13                  79   \n",
       "11     blood   3.70                  17                 103   \n",
       "12  prisoner   3.54                  15                  87   \n",
       "13     brave   3.51                  20                 115   \n",
       "14    castle   3.25                  31                 165   \n",
       "\n",
       "    f_corpus percentage  m_corpus percentage  \n",
       "0                0.0912               0.9088  \n",
       "1                0.1268               0.8732  \n",
       "2                0.1439               0.8561  \n",
       "3                0.1475               0.8525  \n",
       "4                0.1700               0.8300  \n",
       "5                0.1836               0.8164  \n",
       "6                0.1851               0.8149  \n",
       "7                0.1983               0.8017  \n",
       "8                0.2055               0.7945  \n",
       "9                0.2073               0.7927  \n",
       "10               0.2124               0.7876  \n",
       "11               0.2129               0.7871  \n",
       "12               0.2203               0.7797  \n",
       "13               0.2218               0.7782  \n",
       "14               0.2354               0.7646  "
      ]
     },
     "execution_count": 26,
     "metadata": {},
     "output_type": "execute_result"
    }
   ],
   "source": [
    "print('COMMON WORDS')\n",
    "print('Male words in the female author corpus')\n",
    "f_mcdf = common_words_df(f_word_freq, f_male_percent, f_male_general, True)\n",
    "f_male_related_words = f_mcdf['word'].values.tolist()\n",
    "f_mcdf"
   ]
  },
  {
   "cell_type": "code",
   "execution_count": null,
   "metadata": {},
   "outputs": [],
   "source": [
    "f_mcdf.to_csv(\"assets/Visualizations datasets/Common words/pre_fm.csv\")"
   ]
  },
  {
   "cell_type": "markdown",
   "metadata": {},
   "source": [
    "----"
   ]
  },
  {
   "cell_type": "markdown",
   "metadata": {},
   "source": [
    "### 2) Male authors corpus"
   ]
  },
  {
   "cell_type": "markdown",
   "metadata": {},
   "source": [
    "The same kind of analysis based on classifications of sentences with respect to their gender will be performed in this section. This time, the focus of our analysis is the <i>male authors corpus</i>."
   ]
  },
  {
   "cell_type": "markdown",
   "metadata": {},
   "source": [
    "#### 2.1) Sentiment analysis"
   ]
  },
  {
   "cell_type": "markdown",
   "metadata": {},
   "source": [
    "##### 2.1.1) Characters extraction"
   ]
  },
  {
   "cell_type": "markdown",
   "metadata": {},
   "source": [
    "First of all, we need to extract all the characters from the analyzed corpora.</br>\n",
    "The extracted characters will be stored inside a dictionary."
   ]
  },
  {
   "cell_type": "code",
   "execution_count": 27,
   "metadata": {},
   "outputs": [
    {
     "name": "stderr",
     "output_type": "stream",
     "text": [
      "100%|██████████| 36/36 [00:25<00:00,  1.42it/s]\n"
     ]
    }
   ],
   "source": [
    "m_proper_nouns_dict = {}\n",
    "for url in tqdm(m_authors_texts):\n",
    "    m_proper_nouns_dict[url] = {}\n",
    "    text = text_reader(url)\n",
    "    list_of_sentences = syntok_list_of_sentences(text)\n",
    "    for sentence in list_of_sentences:\n",
    "            for word in word_tokenization(sentence, True, False)[1:]:\n",
    "                is_it_proper(word, m_proper_nouns_dict[url])"
   ]
  },
  {
   "cell_type": "code",
   "execution_count": 28,
   "metadata": {},
   "outputs": [],
   "source": [
    "m_characters = set()\n",
    "for url in m_proper_nouns_dict:\n",
    "    for word in m_proper_nouns_dict[url]:\n",
    "        if 'upper' in m_proper_nouns_dict[url][word] and 'lower' not in m_proper_nouns_dict[url][word]:\n",
    "            if word not in capital_not_names:\n",
    "                m_characters.add(word)"
   ]
  },
  {
   "cell_type": "code",
   "execution_count": 29,
   "metadata": {},
   "outputs": [],
   "source": [
    "m_characters.add('agnes')\n",
    "m_characters.add('Agnes')\n",
    "m_characters.add('ll')\n",
    "m_characters.add('LL')\n",
    "m_characters.add('mary')\n",
    "m_characters.add('Mary')"
   ]
  },
  {
   "cell_type": "markdown",
   "metadata": {},
   "source": [
    "##### 2.1.2) Raw scores"
   ]
  },
  {
   "cell_type": "markdown",
   "metadata": {},
   "source": [
    "Obviously, this time we will analyze the male authors corpus, so we will make use of the other dictionaries."
   ]
  },
  {
   "cell_type": "code",
   "execution_count": 30,
   "metadata": {},
   "outputs": [
    {
     "name": "stderr",
     "output_type": "stream",
     "text": [
      "100%|██████████| 36/36 [01:03<00:00,  1.77s/it]\n"
     ]
    }
   ],
   "source": [
    "for url in tqdm(m_authors_texts):\n",
    "    text = text_reader(url)\n",
    "    gender_analysis(text, m_sent_dict, m_sentence_counter, m_word_counter, male_authors_raw_count, m_word_freq, male_words, female_words)"
   ]
  },
  {
   "cell_type": "code",
   "execution_count": 31,
   "metadata": {},
   "outputs": [
    {
     "name": "stdout",
     "output_type": "stream",
     "text": [
      "43.2% gendered.\n",
      "54241 sentences about men.\n",
      "15178 sentences about women.\n",
      "3.6 sentences about men for each sentence about women.\n"
     ]
    }
   ],
   "source": [
    "print ('%.1f%% gendered.' % (100*(m_sentence_counter['male'] + m_sentence_counter['female'])/\n",
    "                           (m_sentence_counter['male'] + m_sentence_counter['female'] + m_sentence_counter['both'] + \n",
    "                           m_sentence_counter['none'])))\n",
    "print ('%s sentences about men.' % m_sentence_counter['male'])\n",
    "print ('%s sentences about women.' % m_sentence_counter['female'])\n",
    "print ('%.1f sentences about men for each sentence about women.' % (m_sentence_counter['male']/m_sentence_counter['female']))"
   ]
  },
  {
   "cell_type": "markdown",
   "metadata": {},
   "source": [
    "#### 2.2) Statistical analysis"
   ]
  },
  {
   "cell_type": "markdown",
   "metadata": {},
   "source": [
    "Now, without an additional explanation of the process (you can find it in the previous statistical analysis - in this section we will repeat the same exact operation done above but with data extracted from the male authors corpus), we can move on and analyze the sentiment scores extracted from this other corpus."
   ]
  },
  {
   "cell_type": "markdown",
   "metadata": {},
   "source": [
    "-----"
   ]
  },
  {
   "cell_type": "markdown",
   "metadata": {},
   "source": [
    "<b><u>Data extraction</b></u>"
   ]
  },
  {
   "cell_type": "code",
   "execution_count": 32,
   "metadata": {},
   "outputs": [],
   "source": [
    "m_f_labels = list()\n",
    "m_m_labels = list()\n",
    "m_f_scores = list()\n",
    "m_m_scores = list()"
   ]
  },
  {
   "cell_type": "code",
   "execution_count": 33,
   "metadata": {},
   "outputs": [],
   "source": [
    "for sentence in m_sent_dict:\n",
    "    if m_sent_dict[sentence][\"gender\"] == \"female\":\n",
    "        m_f_scores.append(m_sent_dict[sentence][\"score\"])\n",
    "        m_f_labels.append(m_sent_dict[sentence][\"polarity\"])\n",
    "    elif m_sent_dict[sentence][\"gender\"] == \"male\":\n",
    "        m_m_scores.append(m_sent_dict[sentence][\"score\"])\n",
    "        m_m_labels.append(m_sent_dict[sentence][\"polarity\"])"
   ]
  },
  {
   "cell_type": "markdown",
   "metadata": {},
   "source": [
    "-----"
   ]
  },
  {
   "cell_type": "markdown",
   "metadata": {},
   "source": [
    "<b><u>Raw statistics</u></b>"
   ]
  },
  {
   "cell_type": "code",
   "execution_count": 34,
   "metadata": {},
   "outputs": [
    {
     "name": "stdout",
     "output_type": "stream",
     "text": [
      "For what concerns the 15160 female gendered sentences written by male authors we have these results:\n",
      "\n",
      "\n",
      "The number of positive sentences is: 6360\n",
      "The number of negative sentences is: 3537\n",
      "The number of neutral sentences is: 5263\n"
     ]
    }
   ],
   "source": [
    "pos = 0\n",
    "neg = 0\n",
    "neu = 0\n",
    "for pol in m_f_labels:\n",
    "    if pol == \"POS\":\n",
    "        pos += 1\n",
    "    elif pol == \"NEG\":\n",
    "        neg += 1\n",
    "    else:\n",
    "        neu += 1\n",
    "print(\"For what concerns the\", pos+neg+neu,\"female gendered sentences written by male authors we have these results:\")\n",
    "print(\"\\n\")\n",
    "print(\"The number of positive sentences is:\", pos)\n",
    "print(\"The number of negative sentences is:\", neg)\n",
    "print(\"The number of neutral sentences is:\", neu)"
   ]
  },
  {
   "cell_type": "code",
   "execution_count": 35,
   "metadata": {},
   "outputs": [
    {
     "name": "stdout",
     "output_type": "stream",
     "text": [
      "For what concerns the 54197 male gendered sentences written by male authors we have these results:\n",
      "\n",
      "\n",
      "The number of positive sentences is: 24322\n",
      "The number of negative sentences is: 13149\n",
      "The number of neutral sentences is: 16726\n"
     ]
    }
   ],
   "source": [
    "pos = 0\n",
    "neg = 0\n",
    "neu = 0\n",
    "for pol in m_m_labels:\n",
    "    if pol == \"POS\":\n",
    "        pos += 1\n",
    "    elif pol == \"NEG\":\n",
    "        neg += 1\n",
    "    else:\n",
    "        neu += 1\n",
    "print(\"For what concerns the\", pos+neg+neu,\"male gendered sentences written by male authors we have these results:\")\n",
    "print(\"\\n\")\n",
    "print(\"The number of positive sentences is:\", pos)\n",
    "print(\"The number of negative sentences is:\", neg)\n",
    "print(\"The number of neutral sentences is:\", neu)"
   ]
  },
  {
   "cell_type": "markdown",
   "metadata": {},
   "source": [
    "-----"
   ]
  },
  {
   "cell_type": "markdown",
   "metadata": {},
   "source": [
    "<b><u>Sample building</u></b>"
   ]
  },
  {
   "cell_type": "markdown",
   "metadata": {},
   "source": [
    "<b>Data preparation</b>"
   ]
  },
  {
   "cell_type": "code",
   "execution_count": 36,
   "metadata": {},
   "outputs": [],
   "source": [
    "# Remove neutral scores in female sentences\n",
    "try:\n",
    "    while True:\n",
    "        m_f_scores.remove(0.0)\n",
    "except ValueError:\n",
    "    pass\n",
    "# Remove neutral labels in female sentences\n",
    "try:\n",
    "    while True:\n",
    "        m_f_labels.remove('NEU')\n",
    "except ValueError:\n",
    "    pass\n",
    "# Remove neutral scores in male sentences\n",
    "try:\n",
    "    while True:\n",
    "        m_m_scores.remove(0.0)\n",
    "except ValueError:\n",
    "    pass\n",
    "# Remove neutral labels in male sentences\n",
    "try:\n",
    "    while True:\n",
    "        m_m_labels.remove('NEU')\n",
    "except ValueError:\n",
    "    pass"
   ]
  },
  {
   "cell_type": "code",
   "execution_count": 37,
   "metadata": {},
   "outputs": [],
   "source": [
    "# Female sentences population dictionary\n",
    "m_f_population = {\n",
    "    \"scores\":m_f_scores,\n",
    "    \"labels\":m_f_labels\n",
    "}\n",
    "# Male sentences population dictionary\n",
    "m_m_population = {\n",
    "    \"scores\":m_m_scores,\n",
    "    \"labels\":m_m_labels\n",
    "} "
   ]
  },
  {
   "cell_type": "markdown",
   "metadata": {},
   "source": [
    "<b>SRS operation</b>"
   ]
  },
  {
   "cell_type": "code",
   "execution_count": 38,
   "metadata": {},
   "outputs": [],
   "source": [
    "m_samples = stratified_random_sampling([m_f_population,m_m_population], sample_size(len(m_f_population['scores'])+len(m_m_population['scores'])))\n",
    "m_f_sample = m_samples[0]\n",
    "m_m_sample = m_samples[1]"
   ]
  },
  {
   "cell_type": "code",
   "execution_count": 39,
   "metadata": {},
   "outputs": [],
   "source": [
    "pre_df = pd.concat([pre_df,DataFrame({\"mf_sample\":m_f_sample})], axis=1)\n",
    "pre_df = pd.concat([pre_df,DataFrame({\"mm_sample\":m_m_sample})], axis=1)"
   ]
  },
  {
   "cell_type": "markdown",
   "metadata": {},
   "source": [
    "----"
   ]
  },
  {
   "cell_type": "markdown",
   "metadata": {},
   "source": [
    "<b><u>T-Test assumptions check</u></b></br></br>\n",
    "<b><u>Distribution</u></b>"
   ]
  },
  {
   "cell_type": "markdown",
   "metadata": {},
   "source": [
    "<b>Normality assumption check for distribution of female sentences</b>"
   ]
  },
  {
   "cell_type": "code",
   "execution_count": 40,
   "metadata": {},
   "outputs": [
    {
     "name": "stdout",
     "output_type": "stream",
     "text": [
      "According to a D'Agostino-Pearson normality test, we cannot reject the null hypothesis, in fact:\n",
      "The p-value is: 0.24890157930981946\n",
      "The mean is: 0.10136829982988776\n",
      "The std is: 0.28959325456263435\n",
      "So, data follow a normal distribution.\n"
     ]
    },
    {
     "data": {
      "text/plain": [
       "(0.10136829982988776, 0.28959325456263435)"
      ]
     },
     "execution_count": 40,
     "metadata": {},
     "output_type": "execute_result"
    },
    {
     "data": {
      "image/png": "[encoded data removed]",
      "text/plain": [
       "<Figure size 432x288 with 1 Axes>"
      ]
     },
     "metadata": {
      "needs_background": "light"
     },
     "output_type": "display_data"
    }
   ],
   "source": [
    "check_distribution(m_f_sample)"
   ]
  },
  {
   "cell_type": "markdown",
   "metadata": {},
   "source": [
    "<b>Normality assumption check for distribution of male sentences</b>"
   ]
  },
  {
   "cell_type": "code",
   "execution_count": 41,
   "metadata": {},
   "outputs": [
    {
     "name": "stdout",
     "output_type": "stream",
     "text": [
      "According to a D'Agostino-Pearson normality test, we cannot reject the null hypothesis, in fact:\n",
      "The p-value is: 0.2024853654457141\n",
      "The mean is: 0.10679833874894455\n",
      "The std is: 0.28405868432783965\n",
      "So, data follow a normal distribution.\n"
     ]
    },
    {
     "data": {
      "text/plain": [
       "(0.10679833874894455, 0.28405868432783965)"
      ]
     },
     "execution_count": 41,
     "metadata": {},
     "output_type": "execute_result"
    },
    {
     "data": {
      "image/png": "[encoded data removed]",
      "text/plain": [
       "<Figure size 432x288 with 1 Axes>"
      ]
     },
     "metadata": {
      "needs_background": "light"
     },
     "output_type": "display_data"
    }
   ],
   "source": [
    "check_distribution(m_m_sample)"
   ]
  },
  {
   "cell_type": "markdown",
   "metadata": {},
   "source": [
    "----"
   ]
  },
  {
   "cell_type": "markdown",
   "metadata": {},
   "source": [
    "<b><u>Homogeneity of variances</u></b>"
   ]
  },
  {
   "cell_type": "code",
   "execution_count": 42,
   "metadata": {},
   "outputs": [
    {
     "name": "stdout",
     "output_type": "stream",
     "text": [
      "According to a T-Test for independent samples we can not reject the null hypothesis, in fact:\n",
      "The p-value is: 0.9396360361034409\n",
      "The two means (0.10322868880206643 0.10436553792359261) do not differ in a significant way.\n"
     ]
    },
    {
     "data": {
      "text/plain": [
       "Ttest_indResult(statistic=-0.07573925187390607, pvalue=0.9396360361034409)"
      ]
     },
     "execution_count": 42,
     "metadata": {},
     "output_type": "execute_result"
    }
   ],
   "source": [
    "t_test_independent(m_f_sample, m_m_sample)"
   ]
  },
  {
   "cell_type": "markdown",
   "metadata": {},
   "source": [
    "--------"
   ]
  },
  {
   "cell_type": "markdown",
   "metadata": {},
   "source": [
    "#### 2.3) Emotion extraction"
   ]
  },
  {
   "cell_type": "markdown",
   "metadata": {},
   "source": [
    "Finally, we can move on, as we have done above, into seeing the emotions related data that have been extracted from this corpus."
   ]
  },
  {
   "cell_type": "code",
   "execution_count": 43,
   "metadata": {},
   "outputs": [
    {
     "name": "stderr",
     "output_type": "stream",
     "text": [
      "100%|██████████| 36/36 [00:41<00:00,  1.14s/it]\n"
     ]
    },
    {
     "data": {
      "text/html": [
       "<div>\n",
       "<style scoped>\n",
       "    .dataframe tbody tr th:only-of-type {\n",
       "        vertical-align: middle;\n",
       "    }\n",
       "\n",
       "    .dataframe tbody tr th {\n",
       "        vertical-align: top;\n",
       "    }\n",
       "\n",
       "    .dataframe thead th {\n",
       "        text-align: right;\n",
       "    }\n",
       "</style>\n",
       "<table border=\"1\" class=\"dataframe\">\n",
       "  <thead>\n",
       "    <tr style=\"text-align: right;\">\n",
       "      <th></th>\n",
       "      <th>emotions</th>\n",
       "      <th>score</th>\n",
       "    </tr>\n",
       "  </thead>\n",
       "  <tbody>\n",
       "    <tr>\n",
       "      <th>0</th>\n",
       "      <td>fear</td>\n",
       "      <td>0.084102</td>\n",
       "    </tr>\n",
       "    <tr>\n",
       "      <th>1</th>\n",
       "      <td>anger</td>\n",
       "      <td>0.061663</td>\n",
       "    </tr>\n",
       "    <tr>\n",
       "      <th>2</th>\n",
       "      <td>trust</td>\n",
       "      <td>0.124608</td>\n",
       "    </tr>\n",
       "    <tr>\n",
       "      <th>3</th>\n",
       "      <td>surprise</td>\n",
       "      <td>0.056416</td>\n",
       "    </tr>\n",
       "    <tr>\n",
       "      <th>4</th>\n",
       "      <td>positive</td>\n",
       "      <td>0.206865</td>\n",
       "    </tr>\n",
       "    <tr>\n",
       "      <th>5</th>\n",
       "      <td>negative</td>\n",
       "      <td>0.149498</td>\n",
       "    </tr>\n",
       "    <tr>\n",
       "      <th>6</th>\n",
       "      <td>sadness</td>\n",
       "      <td>0.075955</td>\n",
       "    </tr>\n",
       "    <tr>\n",
       "      <th>7</th>\n",
       "      <td>disgust</td>\n",
       "      <td>0.041581</td>\n",
       "    </tr>\n",
       "    <tr>\n",
       "      <th>8</th>\n",
       "      <td>joy</td>\n",
       "      <td>0.089448</td>\n",
       "    </tr>\n",
       "    <tr>\n",
       "      <th>9</th>\n",
       "      <td>anticipation</td>\n",
       "      <td>0.109864</td>\n",
       "    </tr>\n",
       "  </tbody>\n",
       "</table>\n",
       "</div>"
      ],
      "text/plain": [
       "       emotions     score\n",
       "0          fear  0.084102\n",
       "1         anger  0.061663\n",
       "2         trust  0.124608\n",
       "3      surprise  0.056416\n",
       "4      positive  0.206865\n",
       "5      negative  0.149498\n",
       "6       sadness  0.075955\n",
       "7       disgust  0.041581\n",
       "8           joy  0.089448\n",
       "9  anticipation  0.109864"
      ]
     },
     "execution_count": 43,
     "metadata": {},
     "output_type": "execute_result"
    }
   ],
   "source": [
    "for url in tqdm(m_authors_texts):\n",
    "    m_emotions = emotion_frequencies(url, m_emotions)\n",
    "del m_emotions[\"anticip\"]\n",
    "#This dataframe is useful to plot a violin visualization of the scores\n",
    "m_df_plt = pd.DataFrame(m_emotions)\n",
    "# DF for basic visualization of means\n",
    "m_emo_scores = list()\n",
    "for emo in m_emotions:\n",
    "    m_emotions[emo] = np.mean(m_emotions[emo])\n",
    "    m_emo_scores.append(m_emotions[emo])\n",
    "m_emotions_df = pd.DataFrame({\n",
    "    'emotions':pd.Series(m_emotions.keys()),\n",
    "    'score':pd.Series(m_emo_scores)\n",
    "})\n",
    "m_emotions_df"
   ]
  },
  {
   "cell_type": "markdown",
   "metadata": {},
   "source": [
    "#### 2.4) Common words extraction"
   ]
  },
  {
   "cell_type": "code",
   "execution_count": 44,
   "metadata": {},
   "outputs": [],
   "source": [
    "m_common_words=set([w for w in sorted (m_word_freq['female'],key=m_word_freq['female'].get,reverse=True)[:1000]]+\n",
    "                    [w for w in sorted (m_word_freq['male'],key=m_word_freq['male'].get,reverse=True)[:1000]])\n",
    "m_common_words=list(m_common_words-male_words-female_words-m_characters-animals_list-common_ws_list)"
   ]
  },
  {
   "cell_type": "code",
   "execution_count": 45,
   "metadata": {},
   "outputs": [],
   "source": [
    "m_tagged_words = {}\n",
    "for word in pos_tagging(m_common_words, True):\n",
    "    if word[1] not in m_tagged_words:\n",
    "        m_tagged_words[word[1]] = []\n",
    "    m_tagged_words[word[1]].append(word[0])"
   ]
  },
  {
   "cell_type": "code",
   "execution_count": 46,
   "metadata": {},
   "outputs": [],
   "source": [
    "m_male_percent = { word :\n",
    "     (m_word_freq['male'].get(word,0)/m_word_counter['male'])/ \n",
    "     (m_word_freq['female'].get(word,0)/m_word_counter['female'] + \n",
    "      m_word_freq['male'].get(word,0)/m_word_counter['male']) \n",
    "    for word in m_common_words if word in m_tagged_words[\"NOUN\"] or word in m_tagged_words[\"VERB\"] or word in m_tagged_words[\"ADJ\"]}"
   ]
  },
  {
   "cell_type": "markdown",
   "metadata": {},
   "source": [
    "<b><u>Female related common words in male authors corpus</u></b>"
   ]
  },
  {
   "cell_type": "code",
   "execution_count": 47,
   "metadata": {},
   "outputs": [
    {
     "name": "stdout",
     "output_type": "stream",
     "text": [
      "COMMON WORDS\n",
      "Female words in the male author corpus\n"
     ]
    },
    {
     "data": {
      "text/html": [
       "<div>\n",
       "<style scoped>\n",
       "    .dataframe tbody tr th:only-of-type {\n",
       "        vertical-align: middle;\n",
       "    }\n",
       "\n",
       "    .dataframe tbody tr th {\n",
       "        vertical-align: top;\n",
       "    }\n",
       "\n",
       "    .dataframe thead th {\n",
       "        text-align: right;\n",
       "    }\n",
       "</style>\n",
       "<table border=\"1\" class=\"dataframe\">\n",
       "  <thead>\n",
       "    <tr style=\"text-align: right;\">\n",
       "      <th></th>\n",
       "      <th>word</th>\n",
       "      <th>ratio</th>\n",
       "      <th>f_corpus raw count</th>\n",
       "      <th>m_corpus raw count</th>\n",
       "      <th>f_corpus percentage</th>\n",
       "      <th>m_corpus percentage</th>\n",
       "    </tr>\n",
       "  </thead>\n",
       "  <tbody>\n",
       "    <tr>\n",
       "      <th>0</th>\n",
       "      <td>bonnet</td>\n",
       "      <td>37.23</td>\n",
       "      <td>44</td>\n",
       "      <td>5</td>\n",
       "      <td>0.9738</td>\n",
       "      <td>0.0262</td>\n",
       "    </tr>\n",
       "    <tr>\n",
       "      <th>1</th>\n",
       "      <td>nurse</td>\n",
       "      <td>10.52</td>\n",
       "      <td>92</td>\n",
       "      <td>37</td>\n",
       "      <td>0.9132</td>\n",
       "      <td>0.0868</td>\n",
       "    </tr>\n",
       "    <tr>\n",
       "      <th>2</th>\n",
       "      <td>mill</td>\n",
       "      <td>7.99</td>\n",
       "      <td>85</td>\n",
       "      <td>45</td>\n",
       "      <td>0.8888</td>\n",
       "      <td>0.1112</td>\n",
       "    </tr>\n",
       "    <tr>\n",
       "      <th>3</th>\n",
       "      <td>needle</td>\n",
       "      <td>7.86</td>\n",
       "      <td>39</td>\n",
       "      <td>21</td>\n",
       "      <td>0.8871</td>\n",
       "      <td>0.1129</td>\n",
       "    </tr>\n",
       "    <tr>\n",
       "      <th>4</th>\n",
       "      <td>wise</td>\n",
       "      <td>6.84</td>\n",
       "      <td>181</td>\n",
       "      <td>112</td>\n",
       "      <td>0.8724</td>\n",
       "      <td>0.1276</td>\n",
       "    </tr>\n",
       "    <tr>\n",
       "      <th>5</th>\n",
       "      <td>darling</td>\n",
       "      <td>6.70</td>\n",
       "      <td>38</td>\n",
       "      <td>24</td>\n",
       "      <td>0.8701</td>\n",
       "      <td>0.1299</td>\n",
       "    </tr>\n",
       "    <tr>\n",
       "      <th>6</th>\n",
       "      <td>strawberry</td>\n",
       "      <td>5.96</td>\n",
       "      <td>31</td>\n",
       "      <td>22</td>\n",
       "      <td>0.8563</td>\n",
       "      <td>0.1437</td>\n",
       "    </tr>\n",
       "    <tr>\n",
       "      <th>7</th>\n",
       "      <td>thread</td>\n",
       "      <td>5.90</td>\n",
       "      <td>60</td>\n",
       "      <td>43</td>\n",
       "      <td>0.8551</td>\n",
       "      <td>0.1449</td>\n",
       "    </tr>\n",
       "    <tr>\n",
       "      <th>8</th>\n",
       "      <td>frigate</td>\n",
       "      <td>5.74</td>\n",
       "      <td>38</td>\n",
       "      <td>28</td>\n",
       "      <td>0.8517</td>\n",
       "      <td>0.1483</td>\n",
       "    </tr>\n",
       "    <tr>\n",
       "      <th>9</th>\n",
       "      <td>kissed</td>\n",
       "      <td>5.59</td>\n",
       "      <td>37</td>\n",
       "      <td>28</td>\n",
       "      <td>0.8483</td>\n",
       "      <td>0.1517</td>\n",
       "    </tr>\n",
       "    <tr>\n",
       "      <th>10</th>\n",
       "      <td>cloak</td>\n",
       "      <td>5.54</td>\n",
       "      <td>38</td>\n",
       "      <td>29</td>\n",
       "      <td>0.8472</td>\n",
       "      <td>0.1528</td>\n",
       "    </tr>\n",
       "    <tr>\n",
       "      <th>11</th>\n",
       "      <td>beautiful</td>\n",
       "      <td>5.20</td>\n",
       "      <td>134</td>\n",
       "      <td>109</td>\n",
       "      <td>0.8387</td>\n",
       "      <td>0.1613</td>\n",
       "    </tr>\n",
       "    <tr>\n",
       "      <th>12</th>\n",
       "      <td>milk</td>\n",
       "      <td>4.87</td>\n",
       "      <td>38</td>\n",
       "      <td>33</td>\n",
       "      <td>0.8297</td>\n",
       "      <td>0.1703</td>\n",
       "    </tr>\n",
       "    <tr>\n",
       "      <th>13</th>\n",
       "      <td>sweet</td>\n",
       "      <td>4.73</td>\n",
       "      <td>105</td>\n",
       "      <td>94</td>\n",
       "      <td>0.8253</td>\n",
       "      <td>0.1747</td>\n",
       "    </tr>\n",
       "    <tr>\n",
       "      <th>14</th>\n",
       "      <td>she will</td>\n",
       "      <td>4.36</td>\n",
       "      <td>33</td>\n",
       "      <td>32</td>\n",
       "      <td>0.8135</td>\n",
       "      <td>0.1865</td>\n",
       "    </tr>\n",
       "    <tr>\n",
       "      <th>15</th>\n",
       "      <td>moon</td>\n",
       "      <td>3.69</td>\n",
       "      <td>82</td>\n",
       "      <td>94</td>\n",
       "      <td>0.7868</td>\n",
       "      <td>0.2132</td>\n",
       "    </tr>\n",
       "    <tr>\n",
       "      <th>16</th>\n",
       "      <td>vanished</td>\n",
       "      <td>3.68</td>\n",
       "      <td>47</td>\n",
       "      <td>54</td>\n",
       "      <td>0.7864</td>\n",
       "      <td>0.2136</td>\n",
       "    </tr>\n",
       "    <tr>\n",
       "      <th>17</th>\n",
       "      <td>picture</td>\n",
       "      <td>3.61</td>\n",
       "      <td>70</td>\n",
       "      <td>82</td>\n",
       "      <td>0.7832</td>\n",
       "      <td>0.2168</td>\n",
       "    </tr>\n",
       "    <tr>\n",
       "      <th>18</th>\n",
       "      <td>child</td>\n",
       "      <td>3.57</td>\n",
       "      <td>364</td>\n",
       "      <td>431</td>\n",
       "      <td>0.7813</td>\n",
       "      <td>0.2187</td>\n",
       "    </tr>\n",
       "    <tr>\n",
       "      <th>19</th>\n",
       "      <td>dress</td>\n",
       "      <td>3.57</td>\n",
       "      <td>86</td>\n",
       "      <td>102</td>\n",
       "      <td>0.7810</td>\n",
       "      <td>0.2190</td>\n",
       "    </tr>\n",
       "    <tr>\n",
       "      <th>20</th>\n",
       "      <td>married</td>\n",
       "      <td>3.44</td>\n",
       "      <td>48</td>\n",
       "      <td>59</td>\n",
       "      <td>0.7749</td>\n",
       "      <td>0.2251</td>\n",
       "    </tr>\n",
       "    <tr>\n",
       "      <th>21</th>\n",
       "      <td>bosom</td>\n",
       "      <td>3.23</td>\n",
       "      <td>45</td>\n",
       "      <td>59</td>\n",
       "      <td>0.7634</td>\n",
       "      <td>0.2366</td>\n",
       "    </tr>\n",
       "    <tr>\n",
       "      <th>22</th>\n",
       "      <td>frightened</td>\n",
       "      <td>3.18</td>\n",
       "      <td>85</td>\n",
       "      <td>113</td>\n",
       "      <td>0.7609</td>\n",
       "      <td>0.2391</td>\n",
       "    </tr>\n",
       "    <tr>\n",
       "      <th>23</th>\n",
       "      <td>grow</td>\n",
       "      <td>3.01</td>\n",
       "      <td>42</td>\n",
       "      <td>59</td>\n",
       "      <td>0.7507</td>\n",
       "      <td>0.2493</td>\n",
       "    </tr>\n",
       "  </tbody>\n",
       "</table>\n",
       "</div>"
      ],
      "text/plain": [
       "          word  ratio  f_corpus raw count  m_corpus raw count  \\\n",
       "0       bonnet  37.23                  44                   5   \n",
       "1        nurse  10.52                  92                  37   \n",
       "2         mill   7.99                  85                  45   \n",
       "3       needle   7.86                  39                  21   \n",
       "4         wise   6.84                 181                 112   \n",
       "5      darling   6.70                  38                  24   \n",
       "6   strawberry   5.96                  31                  22   \n",
       "7       thread   5.90                  60                  43   \n",
       "8      frigate   5.74                  38                  28   \n",
       "9       kissed   5.59                  37                  28   \n",
       "10       cloak   5.54                  38                  29   \n",
       "11   beautiful   5.20                 134                 109   \n",
       "12        milk   4.87                  38                  33   \n",
       "13       sweet   4.73                 105                  94   \n",
       "14    she will   4.36                  33                  32   \n",
       "15        moon   3.69                  82                  94   \n",
       "16    vanished   3.68                  47                  54   \n",
       "17     picture   3.61                  70                  82   \n",
       "18       child   3.57                 364                 431   \n",
       "19       dress   3.57                  86                 102   \n",
       "20     married   3.44                  48                  59   \n",
       "21       bosom   3.23                  45                  59   \n",
       "22  frightened   3.18                  85                 113   \n",
       "23        grow   3.01                  42                  59   \n",
       "\n",
       "    f_corpus percentage  m_corpus percentage  \n",
       "0                0.9738               0.0262  \n",
       "1                0.9132               0.0868  \n",
       "2                0.8888               0.1112  \n",
       "3                0.8871               0.1129  \n",
       "4                0.8724               0.1276  \n",
       "5                0.8701               0.1299  \n",
       "6                0.8563               0.1437  \n",
       "7                0.8551               0.1449  \n",
       "8                0.8517               0.1483  \n",
       "9                0.8483               0.1517  \n",
       "10               0.8472               0.1528  \n",
       "11               0.8387               0.1613  \n",
       "12               0.8297               0.1703  \n",
       "13               0.8253               0.1747  \n",
       "14               0.8135               0.1865  \n",
       "15               0.7868               0.2132  \n",
       "16               0.7864               0.2136  \n",
       "17               0.7832               0.2168  \n",
       "18               0.7813               0.2187  \n",
       "19               0.7810               0.2190  \n",
       "20               0.7749               0.2251  \n",
       "21               0.7634               0.2366  \n",
       "22               0.7609               0.2391  \n",
       "23               0.7507               0.2493  "
      ]
     },
     "execution_count": 47,
     "metadata": {},
     "output_type": "execute_result"
    }
   ],
   "source": [
    "print('COMMON WORDS')\n",
    "print('Female words in the male author corpus')\n",
    "m_fcdf = common_words_df(m_word_freq, m_male_percent, m_female_general, False)\n",
    "m_female_related_words = m_fcdf['word'].values.tolist()\n",
    "m_fcdf"
   ]
  },
  {
   "cell_type": "code",
   "execution_count": null,
   "metadata": {},
   "outputs": [],
   "source": [
    "m_fcdf.to_csv(\"assets/Visualizations datasets/Common words/pre_mf.csv\")"
   ]
  },
  {
   "cell_type": "markdown",
   "metadata": {},
   "source": [
    "<b><u>Male related common words in male authors corpus</u></b>"
   ]
  },
  {
   "cell_type": "code",
   "execution_count": 48,
   "metadata": {},
   "outputs": [
    {
     "name": "stdout",
     "output_type": "stream",
     "text": [
      "COMMON WORDS\n",
      "Male words in the male author corpus\n"
     ]
    },
    {
     "data": {
      "text/html": [
       "<div>\n",
       "<style scoped>\n",
       "    .dataframe tbody tr th:only-of-type {\n",
       "        vertical-align: middle;\n",
       "    }\n",
       "\n",
       "    .dataframe tbody tr th {\n",
       "        vertical-align: top;\n",
       "    }\n",
       "\n",
       "    .dataframe thead th {\n",
       "        text-align: right;\n",
       "    }\n",
       "</style>\n",
       "<table border=\"1\" class=\"dataframe\">\n",
       "  <thead>\n",
       "    <tr style=\"text-align: right;\">\n",
       "      <th></th>\n",
       "      <th>word</th>\n",
       "      <th>ratio</th>\n",
       "      <th>f_corpus raw count</th>\n",
       "      <th>m_corpus raw count</th>\n",
       "      <th>f_corpus percentage</th>\n",
       "      <th>m_corpus percentage</th>\n",
       "    </tr>\n",
       "  </thead>\n",
       "  <tbody>\n",
       "    <tr>\n",
       "      <th>0</th>\n",
       "      <td>study</td>\n",
       "      <td>9.73</td>\n",
       "      <td>6</td>\n",
       "      <td>247</td>\n",
       "      <td>0.0932</td>\n",
       "      <td>0.9068</td>\n",
       "    </tr>\n",
       "    <tr>\n",
       "      <th>1</th>\n",
       "      <td>comrade</td>\n",
       "      <td>9.41</td>\n",
       "      <td>5</td>\n",
       "      <td>199</td>\n",
       "      <td>0.0961</td>\n",
       "      <td>0.9039</td>\n",
       "    </tr>\n",
       "    <tr>\n",
       "      <th>2</th>\n",
       "      <td>pistol</td>\n",
       "      <td>8.80</td>\n",
       "      <td>4</td>\n",
       "      <td>149</td>\n",
       "      <td>0.1020</td>\n",
       "      <td>0.8980</td>\n",
       "    </tr>\n",
       "    <tr>\n",
       "      <th>3</th>\n",
       "      <td>pipe</td>\n",
       "      <td>7.44</td>\n",
       "      <td>11</td>\n",
       "      <td>346</td>\n",
       "      <td>0.1186</td>\n",
       "      <td>0.8814</td>\n",
       "    </tr>\n",
       "    <tr>\n",
       "      <th>4</th>\n",
       "      <td>hero</td>\n",
       "      <td>5.75</td>\n",
       "      <td>12</td>\n",
       "      <td>292</td>\n",
       "      <td>0.1481</td>\n",
       "      <td>0.8519</td>\n",
       "    </tr>\n",
       "    <tr>\n",
       "      <th>5</th>\n",
       "      <td>fight</td>\n",
       "      <td>5.12</td>\n",
       "      <td>12</td>\n",
       "      <td>260</td>\n",
       "      <td>0.1634</td>\n",
       "      <td>0.8366</td>\n",
       "    </tr>\n",
       "    <tr>\n",
       "      <th>6</th>\n",
       "      <td>guide</td>\n",
       "      <td>4.82</td>\n",
       "      <td>8</td>\n",
       "      <td>163</td>\n",
       "      <td>0.1719</td>\n",
       "      <td>0.8281</td>\n",
       "    </tr>\n",
       "    <tr>\n",
       "      <th>7</th>\n",
       "      <td>success</td>\n",
       "      <td>4.73</td>\n",
       "      <td>7</td>\n",
       "      <td>140</td>\n",
       "      <td>0.1746</td>\n",
       "      <td>0.8254</td>\n",
       "    </tr>\n",
       "    <tr>\n",
       "      <th>8</th>\n",
       "      <td>coat</td>\n",
       "      <td>4.34</td>\n",
       "      <td>11</td>\n",
       "      <td>202</td>\n",
       "      <td>0.1872</td>\n",
       "      <td>0.8128</td>\n",
       "    </tr>\n",
       "    <tr>\n",
       "      <th>9</th>\n",
       "      <td>shout</td>\n",
       "      <td>4.02</td>\n",
       "      <td>10</td>\n",
       "      <td>170</td>\n",
       "      <td>0.1993</td>\n",
       "      <td>0.8007</td>\n",
       "    </tr>\n",
       "    <tr>\n",
       "      <th>10</th>\n",
       "      <td>hardy</td>\n",
       "      <td>3.96</td>\n",
       "      <td>13</td>\n",
       "      <td>218</td>\n",
       "      <td>0.2015</td>\n",
       "      <td>0.7985</td>\n",
       "    </tr>\n",
       "    <tr>\n",
       "      <th>11</th>\n",
       "      <td>fellow</td>\n",
       "      <td>3.60</td>\n",
       "      <td>59</td>\n",
       "      <td>899</td>\n",
       "      <td>0.2173</td>\n",
       "      <td>0.7827</td>\n",
       "    </tr>\n",
       "    <tr>\n",
       "      <th>12</th>\n",
       "      <td>school</td>\n",
       "      <td>3.55</td>\n",
       "      <td>52</td>\n",
       "      <td>782</td>\n",
       "      <td>0.2196</td>\n",
       "      <td>0.7804</td>\n",
       "    </tr>\n",
       "    <tr>\n",
       "      <th>13</th>\n",
       "      <td>lieutenant</td>\n",
       "      <td>3.48</td>\n",
       "      <td>14</td>\n",
       "      <td>206</td>\n",
       "      <td>0.2233</td>\n",
       "      <td>0.7767</td>\n",
       "    </tr>\n",
       "    <tr>\n",
       "      <th>14</th>\n",
       "      <td>sword</td>\n",
       "      <td>3.40</td>\n",
       "      <td>13</td>\n",
       "      <td>187</td>\n",
       "      <td>0.2273</td>\n",
       "      <td>0.7727</td>\n",
       "    </tr>\n",
       "    <tr>\n",
       "      <th>15</th>\n",
       "      <td>leigh</td>\n",
       "      <td>3.38</td>\n",
       "      <td>10</td>\n",
       "      <td>143</td>\n",
       "      <td>0.2283</td>\n",
       "      <td>0.7717</td>\n",
       "    </tr>\n",
       "    <tr>\n",
       "      <th>16</th>\n",
       "      <td>term</td>\n",
       "      <td>3.19</td>\n",
       "      <td>12</td>\n",
       "      <td>162</td>\n",
       "      <td>0.2386</td>\n",
       "      <td>0.7614</td>\n",
       "    </tr>\n",
       "    <tr>\n",
       "      <th>17</th>\n",
       "      <td>wounded</td>\n",
       "      <td>3.19</td>\n",
       "      <td>10</td>\n",
       "      <td>135</td>\n",
       "      <td>0.2386</td>\n",
       "      <td>0.7614</td>\n",
       "    </tr>\n",
       "    <tr>\n",
       "      <th>18</th>\n",
       "      <td>hit</td>\n",
       "      <td>3.17</td>\n",
       "      <td>10</td>\n",
       "      <td>134</td>\n",
       "      <td>0.2400</td>\n",
       "      <td>0.7600</td>\n",
       "    </tr>\n",
       "    <tr>\n",
       "      <th>19</th>\n",
       "      <td>enemy</td>\n",
       "      <td>3.15</td>\n",
       "      <td>22</td>\n",
       "      <td>293</td>\n",
       "      <td>0.2411</td>\n",
       "      <td>0.7589</td>\n",
       "    </tr>\n",
       "    <tr>\n",
       "      <th>20</th>\n",
       "      <td>fort</td>\n",
       "      <td>3.07</td>\n",
       "      <td>14</td>\n",
       "      <td>182</td>\n",
       "      <td>0.2455</td>\n",
       "      <td>0.7545</td>\n",
       "    </tr>\n",
       "    <tr>\n",
       "      <th>21</th>\n",
       "      <td>chief</td>\n",
       "      <td>3.02</td>\n",
       "      <td>29</td>\n",
       "      <td>371</td>\n",
       "      <td>0.2485</td>\n",
       "      <td>0.7515</td>\n",
       "    </tr>\n",
       "  </tbody>\n",
       "</table>\n",
       "</div>"
      ],
      "text/plain": [
       "          word  ratio  f_corpus raw count  m_corpus raw count  \\\n",
       "0        study   9.73                   6                 247   \n",
       "1      comrade   9.41                   5                 199   \n",
       "2       pistol   8.80                   4                 149   \n",
       "3         pipe   7.44                  11                 346   \n",
       "4         hero   5.75                  12                 292   \n",
       "5        fight   5.12                  12                 260   \n",
       "6        guide   4.82                   8                 163   \n",
       "7      success   4.73                   7                 140   \n",
       "8         coat   4.34                  11                 202   \n",
       "9        shout   4.02                  10                 170   \n",
       "10       hardy   3.96                  13                 218   \n",
       "11      fellow   3.60                  59                 899   \n",
       "12      school   3.55                  52                 782   \n",
       "13  lieutenant   3.48                  14                 206   \n",
       "14       sword   3.40                  13                 187   \n",
       "15       leigh   3.38                  10                 143   \n",
       "16        term   3.19                  12                 162   \n",
       "17     wounded   3.19                  10                 135   \n",
       "18         hit   3.17                  10                 134   \n",
       "19       enemy   3.15                  22                 293   \n",
       "20        fort   3.07                  14                 182   \n",
       "21       chief   3.02                  29                 371   \n",
       "\n",
       "    f_corpus percentage  m_corpus percentage  \n",
       "0                0.0932               0.9068  \n",
       "1                0.0961               0.9039  \n",
       "2                0.1020               0.8980  \n",
       "3                0.1186               0.8814  \n",
       "4                0.1481               0.8519  \n",
       "5                0.1634               0.8366  \n",
       "6                0.1719               0.8281  \n",
       "7                0.1746               0.8254  \n",
       "8                0.1872               0.8128  \n",
       "9                0.1993               0.8007  \n",
       "10               0.2015               0.7985  \n",
       "11               0.2173               0.7827  \n",
       "12               0.2196               0.7804  \n",
       "13               0.2233               0.7767  \n",
       "14               0.2273               0.7727  \n",
       "15               0.2283               0.7717  \n",
       "16               0.2386               0.7614  \n",
       "17               0.2386               0.7614  \n",
       "18               0.2400               0.7600  \n",
       "19               0.2411               0.7589  \n",
       "20               0.2455               0.7545  \n",
       "21               0.2485               0.7515  "
      ]
     },
     "execution_count": 48,
     "metadata": {},
     "output_type": "execute_result"
    }
   ],
   "source": [
    "print('COMMON WORDS')\n",
    "print('Male words in the male author corpus')\n",
    "m_mcdf = common_words_df(m_word_freq, m_male_percent, m_male_general, True)\n",
    "m_male_related_words = m_mcdf['word'].values.tolist()\n",
    "m_mcdf"
   ]
  },
  {
   "cell_type": "code",
   "execution_count": null,
   "metadata": {},
   "outputs": [],
   "source": [
    "m_mcdf.to_csv(\"assets/Visualizations datasets/Common words/pre_mm.csv\")"
   ]
  },
  {
   "cell_type": "markdown",
   "metadata": {},
   "source": [
    "---------"
   ]
  },
  {
   "cell_type": "markdown",
   "metadata": {},
   "source": [
    "### 3) Comparative analysis of corpora"
   ]
  },
  {
   "cell_type": "markdown",
   "metadata": {},
   "source": [
    "The purpose of this sub-section is one of the most important of this project.</br></br>\n",
    "We will compute the differences between gendered sentences, in particular <i>we are looking to see wether is it possible to find differences between the way in which male and female authors write about male and female sentences</i>.</br></br>\n",
    "Later on, we will also compare the different emotional values extracted from the previous analysis."
   ]
  },
  {
   "cell_type": "markdown",
   "metadata": {},
   "source": [
    "----"
   ]
  },
  {
   "cell_type": "markdown",
   "metadata": {},
   "source": [
    "<b><u>Samples</u></b>"
   ]
  },
  {
   "cell_type": "code",
   "execution_count": 49,
   "metadata": {},
   "outputs": [],
   "source": [
    "# m_m + f_m\n",
    "m_m_population = {\n",
    "    \"scores\":m_m_scores,\n",
    "    \"labels\":m_m_labels\n",
    "}\n",
    "f_m_population = {\n",
    "    \"scores\":f_m_scores,\n",
    "    \"labels\":f_m_labels\n",
    "}\n",
    "\n",
    "# m_f + f_f\n",
    "m_f_population = {\n",
    "    \"scores\":m_f_scores,\n",
    "    \"labels\":m_f_labels\n",
    "}\n",
    "f_f_population = {\n",
    "    \"scores\":f_f_scores,\n",
    "    \"labels\":f_f_labels\n",
    "}"
   ]
  },
  {
   "cell_type": "markdown",
   "metadata": {},
   "source": [
    "<b><u>Female sentences</u></b>"
   ]
  },
  {
   "cell_type": "code",
   "execution_count": 50,
   "metadata": {},
   "outputs": [],
   "source": [
    "samples = stratified_random_sampling([f_f_population,m_f_population], sample_size(len(f_f_population['scores'])+len(m_f_population['scores'])))\n",
    "f_f_sample = samples[0]\n",
    "m_f_sample = samples[1]"
   ]
  },
  {
   "cell_type": "code",
   "execution_count": 51,
   "metadata": {},
   "outputs": [],
   "source": [
    "pre_df = pd.concat([pre_df,DataFrame({\"ff_comparative_sample\":f_f_sample})], axis=1)\n",
    "pre_df = pd.concat([pre_df,DataFrame({\"mf_comparative_sample\":m_f_sample})], axis=1)"
   ]
  },
  {
   "cell_type": "markdown",
   "metadata": {},
   "source": [
    "<b><u>Male sentences</u></b>"
   ]
  },
  {
   "cell_type": "code",
   "execution_count": 52,
   "metadata": {},
   "outputs": [],
   "source": [
    "samples = stratified_random_sampling([f_m_population,m_m_population], sample_size(len(f_m_population['scores'])+len(m_m_population['scores'])))\n",
    "f_m_sample = samples[0]\n",
    "m_m_sample = samples[1]"
   ]
  },
  {
   "cell_type": "code",
   "execution_count": 53,
   "metadata": {},
   "outputs": [],
   "source": [
    "pre_df = pd.concat([pre_df,DataFrame({\"fm_comparative_sample\":f_m_sample})], axis=1)\n",
    "pre_df = pd.concat([pre_df,DataFrame({\"mm_comparative_sample\":m_m_sample})], axis=1)"
   ]
  },
  {
   "cell_type": "markdown",
   "metadata": {},
   "source": [
    "----"
   ]
  },
  {
   "cell_type": "markdown",
   "metadata": {},
   "source": [
    "<b><u>Distributions</u></b>"
   ]
  },
  {
   "cell_type": "markdown",
   "metadata": {},
   "source": [
    "<b>Male sentences</b>"
   ]
  },
  {
   "cell_type": "code",
   "execution_count": 54,
   "metadata": {},
   "outputs": [
    {
     "name": "stdout",
     "output_type": "stream",
     "text": [
      "According to a D'Agostino-Pearson normality test, we cannot reject the null hypothesis, in fact:\n",
      "The p-value is: 0.8592010398666847\n",
      "The mean is: 0.1149975228163501\n",
      "The std is: 0.2878223048143209\n",
      "So, data follow a normal distribution.\n"
     ]
    },
    {
     "data": {
      "text/plain": [
       "(0.1149975228163501, 0.2878223048143209)"
      ]
     },
     "execution_count": 54,
     "metadata": {},
     "output_type": "execute_result"
    },
    {
     "data": {
      "image/png": "[encoded data removed]",
      "text/plain": [
       "<Figure size 432x288 with 1 Axes>"
      ]
     },
     "metadata": {
      "needs_background": "light"
     },
     "output_type": "display_data"
    }
   ],
   "source": [
    "check_distribution(f_m_sample)"
   ]
  },
  {
   "cell_type": "code",
   "execution_count": 55,
   "metadata": {},
   "outputs": [
    {
     "name": "stdout",
     "output_type": "stream",
     "text": [
      "According to a D'Agostino-Pearson normality test, we cannot reject the null hypothesis, in fact:\n",
      "The p-value is: 0.06167561588752101\n",
      "The mean is: 0.09750143260965834\n",
      "The std is: 0.271891203392202\n",
      "So, data follow a normal distribution.\n"
     ]
    },
    {
     "data": {
      "text/plain": [
       "(0.09750143260965834, 0.271891203392202)"
      ]
     },
     "execution_count": 55,
     "metadata": {},
     "output_type": "execute_result"
    },
    {
     "data": {
      "image/png": "[encoded data removed]",
      "text/plain": [
       "<Figure size 432x288 with 1 Axes>"
      ]
     },
     "metadata": {
      "needs_background": "light"
     },
     "output_type": "display_data"
    }
   ],
   "source": [
    "check_distribution(m_m_sample)"
   ]
  },
  {
   "cell_type": "markdown",
   "metadata": {},
   "source": [
    "<b>Female sentences</b>"
   ]
  },
  {
   "cell_type": "code",
   "execution_count": 56,
   "metadata": {},
   "outputs": [
    {
     "name": "stdout",
     "output_type": "stream",
     "text": [
      "According to a D'Agostino-Pearson normality test, we cannot reject the null hypothesis, in fact:\n",
      "The p-value is: 0.7200097871795716\n",
      "The mean is: 0.09688624878439919\n",
      "The std is: 0.291680854713213\n",
      "So, data follow a normal distribution.\n"
     ]
    },
    {
     "data": {
      "text/plain": [
       "(0.09688624878439919, 0.291680854713213)"
      ]
     },
     "execution_count": 56,
     "metadata": {},
     "output_type": "execute_result"
    },
    {
     "data": {
      "image/png": "[encoded data removed]",
      "text/plain": [
       "<Figure size 432x288 with 1 Axes>"
      ]
     },
     "metadata": {
      "needs_background": "light"
     },
     "output_type": "display_data"
    }
   ],
   "source": [
    "check_distribution(f_f_sample)"
   ]
  },
  {
   "cell_type": "code",
   "execution_count": 57,
   "metadata": {},
   "outputs": [
    {
     "name": "stdout",
     "output_type": "stream",
     "text": [
      "According to a D'Agostino-Pearson normality test, we cannot reject the null hypothesis, in fact:\n",
      "The p-value is: 0.7213019569831784\n",
      "The mean is: 0.10435232869222136\n",
      "The std is: 0.2948319190304366\n",
      "So, data follow a normal distribution.\n"
     ]
    },
    {
     "data": {
      "text/plain": [
       "(0.10435232869222136, 0.2948319190304366)"
      ]
     },
     "execution_count": 57,
     "metadata": {},
     "output_type": "execute_result"
    },
    {
     "data": {
      "image/png": "[encoded data removed]",
      "text/plain": [
       "<Figure size 432x288 with 1 Axes>"
      ]
     },
     "metadata": {
      "needs_background": "light"
     },
     "output_type": "display_data"
    }
   ],
   "source": [
    "check_distribution(m_f_sample)"
   ]
  },
  {
   "cell_type": "markdown",
   "metadata": {},
   "source": [
    "------"
   ]
  },
  {
   "cell_type": "markdown",
   "metadata": {},
   "source": [
    "<b><u>f-test</u></b>"
   ]
  },
  {
   "cell_type": "markdown",
   "metadata": {},
   "source": [
    "<b>Male sentences</b>"
   ]
  },
  {
   "cell_type": "code",
   "execution_count": 58,
   "metadata": {},
   "outputs": [
    {
     "name": "stdout",
     "output_type": "stream",
     "text": [
      "According to an F-test, we cannot reject the null hypothesis, in fact:\n",
      "The F-statistics is: 1.1206205423929139\n",
      "The p-value is: 0.05533088807750175\n",
      "The two variances do not differ in a significant way\n"
     ]
    },
    {
     "data": {
      "text/plain": [
       "(1.1206205423929139, 0.05533088807750175)"
      ]
     },
     "execution_count": 58,
     "metadata": {},
     "output_type": "execute_result"
    }
   ],
   "source": [
    "f_test(f_m_sample, m_m_sample)"
   ]
  },
  {
   "cell_type": "markdown",
   "metadata": {},
   "source": [
    "<b>Female sentences</b>"
   ]
  },
  {
   "cell_type": "code",
   "execution_count": 59,
   "metadata": {},
   "outputs": [
    {
     "name": "stdout",
     "output_type": "stream",
     "text": [
      "According to an F-test, we cannot reject the null hypothesis, in fact:\n",
      "The F-statistics is: 1.0217229546240918\n",
      "The p-value is: 0.38120061570695385\n",
      "The two variances do not differ in a significant way\n"
     ]
    },
    {
     "data": {
      "text/plain": [
       "(1.0217229546240918, 0.38120061570695385)"
      ]
     },
     "execution_count": 59,
     "metadata": {},
     "output_type": "execute_result"
    }
   ],
   "source": [
    "f_test(f_f_sample, m_f_sample)"
   ]
  },
  {
   "cell_type": "markdown",
   "metadata": {},
   "source": [
    "-----"
   ]
  },
  {
   "cell_type": "markdown",
   "metadata": {},
   "source": [
    "<b><u>t-test</u></b>"
   ]
  },
  {
   "cell_type": "markdown",
   "metadata": {},
   "source": [
    "<b>Male sentences</b>"
   ]
  },
  {
   "cell_type": "code",
   "execution_count": 60,
   "metadata": {},
   "outputs": [
    {
     "name": "stdout",
     "output_type": "stream",
     "text": [
      "According to a T-Test for independent samples we can not reject the null hypothesis, in fact:\n",
      "The p-value is: 0.19681452613085557\n",
      "The two means (0.11340652951739731 0.09385464348154277) do not differ in a significant way.\n"
     ]
    },
    {
     "data": {
      "text/plain": [
       "Ttest_indResult(statistic=1.2912244022165533, pvalue=0.19681452613085557)"
      ]
     },
     "execution_count": 60,
     "metadata": {},
     "output_type": "execute_result"
    }
   ],
   "source": [
    "t_test_independent(f_m_sample, m_m_sample)"
   ]
  },
  {
   "cell_type": "markdown",
   "metadata": {},
   "source": [
    "<b>Female sentences</b>"
   ]
  },
  {
   "cell_type": "code",
   "execution_count": 61,
   "metadata": {},
   "outputs": [
    {
     "name": "stdout",
     "output_type": "stream",
     "text": [
      "According to a T-Test for independent samples we can not reject the null hypothesis, in fact:\n",
      "The p-value is: 0.5411700272040305\n",
      "The two means (0.0992121361318906 0.10858386148105645) do not differ in a significant way.\n"
     ]
    },
    {
     "data": {
      "text/plain": [
       "Ttest_indResult(statistic=-0.6111759758466264, pvalue=0.5411700272040305)"
      ]
     },
     "execution_count": 61,
     "metadata": {},
     "output_type": "execute_result"
    }
   ],
   "source": [
    "t_test_independent(f_f_sample, m_f_sample)"
   ]
  },
  {
   "cell_type": "markdown",
   "metadata": {},
   "source": [
    "------"
   ]
  },
  {
   "cell_type": "markdown",
   "metadata": {},
   "source": [
    "#### 3.2) Emotion comparison"
   ]
  },
  {
   "cell_type": "code",
   "execution_count": 62,
   "metadata": {},
   "outputs": [],
   "source": [
    "dict_df = {\n",
    "    \"emotion\": [],\n",
    "    \"female_scores\":[],\n",
    "    \"male_scores\":[]\n",
    "}\n",
    "emotion = []\n",
    "f_auth = []\n",
    "m_auth = []\n",
    "\n",
    "for emo in f_emotions:\n",
    "    dict_df[\"emotion\"].append(emo)\n",
    "    dict_df[\"female_scores\"].append(f_emotions[emo])\n",
    "    dict_df[\"male_scores\"].append(m_emotions[emo])\n",
    "    emotion.append(emo)\n",
    "    f_auth.append(f_emotions[emo])\n",
    "    m_auth.append(m_emotions[emo])\n",
    "\n",
    "\n",
    "emotions_df = pd.DataFrame(dict_df)\n",
    "emotions_df.to_csv(\"assets/Visualizations datasets/Emotion scores/pre_emotions.csv\", index=False)"
   ]
  },
  {
   "cell_type": "markdown",
   "metadata": {},
   "source": [
    "-----"
   ]
  },
  {
   "cell_type": "markdown",
   "metadata": {},
   "source": [
    "### 4) Gender analytics"
   ]
  },
  {
   "cell_type": "markdown",
   "metadata": {},
   "source": [
    "In this last chapter, we will try to see wether a difference can be find in the way in which \"society\" represents male and female.</br>\n",
    "To accomplish this aim, we will join female and male authors views with respect to females and males. We will compute a comparison between the entirety of female sentences and the entirety of male sentences, without the need to look at the gender of the author."
   ]
  },
  {
   "cell_type": "markdown",
   "metadata": {},
   "source": [
    "----"
   ]
  },
  {
   "cell_type": "markdown",
   "metadata": {},
   "source": [
    "<b><u>Samples</b></u>"
   ]
  },
  {
   "cell_type": "markdown",
   "metadata": {},
   "source": [
    "Now, we join together the different results of the previous analysis."
   ]
  },
  {
   "cell_type": "code",
   "execution_count": 63,
   "metadata": {},
   "outputs": [],
   "source": [
    "# Female sentences population dictionary\n",
    "m_f_scores.extend(f_f_scores)\n",
    "f_scores = m_f_scores\n",
    "m_f_labels.extend(f_f_labels)\n",
    "f_labels = m_f_labels\n",
    "\n",
    "f_population = {\n",
    "    \"scores\":f_scores,\n",
    "    \"labels\":f_labels\n",
    "}\n",
    "\n",
    "# Male sentences population dictionary\n",
    "m_m_scores.extend(f_m_scores)\n",
    "m_scores = m_m_scores\n",
    "m_m_labels.extend(f_m_labels)\n",
    "m_labels = m_m_labels\n",
    "\n",
    "m_population = {\n",
    "    \"scores\":m_scores,\n",
    "    \"labels\":m_labels\n",
    "} "
   ]
  },
  {
   "cell_type": "markdown",
   "metadata": {},
   "source": [
    "We produce two samples, one representing female gendered sentences, and the other representing male gendered sentences."
   ]
  },
  {
   "cell_type": "code",
   "execution_count": 64,
   "metadata": {},
   "outputs": [],
   "source": [
    "samples = stratified_random_sampling([f_population,m_population], sample_size(len(f_population['scores'])+len(m_population['scores'])))\n",
    "f_sample = samples[0]\n",
    "m_sample = samples[1]"
   ]
  },
  {
   "cell_type": "code",
   "execution_count": 65,
   "metadata": {},
   "outputs": [
    {
     "data": {
      "text/html": [
       "<div>\n",
       "<style scoped>\n",
       "    .dataframe tbody tr th:only-of-type {\n",
       "        vertical-align: middle;\n",
       "    }\n",
       "\n",
       "    .dataframe tbody tr th {\n",
       "        vertical-align: top;\n",
       "    }\n",
       "\n",
       "    .dataframe thead th {\n",
       "        text-align: right;\n",
       "    }\n",
       "</style>\n",
       "<table border=\"1\" class=\"dataframe\">\n",
       "  <thead>\n",
       "    <tr style=\"text-align: right;\">\n",
       "      <th></th>\n",
       "      <th>ff_sample</th>\n",
       "      <th>fm_sample</th>\n",
       "      <th>mf_sample</th>\n",
       "      <th>mm_sample</th>\n",
       "      <th>ff_comparative_sample</th>\n",
       "      <th>mf_comparative_sample</th>\n",
       "      <th>fm_comparative_sample</th>\n",
       "      <th>mm_comparative_sample</th>\n",
       "    </tr>\n",
       "  </thead>\n",
       "  <tbody>\n",
       "    <tr>\n",
       "      <th>0</th>\n",
       "      <td>-0.200000</td>\n",
       "      <td>-0.041667</td>\n",
       "      <td>-0.187500</td>\n",
       "      <td>-0.250000</td>\n",
       "      <td>-0.187500</td>\n",
       "      <td>-0.900000</td>\n",
       "      <td>-1.000000</td>\n",
       "      <td>-0.066667</td>\n",
       "    </tr>\n",
       "    <tr>\n",
       "      <th>1</th>\n",
       "      <td>-0.218750</td>\n",
       "      <td>-0.132917</td>\n",
       "      <td>-0.517500</td>\n",
       "      <td>-0.400000</td>\n",
       "      <td>-0.018519</td>\n",
       "      <td>-0.028819</td>\n",
       "      <td>-0.041667</td>\n",
       "      <td>-0.216667</td>\n",
       "    </tr>\n",
       "    <tr>\n",
       "      <th>2</th>\n",
       "      <td>-0.195833</td>\n",
       "      <td>-0.312500</td>\n",
       "      <td>-0.121875</td>\n",
       "      <td>-0.400000</td>\n",
       "      <td>-0.046528</td>\n",
       "      <td>-0.175000</td>\n",
       "      <td>-0.500000</td>\n",
       "      <td>-0.250000</td>\n",
       "    </tr>\n",
       "    <tr>\n",
       "      <th>3</th>\n",
       "      <td>-1.000000</td>\n",
       "      <td>-0.020833</td>\n",
       "      <td>-0.095833</td>\n",
       "      <td>-0.200000</td>\n",
       "      <td>-0.012500</td>\n",
       "      <td>-0.250000</td>\n",
       "      <td>-0.475000</td>\n",
       "      <td>-0.025000</td>\n",
       "    </tr>\n",
       "    <tr>\n",
       "      <th>4</th>\n",
       "      <td>-0.234375</td>\n",
       "      <td>-0.093750</td>\n",
       "      <td>-0.366667</td>\n",
       "      <td>-0.093132</td>\n",
       "      <td>-0.025000</td>\n",
       "      <td>-0.062500</td>\n",
       "      <td>-0.100000</td>\n",
       "      <td>-0.142857</td>\n",
       "    </tr>\n",
       "    <tr>\n",
       "      <th>...</th>\n",
       "      <td>...</td>\n",
       "      <td>...</td>\n",
       "      <td>...</td>\n",
       "      <td>...</td>\n",
       "      <td>...</td>\n",
       "      <td>...</td>\n",
       "      <td>...</td>\n",
       "      <td>...</td>\n",
       "    </tr>\n",
       "    <tr>\n",
       "      <th>795</th>\n",
       "      <td>0.612500</td>\n",
       "      <td>0.006250</td>\n",
       "      <td>0.625000</td>\n",
       "      <td>0.733333</td>\n",
       "      <td>0.193056</td>\n",
       "      <td>0.100000</td>\n",
       "      <td>0.137500</td>\n",
       "      <td>0.382500</td>\n",
       "    </tr>\n",
       "    <tr>\n",
       "      <th>796</th>\n",
       "      <td>0.300000</td>\n",
       "      <td>0.132041</td>\n",
       "      <td>0.150000</td>\n",
       "      <td>0.008333</td>\n",
       "      <td>0.133333</td>\n",
       "      <td>0.333333</td>\n",
       "      <td>0.006250</td>\n",
       "      <td>0.139141</td>\n",
       "    </tr>\n",
       "    <tr>\n",
       "      <th>797</th>\n",
       "      <td>0.590000</td>\n",
       "      <td>0.050000</td>\n",
       "      <td>0.100000</td>\n",
       "      <td>0.200000</td>\n",
       "      <td>0.050000</td>\n",
       "      <td>0.050000</td>\n",
       "      <td>0.100000</td>\n",
       "      <td>0.050000</td>\n",
       "    </tr>\n",
       "    <tr>\n",
       "      <th>798</th>\n",
       "      <td>0.133333</td>\n",
       "      <td>0.335417</td>\n",
       "      <td>0.103125</td>\n",
       "      <td>0.100000</td>\n",
       "      <td>0.200000</td>\n",
       "      <td>0.120833</td>\n",
       "      <td>0.550000</td>\n",
       "      <td>0.250000</td>\n",
       "    </tr>\n",
       "    <tr>\n",
       "      <th>799</th>\n",
       "      <td>0.250000</td>\n",
       "      <td>0.500000</td>\n",
       "      <td>0.258929</td>\n",
       "      <td>0.003571</td>\n",
       "      <td>0.125000</td>\n",
       "      <td>0.200000</td>\n",
       "      <td>0.250000</td>\n",
       "      <td>0.411905</td>\n",
       "    </tr>\n",
       "  </tbody>\n",
       "</table>\n",
       "<p>800 rows × 8 columns</p>\n",
       "</div>"
      ],
      "text/plain": [
       "     ff_sample  fm_sample  mf_sample  mm_sample  ff_comparative_sample  \\\n",
       "0    -0.200000  -0.041667  -0.187500  -0.250000              -0.187500   \n",
       "1    -0.218750  -0.132917  -0.517500  -0.400000              -0.018519   \n",
       "2    -0.195833  -0.312500  -0.121875  -0.400000              -0.046528   \n",
       "3    -1.000000  -0.020833  -0.095833  -0.200000              -0.012500   \n",
       "4    -0.234375  -0.093750  -0.366667  -0.093132              -0.025000   \n",
       "..         ...        ...        ...        ...                    ...   \n",
       "795   0.612500   0.006250   0.625000   0.733333               0.193056   \n",
       "796   0.300000   0.132041   0.150000   0.008333               0.133333   \n",
       "797   0.590000   0.050000   0.100000   0.200000               0.050000   \n",
       "798   0.133333   0.335417   0.103125   0.100000               0.200000   \n",
       "799   0.250000   0.500000   0.258929   0.003571               0.125000   \n",
       "\n",
       "     mf_comparative_sample  fm_comparative_sample  mm_comparative_sample  \n",
       "0                -0.900000              -1.000000              -0.066667  \n",
       "1                -0.028819              -0.041667              -0.216667  \n",
       "2                -0.175000              -0.500000              -0.250000  \n",
       "3                -0.250000              -0.475000              -0.025000  \n",
       "4                -0.062500              -0.100000              -0.142857  \n",
       "..                     ...                    ...                    ...  \n",
       "795               0.100000               0.137500               0.382500  \n",
       "796               0.333333               0.006250               0.139141  \n",
       "797               0.050000               0.100000               0.050000  \n",
       "798               0.120833               0.550000               0.250000  \n",
       "799               0.200000               0.250000               0.411905  \n",
       "\n",
       "[800 rows x 8 columns]"
      ]
     },
     "execution_count": 65,
     "metadata": {},
     "output_type": "execute_result"
    }
   ],
   "source": [
    "pre_df"
   ]
  },
  {
   "cell_type": "code",
   "execution_count": 66,
   "metadata": {},
   "outputs": [],
   "source": [
    "pre_df = pd.concat([pre_df,DataFrame({\"f_gender_sample\":f_sample})], axis=1)\n",
    "pre_df = pd.concat([pre_df,DataFrame({\"m_gender_sample\":m_sample})], axis=1)"
   ]
  },
  {
   "cell_type": "markdown",
   "metadata": {},
   "source": [
    "----"
   ]
  },
  {
   "cell_type": "markdown",
   "metadata": {},
   "source": [
    "<b><u>Distributions</u></b>"
   ]
  },
  {
   "cell_type": "code",
   "execution_count": 67,
   "metadata": {},
   "outputs": [
    {
     "name": "stdout",
     "output_type": "stream",
     "text": [
      "According to a D'Agostino-Pearson normality test, we cannot reject the null hypothesis, in fact:\n",
      "The p-value is: 0.9542936862648292\n",
      "The mean is: 0.10520877944780903\n",
      "The std is: 0.2958604078189079\n",
      "So, data follow a normal distribution.\n"
     ]
    },
    {
     "data": {
      "text/plain": [
       "(0.10520877944780903, 0.2958604078189079)"
      ]
     },
     "execution_count": 67,
     "metadata": {},
     "output_type": "execute_result"
    },
    {
     "data": {
      "image/png": "[encoded data removed]",
      "text/plain": [
       "<Figure size 432x288 with 1 Axes>"
      ]
     },
     "metadata": {
      "needs_background": "light"
     },
     "output_type": "display_data"
    }
   ],
   "source": [
    "check_distribution(f_sample)"
   ]
  },
  {
   "cell_type": "code",
   "execution_count": 68,
   "metadata": {},
   "outputs": [
    {
     "name": "stdout",
     "output_type": "stream",
     "text": [
      "According to a D'Agostino-Pearson normality test, we cannot reject the null hypothesis, in fact:\n",
      "The p-value is: 0.43752781802236007\n",
      "The mean is: 0.11339452054578937\n",
      "The std is: 0.29571354171671616\n",
      "So, data follow a normal distribution.\n"
     ]
    },
    {
     "data": {
      "text/plain": [
       "(0.11339452054578937, 0.29571354171671616)"
      ]
     },
     "execution_count": 68,
     "metadata": {},
     "output_type": "execute_result"
    },
    {
     "data": {
      "image/png": "[encoded data removed]",
      "text/plain": [
       "<Figure size 432x288 with 1 Axes>"
      ]
     },
     "metadata": {
      "needs_background": "light"
     },
     "output_type": "display_data"
    }
   ],
   "source": [
    "check_distribution(m_sample)"
   ]
  },
  {
   "cell_type": "markdown",
   "metadata": {},
   "source": [
    "------"
   ]
  },
  {
   "cell_type": "markdown",
   "metadata": {},
   "source": [
    "<b><u>f-test</u></b>"
   ]
  },
  {
   "cell_type": "code",
   "execution_count": 69,
   "metadata": {},
   "outputs": [
    {
     "name": "stdout",
     "output_type": "stream",
     "text": [
      "According to an F-test, we cannot reject the null hypothesis, in fact:\n",
      "The F-statistics is: 1.0009935464697133\n",
      "The p-value is: 0.4944231101720299\n",
      "The two variances do not differ in a significant way\n"
     ]
    },
    {
     "data": {
      "text/plain": [
       "(1.0009935464697133, 0.4944231101720299)"
      ]
     },
     "execution_count": 69,
     "metadata": {},
     "output_type": "execute_result"
    }
   ],
   "source": [
    "f_test(f_sample, m_sample)"
   ]
  },
  {
   "cell_type": "markdown",
   "metadata": {},
   "source": [
    "----"
   ]
  },
  {
   "cell_type": "markdown",
   "metadata": {},
   "source": [
    "<b><u>t-test</u></b>"
   ]
  },
  {
   "cell_type": "code",
   "execution_count": 70,
   "metadata": {},
   "outputs": [
    {
     "name": "stdout",
     "output_type": "stream",
     "text": [
      "According to a T-Test for independent samples we can not reject the null hypothesis, in fact:\n",
      "The p-value is: 0.8608563376696835\n",
      "The two means (0.11292805948295531 0.11564190556618756) do not differ in a significant way.\n"
     ]
    },
    {
     "data": {
      "text/plain": [
       "Ttest_indResult(statistic=-0.17531246821458904, pvalue=0.8608563376696835)"
      ]
     },
     "execution_count": 70,
     "metadata": {},
     "output_type": "execute_result"
    }
   ],
   "source": [
    "t_test_independent(f_sample, m_sample)"
   ]
  },
  {
   "cell_type": "markdown",
   "metadata": {},
   "source": [
    "Finally, we store our df into a CSV file."
   ]
  },
  {
   "cell_type": "code",
   "execution_count": 71,
   "metadata": {},
   "outputs": [],
   "source": [
    "pre_df.to_csv(\"assets/Visualizations datasets/Sentiment scores/pre_df.csv\", index=False)"
   ]
  }
 ],
 "metadata": {
  "kernelspec": {
   "display_name": "Python 3.10.5 64-bit",
   "language": "python",
   "name": "python3"
  },
  "language_info": {
   "codemirror_mode": {
    "name": "ipython",
    "version": 3
   },
   "file_extension": ".py",
   "mimetype": "text/x-python",
   "name": "python",
   "nbconvert_exporter": "python",
   "pygments_lexer": "ipython3",
   "version": "3.10.5"
  },
  "orig_nbformat": 4,
  "vscode": {
   "interpreter": {
    "hash": "aee8b7b246df8f9039afb4144a1f6fd8d2ca17a180786b69acc140d282b71a49"
   }
  }
 },
 "nbformat": 4,
 "nbformat_minor": 2
}
