{
 "cells": [
  {
   "cell_type": "markdown",
   "metadata": {},
   "source": [
    "# Comparative corpora analytics"
   ]
  },
  {
   "cell_type": "markdown",
   "metadata": {},
   "source": [
    "In the current section, we will briefly compare our corpora, to see wether there are differences between texts written before or after the year 1880."
   ]
  },
  {
   "cell_type": "code",
   "execution_count": 11,
   "metadata": {},
   "outputs": [],
   "source": [
    "from run import *"
   ]
  },
  {
   "cell_type": "markdown",
   "metadata": {},
   "source": [
    "## Load data"
   ]
  },
  {
   "cell_type": "markdown",
   "metadata": {},
   "source": [
    "The first operation to perform is to extract the sample saved thanks to the different notebooks for pre and post analysis."
   ]
  },
  {
   "cell_type": "code",
   "execution_count": 12,
   "metadata": {},
   "outputs": [
    {
     "data": {
      "text/html": [
       "<div>\n",
       "<style scoped>\n",
       "    .dataframe tbody tr th:only-of-type {\n",
       "        vertical-align: middle;\n",
       "    }\n",
       "\n",
       "    .dataframe tbody tr th {\n",
       "        vertical-align: top;\n",
       "    }\n",
       "\n",
       "    .dataframe thead th {\n",
       "        text-align: right;\n",
       "    }\n",
       "</style>\n",
       "<table border=\"1\" class=\"dataframe\">\n",
       "  <thead>\n",
       "    <tr style=\"text-align: right;\">\n",
       "      <th></th>\n",
       "      <th>ff_sample</th>\n",
       "      <th>fm_sample</th>\n",
       "      <th>mf_sample</th>\n",
       "      <th>mm_sample</th>\n",
       "      <th>ff_comparative_sample</th>\n",
       "      <th>mf_comparative_sample</th>\n",
       "      <th>fm_comparative_sample</th>\n",
       "      <th>mm_comparative_sample</th>\n",
       "      <th>f_gender_sample</th>\n",
       "      <th>m_gender_sample</th>\n",
       "    </tr>\n",
       "  </thead>\n",
       "  <tbody>\n",
       "    <tr>\n",
       "      <th>0</th>\n",
       "      <td>-0.200000</td>\n",
       "      <td>-0.041667</td>\n",
       "      <td>-0.187500</td>\n",
       "      <td>-0.250000</td>\n",
       "      <td>-0.187500</td>\n",
       "      <td>-0.900000</td>\n",
       "      <td>-1.000000</td>\n",
       "      <td>-0.066667</td>\n",
       "      <td>-0.125000</td>\n",
       "      <td>-0.027778</td>\n",
       "    </tr>\n",
       "    <tr>\n",
       "      <th>1</th>\n",
       "      <td>-0.218750</td>\n",
       "      <td>-0.132917</td>\n",
       "      <td>-0.517500</td>\n",
       "      <td>-0.400000</td>\n",
       "      <td>-0.018519</td>\n",
       "      <td>-0.028819</td>\n",
       "      <td>-0.041667</td>\n",
       "      <td>-0.216667</td>\n",
       "      <td>-0.400000</td>\n",
       "      <td>-0.100000</td>\n",
       "    </tr>\n",
       "    <tr>\n",
       "      <th>2</th>\n",
       "      <td>-0.195833</td>\n",
       "      <td>-0.312500</td>\n",
       "      <td>-0.121875</td>\n",
       "      <td>-0.400000</td>\n",
       "      <td>-0.046528</td>\n",
       "      <td>-0.175000</td>\n",
       "      <td>-0.500000</td>\n",
       "      <td>-0.250000</td>\n",
       "      <td>-0.187500</td>\n",
       "      <td>-0.100000</td>\n",
       "    </tr>\n",
       "    <tr>\n",
       "      <th>3</th>\n",
       "      <td>-1.000000</td>\n",
       "      <td>-0.020833</td>\n",
       "      <td>-0.095833</td>\n",
       "      <td>-0.200000</td>\n",
       "      <td>-0.012500</td>\n",
       "      <td>-0.250000</td>\n",
       "      <td>-0.475000</td>\n",
       "      <td>-0.025000</td>\n",
       "      <td>-0.041000</td>\n",
       "      <td>-0.300000</td>\n",
       "    </tr>\n",
       "    <tr>\n",
       "      <th>4</th>\n",
       "      <td>-0.234375</td>\n",
       "      <td>-0.093750</td>\n",
       "      <td>-0.366667</td>\n",
       "      <td>-0.093132</td>\n",
       "      <td>-0.025000</td>\n",
       "      <td>-0.062500</td>\n",
       "      <td>-0.100000</td>\n",
       "      <td>-0.142857</td>\n",
       "      <td>-0.187500</td>\n",
       "      <td>-0.400000</td>\n",
       "    </tr>\n",
       "    <tr>\n",
       "      <th>...</th>\n",
       "      <td>...</td>\n",
       "      <td>...</td>\n",
       "      <td>...</td>\n",
       "      <td>...</td>\n",
       "      <td>...</td>\n",
       "      <td>...</td>\n",
       "      <td>...</td>\n",
       "      <td>...</td>\n",
       "      <td>...</td>\n",
       "      <td>...</td>\n",
       "    </tr>\n",
       "    <tr>\n",
       "      <th>795</th>\n",
       "      <td>0.612500</td>\n",
       "      <td>0.006250</td>\n",
       "      <td>0.625000</td>\n",
       "      <td>0.733333</td>\n",
       "      <td>0.193056</td>\n",
       "      <td>0.100000</td>\n",
       "      <td>0.137500</td>\n",
       "      <td>0.382500</td>\n",
       "      <td>0.145833</td>\n",
       "      <td>0.500000</td>\n",
       "    </tr>\n",
       "    <tr>\n",
       "      <th>796</th>\n",
       "      <td>0.300000</td>\n",
       "      <td>0.132041</td>\n",
       "      <td>0.150000</td>\n",
       "      <td>0.008333</td>\n",
       "      <td>0.133333</td>\n",
       "      <td>0.333333</td>\n",
       "      <td>0.006250</td>\n",
       "      <td>0.139141</td>\n",
       "      <td>0.700000</td>\n",
       "      <td>0.197619</td>\n",
       "    </tr>\n",
       "    <tr>\n",
       "      <th>797</th>\n",
       "      <td>0.590000</td>\n",
       "      <td>0.050000</td>\n",
       "      <td>0.100000</td>\n",
       "      <td>0.200000</td>\n",
       "      <td>0.050000</td>\n",
       "      <td>0.050000</td>\n",
       "      <td>0.100000</td>\n",
       "      <td>0.050000</td>\n",
       "      <td>0.254167</td>\n",
       "      <td>0.312500</td>\n",
       "    </tr>\n",
       "    <tr>\n",
       "      <th>798</th>\n",
       "      <td>0.133333</td>\n",
       "      <td>0.335417</td>\n",
       "      <td>0.103125</td>\n",
       "      <td>0.100000</td>\n",
       "      <td>0.200000</td>\n",
       "      <td>0.120833</td>\n",
       "      <td>0.550000</td>\n",
       "      <td>0.250000</td>\n",
       "      <td>0.308333</td>\n",
       "      <td>0.136508</td>\n",
       "    </tr>\n",
       "    <tr>\n",
       "      <th>799</th>\n",
       "      <td>0.250000</td>\n",
       "      <td>0.500000</td>\n",
       "      <td>0.258929</td>\n",
       "      <td>0.003571</td>\n",
       "      <td>0.125000</td>\n",
       "      <td>0.200000</td>\n",
       "      <td>0.250000</td>\n",
       "      <td>0.411905</td>\n",
       "      <td>0.340833</td>\n",
       "      <td>0.100000</td>\n",
       "    </tr>\n",
       "  </tbody>\n",
       "</table>\n",
       "<p>800 rows × 10 columns</p>\n",
       "</div>"
      ],
      "text/plain": [
       "     ff_sample  fm_sample  mf_sample  mm_sample  ff_comparative_sample  \\\n",
       "0    -0.200000  -0.041667  -0.187500  -0.250000              -0.187500   \n",
       "1    -0.218750  -0.132917  -0.517500  -0.400000              -0.018519   \n",
       "2    -0.195833  -0.312500  -0.121875  -0.400000              -0.046528   \n",
       "3    -1.000000  -0.020833  -0.095833  -0.200000              -0.012500   \n",
       "4    -0.234375  -0.093750  -0.366667  -0.093132              -0.025000   \n",
       "..         ...        ...        ...        ...                    ...   \n",
       "795   0.612500   0.006250   0.625000   0.733333               0.193056   \n",
       "796   0.300000   0.132041   0.150000   0.008333               0.133333   \n",
       "797   0.590000   0.050000   0.100000   0.200000               0.050000   \n",
       "798   0.133333   0.335417   0.103125   0.100000               0.200000   \n",
       "799   0.250000   0.500000   0.258929   0.003571               0.125000   \n",
       "\n",
       "     mf_comparative_sample  fm_comparative_sample  mm_comparative_sample  \\\n",
       "0                -0.900000              -1.000000              -0.066667   \n",
       "1                -0.028819              -0.041667              -0.216667   \n",
       "2                -0.175000              -0.500000              -0.250000   \n",
       "3                -0.250000              -0.475000              -0.025000   \n",
       "4                -0.062500              -0.100000              -0.142857   \n",
       "..                     ...                    ...                    ...   \n",
       "795               0.100000               0.137500               0.382500   \n",
       "796               0.333333               0.006250               0.139141   \n",
       "797               0.050000               0.100000               0.050000   \n",
       "798               0.120833               0.550000               0.250000   \n",
       "799               0.200000               0.250000               0.411905   \n",
       "\n",
       "     f_gender_sample  m_gender_sample  \n",
       "0          -0.125000        -0.027778  \n",
       "1          -0.400000        -0.100000  \n",
       "2          -0.187500        -0.100000  \n",
       "3          -0.041000        -0.300000  \n",
       "4          -0.187500        -0.400000  \n",
       "..               ...              ...  \n",
       "795         0.145833         0.500000  \n",
       "796         0.700000         0.197619  \n",
       "797         0.254167         0.312500  \n",
       "798         0.308333         0.136508  \n",
       "799         0.340833         0.100000  \n",
       "\n",
       "[800 rows x 10 columns]"
      ]
     },
     "execution_count": 12,
     "metadata": {},
     "output_type": "execute_result"
    }
   ],
   "source": [
    "pre_df = pd.read_csv('assets/Visualizations datasets/Sentiment scores/pre_df.csv')\n",
    "pre_df "
   ]
  },
  {
   "cell_type": "code",
   "execution_count": 13,
   "metadata": {},
   "outputs": [
    {
     "data": {
      "text/html": [
       "<div>\n",
       "<style scoped>\n",
       "    .dataframe tbody tr th:only-of-type {\n",
       "        vertical-align: middle;\n",
       "    }\n",
       "\n",
       "    .dataframe tbody tr th {\n",
       "        vertical-align: top;\n",
       "    }\n",
       "\n",
       "    .dataframe thead th {\n",
       "        text-align: right;\n",
       "    }\n",
       "</style>\n",
       "<table border=\"1\" class=\"dataframe\">\n",
       "  <thead>\n",
       "    <tr style=\"text-align: right;\">\n",
       "      <th></th>\n",
       "      <th>ff_sample</th>\n",
       "      <th>fm_sample</th>\n",
       "      <th>mf_sample</th>\n",
       "      <th>mm_sample</th>\n",
       "      <th>ff_comparative_sample</th>\n",
       "      <th>mf_comparative_sample</th>\n",
       "      <th>mf_comparative_sample.1</th>\n",
       "      <th>mm_comparative_sample</th>\n",
       "      <th>f_gender_sample</th>\n",
       "      <th>m_gender_sample</th>\n",
       "    </tr>\n",
       "  </thead>\n",
       "  <tbody>\n",
       "    <tr>\n",
       "      <th>0</th>\n",
       "      <td>-0.390000</td>\n",
       "      <td>-0.500000</td>\n",
       "      <td>-0.125000</td>\n",
       "      <td>-0.113889</td>\n",
       "      <td>-0.250000</td>\n",
       "      <td>-0.048611</td>\n",
       "      <td>-0.600000</td>\n",
       "      <td>-0.500000</td>\n",
       "      <td>-0.600000</td>\n",
       "      <td>-0.192560</td>\n",
       "    </tr>\n",
       "    <tr>\n",
       "      <th>1</th>\n",
       "      <td>-0.500000</td>\n",
       "      <td>-0.390000</td>\n",
       "      <td>-0.100000</td>\n",
       "      <td>-0.093750</td>\n",
       "      <td>-0.143750</td>\n",
       "      <td>-0.291667</td>\n",
       "      <td>-0.600000</td>\n",
       "      <td>-0.400000</td>\n",
       "      <td>-0.150000</td>\n",
       "      <td>-0.166667</td>\n",
       "    </tr>\n",
       "    <tr>\n",
       "      <th>2</th>\n",
       "      <td>-0.200000</td>\n",
       "      <td>-0.312500</td>\n",
       "      <td>-0.200000</td>\n",
       "      <td>-0.125000</td>\n",
       "      <td>-0.100000</td>\n",
       "      <td>-0.500000</td>\n",
       "      <td>-0.166667</td>\n",
       "      <td>-0.062500</td>\n",
       "      <td>-0.175000</td>\n",
       "      <td>-0.312500</td>\n",
       "    </tr>\n",
       "    <tr>\n",
       "      <th>3</th>\n",
       "      <td>-0.065014</td>\n",
       "      <td>-0.256250</td>\n",
       "      <td>-0.119365</td>\n",
       "      <td>-0.063333</td>\n",
       "      <td>-0.093750</td>\n",
       "      <td>-0.277778</td>\n",
       "      <td>-0.250000</td>\n",
       "      <td>-0.160000</td>\n",
       "      <td>-0.218750</td>\n",
       "      <td>-0.275000</td>\n",
       "    </tr>\n",
       "    <tr>\n",
       "      <th>4</th>\n",
       "      <td>-0.155556</td>\n",
       "      <td>-0.100000</td>\n",
       "      <td>-0.155556</td>\n",
       "      <td>-0.218519</td>\n",
       "      <td>-0.083333</td>\n",
       "      <td>-0.025000</td>\n",
       "      <td>-0.400000</td>\n",
       "      <td>-0.443750</td>\n",
       "      <td>-0.133333</td>\n",
       "      <td>-0.170000</td>\n",
       "    </tr>\n",
       "    <tr>\n",
       "      <th>...</th>\n",
       "      <td>...</td>\n",
       "      <td>...</td>\n",
       "      <td>...</td>\n",
       "      <td>...</td>\n",
       "      <td>...</td>\n",
       "      <td>...</td>\n",
       "      <td>...</td>\n",
       "      <td>...</td>\n",
       "      <td>...</td>\n",
       "      <td>...</td>\n",
       "    </tr>\n",
       "    <tr>\n",
       "      <th>795</th>\n",
       "      <td>0.200000</td>\n",
       "      <td>0.287500</td>\n",
       "      <td>0.300000</td>\n",
       "      <td>0.243750</td>\n",
       "      <td>0.805000</td>\n",
       "      <td>0.100000</td>\n",
       "      <td>0.134091</td>\n",
       "      <td>0.222222</td>\n",
       "      <td>0.258333</td>\n",
       "      <td>0.012121</td>\n",
       "    </tr>\n",
       "    <tr>\n",
       "      <th>796</th>\n",
       "      <td>0.344444</td>\n",
       "      <td>0.012500</td>\n",
       "      <td>0.139286</td>\n",
       "      <td>0.193750</td>\n",
       "      <td>0.256250</td>\n",
       "      <td>0.064583</td>\n",
       "      <td>0.100000</td>\n",
       "      <td>0.250000</td>\n",
       "      <td>0.300000</td>\n",
       "      <td>0.138889</td>\n",
       "    </tr>\n",
       "    <tr>\n",
       "      <th>797</th>\n",
       "      <td>0.433333</td>\n",
       "      <td>0.266071</td>\n",
       "      <td>0.164286</td>\n",
       "      <td>0.600000</td>\n",
       "      <td>0.250000</td>\n",
       "      <td>0.033333</td>\n",
       "      <td>0.033333</td>\n",
       "      <td>0.333333</td>\n",
       "      <td>0.084325</td>\n",
       "      <td>0.500000</td>\n",
       "    </tr>\n",
       "    <tr>\n",
       "      <th>798</th>\n",
       "      <td>0.400000</td>\n",
       "      <td>0.100000</td>\n",
       "      <td>0.108333</td>\n",
       "      <td>0.200000</td>\n",
       "      <td>0.350000</td>\n",
       "      <td>0.150000</td>\n",
       "      <td>0.400000</td>\n",
       "      <td>0.193182</td>\n",
       "      <td>0.100000</td>\n",
       "      <td>0.425000</td>\n",
       "    </tr>\n",
       "    <tr>\n",
       "      <th>799</th>\n",
       "      <td>0.248413</td>\n",
       "      <td>0.600000</td>\n",
       "      <td>0.105628</td>\n",
       "      <td>0.176042</td>\n",
       "      <td>0.050000</td>\n",
       "      <td>0.233333</td>\n",
       "      <td>0.200000</td>\n",
       "      <td>0.166667</td>\n",
       "      <td>0.800000</td>\n",
       "      <td>0.195833</td>\n",
       "    </tr>\n",
       "  </tbody>\n",
       "</table>\n",
       "<p>800 rows × 10 columns</p>\n",
       "</div>"
      ],
      "text/plain": [
       "     ff_sample  fm_sample  mf_sample  mm_sample  ff_comparative_sample  \\\n",
       "0    -0.390000  -0.500000  -0.125000  -0.113889              -0.250000   \n",
       "1    -0.500000  -0.390000  -0.100000  -0.093750              -0.143750   \n",
       "2    -0.200000  -0.312500  -0.200000  -0.125000              -0.100000   \n",
       "3    -0.065014  -0.256250  -0.119365  -0.063333              -0.093750   \n",
       "4    -0.155556  -0.100000  -0.155556  -0.218519              -0.083333   \n",
       "..         ...        ...        ...        ...                    ...   \n",
       "795   0.200000   0.287500   0.300000   0.243750               0.805000   \n",
       "796   0.344444   0.012500   0.139286   0.193750               0.256250   \n",
       "797   0.433333   0.266071   0.164286   0.600000               0.250000   \n",
       "798   0.400000   0.100000   0.108333   0.200000               0.350000   \n",
       "799   0.248413   0.600000   0.105628   0.176042               0.050000   \n",
       "\n",
       "     mf_comparative_sample  mf_comparative_sample.1  mm_comparative_sample  \\\n",
       "0                -0.048611                -0.600000              -0.500000   \n",
       "1                -0.291667                -0.600000              -0.400000   \n",
       "2                -0.500000                -0.166667              -0.062500   \n",
       "3                -0.277778                -0.250000              -0.160000   \n",
       "4                -0.025000                -0.400000              -0.443750   \n",
       "..                     ...                      ...                    ...   \n",
       "795               0.100000                 0.134091               0.222222   \n",
       "796               0.064583                 0.100000               0.250000   \n",
       "797               0.033333                 0.033333               0.333333   \n",
       "798               0.150000                 0.400000               0.193182   \n",
       "799               0.233333                 0.200000               0.166667   \n",
       "\n",
       "     f_gender_sample  m_gender_sample  \n",
       "0          -0.600000        -0.192560  \n",
       "1          -0.150000        -0.166667  \n",
       "2          -0.175000        -0.312500  \n",
       "3          -0.218750        -0.275000  \n",
       "4          -0.133333        -0.170000  \n",
       "..               ...              ...  \n",
       "795         0.258333         0.012121  \n",
       "796         0.300000         0.138889  \n",
       "797         0.084325         0.500000  \n",
       "798         0.100000         0.425000  \n",
       "799         0.800000         0.195833  \n",
       "\n",
       "[800 rows x 10 columns]"
      ]
     },
     "execution_count": 13,
     "metadata": {},
     "output_type": "execute_result"
    }
   ],
   "source": [
    "post_df = pd.read_csv('assets/Visualizations datasets/Sentiment scores/post_df.csv')\n",
    "post_df"
   ]
  },
  {
   "cell_type": "markdown",
   "metadata": {},
   "source": [
    "### Female sentences analytics"
   ]
  },
  {
   "cell_type": "markdown",
   "metadata": {},
   "source": [
    "Now, we will extract data contained in f_gender_sample for the pre and post dataframes in order to compare them."
   ]
  },
  {
   "cell_type": "code",
   "execution_count": 14,
   "metadata": {},
   "outputs": [],
   "source": [
    "pre_female = pre_df['f_gender_sample'].tolist()\n",
    "post_female = post_df['f_gender_sample'].tolist()"
   ]
  },
  {
   "cell_type": "code",
   "execution_count": 16,
   "metadata": {},
   "outputs": [
    {
     "name": "stdout",
     "output_type": "stream",
     "text": [
      "According to a D'Agostino-Pearson normality test, we cannot reject the null hypothesis, in fact:\n",
      "The p-value is: 0.9542936862632273\n",
      "The mean is: 0.10520877944800767\n",
      "The std is: 0.29586040781899037\n",
      "So, data follow a normal distribution.\n",
      "According to a D'Agostino-Pearson normality test, we cannot reject the null hypothesis, in fact:\n",
      "The p-value is: 0.5326928376961957\n",
      "The mean is: 0.10127260817791627\n",
      "The std is: 0.29370828422227724\n",
      "So, data follow a normal distribution.\n"
     ]
    },
    {
     "data": {
      "text/plain": [
       "(0.10127260817791627, 0.29370828422227724)"
      ]
     },
     "execution_count": 16,
     "metadata": {},
     "output_type": "execute_result"
    },
    {
     "data": {
      "image/png": "[encoded data removed]",
      "text/plain": [
       "<Figure size 432x288 with 1 Axes>"
      ]
     },
     "metadata": {
      "needs_background": "light"
     },
     "output_type": "display_data"
    }
   ],
   "source": [
    "check_distribution(pre_female)"
   ]
  },
  {
   "cell_type": "code",
   "execution_count": 17,
   "metadata": {},
   "outputs": [
    {
     "name": "stdout",
     "output_type": "stream",
     "text": [
      "According to a D'Agostino-Pearson normality test, we cannot reject the null hypothesis, in fact:\n",
      "The p-value is: 0.5326928376961957\n",
      "The mean is: 0.10127260817791627\n",
      "The std is: 0.29370828422227724\n",
      "So, data follow a normal distribution.\n"
     ]
    },
    {
     "data": {
      "text/plain": [
       "(0.10127260817791627, 0.29370828422227724)"
      ]
     },
     "execution_count": 17,
     "metadata": {},
     "output_type": "execute_result"
    },
    {
     "data": {
      "image/png": "[encoded data removed]",
      "text/plain": [
       "<Figure size 432x288 with 1 Axes>"
      ]
     },
     "metadata": {
      "needs_background": "light"
     },
     "output_type": "display_data"
    }
   ],
   "source": [
    "check_distribution(post_female)"
   ]
  },
  {
   "cell_type": "code",
   "execution_count": 18,
   "metadata": {},
   "outputs": [
    {
     "name": "stdout",
     "output_type": "stream",
     "text": [
      "According to an F-test, we cannot reject the null hypothesis, in fact:\n",
      "The F-statistics is: 1.0147085286195383\n",
      "The p-value is: 0.4185578242781821\n",
      "The two variances do not differ in a significant way\n"
     ]
    },
    {
     "data": {
      "text/plain": [
       "(1.0147085286195383, 0.4185578242781821)"
      ]
     },
     "execution_count": 18,
     "metadata": {},
     "output_type": "execute_result"
    }
   ],
   "source": [
    "f_test(pre_female, post_female)"
   ]
  },
  {
   "cell_type": "code",
   "execution_count": 19,
   "metadata": {},
   "outputs": [
    {
     "name": "stdout",
     "output_type": "stream",
     "text": [
      "According to a T-Test for independent samples we can not reject the null hypothesis, in fact:\n",
      "The p-value is: 0.5999086642927782\n",
      "The two means (0.11292805948295533 0.10488789586591485) do not differ in a significant way.\n"
     ]
    },
    {
     "data": {
      "text/plain": [
       "Ttest_indResult(statistic=0.5246367215733571, pvalue=0.5999086642927782)"
      ]
     },
     "execution_count": 19,
     "metadata": {},
     "output_type": "execute_result"
    }
   ],
   "source": [
    "t_test_independent(pre_female, post_female)"
   ]
  },
  {
   "cell_type": "markdown",
   "metadata": {},
   "source": [
    "-------"
   ]
  },
  {
   "cell_type": "markdown",
   "metadata": {},
   "source": [
    "### Male sentences analytics"
   ]
  },
  {
   "cell_type": "markdown",
   "metadata": {},
   "source": [
    "Now, we will extract data contained in m_gender_sample for the pre and post dataframes in order to compare them."
   ]
  },
  {
   "cell_type": "code",
   "execution_count": 20,
   "metadata": {},
   "outputs": [],
   "source": [
    "pre_male = pre_df['m_gender_sample'].tolist()\n",
    "post_male = post_df['m_gender_sample'].tolist()"
   ]
  },
  {
   "cell_type": "code",
   "execution_count": 21,
   "metadata": {},
   "outputs": [
    {
     "name": "stdout",
     "output_type": "stream",
     "text": [
      "According to a D'Agostino-Pearson normality test, we cannot reject the null hypothesis, in fact:\n",
      "The p-value is: 0.4375278180223586\n",
      "The mean is: 0.1133945205457894\n",
      "The std is: 0.2957135417167161\n",
      "So, data follow a normal distribution.\n"
     ]
    },
    {
     "data": {
      "text/plain": [
       "(0.1133945205457894, 0.2957135417167161)"
      ]
     },
     "execution_count": 21,
     "metadata": {},
     "output_type": "execute_result"
    },
    {
     "data": {
      "image/png": "[encoded data removed]",
      "text/plain": [
       "<Figure size 432x288 with 1 Axes>"
      ]
     },
     "metadata": {
      "needs_background": "light"
     },
     "output_type": "display_data"
    }
   ],
   "source": [
    "check_distribution(pre_male)"
   ]
  },
  {
   "cell_type": "code",
   "execution_count": 22,
   "metadata": {},
   "outputs": [
    {
     "name": "stdout",
     "output_type": "stream",
     "text": [
      "According to a D'Agostino-Pearson normality test, we cannot reject the null hypothesis, in fact:\n",
      "The p-value is: 0.9043698069007186\n",
      "The mean is: 0.11310210637342916\n",
      "The std is: 0.2936487814133943\n",
      "So, data follow a normal distribution.\n"
     ]
    },
    {
     "data": {
      "text/plain": [
       "(0.11310210637342916, 0.2936487814133943)"
      ]
     },
     "execution_count": 22,
     "metadata": {},
     "output_type": "execute_result"
    },
    {
     "data": {
      "image/png": "[encoded data removed]",
      "text/plain": [
       "<Figure size 432x288 with 1 Axes>"
      ]
     },
     "metadata": {
      "needs_background": "light"
     },
     "output_type": "display_data"
    }
   ],
   "source": [
    "check_distribution(post_male)"
   ]
  },
  {
   "cell_type": "code",
   "execution_count": 23,
   "metadata": {},
   "outputs": [
    {
     "name": "stdout",
     "output_type": "stream",
     "text": [
      "According to an F-test, we cannot reject the null hypothesis, in fact:\n",
      "The F-statistics is: 1.0141122286633424\n",
      "The p-value is: 0.4219558798219789\n",
      "The two variances do not differ in a significant way\n"
     ]
    },
    {
     "data": {
      "text/plain": [
       "(1.0141122286633424, 0.4219558798219789)"
      ]
     },
     "execution_count": 23,
     "metadata": {},
     "output_type": "execute_result"
    }
   ],
   "source": [
    "f_test(pre_male, post_male)"
   ]
  },
  {
   "cell_type": "code",
   "execution_count": 24,
   "metadata": {},
   "outputs": [
    {
     "name": "stdout",
     "output_type": "stream",
     "text": [
      "According to a T-Test for independent samples we can not reject the null hypothesis, in fact:\n",
      "The p-value is: 0.39092119569792383\n",
      "The two means (0.11564190556618756 0.10240999898848673) do not differ in a significant way.\n"
     ]
    },
    {
     "data": {
      "text/plain": [
       "Ttest_indResult(statistic=0.8581811045161503, pvalue=0.39092119569792383)"
      ]
     },
     "execution_count": 24,
     "metadata": {},
     "output_type": "execute_result"
    }
   ],
   "source": [
    "t_test_independent(pre_male, post_male)"
   ]
  }
 ],
 "metadata": {
  "kernelspec": {
   "display_name": "Python 3.10.5 64-bit",
   "language": "python",
   "name": "python3"
  },
  "language_info": {
   "codemirror_mode": {
    "name": "ipython",
    "version": 3
   },
   "file_extension": ".py",
   "mimetype": "text/x-python",
   "name": "python",
   "nbconvert_exporter": "python",
   "pygments_lexer": "ipython3",
   "version": "3.10.5"
  },
  "orig_nbformat": 4,
  "vscode": {
   "interpreter": {
    "hash": "aee8b7b246df8f9039afb4144a1f6fd8d2ca17a180786b69acc140d282b71a49"
   }
  }
 },
 "nbformat": 4,
 "nbformat_minor": 2
}
