{
 "cells": [
  {
   "cell_type": "code",
   "execution_count": 1,
   "metadata": {},
   "outputs": [],
   "source": [
    "from normalization_functions import *\n",
    "from gender_classifier import *"
   ]
  },
  {
   "cell_type": "markdown",
   "metadata": {},
   "source": [
    "Male corpus:"
   ]
  },
  {
   "cell_type": "code",
   "execution_count": 2,
   "metadata": {},
   "outputs": [],
   "source": [
    "alice = text_reader(\"Raw/M/alice_in_wonderland.txt\")\n",
    "treasure = text_reader(\"Raw/M/treasure_island.txt\")\n",
    "gender_analysis(alice)\n",
    "gender_analysis(treasure)"
   ]
  },
  {
   "cell_type": "markdown",
   "metadata": {},
   "source": [
    "Female corpus:"
   ]
  },
  {
   "cell_type": "code",
   "execution_count": 3,
   "metadata": {},
   "outputs": [],
   "source": [
    "heidi = text_reader(\"Raw/F/heidi.txt\")\n",
    "little = text_reader(\"Raw/F/little_women.txt\")\n",
    "gender_analysis(heidi)\n",
    "gender_analysis(little)"
   ]
  },
  {
   "cell_type": "code",
   "execution_count": 4,
   "metadata": {},
   "outputs": [
    {
     "name": "stdout",
     "output_type": "stream",
     "text": [
      "Male words\n",
      "Ratio\tMale\tFemale\tWord\n",
      "10.0\t19\t00\tpipe\n",
      "10.0\t29\t00\ttrelawney\n",
      "10.0\t22\t00\trum\n",
      "50.3\t48\t01\tlivesey\n",
      "41.4\t79\t02\tsesemann\n",
      "30.4\t58\t02\tlaurence\n",
      "18.5\t53\t03\tbhaer\n",
      "18.3\t35\t02\tsquire\n",
      "16.8\t64\t04\tbrooke\n",
      "14.3\t82\t06\tcaptain\n",
      "8.8\t67\t08\tsilver\n",
      "8.7\t25\t03\tfellow\n",
      "8.0\t84\t11\tdoctor\n",
      "8.0\t38\t05\tship\n",
      "7.0\t20\t03\tsix\n",
      "4.0\t50\t13\tdead\n",
      "3.6\t24\t07\tblind\n",
      "3.5\t27\t08\tleg\n",
      "3.5\t20\t06\tdemi\n",
      "3.4\t26\t08\thut\n",
      "3.2\t31\t10\tsea\n",
      "3.1\t66\t22\tpeter\n",
      "3.0\t23\t08\tprofessor\n",
      "2.8\t107\t40\tu\n",
      "2.7\t21\t08\tsir\n",
      "2.7\t21\t08\tstanding\n",
      "2.7\t23\t09\tknee\n",
      "2.7\t33\t13\topen\n",
      "2.6\t35\t14\tgoat\n",
      "2.6\t22\t09\tcarried\n",
      "2.5\t24\t10\tisnot\n",
      "2.4\t30\t13\talong\n",
      "2.4\t25\t11\tblack\n",
      "2.3\t24\t11\tthank\n",
      "2.2\t25\t12\there\n",
      "2.1\t61\t30\tgive\n",
      "2.1\t87\t43\twe\n",
      "2.1\t22\t11\tpiece\n",
      "2.0\t28\t15\tbefore\n",
      "1.9\t50\t27\tby\n",
      "1.9\t22\t12\tmouth\n",
      "1.9\t22\t12\tseveral\n",
      "1.9\t25\t14\tcut\n",
      "1.9\t23\t13\tsoul\n",
      "1.8\t30\t17\treplied\n",
      "1.8\t41\t24\tam\n",
      "1.8\t29\t17\tbring\n",
      "1.8\t29\t17\tfrom\n",
      "1.8\t34\t20\tbrought\n",
      "1.7\t86\t52\tmust\n",
      "\n",
      "\n",
      "\n",
      "Female words\n",
      "Ratio\tMale\tFemale\tWord\n",
      "8.6\t14\t126\talice\n",
      "6.4\t6\t40\tdress\n",
      "5.2\t46\t249\tamy\n",
      "5.0\t31\t162\tbeth\n",
      "4.2\t5\t22\tsallie\n",
      "3.8\t6\t24\tglove\n",
      "3.8\t6\t24\tdeta\n",
      "3.6\t11\t42\ttear\n",
      "3.2\t70\t234\tmeg\n",
      "3.2\t12\t40\tfeel\n",
      "3.2\t6\t20\tbox\n",
      "3.1\t9\t29\ttender\n",
      "3.0\t6\t19\tdecided\n",
      "3.0\t6\t19\tgarden\n",
      "3.0\t7\t22\tlesson\n",
      "2.9\t13\t40\tflower\n",
      "2.9\t7\t21\tsad\n",
      "2.7\t8\t23\tthose\n",
      "2.7\t160\t459\tjo\n",
      "2.7\t7\t20\tbright\n",
      "2.7\t18\t51\tbed\n",
      "2.5\t20\t53\tpretty\n",
      "2.4\t9\t23\tjoy\n",
      "2.4\t36\t91\tfelt\n",
      "2.3\t13\t31\tnice\n",
      "2.3\t8\t19\twhether\n",
      "2.2\t13\t30\tcheek\n",
      "2.2\t23\t53\ttried\n",
      "2.2\t10\t23\tlovely\n",
      "2.2\t14\t32\tmaking\n",
      "2.1\t28\t63\tminute\n",
      "2.1\t19\t42\ttrying\n",
      "2.1\t170\t370\tlittle\n",
      "2.1\t12\t26\tbaby\n",
      "2.1\t13\t28\tsmall\n",
      "2.0\t43\t89\tquite\n",
      "2.0\t45\t93\tfound\n",
      "1.9\t15\t30\tquiet\n",
      "1.9\t13\t26\tover\n",
      "1.9\t12\t24\tagain\n",
      "1.9\t19\t38\thannah\n",
      "1.9\t19\t38\twindow\n",
      "1.8\t15\t29\trose\n",
      "1.8\t26\t50\teverything\n",
      "1.8\t12\t23\tbit\n",
      "1.8\t12\t23\tsweet\n",
      "1.8\t11\t21\tloved\n",
      "1.8\t28\t53\tfeeling\n",
      "1.8\t27\t51\tcare\n",
      "1.8\t18\t34\tspirit\n"
     ]
    }
   ],
   "source": [
    "common_words=set([w for w in sorted (word_freq['female'],key=word_freq['female'].get,reverse=True)[:400]]+\n",
    "                    [w for w in sorted (word_freq['male'],key=word_freq['male'].get,reverse=True)[:400]])\n",
    "\n",
    "common_words=list(common_words-male_words-female_words)\n",
    "\n",
    "male_percent = { word : (word_freq['male'].get(word,0) / word_counter['male'])/ (word_freq['female'].get(word,0) / \n",
    "word_counter['female']+word_freq['male'].get(word,0)/word_counter['male']) for word in common_words}\n",
    "#print(\"Common words:\", common_words)\n",
    "\n",
    "\n",
    "header ='Ratio\\tMale\\tFemale\\tWord'\n",
    "print('Male words')\n",
    "print(header)\n",
    "for word in sorted (male_percent,key=male_percent.get,reverse=True)[:50]:\n",
    "    try:\n",
    "        ratio=male_percent[word]/(1-male_percent[word])\n",
    "    except:\n",
    "        ratio=10\n",
    "    print('%.1f\\t%02d\\t%02d\\t%s' % (ratio,word_freq['male'].get(word,0),word_freq['female'].get(word,0),word))\n",
    "\n",
    "print('\\n'*2)\n",
    "print('Female words')\n",
    "print(header)\n",
    "for word in sorted (male_percent,key=male_percent.get,reverse=False)[:50]:\n",
    "    try:\n",
    "        ratio=(1-male_percent[word])/male_percent[word]\n",
    "    except:\n",
    "        ratio=10\n",
    "    print('%.1f\\t%01d\\t%01d\\t%s' % (ratio,word_freq['male'].get(word,0),word_freq['female'].get(word,0),word))\n"
   ]
  },
  {
   "cell_type": "code",
   "execution_count": 5,
   "metadata": {},
   "outputs": [
    {
     "name": "stdout",
     "output_type": "stream",
     "text": [
      "34.0% gendered\n",
      "3133 sentences about men.\n",
      "2857 sentences about women.\n",
      "1.1 sentences about men for each sentence about women.\n"
     ]
    }
   ],
   "source": [
    "print ('%.1f%% gendered' % (100*(sentence_counter['male']+sentence_counter['female'])/\n",
    "                           (sentence_counter['male']+sentence_counter['female']+sentence_counter['both']+sentence_counter['none'])))\n",
    "print ('%s sentences about men.' % sentence_counter['male'])\n",
    "print ('%s sentences about women.' % sentence_counter['female'])\n",
    "print ('%.1f sentences about men for each sentence about women.' % (sentence_counter['male']/sentence_counter['female']))"
   ]
  }
 ],
 "metadata": {
  "kernelspec": {
   "display_name": "Python 3.10.5 64-bit",
   "language": "python",
   "name": "python3"
  },
  "language_info": {
   "codemirror_mode": {
    "name": "ipython",
    "version": 3
   },
   "file_extension": ".py",
   "mimetype": "text/x-python",
   "name": "python",
   "nbconvert_exporter": "python",
   "pygments_lexer": "ipython3",
   "version": "3.10.5"
  },
  "orig_nbformat": 4,
  "vscode": {
   "interpreter": {
    "hash": "aee8b7b246df8f9039afb4144a1f6fd8d2ca17a180786b69acc140d282b71a49"
   }
  }
 },
 "nbformat": 4,
 "nbformat_minor": 2
}
