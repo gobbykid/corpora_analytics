{
 "cells": [
  {
   "cell_type": "markdown",
   "metadata": {},
   "source": [
    "## Word2vec model for GOBBYKID"
   ]
  },
  {
   "cell_type": "markdown",
   "metadata": {},
   "source": [
    "In order to display values representing words similarities, we first need to create some models to train with respect to our corpora. Such models will be ablo to use <i>word embeddings</i> in order to retrieve similarities between the words of each corpus. This will be accomplished thanks to the mapping of such words into of feature-vectors.</br>\n",
    "The aim of this section is to develop some different <i><u>word2vec</u></i> models, each with different parameters.</br>\n",
    "At the end of the training session, we will qualitatively decide which one performs better in the definition of word similarities and save such model (obviously, the models will be two for each try: one for the female authors corpus and the other one for the male authors corpus). "
   ]
  },
  {
   "cell_type": "markdown",
   "metadata": {},
   "source": [
    "---------"
   ]
  },
  {
   "cell_type": "markdown",
   "metadata": {},
   "source": [
    "### Setup"
   ]
  },
  {
   "cell_type": "markdown",
   "metadata": {},
   "source": [
    "#### Install required libraries"
   ]
  },
  {
   "cell_type": "markdown",
   "metadata": {},
   "source": [
    "To have an overview of the libraries used in this project, you can check the [README file](README.md)."
   ]
  },
  {
   "cell_type": "markdown",
   "metadata": {},
   "source": [
    "Once followed the instructions provided in the above mentioned file, you can import the libraries, as well as the functions defined in the [normalizations functions file](normalization_functions.py)."
   ]
  },
  {
   "cell_type": "code",
   "execution_count": 1,
   "metadata": {},
   "outputs": [],
   "source": [
    "from normalization_functions import *"
   ]
  },
  {
   "cell_type": "markdown",
   "metadata": {},
   "source": [
    "---------"
   ]
  },
  {
   "cell_type": "markdown",
   "metadata": {},
   "source": [
    "### Reading the corpora"
   ]
  },
  {
   "cell_type": "markdown",
   "metadata": {},
   "source": [
    "Seen that the purpose of this project is the one defined in the [README file](README.md), we have obviously decided to train our model on the basis of the two corpora that we aim at analyzing."
   ]
  },
  {
   "cell_type": "markdown",
   "metadata": {},
   "source": [
    "In order to create a w2v model, we first need to create the two corpora for which we want to build the model, then we will store all the urls of the texts contained inside them into two different lists.</br>\n",
    "Such lists will be passed as input to a function developed to store all the tokens of a corpus inside a list. During this step, texts will also need some preprocessing operation that will be performed by the same <span style=\"color:#89FC00\"><i>list_builder</i></span> function, contained inside the [normalization functions file](normalization_functions.py), that will also create the two lists of which we were talking before."
   ]
  },
  {
   "cell_type": "code",
   "execution_count": 2,
   "metadata": {},
   "outputs": [],
   "source": [
    "f_directory = \"assets/Raw corpora/F/\"\n",
    "m_directory = \"assets/Raw corpora/M/\"\n",
    "f_corpus = create_corpus(f_directory)\n",
    "m_corpus = create_corpus(m_directory)"
   ]
  },
  {
   "cell_type": "code",
   "execution_count": 3,
   "metadata": {},
   "outputs": [],
   "source": [
    "# Female authors corpus\n",
    "f_authors_texts = list()\n",
    "for url in f_corpus.fileids():\n",
    "    if url != '.DS_Store':\n",
    "        f_authors_texts.append(f_directory+url)\n",
    "\n",
    "# Male authors corpus\n",
    "m_authors_texts = list()\n",
    "for url in m_corpus.fileids():\n",
    "    if url != '.DS_Store':\n",
    "        m_authors_texts.append(m_directory+url)"
   ]
  },
  {
   "cell_type": "markdown",
   "metadata": {},
   "source": [
    "These are the urls extracted:"
   ]
  },
  {
   "cell_type": "code",
   "execution_count": 4,
   "metadata": {},
   "outputs": [
    {
     "name": "stdout",
     "output_type": "stream",
     "text": [
      "URLS of female authors texts: ['assets/Raw corpora/F/1839_sinclair-holiday-house-a-series-of-tales.txt', 'assets/Raw corpora/F/1841_martineau-the-settlers-at-home.txt', 'assets/Raw corpora/F/1857_browne-grannys-wonderful-chair.txt', 'assets/Raw corpora/F/1857_tucker-the-rambles-of-a-rat.txt', 'assets/Raw corpora/F/1862_ewing-melchiors-dream-and-other-tales.txt', 'assets/Raw corpora/F/1869_ewing-mrs-overtheways-remembrances.txt', 'assets/Raw corpora/F/1869_ewing-the-land-of-lost-toys.txt', 'assets/Raw corpora/F/1870_ewing-the-brownies-and-other-tales.txt', 'assets/Raw corpora/F/1872_craik-the-adventure-of-a-brownie.txt', 'assets/Raw corpora/F/1872_de-la-ramee-a-dog-of-flanders.txt', 'assets/Raw corpora/F/1873_ewing-a-flat-iron-for-a-farthing.txt', 'assets/Raw corpora/F/1875_craik-the-little-lame-prince-and-his-traveling-cloack.txt', 'assets/Raw corpora/F/1876_ewing-jan-of-the-windmill.txt', 'assets/Raw corpora/F/1876_ewing-six-to-sixteen-a-story-for-girls.txt', 'assets/Raw corpora/F/1877_ewing-a-great-emergency-and-other-tales.txt', 'assets/Raw corpora/F/1877_molesworth-the-cuckoo-clock.txt', 'assets/Raw corpora/F/1877_sewell-black-beauty.txt', 'assets/Raw corpora/F/1879_ewing-jackanapes-daddy-darwins-dovecot-and-other-stories.txt', 'assets/Raw corpora/F/1882_ewing-brothers-of-pity-and-other-tales-of-beasts-and-men.txt', 'assets/Raw corpora/F/1886_hodgson-burnett-little-lord-fauntleroy.txt', 'assets/Raw corpora/F/1887_molesworth-four-winds-farm.txt', 'assets/Raw corpora/F/1888_ewing-snap-dragons-old-father-christmas.txt', 'assets/Raw corpora/F/1899_nesbit-the-story-of-the-treasure-seekers.txt'] \n",
      "\n",
      "URLS of male authors texts: ['assets/Raw corpora/M/1841_marryat-masterman-ready.txt', 'assets/Raw corpora/M/1845_dickens-the-cricket-on-the-hearth-a-fairy-tale-of-home.txt', 'assets/Raw corpora/M/1847_marryat-the-children-of-the-new-forest.txt', 'assets/Raw corpora/M/1848_marryat-the-little-savage.txt', 'assets/Raw corpora/M/1851_ruskin-the-king-of-the-golden-river.txt', 'assets/Raw corpora/M/1857_ballantyne-the-coral-island-a-tale-of-the-pacific-ocean.txt', 'assets/Raw corpora/M/1857_hughes-tom-browns-school-days.txt', 'assets/Raw corpora/M/1862_farrar-st-winfreds-the-world-of-school.txt', 'assets/Raw corpora/M/1863_kingsley-the-water-babies.txt', 'assets/Raw corpora/M/1865_carroll-alices-adventures-in-wonderland.txt', 'assets/Raw corpora/M/1869_dickens-david-copperfield.txt', 'assets/Raw corpora/M/1870_hemyng-jack-harkaways-boy-tinker-among-the-turks.txt', 'assets/Raw corpora/M/1871_macdonald-at-the-back-of-the-north-wind.txt', 'assets/Raw corpora/M/1871_macdonald-ranald-bannermans-boyhood.txt', 'assets/Raw corpora/M/1872_macdonald-the-princess-and-the-goblin.txt', 'assets/Raw corpora/M/1873_macdonald-gutta-percha-willie-the-working-genius.txt', 'assets/Raw corpora/M/1875_macdonald-a-double-story.txt', 'assets/Raw corpora/M/1878_kingston-the-three-admirals.txt', 'assets/Raw corpora/M/1879_hemyng-jack-harkaway-in-new-york.txt', 'assets/Raw corpora/M/1879_hemyng-the-slave-of-the-mine.txt', 'assets/Raw corpora/M/1882_jefferies-bevis-the-story-of-a-boy.txt', 'assets/Raw corpora/M/1883_fenn-nat-the-naturalist-a-boys-adventures-in-the-eastern-seas.txt', 'assets/Raw corpora/M/1883_stevenson-treasure-island.txt', 'assets/Raw corpora/M/1888_macdonald-a-rough-shaking.txt', 'assets/Raw corpora/M/1888_wilde-the-happy-prince-and-other-tales.txt', 'assets/Raw corpora/M/1894_kipling-the-jungle-book.txt', 'assets/Raw corpora/M/1899_kipling-rewards-and-fairies.txt', 'assets/Raw corpora/M/190?_hemyng-jack-harkaway-and-his-sons-escape-from-the-brigands-of-greece.txt'] \n",
      "\n"
     ]
    }
   ],
   "source": [
    "print(\"URLS of female authors texts:\", f_authors_texts, '\\n')\n",
    "print(\"URLS of male authors texts:\", m_authors_texts, '\\n')"
   ]
  },
  {
   "cell_type": "markdown",
   "metadata": {},
   "source": [
    "Now, as we said above, we will go on by creating the two lists:"
   ]
  },
  {
   "cell_type": "code",
   "execution_count": 5,
   "metadata": {},
   "outputs": [],
   "source": [
    "f_tokens = list_builder(f_authors_texts)"
   ]
  },
  {
   "cell_type": "code",
   "execution_count": 6,
   "metadata": {},
   "outputs": [],
   "source": [
    "m_tokens = list_builder(m_authors_texts)"
   ]
  },
  {
   "cell_type": "markdown",
   "metadata": {},
   "source": [
    "---------"
   ]
  },
  {
   "cell_type": "markdown",
   "metadata": {},
   "source": [
    "### Models"
   ]
  },
  {
   "cell_type": "markdown",
   "metadata": {},
   "source": [
    "Once we have the two lists, we need to initialize the two different models thanks to the Gensim library.</br>\n",
    "Each model will be used for the respective corpus on which it has been trained."
   ]
  },
  {
   "cell_type": "markdown",
   "metadata": {},
   "source": [
    "<b><u>Model testing</u></b>"
   ]
  },
  {
   "cell_type": "markdown",
   "metadata": {},
   "source": [
    "To this end, we will create six groups of models and see which between these will perform better.</br>\n",
    "The parameters will be different for each group, and now we will provide a brief overiview of what we want to do.</br>\n",
    "In the word2vec model we may use 2 different methodologies to retrieve/produce word embeddings:\n",
    "- <span style=\"color:#EE6352\">CBOW (Continuous Bag Of Words)</span> - this first methodology operates by trying to solve a sort of \"fake problem\": given a context, the model tries to predict a target missing word. This is the base on which the model is trained in CBOW;\n",
    "- <span style=\"color:#EE6352\">Skip Grams</span> - the methodologies operates in an opposite way, it tries to solve a similar problem but, this time, the input is the target word and the output will be its context.\n",
    "\n",
    "These are two different ways to train a word2vec model.</br></br>\n",
    "Together with these different ways to compute embeddings, we will try to change the <i>context-window size</i>, that is basically the amount of words that are part of the context we aim at analyzing (the size represents the amount of words on the left side and on the right side of the target word; e.g for a size of 3, the 3 words on the left and the 3 words on the right of a target word will be considered).</br>\n",
    "The different window sizes are computed after reading the article [Dependency-Based Word Embeddings](https://levyomer.files.wordpress.com/2014/04/dependency-based-word-embeddings-acl-2014.pdf), which states that <i>larger windows tend to capture more topic/domain information, while smaller windows tend to capture more information about the word itself</i>.</br>\n",
    "        To this end, we will produce three groups of models for each methodology, and these will have small window size, medium window size and large window size.\n",
    "\n",
    "Finally, we will use a <i>vector_size=80</i> (it means we will consider 80 features to describe the dimension of each word), this choice is based on the size of our corpus."
   ]
  },
  {
   "cell_type": "markdown",
   "metadata": {},
   "source": [
    "<span style=\"color:#F0A202\"><i>PAY ATTENTION: In order to use the \"workers\" parameter defined inside each w2v model object, you need first to install <b>Cython</b>. Such parameter operates by deciding how many core of the CPU will be used for operations concerning the model. If Cython is not installed, the model will use by default one single core, therefore the operations will take way too much time to be performed.</i></span>"
   ]
  },
  {
   "cell_type": "markdown",
   "metadata": {},
   "source": [
    "-------"
   ]
  },
  {
   "cell_type": "markdown",
   "metadata": {},
   "source": [
    "#### CBOW Models"
   ]
  },
  {
   "cell_type": "markdown",
   "metadata": {},
   "source": [
    "<b><span style=\"color:#EE6352\">Small window</span></b>"
   ]
  },
  {
   "cell_type": "markdown",
   "metadata": {},
   "source": [
    "The first operation to perform is the construction of a model. </br>\n",
    "Inside the model, some parameters can be specified. For instance, we will work only with:\n",
    "- <i>window</i>: defines the window size;\n",
    "- <i>min_count</i>: defines the minnimum length of sentences to be considered;\n",
    "- <i>workers</i>: defines the CPU cores that will compute calculations for the model (my CPU has 8 cores, if you have a CPU with less cores, please modify this value);\n",
    "- <i>sg</i>: can assume the value of 1 or 0 (the default value), if its value is 1, then it will use skip grams to train the model, if the value is 0 it will train the model on a CBOW approach."
   ]
  },
  {
   "cell_type": "code",
   "execution_count": 7,
   "metadata": {},
   "outputs": [],
   "source": [
    "f_sw_cbow_model = gensim.models.Word2Vec(\n",
    "    window=3,\n",
    "    min_count=2, #This parameter do not consider sentences with \"x\" words or less, where x is the integer value specified\n",
    "    workers=8, #This parameter is intended for CPU cores, if you have a CPU with less than 8 cores please modify the value\n",
    "    sg=0,\n",
    "    vector_size=100\n",
    ")"
   ]
  },
  {
   "cell_type": "code",
   "execution_count": 8,
   "metadata": {},
   "outputs": [],
   "source": [
    "m_sw_cbow_model = gensim.models.Word2Vec(\n",
    "    window=3,\n",
    "    min_count=2,\n",
    "    workers=8, \n",
    "    sg=0,\n",
    "    vector_size=100\n",
    ")"
   ]
  },
  {
   "cell_type": "markdown",
   "metadata": {},
   "source": [
    "The next step consists in building <i>vocabularies</i>, that is a collection of all the single tokens for each one of our models.</br>\n",
    "In order to build vocabularies we will use the <span style=\"color:#89FC00\">build_vocab()</span> method, provided by Gensim."
   ]
  },
  {
   "cell_type": "code",
   "execution_count": 9,
   "metadata": {},
   "outputs": [],
   "source": [
    "f_sw_cbow_model.build_vocab(f_tokens, progress_per=1000)"
   ]
  },
  {
   "cell_type": "code",
   "execution_count": 10,
   "metadata": {},
   "outputs": [],
   "source": [
    "m_sw_cbow_model.build_vocab(m_tokens, progress_per=1000)"
   ]
  },
  {
   "cell_type": "markdown",
   "metadata": {},
   "source": [
    "-------"
   ]
  },
  {
   "cell_type": "markdown",
   "metadata": {},
   "source": [
    "<b><span style=\"color:#EE6352\">Medium window</span></b>"
   ]
  },
  {
   "cell_type": "code",
   "execution_count": 11,
   "metadata": {},
   "outputs": [],
   "source": [
    "f_mw_cbow_model = gensim.models.Word2Vec(\n",
    "    window=6,\n",
    "    min_count=2, \n",
    "    workers=8,\n",
    "    sg=0,\n",
    "    vector_size=100\n",
    ")"
   ]
  },
  {
   "cell_type": "code",
   "execution_count": 12,
   "metadata": {},
   "outputs": [],
   "source": [
    "m_mw_cbow_model = gensim.models.Word2Vec(\n",
    "    window=6,\n",
    "    min_count=2,\n",
    "    workers=8, \n",
    "    sg=0,\n",
    "    vector_size=100\n",
    ")"
   ]
  },
  {
   "cell_type": "code",
   "execution_count": 13,
   "metadata": {},
   "outputs": [],
   "source": [
    "f_mw_cbow_model.build_vocab(f_tokens, progress_per=1000)"
   ]
  },
  {
   "cell_type": "code",
   "execution_count": 14,
   "metadata": {},
   "outputs": [],
   "source": [
    "m_mw_cbow_model.build_vocab(m_tokens, progress_per=1000)"
   ]
  },
  {
   "cell_type": "markdown",
   "metadata": {},
   "source": [
    "--------"
   ]
  },
  {
   "cell_type": "markdown",
   "metadata": {},
   "source": [
    "<b><span style=\"color:#EE6352\">Large window</span></b>"
   ]
  },
  {
   "cell_type": "code",
   "execution_count": 15,
   "metadata": {},
   "outputs": [],
   "source": [
    "f_lw_cbow_model = gensim.models.Word2Vec(\n",
    "    window=9,\n",
    "    min_count=2, \n",
    "    workers=8, \n",
    "    sg=0,\n",
    "    vector_size=100\n",
    ")"
   ]
  },
  {
   "cell_type": "code",
   "execution_count": 16,
   "metadata": {},
   "outputs": [],
   "source": [
    "m_lw_cbow_model = gensim.models.Word2Vec(\n",
    "    window=9,\n",
    "    min_count=2,\n",
    "    workers=8,\n",
    "    sg=0,\n",
    "    vector_size=100\n",
    ")"
   ]
  },
  {
   "cell_type": "code",
   "execution_count": 17,
   "metadata": {},
   "outputs": [],
   "source": [
    "f_lw_cbow_model.build_vocab(f_tokens, progress_per=1000)"
   ]
  },
  {
   "cell_type": "code",
   "execution_count": 18,
   "metadata": {},
   "outputs": [],
   "source": [
    "m_lw_cbow_model.build_vocab(m_tokens, progress_per=1000)"
   ]
  },
  {
   "cell_type": "markdown",
   "metadata": {},
   "source": [
    "----------"
   ]
  },
  {
   "cell_type": "markdown",
   "metadata": {},
   "source": [
    "#### Skip Gram Models"
   ]
  },
  {
   "cell_type": "markdown",
   "metadata": {},
   "source": [
    "While CBOW model is better in capturing syntactic relationships, the Skip Gram model preforms better in extracting semantic relationships."
   ]
  },
  {
   "cell_type": "markdown",
   "metadata": {},
   "source": [
    "<b><span style=\"color:#EE6352\">Small window</span></b>"
   ]
  },
  {
   "cell_type": "code",
   "execution_count": 19,
   "metadata": {},
   "outputs": [],
   "source": [
    "f_sw_skip_model = gensim.models.Word2Vec(\n",
    "    window=3,\n",
    "    min_count=2,\n",
    "    workers=8,\n",
    "    sg=1,\n",
    "    vector_size=100\n",
    ")"
   ]
  },
  {
   "cell_type": "code",
   "execution_count": 20,
   "metadata": {},
   "outputs": [],
   "source": [
    "m_sw_skip_model = gensim.models.Word2Vec(\n",
    "    window=3,\n",
    "    min_count=2,\n",
    "    workers=8,\n",
    "    sg=1,\n",
    "    vector_size=100\n",
    ")"
   ]
  },
  {
   "cell_type": "code",
   "execution_count": 21,
   "metadata": {},
   "outputs": [],
   "source": [
    "f_sw_skip_model.build_vocab(f_tokens, progress_per=1000)"
   ]
  },
  {
   "cell_type": "code",
   "execution_count": 22,
   "metadata": {},
   "outputs": [],
   "source": [
    "m_sw_skip_model.build_vocab(m_tokens, progress_per=1000)"
   ]
  },
  {
   "cell_type": "markdown",
   "metadata": {},
   "source": [
    "-------"
   ]
  },
  {
   "cell_type": "markdown",
   "metadata": {},
   "source": [
    "<b><span style=\"color:#EE6352\">Medium window</span></b>"
   ]
  },
  {
   "cell_type": "code",
   "execution_count": 23,
   "metadata": {},
   "outputs": [],
   "source": [
    "f_mw_skip_model = gensim.models.Word2Vec(\n",
    "    window=6,\n",
    "    min_count=2,\n",
    "    workers=8,\n",
    "    sg=1,\n",
    "    vector_size=100\n",
    ")"
   ]
  },
  {
   "cell_type": "code",
   "execution_count": 24,
   "metadata": {},
   "outputs": [],
   "source": [
    "m_mw_skip_model = gensim.models.Word2Vec(\n",
    "    window=6,\n",
    "    min_count=2,\n",
    "    workers=8, \n",
    "    sg=1,\n",
    "    vector_size=100\n",
    ")"
   ]
  },
  {
   "cell_type": "code",
   "execution_count": 25,
   "metadata": {},
   "outputs": [],
   "source": [
    "f_mw_skip_model.build_vocab(f_tokens, progress_per=1000)"
   ]
  },
  {
   "cell_type": "code",
   "execution_count": 26,
   "metadata": {},
   "outputs": [],
   "source": [
    "m_mw_skip_model.build_vocab(m_tokens, progress_per=1000)"
   ]
  },
  {
   "cell_type": "markdown",
   "metadata": {},
   "source": [
    "--------"
   ]
  },
  {
   "cell_type": "markdown",
   "metadata": {},
   "source": [
    "<b><span style=\"color:#EE6352\">Large window</span></b>"
   ]
  },
  {
   "cell_type": "code",
   "execution_count": 27,
   "metadata": {},
   "outputs": [],
   "source": [
    "f_lw_skip_model = gensim.models.Word2Vec(\n",
    "    window=9,\n",
    "    min_count=2, \n",
    "    workers=8,\n",
    "    sg=1,\n",
    "    vector_size=100\n",
    ")"
   ]
  },
  {
   "cell_type": "code",
   "execution_count": 28,
   "metadata": {},
   "outputs": [],
   "source": [
    "m_lw_skip_model = gensim.models.Word2Vec(\n",
    "    window=9,\n",
    "    min_count=2,\n",
    "    workers=8,\n",
    "    sg=1,\n",
    "    vector_size=100\n",
    ")"
   ]
  },
  {
   "cell_type": "code",
   "execution_count": 29,
   "metadata": {},
   "outputs": [],
   "source": [
    "f_lw_skip_model.build_vocab(f_tokens, progress_per=1000)"
   ]
  },
  {
   "cell_type": "code",
   "execution_count": 30,
   "metadata": {},
   "outputs": [],
   "source": [
    "m_lw_skip_model.build_vocab(m_tokens, progress_per=1000)"
   ]
  },
  {
   "cell_type": "markdown",
   "metadata": {},
   "source": [
    "--------"
   ]
  },
  {
   "cell_type": "markdown",
   "metadata": {},
   "source": [
    "### Train the models"
   ]
  },
  {
   "cell_type": "markdown",
   "metadata": {},
   "source": [
    "The next step consists on training the different groups of models that we have built. We will do it thanks to the Gensim <span style=\"color:#89FC00\">.train()</span> method."
   ]
  },
  {
   "cell_type": "markdown",
   "metadata": {},
   "source": [
    "<b><span style=\"color:#EE6352\">Small window</span></b>"
   ]
  },
  {
   "cell_type": "code",
   "execution_count": 31,
   "metadata": {},
   "outputs": [
    {
     "data": {
      "text/plain": [
       "(6554064, 7630590)"
      ]
     },
     "execution_count": 31,
     "metadata": {},
     "output_type": "execute_result"
    }
   ],
   "source": [
    "f_sw_cbow_model.train(f_tokens, total_examples=f_sw_cbow_model.corpus_count, epochs=f_sw_cbow_model.epochs)\n",
    "m_sw_cbow_model.train(m_tokens, total_examples=m_sw_cbow_model.corpus_count, epochs=m_sw_cbow_model.epochs)"
   ]
  },
  {
   "cell_type": "code",
   "execution_count": 32,
   "metadata": {},
   "outputs": [
    {
     "data": {
      "text/plain": [
       "(6552636, 7630590)"
      ]
     },
     "execution_count": 32,
     "metadata": {},
     "output_type": "execute_result"
    }
   ],
   "source": [
    "f_sw_skip_model.train(f_tokens, total_examples=f_sw_skip_model.corpus_count, epochs=f_sw_skip_model.epochs)\n",
    "m_sw_skip_model.train(m_tokens, total_examples=m_sw_skip_model.corpus_count, epochs=m_sw_skip_model.epochs)"
   ]
  },
  {
   "cell_type": "markdown",
   "metadata": {},
   "source": [
    "--------------"
   ]
  },
  {
   "cell_type": "markdown",
   "metadata": {},
   "source": [
    "<b><span style=\"color:#EE6352\">Medium window</span></b>"
   ]
  },
  {
   "cell_type": "code",
   "execution_count": 33,
   "metadata": {},
   "outputs": [
    {
     "data": {
      "text/plain": [
       "(6553110, 7630590)"
      ]
     },
     "execution_count": 33,
     "metadata": {},
     "output_type": "execute_result"
    }
   ],
   "source": [
    "f_mw_cbow_model.train(f_tokens, total_examples=f_mw_cbow_model.corpus_count, epochs=f_mw_cbow_model.epochs)\n",
    "m_mw_cbow_model.train(m_tokens, total_examples=m_mw_cbow_model.corpus_count, epochs=m_mw_cbow_model.epochs)"
   ]
  },
  {
   "cell_type": "code",
   "execution_count": 34,
   "metadata": {},
   "outputs": [
    {
     "data": {
      "text/plain": [
       "(6552772, 7630590)"
      ]
     },
     "execution_count": 34,
     "metadata": {},
     "output_type": "execute_result"
    }
   ],
   "source": [
    "f_mw_skip_model.train(f_tokens, total_examples=f_mw_skip_model.corpus_count, epochs=f_mw_skip_model.epochs)\n",
    "m_mw_skip_model.train(m_tokens, total_examples=m_mw_skip_model.corpus_count, epochs=m_mw_skip_model.epochs)"
   ]
  },
  {
   "cell_type": "markdown",
   "metadata": {},
   "source": [
    "--------"
   ]
  },
  {
   "cell_type": "markdown",
   "metadata": {},
   "source": [
    "<b><span style=\"color:#EE6352\">Large window</span></b>"
   ]
  },
  {
   "cell_type": "markdown",
   "metadata": {},
   "source": [
    "Maybe, this section provides the best output for our porject."
   ]
  },
  {
   "cell_type": "code",
   "execution_count": 35,
   "metadata": {},
   "outputs": [
    {
     "data": {
      "text/plain": [
       "(6553729, 7630590)"
      ]
     },
     "execution_count": 35,
     "metadata": {},
     "output_type": "execute_result"
    }
   ],
   "source": [
    "f_lw_cbow_model.train(f_tokens, total_examples=f_lw_cbow_model.corpus_count, epochs=f_lw_cbow_model.epochs)\n",
    "m_lw_cbow_model.train(m_tokens, total_examples=m_lw_cbow_model.corpus_count, epochs=m_lw_cbow_model.epochs)"
   ]
  },
  {
   "cell_type": "code",
   "execution_count": 36,
   "metadata": {},
   "outputs": [
    {
     "data": {
      "text/plain": [
       "(6553749, 7630590)"
      ]
     },
     "execution_count": 36,
     "metadata": {},
     "output_type": "execute_result"
    }
   ],
   "source": [
    "f_lw_skip_model.train(f_tokens, total_examples=f_lw_skip_model.corpus_count, epochs=f_lw_skip_model.epochs)\n",
    "m_lw_skip_model.train(m_tokens, total_examples=m_lw_skip_model.corpus_count, epochs=m_lw_skip_model.epochs)"
   ]
  },
  {
   "cell_type": "markdown",
   "metadata": {},
   "source": [
    "--------"
   ]
  },
  {
   "cell_type": "markdown",
   "metadata": {},
   "source": [
    "### Comparison between models"
   ]
  },
  {
   "cell_type": "markdown",
   "metadata": {},
   "source": [
    "<b><span style=\"color:#EE6352\">Small window</span></b>"
   ]
  },
  {
   "cell_type": "code",
   "execution_count": 37,
   "metadata": {},
   "outputs": [
    {
     "data": {
      "text/html": [
       "<div>\n",
       "<style scoped>\n",
       "    .dataframe tbody tr th:only-of-type {\n",
       "        vertical-align: middle;\n",
       "    }\n",
       "\n",
       "    .dataframe tbody tr th {\n",
       "        vertical-align: top;\n",
       "    }\n",
       "\n",
       "    .dataframe thead th {\n",
       "        text-align: right;\n",
       "    }\n",
       "</style>\n",
       "<table border=\"1\" class=\"dataframe\">\n",
       "  <thead>\n",
       "    <tr style=\"text-align: right;\">\n",
       "      <th></th>\n",
       "      <th>Word</th>\n",
       "      <th>Vector similarity</th>\n",
       "    </tr>\n",
       "  </thead>\n",
       "  <tbody>\n",
       "    <tr>\n",
       "      <th>0</th>\n",
       "      <td>youth</td>\n",
       "      <td>0.994863</td>\n",
       "    </tr>\n",
       "    <tr>\n",
       "      <th>1</th>\n",
       "      <td>disappointment</td>\n",
       "      <td>0.994437</td>\n",
       "    </tr>\n",
       "    <tr>\n",
       "      <th>2</th>\n",
       "      <td>favorite</td>\n",
       "      <td>0.993046</td>\n",
       "    </tr>\n",
       "    <tr>\n",
       "      <th>3</th>\n",
       "      <td>chief</td>\n",
       "      <td>0.992898</td>\n",
       "    </tr>\n",
       "    <tr>\n",
       "      <th>4</th>\n",
       "      <td>fame</td>\n",
       "      <td>0.992635</td>\n",
       "    </tr>\n",
       "    <tr>\n",
       "      <th>5</th>\n",
       "      <td>favourite</td>\n",
       "      <td>0.992560</td>\n",
       "    </tr>\n",
       "    <tr>\n",
       "      <th>6</th>\n",
       "      <td>victuals</td>\n",
       "      <td>0.992186</td>\n",
       "    </tr>\n",
       "    <tr>\n",
       "      <th>7</th>\n",
       "      <td>gun</td>\n",
       "      <td>0.992161</td>\n",
       "    </tr>\n",
       "    <tr>\n",
       "      <th>8</th>\n",
       "      <td>nail</td>\n",
       "      <td>0.992087</td>\n",
       "    </tr>\n",
       "    <tr>\n",
       "      <th>9</th>\n",
       "      <td>christening</td>\n",
       "      <td>0.991959</td>\n",
       "    </tr>\n",
       "  </tbody>\n",
       "</table>\n",
       "</div>"
      ],
      "text/plain": [
       "             Word  Vector similarity\n",
       "0           youth           0.994863\n",
       "1  disappointment           0.994437\n",
       "2        favorite           0.993046\n",
       "3           chief           0.992898\n",
       "4            fame           0.992635\n",
       "5       favourite           0.992560\n",
       "6        victuals           0.992186\n",
       "7             gun           0.992161\n",
       "8            nail           0.992087\n",
       "9     christening           0.991959"
      ]
     },
     "execution_count": 37,
     "metadata": {},
     "output_type": "execute_result"
    }
   ],
   "source": [
    "DataFrame(f_sw_cbow_model.wv.most_similar(\"marriage\")).rename(columns={0:\"Word\", 1:\"Vector similarity\"})"
   ]
  },
  {
   "cell_type": "code",
   "execution_count": 38,
   "metadata": {},
   "outputs": [
    {
     "data": {
      "text/html": [
       "<div>\n",
       "<style scoped>\n",
       "    .dataframe tbody tr th:only-of-type {\n",
       "        vertical-align: middle;\n",
       "    }\n",
       "\n",
       "    .dataframe tbody tr th {\n",
       "        vertical-align: top;\n",
       "    }\n",
       "\n",
       "    .dataframe thead th {\n",
       "        text-align: right;\n",
       "    }\n",
       "</style>\n",
       "<table border=\"1\" class=\"dataframe\">\n",
       "  <thead>\n",
       "    <tr style=\"text-align: right;\">\n",
       "      <th></th>\n",
       "      <th>Word</th>\n",
       "      <th>Vector similarity</th>\n",
       "    </tr>\n",
       "  </thead>\n",
       "  <tbody>\n",
       "    <tr>\n",
       "      <th>0</th>\n",
       "      <td>adventures</td>\n",
       "      <td>0.966656</td>\n",
       "    </tr>\n",
       "    <tr>\n",
       "      <th>1</th>\n",
       "      <td>connexion</td>\n",
       "      <td>0.964009</td>\n",
       "    </tr>\n",
       "    <tr>\n",
       "      <th>2</th>\n",
       "      <td>ambition</td>\n",
       "      <td>0.959463</td>\n",
       "    </tr>\n",
       "    <tr>\n",
       "      <th>3</th>\n",
       "      <td>circumstance</td>\n",
       "      <td>0.957449</td>\n",
       "    </tr>\n",
       "    <tr>\n",
       "      <th>4</th>\n",
       "      <td>judgment</td>\n",
       "      <td>0.957383</td>\n",
       "    </tr>\n",
       "    <tr>\n",
       "      <th>5</th>\n",
       "      <td>motive</td>\n",
       "      <td>0.954708</td>\n",
       "    </tr>\n",
       "    <tr>\n",
       "      <th>6</th>\n",
       "      <td>winning</td>\n",
       "      <td>0.954381</td>\n",
       "    </tr>\n",
       "    <tr>\n",
       "      <th>7</th>\n",
       "      <td>cares</td>\n",
       "      <td>0.954273</td>\n",
       "    </tr>\n",
       "    <tr>\n",
       "      <th>8</th>\n",
       "      <td>responsibility</td>\n",
       "      <td>0.953902</td>\n",
       "    </tr>\n",
       "    <tr>\n",
       "      <th>9</th>\n",
       "      <td>failure</td>\n",
       "      <td>0.953111</td>\n",
       "    </tr>\n",
       "  </tbody>\n",
       "</table>\n",
       "</div>"
      ],
      "text/plain": [
       "             Word  Vector similarity\n",
       "0      adventures           0.966656\n",
       "1       connexion           0.964009\n",
       "2        ambition           0.959463\n",
       "3    circumstance           0.957449\n",
       "4        judgment           0.957383\n",
       "5          motive           0.954708\n",
       "6         winning           0.954381\n",
       "7           cares           0.954273\n",
       "8  responsibility           0.953902\n",
       "9         failure           0.953111"
      ]
     },
     "execution_count": 38,
     "metadata": {},
     "output_type": "execute_result"
    }
   ],
   "source": [
    "DataFrame(m_sw_cbow_model.wv.most_similar(\"marriage\")).rename(columns={0:\"Word\", 1:\"Vector similarity\"})"
   ]
  },
  {
   "cell_type": "code",
   "execution_count": 39,
   "metadata": {},
   "outputs": [
    {
     "data": {
      "text/html": [
       "<div>\n",
       "<style scoped>\n",
       "    .dataframe tbody tr th:only-of-type {\n",
       "        vertical-align: middle;\n",
       "    }\n",
       "\n",
       "    .dataframe tbody tr th {\n",
       "        vertical-align: top;\n",
       "    }\n",
       "\n",
       "    .dataframe thead th {\n",
       "        text-align: right;\n",
       "    }\n",
       "</style>\n",
       "<table border=\"1\" class=\"dataframe\">\n",
       "  <thead>\n",
       "    <tr style=\"text-align: right;\">\n",
       "      <th></th>\n",
       "      <th>Word</th>\n",
       "      <th>Vector similarity</th>\n",
       "    </tr>\n",
       "  </thead>\n",
       "  <tbody>\n",
       "    <tr>\n",
       "      <th>0</th>\n",
       "      <td>voyage</td>\n",
       "      <td>0.955601</td>\n",
       "    </tr>\n",
       "    <tr>\n",
       "      <th>1</th>\n",
       "      <td>influence</td>\n",
       "      <td>0.955467</td>\n",
       "    </tr>\n",
       "    <tr>\n",
       "      <th>2</th>\n",
       "      <td>expense</td>\n",
       "      <td>0.954396</td>\n",
       "    </tr>\n",
       "    <tr>\n",
       "      <th>3</th>\n",
       "      <td>sufferings</td>\n",
       "      <td>0.952205</td>\n",
       "    </tr>\n",
       "    <tr>\n",
       "      <th>4</th>\n",
       "      <td>illness</td>\n",
       "      <td>0.951700</td>\n",
       "    </tr>\n",
       "    <tr>\n",
       "      <th>5</th>\n",
       "      <td>behalf</td>\n",
       "      <td>0.951527</td>\n",
       "    </tr>\n",
       "    <tr>\n",
       "      <th>6</th>\n",
       "      <td>daughters</td>\n",
       "      <td>0.950617</td>\n",
       "    </tr>\n",
       "    <tr>\n",
       "      <th>7</th>\n",
       "      <td>reign</td>\n",
       "      <td>0.950324</td>\n",
       "    </tr>\n",
       "    <tr>\n",
       "      <th>8</th>\n",
       "      <td>Bevis</td>\n",
       "      <td>0.950216</td>\n",
       "    </tr>\n",
       "    <tr>\n",
       "      <th>9</th>\n",
       "      <td>charge</td>\n",
       "      <td>0.949966</td>\n",
       "    </tr>\n",
       "  </tbody>\n",
       "</table>\n",
       "</div>"
      ],
      "text/plain": [
       "         Word  Vector similarity\n",
       "0      voyage           0.955601\n",
       "1   influence           0.955467\n",
       "2     expense           0.954396\n",
       "3  sufferings           0.952205\n",
       "4     illness           0.951700\n",
       "5      behalf           0.951527\n",
       "6   daughters           0.950617\n",
       "7       reign           0.950324\n",
       "8       Bevis           0.950216\n",
       "9      charge           0.949966"
      ]
     },
     "execution_count": 39,
     "metadata": {},
     "output_type": "execute_result"
    }
   ],
   "source": [
    "DataFrame(f_sw_skip_model.wv.most_similar(\"marriage\")).rename(columns={0:\"Word\", 1:\"Vector similarity\"})"
   ]
  },
  {
   "cell_type": "code",
   "execution_count": 40,
   "metadata": {},
   "outputs": [
    {
     "data": {
      "text/html": [
       "<div>\n",
       "<style scoped>\n",
       "    .dataframe tbody tr th:only-of-type {\n",
       "        vertical-align: middle;\n",
       "    }\n",
       "\n",
       "    .dataframe tbody tr th {\n",
       "        vertical-align: top;\n",
       "    }\n",
       "\n",
       "    .dataframe thead th {\n",
       "        text-align: right;\n",
       "    }\n",
       "</style>\n",
       "<table border=\"1\" class=\"dataframe\">\n",
       "  <thead>\n",
       "    <tr style=\"text-align: right;\">\n",
       "      <th></th>\n",
       "      <th>Word</th>\n",
       "      <th>Vector similarity</th>\n",
       "    </tr>\n",
       "  </thead>\n",
       "  <tbody>\n",
       "    <tr>\n",
       "      <th>0</th>\n",
       "      <td>folly</td>\n",
       "      <td>0.893837</td>\n",
       "    </tr>\n",
       "    <tr>\n",
       "      <th>1</th>\n",
       "      <td>strict</td>\n",
       "      <td>0.892370</td>\n",
       "    </tr>\n",
       "    <tr>\n",
       "      <th>2</th>\n",
       "      <td>devoted</td>\n",
       "      <td>0.887794</td>\n",
       "    </tr>\n",
       "    <tr>\n",
       "      <th>3</th>\n",
       "      <td>judgment</td>\n",
       "      <td>0.882866</td>\n",
       "    </tr>\n",
       "    <tr>\n",
       "      <th>4</th>\n",
       "      <td>boyhood</td>\n",
       "      <td>0.880122</td>\n",
       "    </tr>\n",
       "    <tr>\n",
       "      <th>5</th>\n",
       "      <td>readers</td>\n",
       "      <td>0.878888</td>\n",
       "    </tr>\n",
       "    <tr>\n",
       "      <th>6</th>\n",
       "      <td>adventure</td>\n",
       "      <td>0.878506</td>\n",
       "    </tr>\n",
       "    <tr>\n",
       "      <th>7</th>\n",
       "      <td>relative</td>\n",
       "      <td>0.875955</td>\n",
       "    </tr>\n",
       "    <tr>\n",
       "      <th>8</th>\n",
       "      <td>circumstance</td>\n",
       "      <td>0.875437</td>\n",
       "    </tr>\n",
       "    <tr>\n",
       "      <th>9</th>\n",
       "      <td>consideration</td>\n",
       "      <td>0.873743</td>\n",
       "    </tr>\n",
       "  </tbody>\n",
       "</table>\n",
       "</div>"
      ],
      "text/plain": [
       "            Word  Vector similarity\n",
       "0          folly           0.893837\n",
       "1         strict           0.892370\n",
       "2        devoted           0.887794\n",
       "3       judgment           0.882866\n",
       "4        boyhood           0.880122\n",
       "5        readers           0.878888\n",
       "6      adventure           0.878506\n",
       "7       relative           0.875955\n",
       "8   circumstance           0.875437\n",
       "9  consideration           0.873743"
      ]
     },
     "execution_count": 40,
     "metadata": {},
     "output_type": "execute_result"
    }
   ],
   "source": [
    "DataFrame(m_sw_skip_model.wv.most_similar(\"marriage\")).rename(columns={0:\"Word\", 1:\"Vector similarity\"})"
   ]
  },
  {
   "cell_type": "markdown",
   "metadata": {},
   "source": [
    "--------------"
   ]
  },
  {
   "cell_type": "markdown",
   "metadata": {},
   "source": [
    "<b><span style=\"color:#EE6352\">Medium window</span></b>"
   ]
  },
  {
   "cell_type": "code",
   "execution_count": 41,
   "metadata": {},
   "outputs": [
    {
     "data": {
      "text/html": [
       "<div>\n",
       "<style scoped>\n",
       "    .dataframe tbody tr th:only-of-type {\n",
       "        vertical-align: middle;\n",
       "    }\n",
       "\n",
       "    .dataframe tbody tr th {\n",
       "        vertical-align: top;\n",
       "    }\n",
       "\n",
       "    .dataframe thead th {\n",
       "        text-align: right;\n",
       "    }\n",
       "</style>\n",
       "<table border=\"1\" class=\"dataframe\">\n",
       "  <thead>\n",
       "    <tr style=\"text-align: right;\">\n",
       "      <th></th>\n",
       "      <th>Word</th>\n",
       "      <th>Vector similarity</th>\n",
       "    </tr>\n",
       "  </thead>\n",
       "  <tbody>\n",
       "    <tr>\n",
       "      <th>0</th>\n",
       "      <td>statement</td>\n",
       "      <td>0.995635</td>\n",
       "    </tr>\n",
       "    <tr>\n",
       "      <th>1</th>\n",
       "      <td>dreams</td>\n",
       "      <td>0.994348</td>\n",
       "    </tr>\n",
       "    <tr>\n",
       "      <th>2</th>\n",
       "      <td>admired</td>\n",
       "      <td>0.992216</td>\n",
       "    </tr>\n",
       "    <tr>\n",
       "      <th>3</th>\n",
       "      <td>joke</td>\n",
       "      <td>0.991709</td>\n",
       "    </tr>\n",
       "    <tr>\n",
       "      <th>4</th>\n",
       "      <td>property</td>\n",
       "      <td>0.991044</td>\n",
       "    </tr>\n",
       "    <tr>\n",
       "      <th>5</th>\n",
       "      <td>Captain</td>\n",
       "      <td>0.991033</td>\n",
       "    </tr>\n",
       "    <tr>\n",
       "      <th>6</th>\n",
       "      <td>experience</td>\n",
       "      <td>0.991010</td>\n",
       "    </tr>\n",
       "    <tr>\n",
       "      <th>7</th>\n",
       "      <td>staying</td>\n",
       "      <td>0.991005</td>\n",
       "    </tr>\n",
       "    <tr>\n",
       "      <th>8</th>\n",
       "      <td>history</td>\n",
       "      <td>0.990992</td>\n",
       "    </tr>\n",
       "    <tr>\n",
       "      <th>9</th>\n",
       "      <td>ended</td>\n",
       "      <td>0.990957</td>\n",
       "    </tr>\n",
       "  </tbody>\n",
       "</table>\n",
       "</div>"
      ],
      "text/plain": [
       "         Word  Vector similarity\n",
       "0   statement           0.995635\n",
       "1      dreams           0.994348\n",
       "2     admired           0.992216\n",
       "3        joke           0.991709\n",
       "4    property           0.991044\n",
       "5     Captain           0.991033\n",
       "6  experience           0.991010\n",
       "7     staying           0.991005\n",
       "8     history           0.990992\n",
       "9       ended           0.990957"
      ]
     },
     "execution_count": 41,
     "metadata": {},
     "output_type": "execute_result"
    }
   ],
   "source": [
    "DataFrame(f_mw_cbow_model.wv.most_similar(\"marriage\")).rename(columns={0:\"Word\", 1:\"Vector similarity\"})"
   ]
  },
  {
   "cell_type": "code",
   "execution_count": 42,
   "metadata": {},
   "outputs": [
    {
     "data": {
      "text/html": [
       "<div>\n",
       "<style scoped>\n",
       "    .dataframe tbody tr th:only-of-type {\n",
       "        vertical-align: middle;\n",
       "    }\n",
       "\n",
       "    .dataframe tbody tr th {\n",
       "        vertical-align: top;\n",
       "    }\n",
       "\n",
       "    .dataframe thead th {\n",
       "        text-align: right;\n",
       "    }\n",
       "</style>\n",
       "<table border=\"1\" class=\"dataframe\">\n",
       "  <thead>\n",
       "    <tr style=\"text-align: right;\">\n",
       "      <th></th>\n",
       "      <th>Word</th>\n",
       "      <th>Vector similarity</th>\n",
       "    </tr>\n",
       "  </thead>\n",
       "  <tbody>\n",
       "    <tr>\n",
       "      <th>0</th>\n",
       "      <td>misfortune</td>\n",
       "      <td>0.958482</td>\n",
       "    </tr>\n",
       "    <tr>\n",
       "      <th>1</th>\n",
       "      <td>freedom</td>\n",
       "      <td>0.944985</td>\n",
       "    </tr>\n",
       "    <tr>\n",
       "      <th>2</th>\n",
       "      <td>society</td>\n",
       "      <td>0.943623</td>\n",
       "    </tr>\n",
       "    <tr>\n",
       "      <th>3</th>\n",
       "      <td>fate</td>\n",
       "      <td>0.941384</td>\n",
       "    </tr>\n",
       "    <tr>\n",
       "      <th>4</th>\n",
       "      <td>term</td>\n",
       "      <td>0.941252</td>\n",
       "    </tr>\n",
       "    <tr>\n",
       "      <th>5</th>\n",
       "      <td>teaching</td>\n",
       "      <td>0.941057</td>\n",
       "    </tr>\n",
       "    <tr>\n",
       "      <th>6</th>\n",
       "      <td>folly</td>\n",
       "      <td>0.940854</td>\n",
       "    </tr>\n",
       "    <tr>\n",
       "      <th>7</th>\n",
       "      <td>pleasures</td>\n",
       "      <td>0.939605</td>\n",
       "    </tr>\n",
       "    <tr>\n",
       "      <th>8</th>\n",
       "      <td>principles</td>\n",
       "      <td>0.939327</td>\n",
       "    </tr>\n",
       "    <tr>\n",
       "      <th>9</th>\n",
       "      <td>separation</td>\n",
       "      <td>0.939251</td>\n",
       "    </tr>\n",
       "  </tbody>\n",
       "</table>\n",
       "</div>"
      ],
      "text/plain": [
       "         Word  Vector similarity\n",
       "0  misfortune           0.958482\n",
       "1     freedom           0.944985\n",
       "2     society           0.943623\n",
       "3        fate           0.941384\n",
       "4        term           0.941252\n",
       "5    teaching           0.941057\n",
       "6       folly           0.940854\n",
       "7   pleasures           0.939605\n",
       "8  principles           0.939327\n",
       "9  separation           0.939251"
      ]
     },
     "execution_count": 42,
     "metadata": {},
     "output_type": "execute_result"
    }
   ],
   "source": [
    "DataFrame(m_mw_cbow_model.wv.most_similar(\"marriage\")).rename(columns={0:\"Word\", 1:\"Vector similarity\"})"
   ]
  },
  {
   "cell_type": "code",
   "execution_count": 43,
   "metadata": {},
   "outputs": [
    {
     "data": {
      "text/html": [
       "<div>\n",
       "<style scoped>\n",
       "    .dataframe tbody tr th:only-of-type {\n",
       "        vertical-align: middle;\n",
       "    }\n",
       "\n",
       "    .dataframe tbody tr th {\n",
       "        vertical-align: top;\n",
       "    }\n",
       "\n",
       "    .dataframe thead th {\n",
       "        text-align: right;\n",
       "    }\n",
       "</style>\n",
       "<table border=\"1\" class=\"dataframe\">\n",
       "  <thead>\n",
       "    <tr style=\"text-align: right;\">\n",
       "      <th></th>\n",
       "      <th>Word</th>\n",
       "      <th>Vector similarity</th>\n",
       "    </tr>\n",
       "  </thead>\n",
       "  <tbody>\n",
       "    <tr>\n",
       "      <th>0</th>\n",
       "      <td>voyage</td>\n",
       "      <td>0.946059</td>\n",
       "    </tr>\n",
       "    <tr>\n",
       "      <th>1</th>\n",
       "      <td>interview</td>\n",
       "      <td>0.940724</td>\n",
       "    </tr>\n",
       "    <tr>\n",
       "      <th>2</th>\n",
       "      <td>shown</td>\n",
       "      <td>0.936649</td>\n",
       "    </tr>\n",
       "    <tr>\n",
       "      <th>3</th>\n",
       "      <td>severe</td>\n",
       "      <td>0.934634</td>\n",
       "    </tr>\n",
       "    <tr>\n",
       "      <th>4</th>\n",
       "      <td>loss</td>\n",
       "      <td>0.933221</td>\n",
       "    </tr>\n",
       "    <tr>\n",
       "      <th>5</th>\n",
       "      <td>appetite</td>\n",
       "      <td>0.933074</td>\n",
       "    </tr>\n",
       "    <tr>\n",
       "      <th>6</th>\n",
       "      <td>consulted</td>\n",
       "      <td>0.931924</td>\n",
       "    </tr>\n",
       "    <tr>\n",
       "      <th>7</th>\n",
       "      <td>reign</td>\n",
       "      <td>0.931601</td>\n",
       "    </tr>\n",
       "    <tr>\n",
       "      <th>8</th>\n",
       "      <td>Brooke</td>\n",
       "      <td>0.930550</td>\n",
       "    </tr>\n",
       "    <tr>\n",
       "      <th>9</th>\n",
       "      <td>Dacrefield</td>\n",
       "      <td>0.928372</td>\n",
       "    </tr>\n",
       "  </tbody>\n",
       "</table>\n",
       "</div>"
      ],
      "text/plain": [
       "         Word  Vector similarity\n",
       "0      voyage           0.946059\n",
       "1   interview           0.940724\n",
       "2       shown           0.936649\n",
       "3      severe           0.934634\n",
       "4        loss           0.933221\n",
       "5    appetite           0.933074\n",
       "6   consulted           0.931924\n",
       "7       reign           0.931601\n",
       "8      Brooke           0.930550\n",
       "9  Dacrefield           0.928372"
      ]
     },
     "execution_count": 43,
     "metadata": {},
     "output_type": "execute_result"
    }
   ],
   "source": [
    "DataFrame(f_mw_skip_model.wv.most_similar(\"marriage\")).rename(columns={0:\"Word\", 1:\"Vector similarity\"})"
   ]
  },
  {
   "cell_type": "code",
   "execution_count": 44,
   "metadata": {},
   "outputs": [
    {
     "data": {
      "text/html": [
       "<div>\n",
       "<style scoped>\n",
       "    .dataframe tbody tr th:only-of-type {\n",
       "        vertical-align: middle;\n",
       "    }\n",
       "\n",
       "    .dataframe tbody tr th {\n",
       "        vertical-align: top;\n",
       "    }\n",
       "\n",
       "    .dataframe thead th {\n",
       "        text-align: right;\n",
       "    }\n",
       "</style>\n",
       "<table border=\"1\" class=\"dataframe\">\n",
       "  <thead>\n",
       "    <tr style=\"text-align: right;\">\n",
       "      <th></th>\n",
       "      <th>Word</th>\n",
       "      <th>Vector similarity</th>\n",
       "    </tr>\n",
       "  </thead>\n",
       "  <tbody>\n",
       "    <tr>\n",
       "      <th>0</th>\n",
       "      <td>devoted</td>\n",
       "      <td>0.877288</td>\n",
       "    </tr>\n",
       "    <tr>\n",
       "      <th>1</th>\n",
       "      <td>Beverley</td>\n",
       "      <td>0.870024</td>\n",
       "    </tr>\n",
       "    <tr>\n",
       "      <th>2</th>\n",
       "      <td>Colonel</td>\n",
       "      <td>0.869903</td>\n",
       "    </tr>\n",
       "    <tr>\n",
       "      <th>3</th>\n",
       "      <td>crime</td>\n",
       "      <td>0.868091</td>\n",
       "    </tr>\n",
       "    <tr>\n",
       "      <th>4</th>\n",
       "      <td>title</td>\n",
       "      <td>0.866762</td>\n",
       "    </tr>\n",
       "    <tr>\n",
       "      <th>5</th>\n",
       "      <td>parson</td>\n",
       "      <td>0.864355</td>\n",
       "    </tr>\n",
       "    <tr>\n",
       "      <th>6</th>\n",
       "      <td>Fuzby</td>\n",
       "      <td>0.861567</td>\n",
       "    </tr>\n",
       "    <tr>\n",
       "      <th>7</th>\n",
       "      <td>attachment</td>\n",
       "      <td>0.858103</td>\n",
       "    </tr>\n",
       "    <tr>\n",
       "      <th>8</th>\n",
       "      <td>youthful</td>\n",
       "      <td>0.855163</td>\n",
       "    </tr>\n",
       "    <tr>\n",
       "      <th>9</th>\n",
       "      <td>professional</td>\n",
       "      <td>0.854858</td>\n",
       "    </tr>\n",
       "  </tbody>\n",
       "</table>\n",
       "</div>"
      ],
      "text/plain": [
       "           Word  Vector similarity\n",
       "0       devoted           0.877288\n",
       "1      Beverley           0.870024\n",
       "2       Colonel           0.869903\n",
       "3         crime           0.868091\n",
       "4         title           0.866762\n",
       "5        parson           0.864355\n",
       "6         Fuzby           0.861567\n",
       "7    attachment           0.858103\n",
       "8      youthful           0.855163\n",
       "9  professional           0.854858"
      ]
     },
     "execution_count": 44,
     "metadata": {},
     "output_type": "execute_result"
    }
   ],
   "source": [
    "DataFrame(m_mw_skip_model.wv.most_similar(\"marriage\")).rename(columns={0:\"Word\", 1:\"Vector similarity\"})"
   ]
  },
  {
   "cell_type": "markdown",
   "metadata": {},
   "source": [
    "--------"
   ]
  },
  {
   "cell_type": "markdown",
   "metadata": {},
   "source": [
    "<b><span style=\"color:#EE6352\">Large window</span></b>"
   ]
  },
  {
   "cell_type": "code",
   "execution_count": 45,
   "metadata": {},
   "outputs": [
    {
     "data": {
      "text/html": [
       "<div>\n",
       "<style scoped>\n",
       "    .dataframe tbody tr th:only-of-type {\n",
       "        vertical-align: middle;\n",
       "    }\n",
       "\n",
       "    .dataframe tbody tr th {\n",
       "        vertical-align: top;\n",
       "    }\n",
       "\n",
       "    .dataframe thead th {\n",
       "        text-align: right;\n",
       "    }\n",
       "</style>\n",
       "<table border=\"1\" class=\"dataframe\">\n",
       "  <thead>\n",
       "    <tr style=\"text-align: right;\">\n",
       "      <th></th>\n",
       "      <th>Word</th>\n",
       "      <th>Vector similarity</th>\n",
       "    </tr>\n",
       "  </thead>\n",
       "  <tbody>\n",
       "    <tr>\n",
       "      <th>0</th>\n",
       "      <td>due</td>\n",
       "      <td>0.993112</td>\n",
       "    </tr>\n",
       "    <tr>\n",
       "      <th>1</th>\n",
       "      <td>greatly</td>\n",
       "      <td>0.992918</td>\n",
       "    </tr>\n",
       "    <tr>\n",
       "      <th>2</th>\n",
       "      <td>sons</td>\n",
       "      <td>0.992818</td>\n",
       "    </tr>\n",
       "    <tr>\n",
       "      <th>3</th>\n",
       "      <td>courage</td>\n",
       "      <td>0.992463</td>\n",
       "    </tr>\n",
       "    <tr>\n",
       "      <th>4</th>\n",
       "      <td>begun</td>\n",
       "      <td>0.992296</td>\n",
       "    </tr>\n",
       "    <tr>\n",
       "      <th>5</th>\n",
       "      <td>affection</td>\n",
       "      <td>0.992095</td>\n",
       "    </tr>\n",
       "    <tr>\n",
       "      <th>6</th>\n",
       "      <td>regard</td>\n",
       "      <td>0.992045</td>\n",
       "    </tr>\n",
       "    <tr>\n",
       "      <th>7</th>\n",
       "      <td>hopes</td>\n",
       "      <td>0.991801</td>\n",
       "    </tr>\n",
       "    <tr>\n",
       "      <th>8</th>\n",
       "      <td>skill</td>\n",
       "      <td>0.991682</td>\n",
       "    </tr>\n",
       "    <tr>\n",
       "      <th>9</th>\n",
       "      <td>ideas</td>\n",
       "      <td>0.991649</td>\n",
       "    </tr>\n",
       "  </tbody>\n",
       "</table>\n",
       "</div>"
      ],
      "text/plain": [
       "        Word  Vector similarity\n",
       "0        due           0.993112\n",
       "1    greatly           0.992918\n",
       "2       sons           0.992818\n",
       "3    courage           0.992463\n",
       "4      begun           0.992296\n",
       "5  affection           0.992095\n",
       "6     regard           0.992045\n",
       "7      hopes           0.991801\n",
       "8      skill           0.991682\n",
       "9      ideas           0.991649"
      ]
     },
     "execution_count": 45,
     "metadata": {},
     "output_type": "execute_result"
    }
   ],
   "source": [
    "DataFrame(f_lw_cbow_model.wv.most_similar(\"marriage\")).rename(columns={0:\"Word\", 1:\"Vector similarity\"})"
   ]
  },
  {
   "cell_type": "code",
   "execution_count": 46,
   "metadata": {},
   "outputs": [
    {
     "data": {
      "text/html": [
       "<div>\n",
       "<style scoped>\n",
       "    .dataframe tbody tr th:only-of-type {\n",
       "        vertical-align: middle;\n",
       "    }\n",
       "\n",
       "    .dataframe tbody tr th {\n",
       "        vertical-align: top;\n",
       "    }\n",
       "\n",
       "    .dataframe thead th {\n",
       "        text-align: right;\n",
       "    }\n",
       "</style>\n",
       "<table border=\"1\" class=\"dataframe\">\n",
       "  <thead>\n",
       "    <tr style=\"text-align: right;\">\n",
       "      <th></th>\n",
       "      <th>Word</th>\n",
       "      <th>Vector similarity</th>\n",
       "    </tr>\n",
       "  </thead>\n",
       "  <tbody>\n",
       "    <tr>\n",
       "      <th>0</th>\n",
       "      <td>strict</td>\n",
       "      <td>0.945507</td>\n",
       "    </tr>\n",
       "    <tr>\n",
       "      <th>1</th>\n",
       "      <td>mama</td>\n",
       "      <td>0.942706</td>\n",
       "    </tr>\n",
       "    <tr>\n",
       "      <th>2</th>\n",
       "      <td>teaching</td>\n",
       "      <td>0.935985</td>\n",
       "    </tr>\n",
       "    <tr>\n",
       "      <th>3</th>\n",
       "      <td>cowardice</td>\n",
       "      <td>0.933188</td>\n",
       "    </tr>\n",
       "    <tr>\n",
       "      <th>4</th>\n",
       "      <td>confirmed</td>\n",
       "      <td>0.932639</td>\n",
       "    </tr>\n",
       "    <tr>\n",
       "      <th>5</th>\n",
       "      <td>liking</td>\n",
       "      <td>0.927924</td>\n",
       "    </tr>\n",
       "    <tr>\n",
       "      <th>6</th>\n",
       "      <td>claims</td>\n",
       "      <td>0.927791</td>\n",
       "    </tr>\n",
       "    <tr>\n",
       "      <th>7</th>\n",
       "      <td>sensible</td>\n",
       "      <td>0.927504</td>\n",
       "    </tr>\n",
       "    <tr>\n",
       "      <th>8</th>\n",
       "      <td>conditions</td>\n",
       "      <td>0.926955</td>\n",
       "    </tr>\n",
       "    <tr>\n",
       "      <th>9</th>\n",
       "      <td>blessing</td>\n",
       "      <td>0.925245</td>\n",
       "    </tr>\n",
       "  </tbody>\n",
       "</table>\n",
       "</div>"
      ],
      "text/plain": [
       "         Word  Vector similarity\n",
       "0      strict           0.945507\n",
       "1        mama           0.942706\n",
       "2    teaching           0.935985\n",
       "3   cowardice           0.933188\n",
       "4   confirmed           0.932639\n",
       "5      liking           0.927924\n",
       "6      claims           0.927791\n",
       "7    sensible           0.927504\n",
       "8  conditions           0.926955\n",
       "9    blessing           0.925245"
      ]
     },
     "execution_count": 46,
     "metadata": {},
     "output_type": "execute_result"
    }
   ],
   "source": [
    "DataFrame(m_lw_cbow_model.wv.most_similar(\"marriage\")).rename(columns={0:\"Word\", 1:\"Vector similarity\"})"
   ]
  },
  {
   "cell_type": "code",
   "execution_count": 47,
   "metadata": {},
   "outputs": [
    {
     "data": {
      "text/html": [
       "<div>\n",
       "<style scoped>\n",
       "    .dataframe tbody tr th:only-of-type {\n",
       "        vertical-align: middle;\n",
       "    }\n",
       "\n",
       "    .dataframe tbody tr th {\n",
       "        vertical-align: top;\n",
       "    }\n",
       "\n",
       "    .dataframe thead th {\n",
       "        text-align: right;\n",
       "    }\n",
       "</style>\n",
       "<table border=\"1\" class=\"dataframe\">\n",
       "  <thead>\n",
       "    <tr style=\"text-align: right;\">\n",
       "      <th></th>\n",
       "      <th>Word</th>\n",
       "      <th>Vector similarity</th>\n",
       "    </tr>\n",
       "  </thead>\n",
       "  <tbody>\n",
       "    <tr>\n",
       "      <th>0</th>\n",
       "      <td>interview</td>\n",
       "      <td>0.933006</td>\n",
       "    </tr>\n",
       "    <tr>\n",
       "      <th>1</th>\n",
       "      <td>benefit</td>\n",
       "      <td>0.926586</td>\n",
       "    </tr>\n",
       "    <tr>\n",
       "      <th>2</th>\n",
       "      <td>result</td>\n",
       "      <td>0.920223</td>\n",
       "    </tr>\n",
       "    <tr>\n",
       "      <th>3</th>\n",
       "      <td>Matilda's</td>\n",
       "      <td>0.919876</td>\n",
       "    </tr>\n",
       "    <tr>\n",
       "      <th>4</th>\n",
       "      <td>occurred</td>\n",
       "      <td>0.917671</td>\n",
       "    </tr>\n",
       "    <tr>\n",
       "      <th>5</th>\n",
       "      <td>cousins</td>\n",
       "      <td>0.916780</td>\n",
       "    </tr>\n",
       "    <tr>\n",
       "      <th>6</th>\n",
       "      <td>attending</td>\n",
       "      <td>0.916634</td>\n",
       "    </tr>\n",
       "    <tr>\n",
       "      <th>7</th>\n",
       "      <td>loss</td>\n",
       "      <td>0.912295</td>\n",
       "    </tr>\n",
       "    <tr>\n",
       "      <th>8</th>\n",
       "      <td>title</td>\n",
       "      <td>0.911759</td>\n",
       "    </tr>\n",
       "    <tr>\n",
       "      <th>9</th>\n",
       "      <td>Dacrefield</td>\n",
       "      <td>0.909110</td>\n",
       "    </tr>\n",
       "  </tbody>\n",
       "</table>\n",
       "</div>"
      ],
      "text/plain": [
       "         Word  Vector similarity\n",
       "0   interview           0.933006\n",
       "1     benefit           0.926586\n",
       "2      result           0.920223\n",
       "3   Matilda's           0.919876\n",
       "4    occurred           0.917671\n",
       "5     cousins           0.916780\n",
       "6   attending           0.916634\n",
       "7        loss           0.912295\n",
       "8       title           0.911759\n",
       "9  Dacrefield           0.909110"
      ]
     },
     "execution_count": 47,
     "metadata": {},
     "output_type": "execute_result"
    }
   ],
   "source": [
    "DataFrame(f_lw_skip_model.wv.most_similar(\"marriage\")).rename(columns={0:\"Word\", 1:\"Vector similarity\"})"
   ]
  },
  {
   "cell_type": "code",
   "execution_count": 48,
   "metadata": {},
   "outputs": [
    {
     "data": {
      "text/html": [
       "<div>\n",
       "<style scoped>\n",
       "    .dataframe tbody tr th:only-of-type {\n",
       "        vertical-align: middle;\n",
       "    }\n",
       "\n",
       "    .dataframe tbody tr th {\n",
       "        vertical-align: top;\n",
       "    }\n",
       "\n",
       "    .dataframe thead th {\n",
       "        text-align: right;\n",
       "    }\n",
       "</style>\n",
       "<table border=\"1\" class=\"dataframe\">\n",
       "  <thead>\n",
       "    <tr style=\"text-align: right;\">\n",
       "      <th></th>\n",
       "      <th>Word</th>\n",
       "      <th>Vector similarity</th>\n",
       "    </tr>\n",
       "  </thead>\n",
       "  <tbody>\n",
       "    <tr>\n",
       "      <th>0</th>\n",
       "      <td>title</td>\n",
       "      <td>0.869416</td>\n",
       "    </tr>\n",
       "    <tr>\n",
       "      <th>1</th>\n",
       "      <td>Villiers</td>\n",
       "      <td>0.855650</td>\n",
       "    </tr>\n",
       "    <tr>\n",
       "      <th>2</th>\n",
       "      <td>devoted</td>\n",
       "      <td>0.850929</td>\n",
       "    </tr>\n",
       "    <tr>\n",
       "      <th>3</th>\n",
       "      <td>parents</td>\n",
       "      <td>0.849637</td>\n",
       "    </tr>\n",
       "    <tr>\n",
       "      <th>4</th>\n",
       "      <td>heir</td>\n",
       "      <td>0.847606</td>\n",
       "    </tr>\n",
       "    <tr>\n",
       "      <th>5</th>\n",
       "      <td>capacity</td>\n",
       "      <td>0.845645</td>\n",
       "    </tr>\n",
       "    <tr>\n",
       "      <th>6</th>\n",
       "      <td>worldly</td>\n",
       "      <td>0.845530</td>\n",
       "    </tr>\n",
       "    <tr>\n",
       "      <th>7</th>\n",
       "      <td>Fuzby</td>\n",
       "      <td>0.845451</td>\n",
       "    </tr>\n",
       "    <tr>\n",
       "      <th>8</th>\n",
       "      <td>Colonel</td>\n",
       "      <td>0.843176</td>\n",
       "    </tr>\n",
       "    <tr>\n",
       "      <th>9</th>\n",
       "      <td>strict</td>\n",
       "      <td>0.837228</td>\n",
       "    </tr>\n",
       "  </tbody>\n",
       "</table>\n",
       "</div>"
      ],
      "text/plain": [
       "       Word  Vector similarity\n",
       "0     title           0.869416\n",
       "1  Villiers           0.855650\n",
       "2   devoted           0.850929\n",
       "3   parents           0.849637\n",
       "4      heir           0.847606\n",
       "5  capacity           0.845645\n",
       "6   worldly           0.845530\n",
       "7     Fuzby           0.845451\n",
       "8   Colonel           0.843176\n",
       "9    strict           0.837228"
      ]
     },
     "execution_count": 48,
     "metadata": {},
     "output_type": "execute_result"
    }
   ],
   "source": [
    "DataFrame(m_lw_skip_model.wv.most_similar(\"marriage\")).rename(columns={0:\"Word\", 1:\"Vector similarity\"})"
   ]
  },
  {
   "cell_type": "markdown",
   "metadata": {},
   "source": [
    "--------"
   ]
  },
  {
   "cell_type": "markdown",
   "metadata": {},
   "source": [
    "### Conclusions"
   ]
  },
  {
   "cell_type": "markdown",
   "metadata": {},
   "source": [
    "Finally, once we have looked at all these models, we came out that for our kind of analysis it would be better to use a <span style=\"color:#F0A202\"><i>CBOW based model</i></span> in order to highlight the syntactical similarities between words."
   ]
  },
  {
   "cell_type": "markdown",
   "metadata": {},
   "source": [
    "Moreover, for what concerns the window of words over which is better to train the model, we prefer to use a <span style=\"color:#F0A202\"><i>medium window size</i></span> in order to find a balance between extremely contextual information and word-related information."
   ]
  },
  {
   "cell_type": "markdown",
   "metadata": {},
   "source": [
    "In order to maintain such models we will save them in the [Models directory](assets/Models/):"
   ]
  },
  {
   "cell_type": "code",
   "execution_count": 90,
   "metadata": {},
   "outputs": [],
   "source": [
    "f_mw_cbow_model.save(\"assets/Models/F/f_mwskip.model\")\n",
    "m_mw_cbow_model.save(\"assets/Models/M/m_mwskip.model\")"
   ]
  },
  {
   "cell_type": "markdown",
   "metadata": {},
   "source": [
    "If you want to re-use the model you just need to load it thanks to the <span style=\"color:#89FC00\">load()</span> method.</br>\n",
    "```\n",
    "    model = gensim.models.Word2Vec.load(\"model_path.model\")\n",
    "```"
   ]
  },
  {
   "cell_type": "markdown",
   "metadata": {},
   "source": [
    "-----"
   ]
  },
  {
   "cell_type": "code",
   "execution_count": 49,
   "metadata": {},
   "outputs": [
    {
     "name": "stdout",
     "output_type": "stream",
     "text": [
      "(100,)\n"
     ]
    }
   ],
   "source": [
    "a = m_lw_skip_model.wv[\"he\"]\n",
    "print(a.shape)\n"
   ]
  },
  {
   "cell_type": "markdown",
   "metadata": {},
   "source": [
    "<i>adding the positive vectors, subtracting the negative, then from that resulting position, listing the known-vectors closest to that angle</i>"
   ]
  },
  {
   "cell_type": "code",
   "execution_count": 91,
   "metadata": {},
   "outputs": [],
   "source": [
    "# Load the model\n",
    "model = gensim.models.Word2Vec.load('assets/Models/F/f_mwskip.model')"
   ]
  },
  {
   "cell_type": "code",
   "execution_count": 92,
   "metadata": {},
   "outputs": [
    {
     "name": "stdout",
     "output_type": "stream",
     "text": [
      "         0          1\n",
      "0  soldier      bride\n",
      "1   sailor       card\n",
      "2     king      widow\n",
      "3  captain    labours\n",
      "4      war  housemaid\n",
      "5    beard      shawl\n"
     ]
    }
   ],
   "source": [
    "def pp(obj):\n",
    "    print(DataFrame(obj)) \n",
    "\n",
    "def analogy(neg1, pos1, pos2):\n",
    "    result = model.wv.most_similar(negative=[neg1], \n",
    "                                        positive=[pos1, pos2])\n",
    "    tagged_keyword = pos_tag([pos1], tagset='universal')\n",
    "    \n",
    "    list_of_similar = list()\n",
    "    for tup in result:\n",
    "        list_of_similar.append(tup[0])\n",
    "    tagged_list = pos_tagging(list_of_similar, True)\n",
    "    for i in range(len(tagged_list)):\n",
    "        if tagged_list[i][1] == tagged_keyword[0][1]:\n",
    "            return tagged_list[i][0]\n",
    "    return result[0][0]\n",
    "\n",
    "words = ['soldier', 'sailor', 'king', 'captain', 'war', 'beard']\n",
    "for_analogy = [analogy('man', word, 'woman') for word in words]\n",
    "# --->  man : king :: woman : ?\n",
    "# ---> king(pos1) - man(neg1) + woman(pos2) = ?\n",
    "# ---> neg1 : pos1 :: pos2 : ?\n",
    "#r = analogy('man', 'king', 'woman')\n",
    "#print(r)\n",
    "pp(zip(words,for_analogy))\n"
   ]
  },
  {
   "cell_type": "code",
   "execution_count": 151,
   "metadata": {},
   "outputs": [
    {
     "data": {
      "image/png": "[encoded data removed]",
      "text/plain": [
       "<Figure size 700x500 with 1 Axes>"
      ]
     },
     "metadata": {
      "needs_background": "light"
     },
     "output_type": "display_data"
    }
   ],
   "source": [
    "from turtle import dot\n",
    "from sklearn.decomposition import PCA\n",
    "import matplotlib.pyplot as plt\n",
    "import numpy as np\n",
    "\n",
    "def analogies_plot(list_of_words, model):\n",
    "    pca = PCA(n_components=2)\n",
    "    data = [model.wv[w] for w in list_of_words]\n",
    "    data = pca.fit_transform(list_of_words)\n",
    "    plt.figure(figsize=(7, 5), dpi=100)\n",
    "    plt.xlabel(\"PC1\")\n",
    "    plt.ylabel(\"PC2\")\n",
    "    plt.plot(data[:,0], data[:,1], '.')\n",
    "    \n",
    "    for i in range(len(data)//2):\n",
    "        plt.annotate(\"\",\n",
    "                    xy=data[i],\n",
    "                    xytext=data[i+len(data)//2],\n",
    "                    arrowprops=dict(arrowstyle=\"<-\",\n",
    "                                    connectionstyle=\"arc3, rad=0\",\n",
    "                                    relpos=(1., 1.), fc='w')\n",
    "            )\n",
    "    for i in range(len(data)):\n",
    "        if i < len(data)//2:\n",
    "            plt.annotate(labels[i], xy=data[i], color='#2081C3',size='small')\n",
    "        else:\n",
    "            plt.annotate(labels[i], xy=data[i], color='#FF729F',size='small')\n",
    "       \n",
    "labels = words + for_analogy\n",
    "data = [m_mw_skip_model.wv[w] for w in labels]\n",
    "analogies_plot(data, labels)"
   ]
  },
  {
   "cell_type": "code",
   "execution_count": 159,
   "metadata": {},
   "outputs": [
    {
     "data": {
      "image/png": "[encoded data removed]",
      "text/plain": [
       "<Figure size 936x504 with 1 Axes>"
      ]
     },
     "metadata": {
      "needs_background": "light"
     },
     "output_type": "display_data"
    }
   ],
   "source": [
    "labels = words + for_analogy\n",
    "data = [m_mw_skip_model.wv[w] for w in labels]\n",
    "\n",
    "def plot_embedding_space(list_of_words, female_words=True): \n",
    "  plt.figure(figsize=(13,7))\n",
    "  pca = PCA(n_components=2)\n",
    "  data = [model.wv[w] for w in list_of_words]\n",
    "  pca_data = pca.fit_transform(data)\n",
    "  if female_words:\n",
    "    plt.scatter(pca_data[:,0],pca_data[:,1],linewidths=10,color='#FEC9F1')\n",
    "    plt.title(\"Word Embedding Space - Female related words\",size=20)\n",
    "  else:\n",
    "    plt.scatter(pca_data[:,0],pca_data[:,1],linewidths=10,color='#A3C4BC')\n",
    "    plt.title(\"Word Embedding Space - Male related words\",size=20)\n",
    "  plt.xlabel(\"PC1\",size=12)\n",
    "  plt.ylabel(\"PC2\",size=12)\n",
    "  #vocab=list(model.wv.key_to_index)\n",
    "  for i, word in enumerate(pca_data):\n",
    "    plt.annotate(word,xy=(pca_data[i,0],pca_data[i,1]))"
   ]
  }
 ],
 "metadata": {
  "kernelspec": {
   "display_name": "Python 3.10.5 64-bit",
   "language": "python",
   "name": "python3"
  },
  "language_info": {
   "codemirror_mode": {
    "name": "ipython",
    "version": 3
   },
   "file_extension": ".py",
   "mimetype": "text/x-python",
   "name": "python",
   "nbconvert_exporter": "python",
   "pygments_lexer": "ipython3",
   "version": "3.10.5"
  },
  "orig_nbformat": 4,
  "vscode": {
   "interpreter": {
    "hash": "aee8b7b246df8f9039afb4144a1f6fd8d2ca17a180786b69acc140d282b71a49"
   }
  }
 },
 "nbformat": 4,
 "nbformat_minor": 2
}
