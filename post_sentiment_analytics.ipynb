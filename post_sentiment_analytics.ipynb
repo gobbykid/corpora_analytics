{
 "cells": [
  {
   "cell_type": "markdown",
   "metadata": {},
   "source": [
    "# Sentiment analytics - Post 1880"
   ]
  },
  {
   "cell_type": "markdown",
   "metadata": {},
   "source": [
    "### Environment"
   ]
  },
  {
   "cell_type": "code",
   "execution_count": 1,
   "metadata": {},
   "outputs": [],
   "source": [
    "from run import *"
   ]
  },
  {
   "cell_type": "markdown",
   "metadata": {},
   "source": [
    "The first thing to do is splitting up the corpora, in order to take into account the only texts written after the reference year (1880)."
   ]
  },
  {
   "cell_type": "code",
   "execution_count": 2,
   "metadata": {},
   "outputs": [],
   "source": [
    "delete_authors_texts = set()\n",
    "f_authors_set = set(f_authors_texts)\n",
    "for url in f_authors_set:\n",
    "    if int(url[21:25]) <= 1880:\n",
    "        delete_authors_texts.add(url)\n",
    "f_authors_texts_post = f_authors_set - delete_authors_texts    \n",
    "f_authors_texts = list(f_authors_texts_post)\n",
    "quickSort(f_authors_texts, 0, len(f_authors_texts)-1)\n",
    "\n",
    "# male authors texts post 1880\n",
    "delete_authors_texts = set()\n",
    "m_authors_set = set(m_authors_texts)\n",
    "for url in m_authors_set:\n",
    "    if int(url[21:25]) <= 1880:\n",
    "        delete_authors_texts.add(url)\n",
    "m_authors_texts_post = m_authors_set - delete_authors_texts    \n",
    "m_authors_texts = list(m_authors_texts_post)\n",
    "quickSort(m_authors_texts, 0, len(m_authors_texts)-1)"
   ]
  },
  {
   "cell_type": "markdown",
   "metadata": {},
   "source": [
    "### 1) Female authors corpus"
   ]
  },
  {
   "cell_type": "markdown",
   "metadata": {},
   "source": [
    "Let's start by analyzing the <i>corpus of female authors</i>."
   ]
  },
  {
   "cell_type": "markdown",
   "metadata": {},
   "source": [
    "#### 1.1) Sentiment analysis"
   ]
  },
  {
   "cell_type": "markdown",
   "metadata": {},
   "source": [
    "##### 1.1.1) Characters extraction"
   ]
  },
  {
   "cell_type": "markdown",
   "metadata": {},
   "source": [
    "First of all, we need to extract all the characters from the analyzed corpora.</br>\n",
    "The extracted characters will be stored inside a dictionary."
   ]
  },
  {
   "cell_type": "code",
   "execution_count": 3,
   "metadata": {},
   "outputs": [
    {
     "name": "stderr",
     "output_type": "stream",
     "text": [
      "100%|██████████| 111/111 [00:48<00:00,  2.30it/s]\n"
     ]
    }
   ],
   "source": [
    "f_proper_nouns_dict = {}\n",
    "for url in tqdm(f_authors_texts):\n",
    "    f_proper_nouns_dict[url] = {}\n",
    "    text = text_reader(url)\n",
    "    list_of_sentences = syntok_list_of_sentences(text)\n",
    "    for sentence in list_of_sentences:\n",
    "            for word in word_tokenization(sentence, True, False)[1:]:\n",
    "                is_it_proper(word, f_proper_nouns_dict[url])"
   ]
  },
  {
   "cell_type": "markdown",
   "metadata": {},
   "source": [
    "The extraction is based on all the capitalized words that aren't part of the words which commonly appear capitalized inside texts (such as geographical locations, religious words, exclamations, and so on...)"
   ]
  },
  {
   "cell_type": "code",
   "execution_count": 4,
   "metadata": {},
   "outputs": [],
   "source": [
    "f_characters = set()\n",
    "for url in f_proper_nouns_dict:\n",
    "    for word in f_proper_nouns_dict[url]:\n",
    "        if 'upper' in f_proper_nouns_dict[url][word] and 'lower' not in f_proper_nouns_dict[url][word]:\n",
    "            if word not in capital_not_names:\n",
    "                f_characters.add(word.lower())\n",
    "                f_characters.add(word.capitalize())"
   ]
  },
  {
   "cell_type": "markdown",
   "metadata": {},
   "source": [
    "Now, we add some proper names that have not been recognized."
   ]
  },
  {
   "cell_type": "code",
   "execution_count": 5,
   "metadata": {},
   "outputs": [],
   "source": [
    "f_characters.add('leslie')\n",
    "f_characters.add('Leslie')\n",
    "f_characters.add('agnes')\n",
    "f_characters.add('Agnes')\n",
    "f_characters.add('mary')\n",
    "f_characters.add('Mary')\n",
    "f_characters.add('margaret')\n",
    "f_characters.add('Margaret')\n",
    "f_characters.add('james')\n",
    "f_characters.add('James')"
   ]
  },
  {
   "cell_type": "markdown",
   "metadata": {},
   "source": [
    "----------"
   ]
  },
  {
   "cell_type": "markdown",
   "metadata": {},
   "source": [
    "##### 1.1.2) Raw scores"
   ]
  },
  {
   "cell_type": "markdown",
   "metadata": {},
   "source": [
    "At this point, we want to analyze the corpus thanks to the functions contained in the document for the [gender classification of sentences](functions/sentiment_functions.py).</br>\n",
    "In particular, we will call the main function of this file, that is <span style=\"color:#89FC00\">gender_analysis</span>, on each text of our \"female authors corpus\"."
   ]
  },
  {
   "cell_type": "code",
   "execution_count": 6,
   "metadata": {},
   "outputs": [
    {
     "name": "stderr",
     "output_type": "stream",
     "text": [
      "100%|██████████| 111/111 [02:04<00:00,  1.12s/it]\n"
     ]
    }
   ],
   "source": [
    "for url in tqdm(f_authors_texts):\n",
    "    text = text_reader(url)\n",
    "    gender_analysis(text, f_sent_dict, f_sentence_counter, f_word_counter, female_authors_raw_count, f_word_freq, male_words, female_words)"
   ]
  },
  {
   "cell_type": "markdown",
   "metadata": {},
   "source": [
    "Thanks to this script we have analyzed, gendered and given a polarity score as well as a qualitative sentiment label to the sentences of each one of the texts contained inside the reference corpus and we have fulfilled the dictionaries related to such corpus."
   ]
  },
  {
   "cell_type": "markdown",
   "metadata": {},
   "source": [
    "As a last step of this first part of the process, we will first print out the differences between gendered and not-gendered sentences in terms of raw percentages of gendered sentences. </br>\n",
    "Then, by following a statistical analysis of our sentences in this corpus, we will also try to determine if the differences between the way in which female authors deal with male and female sentences is significant. In particular, what we aim to do is to determine wether the mean of the sentences related sentiment scores are significantly different."
   ]
  },
  {
   "cell_type": "code",
   "execution_count": 7,
   "metadata": {},
   "outputs": [
    {
     "name": "stdout",
     "output_type": "stream",
     "text": [
      "44.3% gendered.\n",
      "71290 sentences about men.\n",
      "95794 sentences about women.\n",
      "0.7 sentences about men for each sentence about women.\n"
     ]
    }
   ],
   "source": [
    "print ('%.1f%% gendered.' % (100*(f_sentence_counter['male'] + f_sentence_counter['female'])/\n",
    "                           (f_sentence_counter['male'] + f_sentence_counter['female'] + f_sentence_counter['mainly_female'] + \n",
    "                           f_sentence_counter['mainly_male'] + f_sentence_counter['both'] + f_sentence_counter['none'])))\n",
    "print ('%s sentences about men.' % f_sentence_counter['male'])\n",
    "print ('%s sentences about women.' % f_sentence_counter['female'])\n",
    "print ('%.1f sentences about men for each sentence about women.' % (f_sentence_counter['male']/f_sentence_counter['female']))"
   ]
  },
  {
   "cell_type": "markdown",
   "metadata": {},
   "source": [
    "-------"
   ]
  },
  {
   "cell_type": "markdown",
   "metadata": {},
   "source": [
    "#### 1.2) Statystical analysis"
   ]
  },
  {
   "cell_type": "markdown",
   "metadata": {},
   "source": [
    "Once determined some raw percentages and a raw count of the sentences contained in the female authors corpus, we will compute a statistical analysis regarding the means of the scores for female and male sentences inside this corpus."
   ]
  },
  {
   "cell_type": "markdown",
   "metadata": {},
   "source": [
    "<b><u>Data extraction</b></u>"
   ]
  },
  {
   "cell_type": "markdown",
   "metadata": {},
   "source": [
    "As a first step, we need to create some lists in which we will store the scores and the sentiment labels."
   ]
  },
  {
   "cell_type": "code",
   "execution_count": 8,
   "metadata": {},
   "outputs": [],
   "source": [
    "f_f_labels = list()\n",
    "f_m_labels = list()\n",
    "f_f_scores = list()\n",
    "f_m_scores = list()"
   ]
  },
  {
   "cell_type": "markdown",
   "metadata": {},
   "source": [
    "Now, we extract the scores that have been previously saved inside the output dictionary of the gender analysis and we store them in the above defined lists."
   ]
  },
  {
   "cell_type": "code",
   "execution_count": 9,
   "metadata": {},
   "outputs": [],
   "source": [
    "for sentence in f_sent_dict:\n",
    "    if f_sent_dict[sentence][\"gender\"] == \"female\":\n",
    "        f_f_scores.append(f_sent_dict[sentence][\"score\"])\n",
    "        f_f_labels.append(f_sent_dict[sentence][\"polarity\"])\n",
    "    elif f_sent_dict[sentence][\"gender\"] == \"male\":\n",
    "        f_m_scores.append(f_sent_dict[sentence][\"score\"])\n",
    "        f_m_labels.append(f_sent_dict[sentence][\"polarity\"])"
   ]
  },
  {
   "cell_type": "markdown",
   "metadata": {},
   "source": [
    "-----"
   ]
  },
  {
   "cell_type": "markdown",
   "metadata": {},
   "source": [
    "<b><u>Raw statistics</u></b>"
   ]
  },
  {
   "cell_type": "code",
   "execution_count": 10,
   "metadata": {},
   "outputs": [
    {
     "name": "stdout",
     "output_type": "stream",
     "text": [
      "For what concerns the 95487 female gendered sentences written by female authors we have these results:\n",
      "\n",
      "\n",
      "The number of positive sentences is: 38475\n",
      "The number of negative sentences is: 22473\n",
      "The number of neutral sentences is: 34539\n"
     ]
    }
   ],
   "source": [
    "pos = 0\n",
    "neg = 0\n",
    "neu = 0\n",
    "for pol in f_f_labels:\n",
    "    if pol == \"POS\":\n",
    "        pos += 1\n",
    "    elif pol == \"NEG\":\n",
    "        neg += 1\n",
    "    else:\n",
    "        neu += 1\n",
    "print(\"For what concerns the\", pos+neg+neu,\"female gendered sentences written by female authors we have these results:\")\n",
    "print(\"\\n\")\n",
    "print(\"The number of positive sentences is:\", pos)\n",
    "print(\"The number of negative sentences is:\", neg)\n",
    "print(\"The number of neutral sentences is:\", neu)"
   ]
  },
  {
   "cell_type": "code",
   "execution_count": 11,
   "metadata": {},
   "outputs": [
    {
     "name": "stdout",
     "output_type": "stream",
     "text": [
      "For what concerns the 71009 male gendered sentences written by female authors we have these results:\n",
      "\n",
      "\n",
      "The number of positive sentences is: 29210\n",
      "The number of negative sentences is: 15932\n",
      "The number of neutral sentences is: 25867\n"
     ]
    }
   ],
   "source": [
    "pos = 0\n",
    "neg = 0\n",
    "neu = 0\n",
    "for pol in f_m_labels:\n",
    "    if pol == \"POS\":\n",
    "        pos += 1\n",
    "    elif pol == \"NEG\":\n",
    "        neg += 1\n",
    "    else:\n",
    "        neu += 1\n",
    "print(\"For what concerns the\", pos+neg+neu,\"male gendered sentences written by female authors we have these results:\")\n",
    "print(\"\\n\")\n",
    "print(\"The number of positive sentences is:\", pos)\n",
    "print(\"The number of negative sentences is:\", neg)\n",
    "print(\"The number of neutral sentences is:\", neu)"
   ]
  },
  {
   "cell_type": "markdown",
   "metadata": {},
   "source": [
    "-----"
   ]
  },
  {
   "cell_type": "markdown",
   "metadata": {},
   "source": [
    "<b><u>Sample building</u></b>"
   ]
  },
  {
   "cell_type": "markdown",
   "metadata": {},
   "source": [
    "Seen that the aim of the analysis is to see wether a significant difference between the means of the two different sets of score (for male and female related sentences) exists, we will try to perform a <span style=\"color:#EE6352\"><i>t-test for independent samples</i></span>.</br>\n",
    "In order to be able to perform such statistical test, we first need to create two equally large samples. The dimension of the sample will be of 1500 scores each (number decided by looking at theoverall counts of sentences)."
   ]
  },
  {
   "cell_type": "markdown",
   "metadata": {},
   "source": [
    "The sampling operation is computed for both female and male related sentences that has a positive or negative score. Neutral sentences will not be considered in this first analysis because of the fact that we do not think that their values should be taken into account in order to perform an analysis that tries to higlight a possible difference between the average score of female and male sentences.</br>\n",
    "Behind this choice there is the fact that by analyzing some of the sentences extracted, we noticed that neutral sentences are not essential for the analysis because many times are referred to landscapes descriptions made by female or male characters. "
   ]
  },
  {
   "cell_type": "markdown",
   "metadata": {},
   "source": [
    "<b>Data preparation</b>"
   ]
  },
  {
   "cell_type": "markdown",
   "metadata": {},
   "source": [
    "First of all, in order to prepare the stratified sampling operation we should remove all the neutral scores and labels from our lists.</br>\n",
    "With the output of this first operation we create a dictionary representing the population to sample, that will be given as input to the <span style=\"color:#EDAE49\">stratified_random_sampling function</span> that can be found in the [analytics functions file](\"functions/analytics_functions.py)."
   ]
  },
  {
   "cell_type": "code",
   "execution_count": 12,
   "metadata": {},
   "outputs": [],
   "source": [
    "# Remove neutral scores in female sentences\n",
    "try:\n",
    "    while True:\n",
    "        f_f_scores.remove(0.0)\n",
    "except ValueError:\n",
    "    pass\n",
    "# Remove neutral labels in female sentences\n",
    "try:\n",
    "    while True:\n",
    "        f_f_labels.remove('NEU')\n",
    "except ValueError:\n",
    "    pass\n",
    "# Remove neutral scores in male sentences\n",
    "try:\n",
    "    while True:\n",
    "        f_m_scores.remove(0.0)\n",
    "except ValueError:\n",
    "    pass\n",
    "# Remove neutral labels in male sentences\n",
    "try:\n",
    "    while True:\n",
    "        f_m_labels.remove('NEU')\n",
    "except ValueError:\n",
    "    pass"
   ]
  },
  {
   "cell_type": "markdown",
   "metadata": {},
   "source": [
    "Once the remove operation has been successfully accomplished, as said before, we create a dictionary to represent the entire population:"
   ]
  },
  {
   "cell_type": "code",
   "execution_count": 13,
   "metadata": {},
   "outputs": [],
   "source": [
    "# Female sentences population dictionary\n",
    "f_f_population = {\n",
    "    \"scores\":f_f_scores,\n",
    "    \"labels\":f_f_labels\n",
    "}\n",
    "# Male sentences population dictionary\n",
    "f_m_population = {\n",
    "    \"scores\":f_m_scores,\n",
    "    \"labels\":f_m_labels\n",
    "} "
   ]
  },
  {
   "cell_type": "code",
   "execution_count": 14,
   "metadata": {},
   "outputs": [],
   "source": [
    "post_df = DataFrame()"
   ]
  },
  {
   "cell_type": "markdown",
   "metadata": {},
   "source": [
    "<b>SRS (Stratified Random Sampling) operation</b>"
   ]
  },
  {
   "cell_type": "code",
   "execution_count": 15,
   "metadata": {},
   "outputs": [],
   "source": [
    "f_samples = stratified_random_sampling([f_f_population,f_m_population], sample_size(len(f_f_population['scores'])+(len(f_m_population['scores']))))\n",
    "f_f_sample = f_samples[0]\n",
    "f_m_sample = f_samples[1]"
   ]
  },
  {
   "cell_type": "code",
   "execution_count": 16,
   "metadata": {},
   "outputs": [],
   "source": [
    "post_df = pd.concat([post_df,DataFrame({\"ff_sample\":f_f_sample})], axis=1)\n",
    "post_df = pd.concat([post_df,DataFrame({\"fm_sample\":f_m_sample})], axis=1)"
   ]
  },
  {
   "cell_type": "markdown",
   "metadata": {},
   "source": [
    "-----"
   ]
  },
  {
   "cell_type": "markdown",
   "metadata": {},
   "source": [
    "<b><u>T-Test assumptions check</u></b>"
   ]
  },
  {
   "cell_type": "markdown",
   "metadata": {},
   "source": [
    "Once we have our samples, we need to check for the assumptions of the <span style=\"color:#EE6352\"><i>t-test</i></span>:</br>\n",
    "- Continuous or ordinal scale of measurement: this one is easily confirmed by simply looking at the scores;\n",
    "- Data must be collected from a representative, randomly selected and reasonably large sample size of the total population: again, this has yet been accomlished by the random sampling performed in the previous step;\n",
    "- Data must follow the rules of a normal distribution (we will consider the standard threshold of 5%): in order to check for this assumption we wrote the <span style=\"color:#EDAE49\">check_distribution</span> function that you can find in the [analytics functions file](analytics_functions.py), and we will use it to analyze the distribution of data;\n",
    "- Homogeneity of variance: in order to check this last assumption we will use a function contained in the [analytics functions file](analytics_functions.py) that allow us to perform an <span style=\"color:#EE6352\"><i>F-test</i></span>."
   ]
  },
  {
   "cell_type": "markdown",
   "metadata": {},
   "source": [
    "------"
   ]
  },
  {
   "cell_type": "markdown",
   "metadata": {},
   "source": [
    "<u><b>Distribution</b></u>"
   ]
  },
  {
   "cell_type": "markdown",
   "metadata": {},
   "source": [
    "Starting from the sentences about female, we will check for the kind of distribution that our data follow.</br>\n",
    "In particular, we look for a normal distribution in order to meaningfully compare the extracted means of the data related to positive and negative sentences inside and outside this corpora. In fact, in this first stage of the process, we will try to see if there is a statistically significant difference between the ways in which female authors deal with men and women, and how they treat gendered sentences. </br>\n",
    "After that, we will compute the mean and the std of the sentences we are dealing with (only if the distribution is normal).\n"
   ]
  },
  {
   "cell_type": "markdown",
   "metadata": {},
   "source": [
    "In order to highligth some hidden details of our data, we decided to transform them thanks to a <span style=\"color:#EE6352\"><i>BoxCox transformation</i></span>.</br>\n",
    "Finally, we will display a graph that shows the distribution of the scores."
   ]
  },
  {
   "cell_type": "markdown",
   "metadata": {},
   "source": [
    "<b>Normality assumption check for distribution of female sentences</b>"
   ]
  },
  {
   "cell_type": "code",
   "execution_count": 17,
   "metadata": {},
   "outputs": [
    {
     "name": "stdout",
     "output_type": "stream",
     "text": [
      "According to a D'Agostino-Pearson normality test, we cannot reject the null hypothesis, in fact:\n",
      "The p-value is: 0.44897146282612144\n",
      "The mean is: 0.11525082684468382\n",
      "The std is: 0.31167994259102877\n",
      "So, data follow a normal distribution.\n"
     ]
    },
    {
     "data": {
      "text/plain": [
       "(0.11525082684468382, 0.31167994259102877)"
      ]
     },
     "execution_count": 17,
     "metadata": {},
     "output_type": "execute_result"
    },
    {
     "data": {
      "image/png": "[encoded data removed]",
      "text/plain": [
       "<Figure size 432x288 with 1 Axes>"
      ]
     },
     "metadata": {
      "needs_background": "light"
     },
     "output_type": "display_data"
    }
   ],
   "source": [
    "check_distribution(f_f_sample)"
   ]
  },
  {
   "cell_type": "markdown",
   "metadata": {},
   "source": [
    "<b>Normality assumption check for distribution of male sentences</b>"
   ]
  },
  {
   "cell_type": "code",
   "execution_count": 18,
   "metadata": {},
   "outputs": [
    {
     "name": "stdout",
     "output_type": "stream",
     "text": [
      "According to a D'Agostino-Pearson normality test, we cannot reject the null hypothesis, in fact:\n",
      "The p-value is: 0.48525976599416987\n",
      "The mean is: 0.11993076017988899\n",
      "The std is: 0.3121844917056855\n",
      "So, data follow a normal distribution.\n"
     ]
    },
    {
     "data": {
      "text/plain": [
       "(0.11993076017988899, 0.3121844917056855)"
      ]
     },
     "execution_count": 18,
     "metadata": {},
     "output_type": "execute_result"
    },
    {
     "data": {
      "image/png": "[encoded data removed]",
      "text/plain": [
       "<Figure size 432x288 with 1 Axes>"
      ]
     },
     "metadata": {
      "needs_background": "light"
     },
     "output_type": "display_data"
    }
   ],
   "source": [
    "check_distribution(f_m_sample)"
   ]
  },
  {
   "cell_type": "markdown",
   "metadata": {},
   "source": [
    "-----"
   ]
  },
  {
   "cell_type": "markdown",
   "metadata": {},
   "source": [
    "<b><u>Homogeneity of variances</u></b>"
   ]
  },
  {
   "cell_type": "markdown",
   "metadata": {},
   "source": [
    "We can now perform an <span style=\"color:#EE6352\"><i>F-test</i></span> on the variances of the two samples."
   ]
  },
  {
   "cell_type": "code",
   "execution_count": 19,
   "metadata": {},
   "outputs": [
    {
     "name": "stdout",
     "output_type": "stream",
     "text": [
      "According to an F-test, we cannot reject the null hypothesis, in fact:\n",
      "The F-statistics is: 1.0032402309486235\n",
      "The p-value is: 0.48191045982874947\n",
      "The two variances do not differ in a significant way\n"
     ]
    },
    {
     "data": {
      "text/plain": [
       "(1.0032402309486235, 0.48191045982874947)"
      ]
     },
     "execution_count": 19,
     "metadata": {},
     "output_type": "execute_result"
    }
   ],
   "source": [
    "f_test(f_f_sample, f_m_sample)"
   ]
  },
  {
   "cell_type": "markdown",
   "metadata": {},
   "source": [
    "------"
   ]
  },
  {
   "cell_type": "markdown",
   "metadata": {},
   "source": [
    "<b><u>T-Test for independent samples</u></b>"
   ]
  },
  {
   "cell_type": "markdown",
   "metadata": {},
   "source": [
    "We can now move on into testing our data in order to see wether the means of scores related to female and male gendered sentences differ in a significant way.</br>\n",
    "In order to check that, we will perform a <span style=\"color:#EE6352\"><i>t-test for independent samples</i></span> by using the <span style=\"color:#EDAE49\">t_test_independent</span> function contained in the [analytics functions file](functions/analytics_functions.py)."
   ]
  },
  {
   "cell_type": "code",
   "execution_count": 20,
   "metadata": {},
   "outputs": [
    {
     "name": "stdout",
     "output_type": "stream",
     "text": [
      "According to a T-Test for independent samples we can not reject the null hypothesis, in fact:\n",
      "The p-value is: 0.6368247311622985\n",
      "The two means (0.10466356229996855 0.1124559578714936) do not differ in a significant way.\n"
     ]
    },
    {
     "data": {
      "text/plain": [
       "Ttest_indResult(statistic=-0.472233374437199, pvalue=0.6368247311622985)"
      ]
     },
     "execution_count": 20,
     "metadata": {},
     "output_type": "execute_result"
    }
   ],
   "source": [
    "t_test_independent(f_f_sample, f_m_sample)"
   ]
  },
  {
   "cell_type": "markdown",
   "metadata": {},
   "source": [
    "-------"
   ]
  },
  {
   "cell_type": "markdown",
   "metadata": {},
   "source": [
    "#### 1.3) Emotion extraction"
   ]
  },
  {
   "cell_type": "markdown",
   "metadata": {},
   "source": [
    "Finally, we can move on into seeing the emotions related data that have been extracted from our corpus.</br>\n",
    "In order to do that, we will make use of the function <span style=\"color:#EDAE49\">emotion_frequencies</span> contained in the [sentiment functions file](functions/sentiment_functions.py)."
   ]
  },
  {
   "cell_type": "code",
   "execution_count": 21,
   "metadata": {},
   "outputs": [
    {
     "name": "stderr",
     "output_type": "stream",
     "text": [
      "100%|██████████| 111/111 [01:09<00:00,  1.60it/s]\n"
     ]
    },
    {
     "data": {
      "text/html": [
       "<div>\n",
       "<style scoped>\n",
       "    .dataframe tbody tr th:only-of-type {\n",
       "        vertical-align: middle;\n",
       "    }\n",
       "\n",
       "    .dataframe tbody tr th {\n",
       "        vertical-align: top;\n",
       "    }\n",
       "\n",
       "    .dataframe thead th {\n",
       "        text-align: right;\n",
       "    }\n",
       "</style>\n",
       "<table border=\"1\" class=\"dataframe\">\n",
       "  <thead>\n",
       "    <tr style=\"text-align: right;\">\n",
       "      <th></th>\n",
       "      <th>emotions</th>\n",
       "      <th>score</th>\n",
       "    </tr>\n",
       "  </thead>\n",
       "  <tbody>\n",
       "    <tr>\n",
       "      <th>0</th>\n",
       "      <td>fear</td>\n",
       "      <td>0.066645</td>\n",
       "    </tr>\n",
       "    <tr>\n",
       "      <th>1</th>\n",
       "      <td>anger</td>\n",
       "      <td>0.053949</td>\n",
       "    </tr>\n",
       "    <tr>\n",
       "      <th>2</th>\n",
       "      <td>trust</td>\n",
       "      <td>0.125863</td>\n",
       "    </tr>\n",
       "    <tr>\n",
       "      <th>3</th>\n",
       "      <td>surprise</td>\n",
       "      <td>0.058458</td>\n",
       "    </tr>\n",
       "    <tr>\n",
       "      <th>4</th>\n",
       "      <td>positive</td>\n",
       "      <td>0.208909</td>\n",
       "    </tr>\n",
       "    <tr>\n",
       "      <th>5</th>\n",
       "      <td>negative</td>\n",
       "      <td>0.142841</td>\n",
       "    </tr>\n",
       "    <tr>\n",
       "      <th>6</th>\n",
       "      <td>sadness</td>\n",
       "      <td>0.075874</td>\n",
       "    </tr>\n",
       "    <tr>\n",
       "      <th>7</th>\n",
       "      <td>disgust</td>\n",
       "      <td>0.043135</td>\n",
       "    </tr>\n",
       "    <tr>\n",
       "      <th>8</th>\n",
       "      <td>joy</td>\n",
       "      <td>0.109454</td>\n",
       "    </tr>\n",
       "    <tr>\n",
       "      <th>9</th>\n",
       "      <td>anticipation</td>\n",
       "      <td>0.114871</td>\n",
       "    </tr>\n",
       "  </tbody>\n",
       "</table>\n",
       "</div>"
      ],
      "text/plain": [
       "       emotions     score\n",
       "0          fear  0.066645\n",
       "1         anger  0.053949\n",
       "2         trust  0.125863\n",
       "3      surprise  0.058458\n",
       "4      positive  0.208909\n",
       "5      negative  0.142841\n",
       "6       sadness  0.075874\n",
       "7       disgust  0.043135\n",
       "8           joy  0.109454\n",
       "9  anticipation  0.114871"
      ]
     },
     "execution_count": 21,
     "metadata": {},
     "output_type": "execute_result"
    }
   ],
   "source": [
    "for url in tqdm(f_authors_texts):\n",
    "    f_emotions = emotion_frequencies(url, f_emotions)\n",
    "del f_emotions[\"anticip\"]\n",
    "#This dataframe is useful to plot a violin visualization of the scores\n",
    "f_df_plt = pd.DataFrame(f_emotions)\n",
    "\n",
    "f_emo_scores = list()\n",
    "for emo in f_emotions:\n",
    "    f_emotions[emo] = np.mean(f_emotions[emo])\n",
    "    f_emo_scores.append(f_emotions[emo])\n",
    "f_emotions_df = pd.DataFrame({\n",
    "    'emotions':pd.Series(f_emotions.keys()),\n",
    "    'score':pd.Series(f_emo_scores)\n",
    "})\n",
    "f_emotions_df"
   ]
  },
  {
   "cell_type": "markdown",
   "metadata": {},
   "source": [
    "#### 1.4) Common words"
   ]
  },
  {
   "cell_type": "markdown",
   "metadata": {},
   "source": [
    "Then, in order to display some statistics about the words used in gendered sentences, we first need to compute a list of the most <span style=\"color:#F7D6E0\">common words in female and male sentences</span> that female authors tend to use inside the texts that compose the related corpus.</br>\n",
    "The easiest way to do that is to retrieve our sorted <i>word_freq</i> dictionaries and to take out from these the most common words from the '<u><i>female</i></u>' and '<u><i>male</i></u>' keys.</br>\n",
    "From such list we will need to take out all the words used together with a specific gender classification."
   ]
  },
  {
   "cell_type": "code",
   "execution_count": 22,
   "metadata": {},
   "outputs": [],
   "source": [
    "f_common_words=set([w for w in sorted (f_word_freq['female'],key=f_word_freq['female'].get,reverse=True)[:1000]]+\n",
    "                    [w for w in sorted (f_word_freq['male'],key=f_word_freq['male'].get,reverse=True)[:1000]])\n",
    "f_common_words=list(f_common_words-male_words-female_words-f_characters-animals_list-common_ws_list)"
   ]
  },
  {
   "cell_type": "markdown",
   "metadata": {},
   "source": [
    "The first operation to perform, on the common_words list, is to POS-tag the words that are stored inside it.</br>\n",
    "Such POS-tagged words will be placed inside a dictionary and we will print out all the different POS in order to perform a more accurate analysis of the corpus in the subsequent stages.</br>\n",
    "The decision to use the universal POS-tagger is due to the fact that tagging operations in NLP are not so accurate, therefore we preferred to use a more general (so, with less definens) tagset."
   ]
  },
  {
   "cell_type": "code",
   "execution_count": 23,
   "metadata": {},
   "outputs": [],
   "source": [
    "f_tagged_words = {}\n",
    "for word in pos_tagging(f_common_words, True):\n",
    "    if word[1] not in f_tagged_words:\n",
    "        f_tagged_words[word[1]] = []\n",
    "    f_tagged_words[word[1]].append(word[0])  "
   ]
  },
  {
   "cell_type": "markdown",
   "metadata": {},
   "source": [
    "Once we have our list of common words and the dictionary containing POS-tagged words, what we need to do is to compute the ratio of each one of the words for what concerns its relative presence in male and female gendered sentences.</br></br>\n",
    "In this step we took into consideration the possibility that a word may appear the same amount of time for both genders but, one possible situation is when it appears 10 times, for example, in 50 male sentences and 10 times in 200 female sentences. Basically, that is the reason behind the necessity to compute its <i>relative frequency</i>.</br></br>\n",
    "\n",
    "Finally, in order to obtain the female sentences percentage of occurrency of a specific word, we will just need to compute the inverse percentage."
   ]
  },
  {
   "cell_type": "code",
   "execution_count": 24,
   "metadata": {},
   "outputs": [],
   "source": [
    "f_male_percent = { word :\n",
    "    (f_word_freq['male'].get(word,0)/f_word_counter['male'])/ \n",
    "    (f_word_freq['female'].get(word,0)/f_word_counter['female'] + \n",
    "    f_word_freq['male'].get(word,0)/f_word_counter['male']) \n",
    "    for word in f_common_words if word in f_tagged_words[\"NOUN\"] or word in f_tagged_words[\"VERB\"] or word in f_tagged_words[\"ADJ\"]}"
   ]
  },
  {
   "cell_type": "markdown",
   "metadata": {},
   "source": [
    "Once we have computed such male percentages, we will display our results in a tabular form.</br>\n",
    "In particular, we will display the 50 most common words (if exist) for female and male contexts, that has <b>a ratio of presence higher than 3</b>, that means only those words which appear at least 2 times for a gender out of 1 time for the other.</br> \n",
    "All the words which appear just for one of the two main genders (f & m) will be displayed with a ratio = 100 by default."
   ]
  },
  {
   "cell_type": "markdown",
   "metadata": {},
   "source": [
    "<b><u>Female related common words in female authors corpus</u></b>"
   ]
  },
  {
   "cell_type": "code",
   "execution_count": 25,
   "metadata": {},
   "outputs": [
    {
     "name": "stdout",
     "output_type": "stream",
     "text": [
      "COMMON WORDS\n",
      "Female words in the female author corpus\n"
     ]
    },
    {
     "data": {
      "text/html": [
       "<div>\n",
       "<style scoped>\n",
       "    .dataframe tbody tr th:only-of-type {\n",
       "        vertical-align: middle;\n",
       "    }\n",
       "\n",
       "    .dataframe tbody tr th {\n",
       "        vertical-align: top;\n",
       "    }\n",
       "\n",
       "    .dataframe thead th {\n",
       "        text-align: right;\n",
       "    }\n",
       "</style>\n",
       "<table border=\"1\" class=\"dataframe\">\n",
       "  <thead>\n",
       "    <tr style=\"text-align: right;\">\n",
       "      <th></th>\n",
       "      <th>word</th>\n",
       "      <th>ratio</th>\n",
       "      <th>f_corpus raw count</th>\n",
       "      <th>m_corpus raw count</th>\n",
       "      <th>f_corpus percentage</th>\n",
       "      <th>m_corpus percentage</th>\n",
       "    </tr>\n",
       "  </thead>\n",
       "  <tbody>\n",
       "    <tr>\n",
       "      <th>0</th>\n",
       "      <td>girl's</td>\n",
       "      <td>5.27</td>\n",
       "      <td>172</td>\n",
       "      <td>27</td>\n",
       "      <td>0.8406</td>\n",
       "      <td>0.1594</td>\n",
       "    </tr>\n",
       "    <tr>\n",
       "      <th>1</th>\n",
       "      <td>kissed</td>\n",
       "      <td>4.94</td>\n",
       "      <td>382</td>\n",
       "      <td>64</td>\n",
       "      <td>0.8316</td>\n",
       "      <td>0.1684</td>\n",
       "    </tr>\n",
       "    <tr>\n",
       "      <th>2</th>\n",
       "      <td>governess</td>\n",
       "      <td>4.85</td>\n",
       "      <td>293</td>\n",
       "      <td>50</td>\n",
       "      <td>0.8290</td>\n",
       "      <td>0.1710</td>\n",
       "    </tr>\n",
       "    <tr>\n",
       "      <th>3</th>\n",
       "      <td>naughty</td>\n",
       "      <td>4.53</td>\n",
       "      <td>312</td>\n",
       "      <td>57</td>\n",
       "      <td>0.8192</td>\n",
       "      <td>0.1808</td>\n",
       "    </tr>\n",
       "    <tr>\n",
       "      <th>4</th>\n",
       "      <td>iris</td>\n",
       "      <td>4.35</td>\n",
       "      <td>184</td>\n",
       "      <td>35</td>\n",
       "      <td>0.8131</td>\n",
       "      <td>0.1869</td>\n",
       "    </tr>\n",
       "    <tr>\n",
       "      <th>5</th>\n",
       "      <td>dress</td>\n",
       "      <td>4.33</td>\n",
       "      <td>952</td>\n",
       "      <td>182</td>\n",
       "      <td>0.8123</td>\n",
       "      <td>0.1877</td>\n",
       "    </tr>\n",
       "    <tr>\n",
       "      <th>6</th>\n",
       "      <td>she will</td>\n",
       "      <td>4.32</td>\n",
       "      <td>219</td>\n",
       "      <td>42</td>\n",
       "      <td>0.8119</td>\n",
       "      <td>0.1881</td>\n",
       "    </tr>\n",
       "    <tr>\n",
       "      <th>7</th>\n",
       "      <td>charming</td>\n",
       "      <td>4.01</td>\n",
       "      <td>223</td>\n",
       "      <td>46</td>\n",
       "      <td>0.8005</td>\n",
       "      <td>0.1995</td>\n",
       "    </tr>\n",
       "    <tr>\n",
       "      <th>8</th>\n",
       "      <td>teacher</td>\n",
       "      <td>3.89</td>\n",
       "      <td>202</td>\n",
       "      <td>43</td>\n",
       "      <td>0.7954</td>\n",
       "      <td>0.2046</td>\n",
       "    </tr>\n",
       "    <tr>\n",
       "      <th>9</th>\n",
       "      <td>neat</td>\n",
       "      <td>3.65</td>\n",
       "      <td>185</td>\n",
       "      <td>42</td>\n",
       "      <td>0.7847</td>\n",
       "      <td>0.2153</td>\n",
       "    </tr>\n",
       "    <tr>\n",
       "      <th>10</th>\n",
       "      <td>downstairs</td>\n",
       "      <td>3.62</td>\n",
       "      <td>311</td>\n",
       "      <td>71</td>\n",
       "      <td>0.7838</td>\n",
       "      <td>0.2162</td>\n",
       "    </tr>\n",
       "    <tr>\n",
       "      <th>11</th>\n",
       "      <td>pretty</td>\n",
       "      <td>3.50</td>\n",
       "      <td>1221</td>\n",
       "      <td>289</td>\n",
       "      <td>0.7776</td>\n",
       "      <td>0.2224</td>\n",
       "    </tr>\n",
       "    <tr>\n",
       "      <th>12</th>\n",
       "      <td>pink</td>\n",
       "      <td>3.39</td>\n",
       "      <td>209</td>\n",
       "      <td>51</td>\n",
       "      <td>0.7723</td>\n",
       "      <td>0.2277</td>\n",
       "    </tr>\n",
       "    <tr>\n",
       "      <th>13</th>\n",
       "      <td>clasped</td>\n",
       "      <td>3.38</td>\n",
       "      <td>192</td>\n",
       "      <td>47</td>\n",
       "      <td>0.7717</td>\n",
       "      <td>0.2283</td>\n",
       "    </tr>\n",
       "    <tr>\n",
       "      <th>14</th>\n",
       "      <td>bedroom</td>\n",
       "      <td>3.32</td>\n",
       "      <td>289</td>\n",
       "      <td>72</td>\n",
       "      <td>0.7686</td>\n",
       "      <td>0.2314</td>\n",
       "    </tr>\n",
       "    <tr>\n",
       "      <th>15</th>\n",
       "      <td>upstairs</td>\n",
       "      <td>3.14</td>\n",
       "      <td>247</td>\n",
       "      <td>65</td>\n",
       "      <td>0.7587</td>\n",
       "      <td>0.2413</td>\n",
       "    </tr>\n",
       "  </tbody>\n",
       "</table>\n",
       "</div>"
      ],
      "text/plain": [
       "          word  ratio  f_corpus raw count  m_corpus raw count  \\\n",
       "0       girl's   5.27                 172                  27   \n",
       "1       kissed   4.94                 382                  64   \n",
       "2    governess   4.85                 293                  50   \n",
       "3      naughty   4.53                 312                  57   \n",
       "4         iris   4.35                 184                  35   \n",
       "5        dress   4.33                 952                 182   \n",
       "6     she will   4.32                 219                  42   \n",
       "7     charming   4.01                 223                  46   \n",
       "8      teacher   3.89                 202                  43   \n",
       "9         neat   3.65                 185                  42   \n",
       "10  downstairs   3.62                 311                  71   \n",
       "11      pretty   3.50                1221                 289   \n",
       "12        pink   3.39                 209                  51   \n",
       "13     clasped   3.38                 192                  47   \n",
       "14     bedroom   3.32                 289                  72   \n",
       "15    upstairs   3.14                 247                  65   \n",
       "\n",
       "    f_corpus percentage  m_corpus percentage  \n",
       "0                0.8406               0.1594  \n",
       "1                0.8316               0.1684  \n",
       "2                0.8290               0.1710  \n",
       "3                0.8192               0.1808  \n",
       "4                0.8131               0.1869  \n",
       "5                0.8123               0.1877  \n",
       "6                0.8119               0.1881  \n",
       "7                0.8005               0.1995  \n",
       "8                0.7954               0.2046  \n",
       "9                0.7847               0.2153  \n",
       "10               0.7838               0.2162  \n",
       "11               0.7776               0.2224  \n",
       "12               0.7723               0.2277  \n",
       "13               0.7717               0.2283  \n",
       "14               0.7686               0.2314  \n",
       "15               0.7587               0.2413  "
      ]
     },
     "execution_count": 25,
     "metadata": {},
     "output_type": "execute_result"
    }
   ],
   "source": [
    "print('COMMON WORDS')\n",
    "print('Female words in the female author corpus')\n",
    "f_fcdf = common_words_df(f_word_freq, f_male_percent, f_female_general, False)\n",
    "f_female_related_words = f_fcdf['word'].values.tolist()\n",
    "f_fcdf"
   ]
  },
  {
   "cell_type": "code",
   "execution_count": 70,
   "metadata": {},
   "outputs": [],
   "source": [
    "f_fcdf.to_csv(\"assets/Visualizations datasets/Common words/post_ff.csv\")"
   ]
  },
  {
   "cell_type": "markdown",
   "metadata": {},
   "source": [
    "<b><u>Male related common words in female authors corpus</u></b>"
   ]
  },
  {
   "cell_type": "code",
   "execution_count": 26,
   "metadata": {},
   "outputs": [
    {
     "name": "stdout",
     "output_type": "stream",
     "text": [
      "COMMON WORDS\n",
      "Male words in the female author corpus\n"
     ]
    },
    {
     "data": {
      "text/html": [
       "<div>\n",
       "<style scoped>\n",
       "    .dataframe tbody tr th:only-of-type {\n",
       "        vertical-align: middle;\n",
       "    }\n",
       "\n",
       "    .dataframe tbody tr th {\n",
       "        vertical-align: top;\n",
       "    }\n",
       "\n",
       "    .dataframe thead th {\n",
       "        text-align: right;\n",
       "    }\n",
       "</style>\n",
       "<table border=\"1\" class=\"dataframe\">\n",
       "  <thead>\n",
       "    <tr style=\"text-align: right;\">\n",
       "      <th></th>\n",
       "      <th>word</th>\n",
       "      <th>ratio</th>\n",
       "      <th>f_corpus raw count</th>\n",
       "      <th>m_corpus raw count</th>\n",
       "      <th>f_corpus percentage</th>\n",
       "      <th>m_corpus percentage</th>\n",
       "    </tr>\n",
       "  </thead>\n",
       "  <tbody>\n",
       "    <tr>\n",
       "      <th>0</th>\n",
       "      <td>monk</td>\n",
       "      <td>43.02</td>\n",
       "      <td>5</td>\n",
       "      <td>178</td>\n",
       "      <td>0.0227</td>\n",
       "      <td>0.9773</td>\n",
       "    </tr>\n",
       "    <tr>\n",
       "      <th>1</th>\n",
       "      <td>oxford</td>\n",
       "      <td>17.75</td>\n",
       "      <td>13</td>\n",
       "      <td>191</td>\n",
       "      <td>0.0533</td>\n",
       "      <td>0.9467</td>\n",
       "    </tr>\n",
       "    <tr>\n",
       "      <th>2</th>\n",
       "      <td>comrade</td>\n",
       "      <td>16.46</td>\n",
       "      <td>16</td>\n",
       "      <td>218</td>\n",
       "      <td>0.0573</td>\n",
       "      <td>0.9427</td>\n",
       "    </tr>\n",
       "    <tr>\n",
       "      <th>3</th>\n",
       "      <td>he would</td>\n",
       "      <td>9.26</td>\n",
       "      <td>18</td>\n",
       "      <td>138</td>\n",
       "      <td>0.0974</td>\n",
       "      <td>0.9026</td>\n",
       "    </tr>\n",
       "    <tr>\n",
       "      <th>4</th>\n",
       "      <td>sword</td>\n",
       "      <td>8.04</td>\n",
       "      <td>26</td>\n",
       "      <td>173</td>\n",
       "      <td>0.1106</td>\n",
       "      <td>0.8894</td>\n",
       "    </tr>\n",
       "    <tr>\n",
       "      <th>5</th>\n",
       "      <td>lad</td>\n",
       "      <td>7.74</td>\n",
       "      <td>52</td>\n",
       "      <td>333</td>\n",
       "      <td>0.1144</td>\n",
       "      <td>0.8856</td>\n",
       "    </tr>\n",
       "    <tr>\n",
       "      <th>6</th>\n",
       "      <td>peril</td>\n",
       "      <td>6.20</td>\n",
       "      <td>60</td>\n",
       "      <td>308</td>\n",
       "      <td>0.1388</td>\n",
       "      <td>0.8612</td>\n",
       "    </tr>\n",
       "    <tr>\n",
       "      <th>7</th>\n",
       "      <td>he will</td>\n",
       "      <td>6.18</td>\n",
       "      <td>26</td>\n",
       "      <td>133</td>\n",
       "      <td>0.1392</td>\n",
       "      <td>0.8608</td>\n",
       "    </tr>\n",
       "    <tr>\n",
       "      <th>8</th>\n",
       "      <td>holy</td>\n",
       "      <td>6.15</td>\n",
       "      <td>33</td>\n",
       "      <td>168</td>\n",
       "      <td>0.1398</td>\n",
       "      <td>0.8602</td>\n",
       "    </tr>\n",
       "    <tr>\n",
       "      <th>9</th>\n",
       "      <td>youth</td>\n",
       "      <td>5.92</td>\n",
       "      <td>70</td>\n",
       "      <td>343</td>\n",
       "      <td>0.1445</td>\n",
       "      <td>0.8555</td>\n",
       "    </tr>\n",
       "    <tr>\n",
       "      <th>10</th>\n",
       "      <td>indian</td>\n",
       "      <td>5.77</td>\n",
       "      <td>35</td>\n",
       "      <td>167</td>\n",
       "      <td>0.1478</td>\n",
       "      <td>0.8522</td>\n",
       "    </tr>\n",
       "    <tr>\n",
       "      <th>11</th>\n",
       "      <td>king's</td>\n",
       "      <td>5.50</td>\n",
       "      <td>38</td>\n",
       "      <td>173</td>\n",
       "      <td>0.1538</td>\n",
       "      <td>0.8462</td>\n",
       "    </tr>\n",
       "    <tr>\n",
       "      <th>12</th>\n",
       "      <td>enemy</td>\n",
       "      <td>4.81</td>\n",
       "      <td>46</td>\n",
       "      <td>183</td>\n",
       "      <td>0.1722</td>\n",
       "      <td>0.8278</td>\n",
       "    </tr>\n",
       "    <tr>\n",
       "      <th>13</th>\n",
       "      <td>rode</td>\n",
       "      <td>4.60</td>\n",
       "      <td>36</td>\n",
       "      <td>137</td>\n",
       "      <td>0.1786</td>\n",
       "      <td>0.8214</td>\n",
       "    </tr>\n",
       "    <tr>\n",
       "      <th>14</th>\n",
       "      <td>tail</td>\n",
       "      <td>4.51</td>\n",
       "      <td>48</td>\n",
       "      <td>179</td>\n",
       "      <td>0.1816</td>\n",
       "      <td>0.8184</td>\n",
       "    </tr>\n",
       "    <tr>\n",
       "      <th>15</th>\n",
       "      <td>battle</td>\n",
       "      <td>4.33</td>\n",
       "      <td>58</td>\n",
       "      <td>208</td>\n",
       "      <td>0.1875</td>\n",
       "      <td>0.8125</td>\n",
       "    </tr>\n",
       "    <tr>\n",
       "      <th>16</th>\n",
       "      <td>scarce</td>\n",
       "      <td>4.21</td>\n",
       "      <td>66</td>\n",
       "      <td>230</td>\n",
       "      <td>0.1919</td>\n",
       "      <td>0.8081</td>\n",
       "    </tr>\n",
       "    <tr>\n",
       "      <th>17</th>\n",
       "      <td>soldier</td>\n",
       "      <td>4.08</td>\n",
       "      <td>93</td>\n",
       "      <td>314</td>\n",
       "      <td>0.1969</td>\n",
       "      <td>0.8031</td>\n",
       "    </tr>\n",
       "    <tr>\n",
       "      <th>18</th>\n",
       "      <td>blood</td>\n",
       "      <td>4.06</td>\n",
       "      <td>72</td>\n",
       "      <td>242</td>\n",
       "      <td>0.1976</td>\n",
       "      <td>0.8024</td>\n",
       "    </tr>\n",
       "    <tr>\n",
       "      <th>19</th>\n",
       "      <td>coat</td>\n",
       "      <td>3.88</td>\n",
       "      <td>66</td>\n",
       "      <td>212</td>\n",
       "      <td>0.2049</td>\n",
       "      <td>0.7951</td>\n",
       "    </tr>\n",
       "    <tr>\n",
       "      <th>20</th>\n",
       "      <td>royal</td>\n",
       "      <td>3.82</td>\n",
       "      <td>50</td>\n",
       "      <td>158</td>\n",
       "      <td>0.2075</td>\n",
       "      <td>0.7925</td>\n",
       "    </tr>\n",
       "    <tr>\n",
       "      <th>21</th>\n",
       "      <td>forth</td>\n",
       "      <td>3.80</td>\n",
       "      <td>138</td>\n",
       "      <td>434</td>\n",
       "      <td>0.2083</td>\n",
       "      <td>0.7917</td>\n",
       "    </tr>\n",
       "    <tr>\n",
       "      <th>22</th>\n",
       "      <td>city</td>\n",
       "      <td>3.72</td>\n",
       "      <td>127</td>\n",
       "      <td>391</td>\n",
       "      <td>0.2118</td>\n",
       "      <td>0.7882</td>\n",
       "    </tr>\n",
       "    <tr>\n",
       "      <th>23</th>\n",
       "      <td>learned</td>\n",
       "      <td>3.72</td>\n",
       "      <td>93</td>\n",
       "      <td>286</td>\n",
       "      <td>0.2120</td>\n",
       "      <td>0.7880</td>\n",
       "    </tr>\n",
       "    <tr>\n",
       "      <th>24</th>\n",
       "      <td>fellow</td>\n",
       "      <td>3.27</td>\n",
       "      <td>152</td>\n",
       "      <td>411</td>\n",
       "      <td>0.2343</td>\n",
       "      <td>0.7657</td>\n",
       "    </tr>\n",
       "    <tr>\n",
       "      <th>25</th>\n",
       "      <td>methinks</td>\n",
       "      <td>3.15</td>\n",
       "      <td>61</td>\n",
       "      <td>159</td>\n",
       "      <td>0.2410</td>\n",
       "      <td>0.7590</td>\n",
       "    </tr>\n",
       "    <tr>\n",
       "      <th>26</th>\n",
       "      <td>amongst</td>\n",
       "      <td>3.07</td>\n",
       "      <td>102</td>\n",
       "      <td>259</td>\n",
       "      <td>0.2458</td>\n",
       "      <td>0.7542</td>\n",
       "    </tr>\n",
       "    <tr>\n",
       "      <th>27</th>\n",
       "      <td>blow</td>\n",
       "      <td>3.03</td>\n",
       "      <td>65</td>\n",
       "      <td>163</td>\n",
       "      <td>0.2481</td>\n",
       "      <td>0.7519</td>\n",
       "    </tr>\n",
       "  </tbody>\n",
       "</table>\n",
       "</div>"
      ],
      "text/plain": [
       "        word  ratio  f_corpus raw count  m_corpus raw count  \\\n",
       "0       monk  43.02                   5                 178   \n",
       "1     oxford  17.75                  13                 191   \n",
       "2    comrade  16.46                  16                 218   \n",
       "3   he would   9.26                  18                 138   \n",
       "4      sword   8.04                  26                 173   \n",
       "5        lad   7.74                  52                 333   \n",
       "6      peril   6.20                  60                 308   \n",
       "7    he will   6.18                  26                 133   \n",
       "8       holy   6.15                  33                 168   \n",
       "9      youth   5.92                  70                 343   \n",
       "10    indian   5.77                  35                 167   \n",
       "11    king's   5.50                  38                 173   \n",
       "12     enemy   4.81                  46                 183   \n",
       "13      rode   4.60                  36                 137   \n",
       "14      tail   4.51                  48                 179   \n",
       "15    battle   4.33                  58                 208   \n",
       "16    scarce   4.21                  66                 230   \n",
       "17   soldier   4.08                  93                 314   \n",
       "18     blood   4.06                  72                 242   \n",
       "19      coat   3.88                  66                 212   \n",
       "20     royal   3.82                  50                 158   \n",
       "21     forth   3.80                 138                 434   \n",
       "22      city   3.72                 127                 391   \n",
       "23   learned   3.72                  93                 286   \n",
       "24    fellow   3.27                 152                 411   \n",
       "25  methinks   3.15                  61                 159   \n",
       "26   amongst   3.07                 102                 259   \n",
       "27      blow   3.03                  65                 163   \n",
       "\n",
       "    f_corpus percentage  m_corpus percentage  \n",
       "0                0.0227               0.9773  \n",
       "1                0.0533               0.9467  \n",
       "2                0.0573               0.9427  \n",
       "3                0.0974               0.9026  \n",
       "4                0.1106               0.8894  \n",
       "5                0.1144               0.8856  \n",
       "6                0.1388               0.8612  \n",
       "7                0.1392               0.8608  \n",
       "8                0.1398               0.8602  \n",
       "9                0.1445               0.8555  \n",
       "10               0.1478               0.8522  \n",
       "11               0.1538               0.8462  \n",
       "12               0.1722               0.8278  \n",
       "13               0.1786               0.8214  \n",
       "14               0.1816               0.8184  \n",
       "15               0.1875               0.8125  \n",
       "16               0.1919               0.8081  \n",
       "17               0.1969               0.8031  \n",
       "18               0.1976               0.8024  \n",
       "19               0.2049               0.7951  \n",
       "20               0.2075               0.7925  \n",
       "21               0.2083               0.7917  \n",
       "22               0.2118               0.7882  \n",
       "23               0.2120               0.7880  \n",
       "24               0.2343               0.7657  \n",
       "25               0.2410               0.7590  \n",
       "26               0.2458               0.7542  \n",
       "27               0.2481               0.7519  "
      ]
     },
     "execution_count": 26,
     "metadata": {},
     "output_type": "execute_result"
    }
   ],
   "source": [
    "print('COMMON WORDS')\n",
    "print('Male words in the female author corpus')\n",
    "f_mcdf = common_words_df(f_word_freq, f_male_percent, f_male_general, True)\n",
    "f_male_related_words = f_mcdf['word'].values.tolist()\n",
    "f_mcdf"
   ]
  },
  {
   "cell_type": "code",
   "execution_count": 71,
   "metadata": {},
   "outputs": [],
   "source": [
    "f_mcdf.to_csv(\"assets/Visualizations datasets/Common words/post_fm.csv\")"
   ]
  },
  {
   "cell_type": "markdown",
   "metadata": {},
   "source": [
    "----"
   ]
  },
  {
   "cell_type": "markdown",
   "metadata": {},
   "source": [
    "### 2) Male authors corpus"
   ]
  },
  {
   "cell_type": "markdown",
   "metadata": {},
   "source": [
    "The same kind of analysis based on classifications of sentences with respect to their gender will be performed in this section. This time, the focus of our analysis is the <i>male authors corpus</i>."
   ]
  },
  {
   "cell_type": "markdown",
   "metadata": {},
   "source": [
    "#### 2.1) Sentiment analysis"
   ]
  },
  {
   "cell_type": "markdown",
   "metadata": {},
   "source": [
    "##### 2.1.1) Characters extraction"
   ]
  },
  {
   "cell_type": "markdown",
   "metadata": {},
   "source": [
    "First of all, we need to extract all the characters from the analyzed corpora.</br>\n",
    "The extracted characters will be stored inside a dictionary."
   ]
  },
  {
   "cell_type": "code",
   "execution_count": 27,
   "metadata": {},
   "outputs": [
    {
     "name": "stderr",
     "output_type": "stream",
     "text": [
      "100%|██████████| 73/73 [00:41<00:00,  1.75it/s]\n"
     ]
    }
   ],
   "source": [
    "m_proper_nouns_dict = {}\n",
    "for url in tqdm(m_authors_texts):\n",
    "    m_proper_nouns_dict[url] = {}\n",
    "    text = text_reader(url)\n",
    "    list_of_sentences = syntok_list_of_sentences(text)\n",
    "    for sentence in list_of_sentences:\n",
    "            for word in word_tokenization(sentence, True, False)[1:]:\n",
    "                is_it_proper(word, m_proper_nouns_dict[url])"
   ]
  },
  {
   "cell_type": "code",
   "execution_count": 28,
   "metadata": {},
   "outputs": [],
   "source": [
    "m_characters = set()\n",
    "for url in m_proper_nouns_dict:\n",
    "    for word in m_proper_nouns_dict[url]:\n",
    "        if 'upper' in m_proper_nouns_dict[url][word] and 'lower' not in m_proper_nouns_dict[url][word]:\n",
    "            if word not in capital_not_names:\n",
    "                m_characters.add(word.lower())\n",
    "                m_characters.add(word.capitalize())"
   ]
  },
  {
   "cell_type": "markdown",
   "metadata": {},
   "source": [
    "##### 2.1.2) Raw scores"
   ]
  },
  {
   "cell_type": "markdown",
   "metadata": {},
   "source": [
    "Obviously, this time we will analyze the male authors corpus, so we will make use of the other dictionaries."
   ]
  },
  {
   "cell_type": "code",
   "execution_count": 29,
   "metadata": {},
   "outputs": [
    {
     "name": "stderr",
     "output_type": "stream",
     "text": [
      "100%|██████████| 73/73 [01:40<00:00,  1.37s/it]\n"
     ]
    }
   ],
   "source": [
    "for url in tqdm(m_authors_texts):\n",
    "    text = text_reader(url)\n",
    "    gender_analysis(text, m_sent_dict, m_sentence_counter, m_word_counter, male_authors_raw_count, m_word_freq, male_words, female_words)"
   ]
  },
  {
   "cell_type": "code",
   "execution_count": 30,
   "metadata": {},
   "outputs": [
    {
     "name": "stdout",
     "output_type": "stream",
     "text": [
      "41.2% gendered.\n",
      "88453 sentences about men.\n",
      "18256 sentences about women.\n",
      "4.8 sentences about men for each sentence about women.\n"
     ]
    }
   ],
   "source": [
    "print ('%.1f%% gendered.' % (100*(m_sentence_counter['male'] + m_sentence_counter['female'])/\n",
    "                           (m_sentence_counter['male'] + m_sentence_counter['female'] + m_sentence_counter['both'] + \n",
    "                           m_sentence_counter['none'])))\n",
    "print ('%s sentences about men.' % m_sentence_counter['male'])\n",
    "print ('%s sentences about women.' % m_sentence_counter['female'])\n",
    "print ('%.1f sentences about men for each sentence about women.' % (m_sentence_counter['male']/m_sentence_counter['female']))"
   ]
  },
  {
   "cell_type": "markdown",
   "metadata": {},
   "source": [
    "#### 2.2) Statistical analysis"
   ]
  },
  {
   "cell_type": "markdown",
   "metadata": {},
   "source": [
    "Now, without an additional explanation of the process (you can find it in the previous statistical analysis - in this section we will repeat the same exact operation done above but with data extracted from the male authors corpus), we can move on and analyze the sentiment scores extracted from this other corpus."
   ]
  },
  {
   "cell_type": "markdown",
   "metadata": {},
   "source": [
    "-----"
   ]
  },
  {
   "cell_type": "markdown",
   "metadata": {},
   "source": [
    "<b><u>Data extraction</b></u>"
   ]
  },
  {
   "cell_type": "code",
   "execution_count": 31,
   "metadata": {},
   "outputs": [],
   "source": [
    "m_f_labels = list()\n",
    "m_m_labels = list()\n",
    "m_f_scores = list()\n",
    "m_m_scores = list()"
   ]
  },
  {
   "cell_type": "code",
   "execution_count": 32,
   "metadata": {},
   "outputs": [],
   "source": [
    "for sentence in m_sent_dict:\n",
    "    if m_sent_dict[sentence][\"gender\"] == \"female\":\n",
    "        m_f_scores.append(m_sent_dict[sentence][\"score\"])\n",
    "        m_f_labels.append(m_sent_dict[sentence][\"polarity\"])\n",
    "    elif m_sent_dict[sentence][\"gender\"] == \"male\":\n",
    "        m_m_scores.append(m_sent_dict[sentence][\"score\"])\n",
    "        m_m_labels.append(m_sent_dict[sentence][\"polarity\"])"
   ]
  },
  {
   "cell_type": "markdown",
   "metadata": {},
   "source": [
    "-----"
   ]
  },
  {
   "cell_type": "markdown",
   "metadata": {},
   "source": [
    "<b><u>Raw statistics</u></b>"
   ]
  },
  {
   "cell_type": "code",
   "execution_count": 33,
   "metadata": {},
   "outputs": [
    {
     "name": "stdout",
     "output_type": "stream",
     "text": [
      "For what concerns the 18236 female gendered sentences written by male authors we have these results:\n",
      "\n",
      "\n",
      "The number of positive sentences is: 8078\n",
      "The number of negative sentences is: 4411\n",
      "The number of neutral sentences is: 5747\n"
     ]
    }
   ],
   "source": [
    "pos = 0\n",
    "neg = 0\n",
    "neu = 0\n",
    "for pol in m_f_labels:\n",
    "    if pol == \"POS\":\n",
    "        pos += 1\n",
    "    elif pol == \"NEG\":\n",
    "        neg += 1\n",
    "    else:\n",
    "        neu += 1\n",
    "print(\"For what concerns the\", pos+neg+neu,\"female gendered sentences written by male authors we have these results:\")\n",
    "print(\"\\n\")\n",
    "print(\"The number of positive sentences is:\", pos)\n",
    "print(\"The number of negative sentences is:\", neg)\n",
    "print(\"The number of neutral sentences is:\", neu)"
   ]
  },
  {
   "cell_type": "code",
   "execution_count": 34,
   "metadata": {},
   "outputs": [
    {
     "name": "stdout",
     "output_type": "stream",
     "text": [
      "For what concerns the 88297 male gendered sentences written by male authors we have these results:\n",
      "\n",
      "\n",
      "The number of positive sentences is: 37198\n",
      "The number of negative sentences is: 21982\n",
      "The number of neutral sentences is: 29117\n"
     ]
    }
   ],
   "source": [
    "pos = 0\n",
    "neg = 0\n",
    "neu = 0\n",
    "for pol in m_m_labels:\n",
    "    if pol == \"POS\":\n",
    "        pos += 1\n",
    "    elif pol == \"NEG\":\n",
    "        neg += 1\n",
    "    else:\n",
    "        neu += 1\n",
    "print(\"For what concerns the\", pos+neg+neu,\"male gendered sentences written by male authors we have these results:\")\n",
    "print(\"\\n\")\n",
    "print(\"The number of positive sentences is:\", pos)\n",
    "print(\"The number of negative sentences is:\", neg)\n",
    "print(\"The number of neutral sentences is:\", neu)"
   ]
  },
  {
   "cell_type": "markdown",
   "metadata": {},
   "source": [
    "-----"
   ]
  },
  {
   "cell_type": "markdown",
   "metadata": {},
   "source": [
    "<b><u>Sample building</u></b>"
   ]
  },
  {
   "cell_type": "markdown",
   "metadata": {},
   "source": [
    "<b>Data preparation</b>"
   ]
  },
  {
   "cell_type": "code",
   "execution_count": 35,
   "metadata": {},
   "outputs": [],
   "source": [
    "# Remove neutral scores in female sentences\n",
    "try:\n",
    "    while True:\n",
    "        m_f_scores.remove(0.0)\n",
    "except ValueError:\n",
    "    pass\n",
    "# Remove neutral labels in female sentences\n",
    "try:\n",
    "    while True:\n",
    "        m_f_labels.remove('NEU')\n",
    "except ValueError:\n",
    "    pass\n",
    "# Remove neutral scores in male sentences\n",
    "try:\n",
    "    while True:\n",
    "        m_m_scores.remove(0.0)\n",
    "except ValueError:\n",
    "    pass\n",
    "# Remove neutral labels in male sentences\n",
    "try:\n",
    "    while True:\n",
    "        m_m_labels.remove('NEU')\n",
    "except ValueError:\n",
    "    pass"
   ]
  },
  {
   "cell_type": "code",
   "execution_count": 36,
   "metadata": {},
   "outputs": [],
   "source": [
    "# Female sentences population dictionary\n",
    "m_f_population = {\n",
    "    \"scores\":m_f_scores,\n",
    "    \"labels\":m_f_labels\n",
    "}\n",
    "# Male sentences population dictionary\n",
    "m_m_population = {\n",
    "    \"scores\":m_m_scores,\n",
    "    \"labels\":m_m_labels\n",
    "} "
   ]
  },
  {
   "cell_type": "markdown",
   "metadata": {},
   "source": [
    "<b>SRS operation</b>"
   ]
  },
  {
   "cell_type": "code",
   "execution_count": 37,
   "metadata": {},
   "outputs": [],
   "source": [
    "m_samples = stratified_random_sampling([m_f_population,m_m_population], sample_size(len(m_f_population['scores'])+len(m_m_population['scores'])))\n",
    "m_f_sample = m_samples[0]\n",
    "m_m_sample = m_samples[1]"
   ]
  },
  {
   "cell_type": "code",
   "execution_count": 38,
   "metadata": {},
   "outputs": [],
   "source": [
    "post_df = pd.concat([post_df,DataFrame({\"mf_sample\":m_f_sample})], axis=1)\n",
    "post_df = pd.concat([post_df,DataFrame({\"mm_sample\":m_m_sample})], axis=1)"
   ]
  },
  {
   "cell_type": "markdown",
   "metadata": {},
   "source": [
    "----"
   ]
  },
  {
   "cell_type": "markdown",
   "metadata": {},
   "source": [
    "<b><u>T-Test assumptions check</u></b></br></br>\n",
    "<b><u>Distribution</u></b>"
   ]
  },
  {
   "cell_type": "markdown",
   "metadata": {},
   "source": [
    "<b>Normality assumption check for distribution of female sentences</b>"
   ]
  },
  {
   "cell_type": "code",
   "execution_count": 39,
   "metadata": {},
   "outputs": [
    {
     "name": "stdout",
     "output_type": "stream",
     "text": [
      "According to a D'Agostino-Pearson normality test, we cannot reject the null hypothesis, in fact:\n",
      "The p-value is: 0.2146993947903304\n",
      "The mean is: 0.09371300393208785\n",
      "The std is: 0.270094933079362\n",
      "So, data follow a normal distribution.\n"
     ]
    },
    {
     "data": {
      "text/plain": [
       "(0.09371300393208785, 0.270094933079362)"
      ]
     },
     "execution_count": 39,
     "metadata": {},
     "output_type": "execute_result"
    },
    {
     "data": {
      "image/png": "[encoded data removed]",
      "text/plain": [
       "<Figure size 432x288 with 1 Axes>"
      ]
     },
     "metadata": {
      "needs_background": "light"
     },
     "output_type": "display_data"
    }
   ],
   "source": [
    "check_distribution(m_f_sample)"
   ]
  },
  {
   "cell_type": "markdown",
   "metadata": {},
   "source": [
    "<b>Normality assumption check for distribution of male sentences</b>"
   ]
  },
  {
   "cell_type": "code",
   "execution_count": 40,
   "metadata": {},
   "outputs": [
    {
     "name": "stdout",
     "output_type": "stream",
     "text": [
      "According to a D'Agostino-Pearson normality test, we cannot reject the null hypothesis, in fact:\n",
      "The p-value is: 0.08869307439149925\n",
      "The mean is: 0.10238309978095218\n",
      "The std is: 0.266268358987014\n",
      "So, data follow a normal distribution.\n"
     ]
    },
    {
     "data": {
      "text/plain": [
       "(0.10238309978095218, 0.266268358987014)"
      ]
     },
     "execution_count": 40,
     "metadata": {},
     "output_type": "execute_result"
    },
    {
     "data": {
      "image/png": "[encoded data removed]",
      "text/plain": [
       "<Figure size 432x288 with 1 Axes>"
      ]
     },
     "metadata": {
      "needs_background": "light"
     },
     "output_type": "display_data"
    }
   ],
   "source": [
    "check_distribution(m_m_sample)"
   ]
  },
  {
   "cell_type": "markdown",
   "metadata": {},
   "source": [
    "----"
   ]
  },
  {
   "cell_type": "markdown",
   "metadata": {},
   "source": [
    "<b><u>Homogeneity of variances</u></b>"
   ]
  },
  {
   "cell_type": "code",
   "execution_count": 41,
   "metadata": {},
   "outputs": [
    {
     "name": "stdout",
     "output_type": "stream",
     "text": [
      "According to a T-Test for independent samples we can not reject the null hypothesis, in fact:\n",
      "The p-value is: 0.6266078918542712\n",
      "The two means (0.09007226700803406 0.09701360696395481) do not differ in a significant way.\n"
     ]
    },
    {
     "data": {
      "text/plain": [
       "Ttest_indResult(statistic=-0.48660128546422315, pvalue=0.6266078918542712)"
      ]
     },
     "execution_count": 41,
     "metadata": {},
     "output_type": "execute_result"
    }
   ],
   "source": [
    "t_test_independent(m_f_sample, m_m_sample)"
   ]
  },
  {
   "cell_type": "markdown",
   "metadata": {},
   "source": [
    "--------"
   ]
  },
  {
   "cell_type": "markdown",
   "metadata": {},
   "source": [
    "#### 2.3) Emotion extraction"
   ]
  },
  {
   "cell_type": "markdown",
   "metadata": {},
   "source": [
    "Finally, we can move on, as we have done above, into seeing the emotions related data that have been extracted from this corpus."
   ]
  },
  {
   "cell_type": "code",
   "execution_count": 42,
   "metadata": {},
   "outputs": [
    {
     "name": "stderr",
     "output_type": "stream",
     "text": [
      "100%|██████████| 73/73 [00:58<00:00,  1.25it/s]\n"
     ]
    },
    {
     "data": {
      "text/html": [
       "<div>\n",
       "<style scoped>\n",
       "    .dataframe tbody tr th:only-of-type {\n",
       "        vertical-align: middle;\n",
       "    }\n",
       "\n",
       "    .dataframe tbody tr th {\n",
       "        vertical-align: top;\n",
       "    }\n",
       "\n",
       "    .dataframe thead th {\n",
       "        text-align: right;\n",
       "    }\n",
       "</style>\n",
       "<table border=\"1\" class=\"dataframe\">\n",
       "  <thead>\n",
       "    <tr style=\"text-align: right;\">\n",
       "      <th></th>\n",
       "      <th>emotions</th>\n",
       "      <th>score</th>\n",
       "    </tr>\n",
       "  </thead>\n",
       "  <tbody>\n",
       "    <tr>\n",
       "      <th>0</th>\n",
       "      <td>fear</td>\n",
       "      <td>0.089928</td>\n",
       "    </tr>\n",
       "    <tr>\n",
       "      <th>1</th>\n",
       "      <td>anger</td>\n",
       "      <td>0.065837</td>\n",
       "    </tr>\n",
       "    <tr>\n",
       "      <th>2</th>\n",
       "      <td>trust</td>\n",
       "      <td>0.117380</td>\n",
       "    </tr>\n",
       "    <tr>\n",
       "      <th>3</th>\n",
       "      <td>surprise</td>\n",
       "      <td>0.056173</td>\n",
       "    </tr>\n",
       "    <tr>\n",
       "      <th>4</th>\n",
       "      <td>positive</td>\n",
       "      <td>0.202957</td>\n",
       "    </tr>\n",
       "    <tr>\n",
       "      <th>5</th>\n",
       "      <td>negative</td>\n",
       "      <td>0.155698</td>\n",
       "    </tr>\n",
       "    <tr>\n",
       "      <th>6</th>\n",
       "      <td>sadness</td>\n",
       "      <td>0.075619</td>\n",
       "    </tr>\n",
       "    <tr>\n",
       "      <th>7</th>\n",
       "      <td>disgust</td>\n",
       "      <td>0.043379</td>\n",
       "    </tr>\n",
       "    <tr>\n",
       "      <th>8</th>\n",
       "      <td>joy</td>\n",
       "      <td>0.082204</td>\n",
       "    </tr>\n",
       "    <tr>\n",
       "      <th>9</th>\n",
       "      <td>anticipation</td>\n",
       "      <td>0.110826</td>\n",
       "    </tr>\n",
       "  </tbody>\n",
       "</table>\n",
       "</div>"
      ],
      "text/plain": [
       "       emotions     score\n",
       "0          fear  0.089928\n",
       "1         anger  0.065837\n",
       "2         trust  0.117380\n",
       "3      surprise  0.056173\n",
       "4      positive  0.202957\n",
       "5      negative  0.155698\n",
       "6       sadness  0.075619\n",
       "7       disgust  0.043379\n",
       "8           joy  0.082204\n",
       "9  anticipation  0.110826"
      ]
     },
     "execution_count": 42,
     "metadata": {},
     "output_type": "execute_result"
    }
   ],
   "source": [
    "for url in tqdm(m_authors_texts):\n",
    "    m_emotions = emotion_frequencies(url, m_emotions)\n",
    "del m_emotions[\"anticip\"]\n",
    "#This dataframe is useful to plot a violin visualization of the scores\n",
    "m_df_plt = pd.DataFrame(m_emotions)\n",
    "# DF for basic visualization of means\n",
    "m_emo_scores = list()\n",
    "for emo in m_emotions:\n",
    "    m_emotions[emo] = np.mean(m_emotions[emo])\n",
    "    m_emo_scores.append(m_emotions[emo])\n",
    "m_emotions_df = pd.DataFrame({\n",
    "    'emotions':pd.Series(m_emotions.keys()),\n",
    "    'score':pd.Series(m_emo_scores)\n",
    "})\n",
    "m_emotions_df"
   ]
  },
  {
   "cell_type": "markdown",
   "metadata": {},
   "source": [
    "#### 2.4) Common words extraction"
   ]
  },
  {
   "cell_type": "code",
   "execution_count": 43,
   "metadata": {},
   "outputs": [],
   "source": [
    "m_common_words=set([w for w in sorted (m_word_freq['female'],key=m_word_freq['female'].get,reverse=True)[:1000]]+\n",
    "                    [w for w in sorted (m_word_freq['male'],key=m_word_freq['male'].get,reverse=True)[:1000]])\n",
    "m_common_words=list(m_common_words-male_words-female_words-m_characters-animals_list-common_ws_list)"
   ]
  },
  {
   "cell_type": "code",
   "execution_count": 44,
   "metadata": {},
   "outputs": [],
   "source": [
    "m_tagged_words = {}\n",
    "for word in pos_tagging(m_common_words, True):\n",
    "    if word[1] not in m_tagged_words:\n",
    "        m_tagged_words[word[1]] = []\n",
    "    m_tagged_words[word[1]].append(word[0])"
   ]
  },
  {
   "cell_type": "code",
   "execution_count": 45,
   "metadata": {},
   "outputs": [],
   "source": [
    "m_male_percent = { word :\n",
    "     (m_word_freq['male'].get(word,0)/m_word_counter['male'])/ \n",
    "     (m_word_freq['female'].get(word,0)/m_word_counter['female'] + \n",
    "      m_word_freq['male'].get(word,0)/m_word_counter['male']) \n",
    "    for word in m_common_words if word in m_tagged_words[\"NOUN\"] or word in m_tagged_words[\"VERB\"] or word in m_tagged_words[\"ADJ\"]}"
   ]
  },
  {
   "cell_type": "markdown",
   "metadata": {},
   "source": [
    "<b><u>Female related common words in male authors corpus</u></b>"
   ]
  },
  {
   "cell_type": "code",
   "execution_count": 46,
   "metadata": {},
   "outputs": [
    {
     "name": "stdout",
     "output_type": "stream",
     "text": [
      "COMMON WORDS\n",
      "Female words in the male author corpus\n"
     ]
    },
    {
     "data": {
      "text/html": [
       "<div>\n",
       "<style scoped>\n",
       "    .dataframe tbody tr th:only-of-type {\n",
       "        vertical-align: middle;\n",
       "    }\n",
       "\n",
       "    .dataframe tbody tr th {\n",
       "        vertical-align: top;\n",
       "    }\n",
       "\n",
       "    .dataframe thead th {\n",
       "        text-align: right;\n",
       "    }\n",
       "</style>\n",
       "<table border=\"1\" class=\"dataframe\">\n",
       "  <thead>\n",
       "    <tr style=\"text-align: right;\">\n",
       "      <th></th>\n",
       "      <th>word</th>\n",
       "      <th>ratio</th>\n",
       "      <th>f_corpus raw count</th>\n",
       "      <th>m_corpus raw count</th>\n",
       "      <th>f_corpus percentage</th>\n",
       "      <th>m_corpus percentage</th>\n",
       "    </tr>\n",
       "  </thead>\n",
       "  <tbody>\n",
       "    <tr>\n",
       "      <th>0</th>\n",
       "      <td>ton</td>\n",
       "      <td>25.33</td>\n",
       "      <td>79</td>\n",
       "      <td>14</td>\n",
       "      <td>0.9620</td>\n",
       "      <td>0.0380</td>\n",
       "    </tr>\n",
       "    <tr>\n",
       "      <th>1</th>\n",
       "      <td>hull</td>\n",
       "      <td>22.84</td>\n",
       "      <td>173</td>\n",
       "      <td>34</td>\n",
       "      <td>0.9580</td>\n",
       "      <td>0.0420</td>\n",
       "    </tr>\n",
       "    <tr>\n",
       "      <th>2</th>\n",
       "      <td>barque</td>\n",
       "      <td>11.32</td>\n",
       "      <td>111</td>\n",
       "      <td>44</td>\n",
       "      <td>0.9188</td>\n",
       "      <td>0.0812</td>\n",
       "    </tr>\n",
       "    <tr>\n",
       "      <th>3</th>\n",
       "      <td>painted</td>\n",
       "      <td>11.30</td>\n",
       "      <td>73</td>\n",
       "      <td>29</td>\n",
       "      <td>0.9187</td>\n",
       "      <td>0.0813</td>\n",
       "    </tr>\n",
       "    <tr>\n",
       "      <th>4</th>\n",
       "      <td>broadside</td>\n",
       "      <td>10.14</td>\n",
       "      <td>174</td>\n",
       "      <td>77</td>\n",
       "      <td>0.9103</td>\n",
       "      <td>0.0897</td>\n",
       "    </tr>\n",
       "    <tr>\n",
       "      <th>5</th>\n",
       "      <td>craft</td>\n",
       "      <td>10.13</td>\n",
       "      <td>537</td>\n",
       "      <td>238</td>\n",
       "      <td>0.9101</td>\n",
       "      <td>0.0899</td>\n",
       "    </tr>\n",
       "    <tr>\n",
       "      <th>6</th>\n",
       "      <td>tack</td>\n",
       "      <td>9.38</td>\n",
       "      <td>138</td>\n",
       "      <td>66</td>\n",
       "      <td>0.9037</td>\n",
       "      <td>0.0963</td>\n",
       "    </tr>\n",
       "    <tr>\n",
       "      <th>7</th>\n",
       "      <td>leeward</td>\n",
       "      <td>9.27</td>\n",
       "      <td>126</td>\n",
       "      <td>61</td>\n",
       "      <td>0.9026</td>\n",
       "      <td>0.0974</td>\n",
       "    </tr>\n",
       "    <tr>\n",
       "      <th>8</th>\n",
       "      <td>spray</td>\n",
       "      <td>9.26</td>\n",
       "      <td>66</td>\n",
       "      <td>32</td>\n",
       "      <td>0.9025</td>\n",
       "      <td>0.0975</td>\n",
       "    </tr>\n",
       "    <tr>\n",
       "      <th>9</th>\n",
       "      <td>rigged</td>\n",
       "      <td>8.98</td>\n",
       "      <td>62</td>\n",
       "      <td>31</td>\n",
       "      <td>0.8998</td>\n",
       "      <td>0.1002</td>\n",
       "    </tr>\n",
       "    <tr>\n",
       "      <th>10</th>\n",
       "      <td>keel</td>\n",
       "      <td>8.98</td>\n",
       "      <td>60</td>\n",
       "      <td>30</td>\n",
       "      <td>0.8998</td>\n",
       "      <td>0.1002</td>\n",
       "    </tr>\n",
       "    <tr>\n",
       "      <th>11</th>\n",
       "      <td>brigantine</td>\n",
       "      <td>8.81</td>\n",
       "      <td>104</td>\n",
       "      <td>53</td>\n",
       "      <td>0.8980</td>\n",
       "      <td>0.1020</td>\n",
       "    </tr>\n",
       "    <tr>\n",
       "      <th>12</th>\n",
       "      <td>hove</td>\n",
       "      <td>8.31</td>\n",
       "      <td>100</td>\n",
       "      <td>54</td>\n",
       "      <td>0.8926</td>\n",
       "      <td>0.1074</td>\n",
       "    </tr>\n",
       "    <tr>\n",
       "      <th>13</th>\n",
       "      <td>felucca</td>\n",
       "      <td>8.23</td>\n",
       "      <td>77</td>\n",
       "      <td>42</td>\n",
       "      <td>0.8916</td>\n",
       "      <td>0.1084</td>\n",
       "    </tr>\n",
       "    <tr>\n",
       "      <th>14</th>\n",
       "      <td>windward</td>\n",
       "      <td>8.19</td>\n",
       "      <td>135</td>\n",
       "      <td>74</td>\n",
       "      <td>0.8912</td>\n",
       "      <td>0.1088</td>\n",
       "    </tr>\n",
       "    <tr>\n",
       "      <th>15</th>\n",
       "      <td>canvas</td>\n",
       "      <td>8.04</td>\n",
       "      <td>308</td>\n",
       "      <td>172</td>\n",
       "      <td>0.8893</td>\n",
       "      <td>0.1107</td>\n",
       "    </tr>\n",
       "    <tr>\n",
       "      <th>16</th>\n",
       "      <td>heading</td>\n",
       "      <td>7.95</td>\n",
       "      <td>62</td>\n",
       "      <td>35</td>\n",
       "      <td>0.8883</td>\n",
       "      <td>0.1117</td>\n",
       "    </tr>\n",
       "    <tr>\n",
       "      <th>17</th>\n",
       "      <td>crest</td>\n",
       "      <td>7.75</td>\n",
       "      <td>57</td>\n",
       "      <td>33</td>\n",
       "      <td>0.8857</td>\n",
       "      <td>0.1143</td>\n",
       "    </tr>\n",
       "    <tr>\n",
       "      <th>18</th>\n",
       "      <td>pounder</td>\n",
       "      <td>7.71</td>\n",
       "      <td>79</td>\n",
       "      <td>46</td>\n",
       "      <td>0.8852</td>\n",
       "      <td>0.1148</td>\n",
       "    </tr>\n",
       "    <tr>\n",
       "      <th>19</th>\n",
       "      <td>topgallant</td>\n",
       "      <td>7.51</td>\n",
       "      <td>92</td>\n",
       "      <td>55</td>\n",
       "      <td>0.8825</td>\n",
       "      <td>0.1175</td>\n",
       "    </tr>\n",
       "    <tr>\n",
       "      <th>20</th>\n",
       "      <td>starboard</td>\n",
       "      <td>7.38</td>\n",
       "      <td>189</td>\n",
       "      <td>115</td>\n",
       "      <td>0.8806</td>\n",
       "      <td>0.1194</td>\n",
       "    </tr>\n",
       "    <tr>\n",
       "      <th>21</th>\n",
       "      <td>topsail</td>\n",
       "      <td>7.37</td>\n",
       "      <td>151</td>\n",
       "      <td>92</td>\n",
       "      <td>0.8805</td>\n",
       "      <td>0.1195</td>\n",
       "    </tr>\n",
       "    <tr>\n",
       "      <th>22</th>\n",
       "      <td>knot</td>\n",
       "      <td>7.25</td>\n",
       "      <td>113</td>\n",
       "      <td>70</td>\n",
       "      <td>0.8787</td>\n",
       "      <td>0.1213</td>\n",
       "    </tr>\n",
       "    <tr>\n",
       "      <th>23</th>\n",
       "      <td>mast</td>\n",
       "      <td>7.08</td>\n",
       "      <td>268</td>\n",
       "      <td>170</td>\n",
       "      <td>0.8762</td>\n",
       "      <td>0.1238</td>\n",
       "    </tr>\n",
       "    <tr>\n",
       "      <th>24</th>\n",
       "      <td>frigate</td>\n",
       "      <td>6.93</td>\n",
       "      <td>139</td>\n",
       "      <td>90</td>\n",
       "      <td>0.8739</td>\n",
       "      <td>0.1261</td>\n",
       "    </tr>\n",
       "    <tr>\n",
       "      <th>25</th>\n",
       "      <td>steering</td>\n",
       "      <td>6.69</td>\n",
       "      <td>85</td>\n",
       "      <td>57</td>\n",
       "      <td>0.8700</td>\n",
       "      <td>0.1300</td>\n",
       "    </tr>\n",
       "    <tr>\n",
       "      <th>26</th>\n",
       "      <td>topmast</td>\n",
       "      <td>6.61</td>\n",
       "      <td>78</td>\n",
       "      <td>53</td>\n",
       "      <td>0.8685</td>\n",
       "      <td>0.1315</td>\n",
       "    </tr>\n",
       "    <tr>\n",
       "      <th>27</th>\n",
       "      <td>swell</td>\n",
       "      <td>6.52</td>\n",
       "      <td>61</td>\n",
       "      <td>42</td>\n",
       "      <td>0.8670</td>\n",
       "      <td>0.1330</td>\n",
       "    </tr>\n",
       "    <tr>\n",
       "      <th>28</th>\n",
       "      <td>reef</td>\n",
       "      <td>6.35</td>\n",
       "      <td>75</td>\n",
       "      <td>53</td>\n",
       "      <td>0.8640</td>\n",
       "      <td>0.1360</td>\n",
       "    </tr>\n",
       "    <tr>\n",
       "      <th>29</th>\n",
       "      <td>schooner</td>\n",
       "      <td>6.24</td>\n",
       "      <td>339</td>\n",
       "      <td>244</td>\n",
       "      <td>0.8618</td>\n",
       "      <td>0.1382</td>\n",
       "    </tr>\n",
       "    <tr>\n",
       "      <th>30</th>\n",
       "      <td>beam</td>\n",
       "      <td>5.98</td>\n",
       "      <td>100</td>\n",
       "      <td>75</td>\n",
       "      <td>0.8568</td>\n",
       "      <td>0.1432</td>\n",
       "    </tr>\n",
       "    <tr>\n",
       "      <th>31</th>\n",
       "      <td>afloat</td>\n",
       "      <td>5.83</td>\n",
       "      <td>61</td>\n",
       "      <td>47</td>\n",
       "      <td>0.8535</td>\n",
       "      <td>0.1465</td>\n",
       "    </tr>\n",
       "    <tr>\n",
       "      <th>32</th>\n",
       "      <td>breeze</td>\n",
       "      <td>5.79</td>\n",
       "      <td>205</td>\n",
       "      <td>159</td>\n",
       "      <td>0.8527</td>\n",
       "      <td>0.1473</td>\n",
       "    </tr>\n",
       "    <tr>\n",
       "      <th>33</th>\n",
       "      <td>helm</td>\n",
       "      <td>5.61</td>\n",
       "      <td>135</td>\n",
       "      <td>108</td>\n",
       "      <td>0.8487</td>\n",
       "      <td>0.1513</td>\n",
       "    </tr>\n",
       "    <tr>\n",
       "      <th>34</th>\n",
       "      <td>hoisted</td>\n",
       "      <td>5.43</td>\n",
       "      <td>75</td>\n",
       "      <td>62</td>\n",
       "      <td>0.8445</td>\n",
       "      <td>0.1555</td>\n",
       "    </tr>\n",
       "    <tr>\n",
       "      <th>35</th>\n",
       "      <td>sweeping</td>\n",
       "      <td>5.43</td>\n",
       "      <td>52</td>\n",
       "      <td>43</td>\n",
       "      <td>0.8444</td>\n",
       "      <td>0.1556</td>\n",
       "    </tr>\n",
       "    <tr>\n",
       "      <th>36</th>\n",
       "      <td>cargo</td>\n",
       "      <td>5.30</td>\n",
       "      <td>98</td>\n",
       "      <td>83</td>\n",
       "      <td>0.8413</td>\n",
       "      <td>0.1587</td>\n",
       "    </tr>\n",
       "    <tr>\n",
       "      <th>37</th>\n",
       "      <td>stern</td>\n",
       "      <td>5.15</td>\n",
       "      <td>271</td>\n",
       "      <td>236</td>\n",
       "      <td>0.8375</td>\n",
       "      <td>0.1625</td>\n",
       "    </tr>\n",
       "    <tr>\n",
       "      <th>38</th>\n",
       "      <td>vessel</td>\n",
       "      <td>5.07</td>\n",
       "      <td>355</td>\n",
       "      <td>314</td>\n",
       "      <td>0.8354</td>\n",
       "      <td>0.1646</td>\n",
       "    </tr>\n",
       "    <tr>\n",
       "      <th>39</th>\n",
       "      <td>sail</td>\n",
       "      <td>4.98</td>\n",
       "      <td>550</td>\n",
       "      <td>496</td>\n",
       "      <td>0.8327</td>\n",
       "      <td>0.1673</td>\n",
       "    </tr>\n",
       "    <tr>\n",
       "      <th>40</th>\n",
       "      <td>blowing</td>\n",
       "      <td>4.80</td>\n",
       "      <td>61</td>\n",
       "      <td>57</td>\n",
       "      <td>0.8277</td>\n",
       "      <td>0.1723</td>\n",
       "    </tr>\n",
       "    <tr>\n",
       "      <th>41</th>\n",
       "      <td>wreck</td>\n",
       "      <td>4.80</td>\n",
       "      <td>123</td>\n",
       "      <td>115</td>\n",
       "      <td>0.8276</td>\n",
       "      <td>0.1724</td>\n",
       "    </tr>\n",
       "    <tr>\n",
       "      <th>42</th>\n",
       "      <td>foam</td>\n",
       "      <td>4.64</td>\n",
       "      <td>60</td>\n",
       "      <td>58</td>\n",
       "      <td>0.8228</td>\n",
       "      <td>0.1772</td>\n",
       "    </tr>\n",
       "    <tr>\n",
       "      <th>43</th>\n",
       "      <td>swept</td>\n",
       "      <td>4.59</td>\n",
       "      <td>139</td>\n",
       "      <td>136</td>\n",
       "      <td>0.8210</td>\n",
       "      <td>0.1790</td>\n",
       "    </tr>\n",
       "    <tr>\n",
       "      <th>44</th>\n",
       "      <td>chase</td>\n",
       "      <td>4.49</td>\n",
       "      <td>99</td>\n",
       "      <td>99</td>\n",
       "      <td>0.8178</td>\n",
       "      <td>0.1822</td>\n",
       "    </tr>\n",
       "    <tr>\n",
       "      <th>45</th>\n",
       "      <td>bow</td>\n",
       "      <td>4.47</td>\n",
       "      <td>335</td>\n",
       "      <td>336</td>\n",
       "      <td>0.8173</td>\n",
       "      <td>0.1827</td>\n",
       "    </tr>\n",
       "    <tr>\n",
       "      <th>46</th>\n",
       "      <td>maid</td>\n",
       "      <td>4.41</td>\n",
       "      <td>53</td>\n",
       "      <td>54</td>\n",
       "      <td>0.8150</td>\n",
       "      <td>0.1850</td>\n",
       "    </tr>\n",
       "    <tr>\n",
       "      <th>47</th>\n",
       "      <td>sailing</td>\n",
       "      <td>4.34</td>\n",
       "      <td>89</td>\n",
       "      <td>92</td>\n",
       "      <td>0.8128</td>\n",
       "      <td>0.1872</td>\n",
       "    </tr>\n",
       "    <tr>\n",
       "      <th>48</th>\n",
       "      <td>speed</td>\n",
       "      <td>4.22</td>\n",
       "      <td>191</td>\n",
       "      <td>203</td>\n",
       "      <td>0.8085</td>\n",
       "      <td>0.1915</td>\n",
       "    </tr>\n",
       "    <tr>\n",
       "      <th>49</th>\n",
       "      <td>heave</td>\n",
       "      <td>4.21</td>\n",
       "      <td>60</td>\n",
       "      <td>64</td>\n",
       "      <td>0.8080</td>\n",
       "      <td>0.1920</td>\n",
       "    </tr>\n",
       "  </tbody>\n",
       "</table>\n",
       "</div>"
      ],
      "text/plain": [
       "          word  ratio  f_corpus raw count  m_corpus raw count  \\\n",
       "0          ton  25.33                  79                  14   \n",
       "1         hull  22.84                 173                  34   \n",
       "2       barque  11.32                 111                  44   \n",
       "3      painted  11.30                  73                  29   \n",
       "4    broadside  10.14                 174                  77   \n",
       "5        craft  10.13                 537                 238   \n",
       "6         tack   9.38                 138                  66   \n",
       "7      leeward   9.27                 126                  61   \n",
       "8        spray   9.26                  66                  32   \n",
       "9       rigged   8.98                  62                  31   \n",
       "10        keel   8.98                  60                  30   \n",
       "11  brigantine   8.81                 104                  53   \n",
       "12        hove   8.31                 100                  54   \n",
       "13     felucca   8.23                  77                  42   \n",
       "14    windward   8.19                 135                  74   \n",
       "15      canvas   8.04                 308                 172   \n",
       "16     heading   7.95                  62                  35   \n",
       "17       crest   7.75                  57                  33   \n",
       "18     pounder   7.71                  79                  46   \n",
       "19  topgallant   7.51                  92                  55   \n",
       "20   starboard   7.38                 189                 115   \n",
       "21     topsail   7.37                 151                  92   \n",
       "22        knot   7.25                 113                  70   \n",
       "23        mast   7.08                 268                 170   \n",
       "24     frigate   6.93                 139                  90   \n",
       "25    steering   6.69                  85                  57   \n",
       "26     topmast   6.61                  78                  53   \n",
       "27       swell   6.52                  61                  42   \n",
       "28        reef   6.35                  75                  53   \n",
       "29    schooner   6.24                 339                 244   \n",
       "30        beam   5.98                 100                  75   \n",
       "31      afloat   5.83                  61                  47   \n",
       "32      breeze   5.79                 205                 159   \n",
       "33        helm   5.61                 135                 108   \n",
       "34     hoisted   5.43                  75                  62   \n",
       "35    sweeping   5.43                  52                  43   \n",
       "36       cargo   5.30                  98                  83   \n",
       "37       stern   5.15                 271                 236   \n",
       "38      vessel   5.07                 355                 314   \n",
       "39        sail   4.98                 550                 496   \n",
       "40     blowing   4.80                  61                  57   \n",
       "41       wreck   4.80                 123                 115   \n",
       "42        foam   4.64                  60                  58   \n",
       "43       swept   4.59                 139                 136   \n",
       "44       chase   4.49                  99                  99   \n",
       "45         bow   4.47                 335                 336   \n",
       "46        maid   4.41                  53                  54   \n",
       "47     sailing   4.34                  89                  92   \n",
       "48       speed   4.22                 191                 203   \n",
       "49       heave   4.21                  60                  64   \n",
       "\n",
       "    f_corpus percentage  m_corpus percentage  \n",
       "0                0.9620               0.0380  \n",
       "1                0.9580               0.0420  \n",
       "2                0.9188               0.0812  \n",
       "3                0.9187               0.0813  \n",
       "4                0.9103               0.0897  \n",
       "5                0.9101               0.0899  \n",
       "6                0.9037               0.0963  \n",
       "7                0.9026               0.0974  \n",
       "8                0.9025               0.0975  \n",
       "9                0.8998               0.1002  \n",
       "10               0.8998               0.1002  \n",
       "11               0.8980               0.1020  \n",
       "12               0.8926               0.1074  \n",
       "13               0.8916               0.1084  \n",
       "14               0.8912               0.1088  \n",
       "15               0.8893               0.1107  \n",
       "16               0.8883               0.1117  \n",
       "17               0.8857               0.1143  \n",
       "18               0.8852               0.1148  \n",
       "19               0.8825               0.1175  \n",
       "20               0.8806               0.1194  \n",
       "21               0.8805               0.1195  \n",
       "22               0.8787               0.1213  \n",
       "23               0.8762               0.1238  \n",
       "24               0.8739               0.1261  \n",
       "25               0.8700               0.1300  \n",
       "26               0.8685               0.1315  \n",
       "27               0.8670               0.1330  \n",
       "28               0.8640               0.1360  \n",
       "29               0.8618               0.1382  \n",
       "30               0.8568               0.1432  \n",
       "31               0.8535               0.1465  \n",
       "32               0.8527               0.1473  \n",
       "33               0.8487               0.1513  \n",
       "34               0.8445               0.1555  \n",
       "35               0.8444               0.1556  \n",
       "36               0.8413               0.1587  \n",
       "37               0.8375               0.1625  \n",
       "38               0.8354               0.1646  \n",
       "39               0.8327               0.1673  \n",
       "40               0.8277               0.1723  \n",
       "41               0.8276               0.1724  \n",
       "42               0.8228               0.1772  \n",
       "43               0.8210               0.1790  \n",
       "44               0.8178               0.1822  \n",
       "45               0.8173               0.1827  \n",
       "46               0.8150               0.1850  \n",
       "47               0.8128               0.1872  \n",
       "48               0.8085               0.1915  \n",
       "49               0.8080               0.1920  "
      ]
     },
     "execution_count": 46,
     "metadata": {},
     "output_type": "execute_result"
    }
   ],
   "source": [
    "print('COMMON WORDS')\n",
    "print('Female words in the male author corpus')\n",
    "m_fcdf = common_words_df(m_word_freq, m_male_percent, m_female_general, False)\n",
    "m_female_related_words = m_fcdf['word'].values.tolist()\n",
    "m_fcdf"
   ]
  },
  {
   "cell_type": "code",
   "execution_count": null,
   "metadata": {},
   "outputs": [],
   "source": [
    "m_fcdf.to_csv(\"assets/Visualizations datasets/Common words/post_mf.csv\")"
   ]
  },
  {
   "cell_type": "markdown",
   "metadata": {},
   "source": [
    "<b><u>Male related common words in male authors corpus</u></b>"
   ]
  },
  {
   "cell_type": "code",
   "execution_count": 47,
   "metadata": {},
   "outputs": [
    {
     "name": "stdout",
     "output_type": "stream",
     "text": [
      "COMMON WORDS\n",
      "Male words in the male author corpus\n"
     ]
    },
    {
     "data": {
      "text/html": [
       "<div>\n",
       "<style scoped>\n",
       "    .dataframe tbody tr th:only-of-type {\n",
       "        vertical-align: middle;\n",
       "    }\n",
       "\n",
       "    .dataframe tbody tr th {\n",
       "        vertical-align: top;\n",
       "    }\n",
       "\n",
       "    .dataframe thead th {\n",
       "        text-align: right;\n",
       "    }\n",
       "</style>\n",
       "<table border=\"1\" class=\"dataframe\">\n",
       "  <thead>\n",
       "    <tr style=\"text-align: right;\">\n",
       "      <th></th>\n",
       "      <th>word</th>\n",
       "      <th>ratio</th>\n",
       "      <th>f_corpus raw count</th>\n",
       "      <th>m_corpus raw count</th>\n",
       "      <th>f_corpus percentage</th>\n",
       "      <th>m_corpus percentage</th>\n",
       "    </tr>\n",
       "  </thead>\n",
       "  <tbody>\n",
       "    <tr>\n",
       "      <th>0</th>\n",
       "      <td>jungle</td>\n",
       "      <td>8.91</td>\n",
       "      <td>6</td>\n",
       "      <td>240</td>\n",
       "      <td>0.1009</td>\n",
       "      <td>0.8991</td>\n",
       "    </tr>\n",
       "    <tr>\n",
       "      <th>1</th>\n",
       "      <td>coat</td>\n",
       "      <td>6.96</td>\n",
       "      <td>9</td>\n",
       "      <td>281</td>\n",
       "      <td>0.1257</td>\n",
       "      <td>0.8743</td>\n",
       "    </tr>\n",
       "    <tr>\n",
       "      <th>2</th>\n",
       "      <td>comrade</td>\n",
       "      <td>5.05</td>\n",
       "      <td>12</td>\n",
       "      <td>272</td>\n",
       "      <td>0.1653</td>\n",
       "      <td>0.8347</td>\n",
       "    </tr>\n",
       "    <tr>\n",
       "      <th>3</th>\n",
       "      <td>rifle</td>\n",
       "      <td>4.81</td>\n",
       "      <td>12</td>\n",
       "      <td>259</td>\n",
       "      <td>0.1721</td>\n",
       "      <td>0.8279</td>\n",
       "    </tr>\n",
       "    <tr>\n",
       "      <th>4</th>\n",
       "      <td>knife</td>\n",
       "      <td>4.65</td>\n",
       "      <td>21</td>\n",
       "      <td>438</td>\n",
       "      <td>0.1771</td>\n",
       "      <td>0.8229</td>\n",
       "    </tr>\n",
       "    <tr>\n",
       "      <th>5</th>\n",
       "      <td>law</td>\n",
       "      <td>4.42</td>\n",
       "      <td>13</td>\n",
       "      <td>258</td>\n",
       "      <td>0.1844</td>\n",
       "      <td>0.8156</td>\n",
       "    </tr>\n",
       "    <tr>\n",
       "      <th>6</th>\n",
       "      <td>study</td>\n",
       "      <td>4.41</td>\n",
       "      <td>20</td>\n",
       "      <td>396</td>\n",
       "      <td>0.1848</td>\n",
       "      <td>0.8152</td>\n",
       "    </tr>\n",
       "    <tr>\n",
       "      <th>7</th>\n",
       "      <td>chest</td>\n",
       "      <td>4.14</td>\n",
       "      <td>14</td>\n",
       "      <td>260</td>\n",
       "      <td>0.1946</td>\n",
       "      <td>0.8054</td>\n",
       "    </tr>\n",
       "    <tr>\n",
       "      <th>8</th>\n",
       "      <td>pocket</td>\n",
       "      <td>4.04</td>\n",
       "      <td>35</td>\n",
       "      <td>635</td>\n",
       "      <td>0.1983</td>\n",
       "      <td>0.8017</td>\n",
       "    </tr>\n",
       "    <tr>\n",
       "      <th>9</th>\n",
       "      <td>boot</td>\n",
       "      <td>3.91</td>\n",
       "      <td>13</td>\n",
       "      <td>228</td>\n",
       "      <td>0.2038</td>\n",
       "      <td>0.7962</td>\n",
       "    </tr>\n",
       "    <tr>\n",
       "      <th>10</th>\n",
       "      <td>school</td>\n",
       "      <td>3.68</td>\n",
       "      <td>41</td>\n",
       "      <td>678</td>\n",
       "      <td>0.2135</td>\n",
       "      <td>0.7865</td>\n",
       "    </tr>\n",
       "    <tr>\n",
       "      <th>11</th>\n",
       "      <td>fellow</td>\n",
       "      <td>3.57</td>\n",
       "      <td>98</td>\n",
       "      <td>1571</td>\n",
       "      <td>0.2187</td>\n",
       "      <td>0.7813</td>\n",
       "    </tr>\n",
       "    <tr>\n",
       "      <th>12</th>\n",
       "      <td>shouted</td>\n",
       "      <td>3.48</td>\n",
       "      <td>35</td>\n",
       "      <td>546</td>\n",
       "      <td>0.2234</td>\n",
       "      <td>0.7766</td>\n",
       "    </tr>\n",
       "    <tr>\n",
       "      <th>13</th>\n",
       "      <td>pistol</td>\n",
       "      <td>3.32</td>\n",
       "      <td>19</td>\n",
       "      <td>283</td>\n",
       "      <td>0.2316</td>\n",
       "      <td>0.7684</td>\n",
       "    </tr>\n",
       "    <tr>\n",
       "      <th>14</th>\n",
       "      <td>beast</td>\n",
       "      <td>3.10</td>\n",
       "      <td>20</td>\n",
       "      <td>278</td>\n",
       "      <td>0.2441</td>\n",
       "      <td>0.7559</td>\n",
       "    </tr>\n",
       "    <tr>\n",
       "      <th>15</th>\n",
       "      <td>chap</td>\n",
       "      <td>3.03</td>\n",
       "      <td>19</td>\n",
       "      <td>258</td>\n",
       "      <td>0.2484</td>\n",
       "      <td>0.7516</td>\n",
       "    </tr>\n",
       "  </tbody>\n",
       "</table>\n",
       "</div>"
      ],
      "text/plain": [
       "       word  ratio  f_corpus raw count  m_corpus raw count  \\\n",
       "0    jungle   8.91                   6                 240   \n",
       "1      coat   6.96                   9                 281   \n",
       "2   comrade   5.05                  12                 272   \n",
       "3     rifle   4.81                  12                 259   \n",
       "4     knife   4.65                  21                 438   \n",
       "5       law   4.42                  13                 258   \n",
       "6     study   4.41                  20                 396   \n",
       "7     chest   4.14                  14                 260   \n",
       "8    pocket   4.04                  35                 635   \n",
       "9      boot   3.91                  13                 228   \n",
       "10   school   3.68                  41                 678   \n",
       "11   fellow   3.57                  98                1571   \n",
       "12  shouted   3.48                  35                 546   \n",
       "13   pistol   3.32                  19                 283   \n",
       "14    beast   3.10                  20                 278   \n",
       "15     chap   3.03                  19                 258   \n",
       "\n",
       "    f_corpus percentage  m_corpus percentage  \n",
       "0                0.1009               0.8991  \n",
       "1                0.1257               0.8743  \n",
       "2                0.1653               0.8347  \n",
       "3                0.1721               0.8279  \n",
       "4                0.1771               0.8229  \n",
       "5                0.1844               0.8156  \n",
       "6                0.1848               0.8152  \n",
       "7                0.1946               0.8054  \n",
       "8                0.1983               0.8017  \n",
       "9                0.2038               0.7962  \n",
       "10               0.2135               0.7865  \n",
       "11               0.2187               0.7813  \n",
       "12               0.2234               0.7766  \n",
       "13               0.2316               0.7684  \n",
       "14               0.2441               0.7559  \n",
       "15               0.2484               0.7516  "
      ]
     },
     "execution_count": 47,
     "metadata": {},
     "output_type": "execute_result"
    }
   ],
   "source": [
    "print('COMMON WORDS')\n",
    "print('Male words in the male author corpus')\n",
    "m_mcdf = common_words_df(m_word_freq, m_male_percent, m_male_general, True)\n",
    "m_male_related_words = m_mcdf['word'].values.tolist()\n",
    "m_mcdf"
   ]
  },
  {
   "cell_type": "code",
   "execution_count": null,
   "metadata": {},
   "outputs": [],
   "source": [
    "m_mcdf.to_csv(\"assets/Visualizations datasets/Common words/post_mm.csv\")"
   ]
  },
  {
   "cell_type": "markdown",
   "metadata": {},
   "source": [
    "---------"
   ]
  },
  {
   "cell_type": "markdown",
   "metadata": {},
   "source": [
    "### 3) Comparative analysis of corpora"
   ]
  },
  {
   "cell_type": "markdown",
   "metadata": {},
   "source": [
    "The purpose of this sub-section is one of the most important of this project.</br></br>\n",
    "We will compute the differences between gendered sentences, in particular <i>we are looking to see wether is it possible to find differences between the way in which male and female authors write about male and female sentences</i>.</br></br>\n",
    "Later on, we will also compare the different emotional values extracted from the previous analysis."
   ]
  },
  {
   "cell_type": "markdown",
   "metadata": {},
   "source": [
    "----"
   ]
  },
  {
   "cell_type": "markdown",
   "metadata": {},
   "source": [
    "<b><u>Samples</u></b>"
   ]
  },
  {
   "cell_type": "code",
   "execution_count": 48,
   "metadata": {},
   "outputs": [],
   "source": [
    "# m_m + f_m\n",
    "m_m_population = {\n",
    "    \"scores\":m_m_scores,\n",
    "    \"labels\":m_m_labels\n",
    "}\n",
    "f_m_population = {\n",
    "    \"scores\":f_m_scores,\n",
    "    \"labels\":f_m_labels\n",
    "}\n",
    "\n",
    "# m_f + f_f\n",
    "m_f_population = {\n",
    "    \"scores\":m_f_scores,\n",
    "    \"labels\":m_f_labels\n",
    "}\n",
    "f_f_population = {\n",
    "    \"scores\":f_f_scores,\n",
    "    \"labels\":f_f_labels\n",
    "}"
   ]
  },
  {
   "cell_type": "markdown",
   "metadata": {},
   "source": [
    "<b><u>Female sentences</u></b>"
   ]
  },
  {
   "cell_type": "code",
   "execution_count": 49,
   "metadata": {},
   "outputs": [],
   "source": [
    "samples = stratified_random_sampling([f_f_population,m_f_population], sample_size(len(f_f_population['scores'])+len(m_f_population['scores'])))\n",
    "f_f_sample = samples[0]\n",
    "m_f_sample = samples[1]"
   ]
  },
  {
   "cell_type": "code",
   "execution_count": 50,
   "metadata": {},
   "outputs": [],
   "source": [
    "post_df = pd.concat([post_df,DataFrame({\"ff_comparative_sample\":f_f_sample})], axis=1)\n",
    "post_df = pd.concat([post_df,DataFrame({\"mf_comparative_sample\":m_f_sample})], axis=1)"
   ]
  },
  {
   "cell_type": "markdown",
   "metadata": {},
   "source": [
    "<b><u>Male sentences</u></b>"
   ]
  },
  {
   "cell_type": "code",
   "execution_count": 51,
   "metadata": {},
   "outputs": [],
   "source": [
    "samples = stratified_random_sampling([f_m_population,m_m_population], sample_size(len(f_m_population['scores'])+len(m_m_population['scores'])))\n",
    "f_m_sample = samples[0]\n",
    "m_m_sample = samples[1]"
   ]
  },
  {
   "cell_type": "code",
   "execution_count": 52,
   "metadata": {},
   "outputs": [],
   "source": [
    "post_df = pd.concat([post_df,DataFrame({\"mf_comparative_sample\":f_m_sample})], axis=1)\n",
    "post_df = pd.concat([post_df,DataFrame({\"mm_comparative_sample\":m_m_sample})], axis=1)"
   ]
  },
  {
   "cell_type": "markdown",
   "metadata": {},
   "source": [
    "----"
   ]
  },
  {
   "cell_type": "markdown",
   "metadata": {},
   "source": [
    "<b><u>Distributions</u></b>"
   ]
  },
  {
   "cell_type": "markdown",
   "metadata": {},
   "source": [
    "<b>Male sentences</b>"
   ]
  },
  {
   "cell_type": "code",
   "execution_count": 53,
   "metadata": {},
   "outputs": [
    {
     "name": "stdout",
     "output_type": "stream",
     "text": [
      "According to a D'Agostino-Pearson normality test, we cannot reject the null hypothesis, in fact:\n",
      "The p-value is: 0.9593451497907638\n",
      "The mean is: 0.1171264228681138\n",
      "The std is: 0.2944003856238019\n",
      "So, data follow a normal distribution.\n"
     ]
    },
    {
     "data": {
      "text/plain": [
       "(0.1171264228681138, 0.2944003856238019)"
      ]
     },
     "execution_count": 53,
     "metadata": {},
     "output_type": "execute_result"
    },
    {
     "data": {
      "image/png": "[encoded data removed]",
      "text/plain": [
       "<Figure size 432x288 with 1 Axes>"
      ]
     },
     "metadata": {
      "needs_background": "light"
     },
     "output_type": "display_data"
    }
   ],
   "source": [
    "check_distribution(f_m_sample)"
   ]
  },
  {
   "cell_type": "code",
   "execution_count": 54,
   "metadata": {},
   "outputs": [
    {
     "name": "stdout",
     "output_type": "stream",
     "text": [
      "According to a D'Agostino-Pearson normality test, we cannot reject the null hypothesis, in fact:\n",
      "The p-value is: 0.08697597211282264\n",
      "The mean is: 0.08353844064301758\n",
      "The std is: 0.2858020670450299\n",
      "So, data follow a normal distribution.\n"
     ]
    },
    {
     "data": {
      "text/plain": [
       "(0.08353844064301758, 0.2858020670450299)"
      ]
     },
     "execution_count": 54,
     "metadata": {},
     "output_type": "execute_result"
    },
    {
     "data": {
      "image/png": "[encoded data removed]",
      "text/plain": [
       "<Figure size 432x288 with 1 Axes>"
      ]
     },
     "metadata": {
      "needs_background": "light"
     },
     "output_type": "display_data"
    }
   ],
   "source": [
    "check_distribution(m_m_sample)"
   ]
  },
  {
   "cell_type": "markdown",
   "metadata": {},
   "source": [
    "<b>Female sentences</b>"
   ]
  },
  {
   "cell_type": "code",
   "execution_count": 55,
   "metadata": {},
   "outputs": [
    {
     "name": "stdout",
     "output_type": "stream",
     "text": [
      "According to a D'Agostino-Pearson normality test, we cannot reject the null hypothesis, in fact:\n",
      "The p-value is: 0.9918784234191843\n",
      "The mean is: 0.10788598807900988\n",
      "The std is: 0.3022025198481111\n",
      "So, data follow a normal distribution.\n"
     ]
    },
    {
     "data": {
      "text/plain": [
       "(0.10788598807900988, 0.3022025198481111)"
      ]
     },
     "execution_count": 55,
     "metadata": {},
     "output_type": "execute_result"
    },
    {
     "data": {
      "image/png": "[encoded data removed]",
      "text/plain": [
       "<Figure size 432x288 with 1 Axes>"
      ]
     },
     "metadata": {
      "needs_background": "light"
     },
     "output_type": "display_data"
    }
   ],
   "source": [
    "check_distribution(f_f_sample)"
   ]
  },
  {
   "cell_type": "code",
   "execution_count": 56,
   "metadata": {},
   "outputs": [
    {
     "name": "stdout",
     "output_type": "stream",
     "text": [
      "According to a D'Agostino-Pearson normality test, we cannot reject the null hypothesis, in fact:\n",
      "The p-value is: 0.1643796410988104\n",
      "The mean is: 0.10084209721478168\n",
      "The std is: 0.2853221835318824\n",
      "So, data follow a normal distribution.\n"
     ]
    },
    {
     "data": {
      "text/plain": [
       "(0.10084209721478168, 0.2853221835318824)"
      ]
     },
     "execution_count": 56,
     "metadata": {},
     "output_type": "execute_result"
    },
    {
     "data": {
      "image/png": "[encoded data removed]",
      "text/plain": [
       "<Figure size 432x288 with 1 Axes>"
      ]
     },
     "metadata": {
      "needs_background": "light"
     },
     "output_type": "display_data"
    }
   ],
   "source": [
    "check_distribution(m_f_sample)"
   ]
  },
  {
   "cell_type": "markdown",
   "metadata": {},
   "source": [
    "------"
   ]
  },
  {
   "cell_type": "markdown",
   "metadata": {},
   "source": [
    "<b><u>f-test</u></b>"
   ]
  },
  {
   "cell_type": "markdown",
   "metadata": {},
   "source": [
    "<b>Male sentences</b>"
   ]
  },
  {
   "cell_type": "code",
   "execution_count": 57,
   "metadata": {},
   "outputs": [
    {
     "name": "stdout",
     "output_type": "stream",
     "text": [
      "According to an F-test, we cannot reject the null hypothesis, in fact:\n",
      "The F-statistics is: 1.0610748433386268\n",
      "The p-value is: 0.20317202271894486\n",
      "The two variances do not differ in a significant way\n"
     ]
    },
    {
     "data": {
      "text/plain": [
       "(1.0610748433386268, 0.20317202271894486)"
      ]
     },
     "execution_count": 57,
     "metadata": {},
     "output_type": "execute_result"
    }
   ],
   "source": [
    "f_test(f_m_sample, m_m_sample)"
   ]
  },
  {
   "cell_type": "markdown",
   "metadata": {},
   "source": [
    "<b>Female sentences</b>"
   ]
  },
  {
   "cell_type": "code",
   "execution_count": 58,
   "metadata": {},
   "outputs": [
    {
     "name": "stdout",
     "output_type": "stream",
     "text": [
      "According to an F-test, we cannot reject the null hypothesis, in fact:\n",
      "The F-statistics is: 1.1218249239816414\n",
      "The p-value is: 0.05328331730643321\n",
      "The two variances do not differ in a significant way\n"
     ]
    },
    {
     "data": {
      "text/plain": [
       "(1.1218249239816414, 0.05328331730643321)"
      ]
     },
     "execution_count": 58,
     "metadata": {},
     "output_type": "execute_result"
    }
   ],
   "source": [
    "f_test(f_f_sample, m_f_sample)"
   ]
  },
  {
   "cell_type": "markdown",
   "metadata": {},
   "source": [
    "-----"
   ]
  },
  {
   "cell_type": "markdown",
   "metadata": {},
   "source": [
    "<b><u>t-test</u></b>"
   ]
  },
  {
   "cell_type": "markdown",
   "metadata": {},
   "source": [
    "<b>Male sentences</b>"
   ]
  },
  {
   "cell_type": "code",
   "execution_count": 59,
   "metadata": {},
   "outputs": [
    {
     "name": "stdout",
     "output_type": "stream",
     "text": [
      "According to a T-Test for independent samples we can accept the alternative hypothesis, in fact:\n",
      "The p-value is: 0.019195230205819366\n",
      "The two means (0.11776083847204383 0.08068125737922241) differ in a significant way.\n"
     ]
    },
    {
     "data": {
      "text/plain": [
       "Ttest_indResult(statistic=2.344109598107693, pvalue=0.019195230205819366)"
      ]
     },
     "execution_count": 59,
     "metadata": {},
     "output_type": "execute_result"
    }
   ],
   "source": [
    "t_test_independent(f_m_sample, m_m_sample)"
   ]
  },
  {
   "cell_type": "markdown",
   "metadata": {},
   "source": [
    "<b>Female sentences</b>"
   ]
  },
  {
   "cell_type": "code",
   "execution_count": 60,
   "metadata": {},
   "outputs": [
    {
     "name": "stdout",
     "output_type": "stream",
     "text": [
      "According to a T-Test for independent samples we can not reject the null hypothesis, in fact:\n",
      "The p-value is: 0.3674143089330427\n",
      "The two means (0.10878696177293275 0.09475189595997727) do not differ in a significant way.\n"
     ]
    },
    {
     "data": {
      "text/plain": [
       "Ttest_indResult(statistic=0.9015857668805026, pvalue=0.3674143089330427)"
      ]
     },
     "execution_count": 60,
     "metadata": {},
     "output_type": "execute_result"
    }
   ],
   "source": [
    "t_test_independent(f_f_sample, m_f_sample)"
   ]
  },
  {
   "cell_type": "markdown",
   "metadata": {},
   "source": [
    "------"
   ]
  },
  {
   "cell_type": "markdown",
   "metadata": {},
   "source": [
    "#### 3.2) Emotion comparison"
   ]
  },
  {
   "cell_type": "code",
   "execution_count": 61,
   "metadata": {},
   "outputs": [],
   "source": [
    "dict_df = {\n",
    "    \"emotion\": [],\n",
    "    \"female_scores\":[],\n",
    "    \"male_scores\":[]\n",
    "}\n",
    "emotion = []\n",
    "f_auth = []\n",
    "m_auth = []\n",
    "\n",
    "for emo in f_emotions:\n",
    "    dict_df[\"emotion\"].append(emo)\n",
    "    dict_df[\"female_scores\"].append(f_emotions[emo])\n",
    "    dict_df[\"male_scores\"].append(m_emotions[emo])\n",
    "    emotion.append(emo)\n",
    "    f_auth.append(f_emotions[emo])\n",
    "    m_auth.append(m_emotions[emo])\n",
    "\n",
    "\n",
    "emotions_df = pd.DataFrame(dict_df)\n",
    "emotions_df.to_csv(\"assets/Visualizations datasets/Emotion scores/post_emotions.csv\", index=False)"
   ]
  },
  {
   "cell_type": "markdown",
   "metadata": {},
   "source": [
    "-----"
   ]
  },
  {
   "cell_type": "markdown",
   "metadata": {},
   "source": [
    "### 4) Gender analytics"
   ]
  },
  {
   "cell_type": "markdown",
   "metadata": {},
   "source": [
    "In this last chapter, we will try to see wether a difference can be find in the way in which \"society\" represents male and female.</br>\n",
    "To accomplish this aim, we will join female and male authors views with respect to females and males. We will compute a comparison between the entirety of female sentences and the entirety of male sentences, without the need to look at the gender of the author."
   ]
  },
  {
   "cell_type": "markdown",
   "metadata": {},
   "source": [
    "----"
   ]
  },
  {
   "cell_type": "markdown",
   "metadata": {},
   "source": [
    "<b><u>Samples</b></u>"
   ]
  },
  {
   "cell_type": "markdown",
   "metadata": {},
   "source": [
    "Now, we join together the different results of the previous analysis."
   ]
  },
  {
   "cell_type": "code",
   "execution_count": 62,
   "metadata": {},
   "outputs": [],
   "source": [
    "# Female sentences population dictionary\n",
    "m_f_scores.extend(f_f_scores)\n",
    "f_scores = m_f_scores\n",
    "m_f_labels.extend(f_f_labels)\n",
    "f_labels = m_f_labels\n",
    "\n",
    "f_population = {\n",
    "    \"scores\":f_scores,\n",
    "    \"labels\":f_labels\n",
    "}\n",
    "\n",
    "# Male sentences population dictionary\n",
    "m_m_scores.extend(f_m_scores)\n",
    "m_scores = m_m_scores\n",
    "m_m_labels.extend(f_m_labels)\n",
    "m_labels = m_m_labels\n",
    "\n",
    "m_population = {\n",
    "    \"scores\":m_scores,\n",
    "    \"labels\":m_labels\n",
    "} "
   ]
  },
  {
   "cell_type": "markdown",
   "metadata": {},
   "source": [
    "We produce two samples, one representing female gendered sentences, and the other representing male gendered sentences."
   ]
  },
  {
   "cell_type": "code",
   "execution_count": 63,
   "metadata": {},
   "outputs": [],
   "source": [
    "samples = stratified_random_sampling([f_population,m_population], sample_size(len(f_population['scores'])+len(m_population['scores'])))\n",
    "f_sample = samples[0]\n",
    "m_sample = samples[1]"
   ]
  },
  {
   "cell_type": "code",
   "execution_count": 64,
   "metadata": {},
   "outputs": [],
   "source": [
    "post_df = pd.concat([post_df,DataFrame({\"f_gender_sample\":f_sample})], axis=1)\n",
    "post_df = pd.concat([post_df,DataFrame({\"m_gender_sample\":m_sample})], axis=1)"
   ]
  },
  {
   "cell_type": "markdown",
   "metadata": {},
   "source": [
    "----"
   ]
  },
  {
   "cell_type": "markdown",
   "metadata": {},
   "source": [
    "<b><u>Distributions</u></b>"
   ]
  },
  {
   "cell_type": "code",
   "execution_count": 65,
   "metadata": {},
   "outputs": [
    {
     "name": "stdout",
     "output_type": "stream",
     "text": [
      "According to a D'Agostino-Pearson normality test, we cannot reject the null hypothesis, in fact:\n",
      "The p-value is: 0.5326928376959281\n",
      "The mean is: 0.10127260817788115\n",
      "The std is: 0.2937082842222651\n",
      "So, data follow a normal distribution.\n"
     ]
    },
    {
     "data": {
      "text/plain": [
       "(0.10127260817788115, 0.2937082842222651)"
      ]
     },
     "execution_count": 65,
     "metadata": {},
     "output_type": "execute_result"
    },
    {
     "data": {
      "image/png": "[encoded data removed]",
      "text/plain": [
       "<Figure size 432x288 with 1 Axes>"
      ]
     },
     "metadata": {
      "needs_background": "light"
     },
     "output_type": "display_data"
    }
   ],
   "source": [
    "check_distribution(f_sample)"
   ]
  },
  {
   "cell_type": "code",
   "execution_count": 66,
   "metadata": {},
   "outputs": [
    {
     "name": "stdout",
     "output_type": "stream",
     "text": [
      "According to a D'Agostino-Pearson normality test, we cannot reject the null hypothesis, in fact:\n",
      "The p-value is: 0.9043698069007229\n",
      "The mean is: 0.11310210637342916\n",
      "The std is: 0.29364878141339434\n",
      "So, data follow a normal distribution.\n"
     ]
    },
    {
     "data": {
      "text/plain": [
       "(0.11310210637342916, 0.29364878141339434)"
      ]
     },
     "execution_count": 66,
     "metadata": {},
     "output_type": "execute_result"
    },
    {
     "data": {
      "image/png": "[encoded data removed]",
      "text/plain": [
       "<Figure size 432x288 with 1 Axes>"
      ]
     },
     "metadata": {
      "needs_background": "light"
     },
     "output_type": "display_data"
    }
   ],
   "source": [
    "check_distribution(m_sample)"
   ]
  },
  {
   "cell_type": "markdown",
   "metadata": {},
   "source": [
    "------"
   ]
  },
  {
   "cell_type": "markdown",
   "metadata": {},
   "source": [
    "<b><u>f-test</u></b>"
   ]
  },
  {
   "cell_type": "code",
   "execution_count": 67,
   "metadata": {},
   "outputs": [
    {
     "name": "stdout",
     "output_type": "stream",
     "text": [
      "According to an F-test, we cannot reject the null hypothesis, in fact:\n",
      "The F-statistics is: 1.0004053062109641\n",
      "The p-value is: 0.49776177881547234\n",
      "The two variances do not differ in a significant way\n"
     ]
    },
    {
     "data": {
      "text/plain": [
       "(1.0004053062109641, 0.49776177881547234)"
      ]
     },
     "execution_count": 67,
     "metadata": {},
     "output_type": "execute_result"
    }
   ],
   "source": [
    "f_test(f_sample, m_sample)"
   ]
  },
  {
   "cell_type": "markdown",
   "metadata": {},
   "source": [
    "----"
   ]
  },
  {
   "cell_type": "markdown",
   "metadata": {},
   "source": [
    "<b><u>t-test</u></b>"
   ]
  },
  {
   "cell_type": "code",
   "execution_count": 68,
   "metadata": {},
   "outputs": [
    {
     "name": "stdout",
     "output_type": "stream",
     "text": [
      "According to a T-Test for independent samples we can not reject the null hypothesis, in fact:\n",
      "The p-value is: 0.8710540552316305\n",
      "The two means (0.10488789586591483 0.10240999898848673) do not differ in a significant way.\n"
     ]
    },
    {
     "data": {
      "text/plain": [
       "Ttest_indResult(statistic=0.16234585941528662, pvalue=0.8710540552316305)"
      ]
     },
     "execution_count": 68,
     "metadata": {},
     "output_type": "execute_result"
    }
   ],
   "source": [
    "t_test_independent(f_sample, m_sample)"
   ]
  },
  {
   "cell_type": "markdown",
   "metadata": {},
   "source": [
    "Finally, we store our df into a CSV file."
   ]
  },
  {
   "cell_type": "code",
   "execution_count": 69,
   "metadata": {},
   "outputs": [],
   "source": [
    "post_df.to_csv(\"assets/Visualizations datasets/Sentiment scores/post_df.csv\", index=False)"
   ]
  }
 ],
 "metadata": {
  "kernelspec": {
   "display_name": "Python 3.10.5 64-bit",
   "language": "python",
   "name": "python3"
  },
  "language_info": {
   "codemirror_mode": {
    "name": "ipython",
    "version": 3
   },
   "file_extension": ".py",
   "mimetype": "text/x-python",
   "name": "python",
   "nbconvert_exporter": "python",
   "pygments_lexer": "ipython3",
   "version": "3.10.5"
  },
  "orig_nbformat": 4,
  "vscode": {
   "interpreter": {
    "hash": "aee8b7b246df8f9039afb4144a1f6fd8d2ca17a180786b69acc140d282b71a49"
   }
  }
 },
 "nbformat": 4,
 "nbformat_minor": 2
}
