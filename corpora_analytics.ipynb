{
 "cells": [
  {
   "cell_type": "markdown",
   "metadata": {},
   "source": [
    "# Corpora Analytics"
   ]
  },
  {
   "cell_type": "markdown",
   "metadata": {},
   "source": [
    "### Environment"
   ]
  },
  {
   "cell_type": "code",
   "execution_count": 1,
   "metadata": {},
   "outputs": [],
   "source": [
    "from run import *"
   ]
  },
  {
   "cell_type": "markdown",
   "metadata": {},
   "source": [
    "## Corpora Presentation"
   ]
  },
  {
   "cell_type": "code",
   "execution_count": 2,
   "metadata": {},
   "outputs": [
    {
     "name": "stdout",
     "output_type": "stream",
     "text": [
      "Titles of female authors texts: ['1835_sherwood-shanty-the-blacksmith-a-tale-of-other-times', '1839_sinclair-holiday-house-a-series-of-tales', '1841_martineau-the-settlers-at-home', '1850_sherwood-the-young-lord-and-other-tales-to-which-is-added-victorine-durocher', '1851_hall-turns-of-fortune-and.other-tales', '1853_yonge-the-heir-of-redclyffe', '1854_yonge-the-little-duke-richard-the-fearless', '1855_yonge-the-lances-of-lynwood', '1856_yonge-the-daisy-chain-or-aspirations', '1857_browne-grannys-wonderful-chair', '1857_tucker-the-rambles-of-a-rat', '1858_tucker-flora', '1860_yonge-countess-kate', '1860_yonge-the-pigeon-pie', '1861_yonge-the-stokesley-secret', '1862_ewing-melchiors-dream-and-other-tales', '1863_tucker-the-crown-of-success', '1866_yonge-the-prince-and-the-page-a-story-of-the-last-crusade', '1867_stretton-jessicas-first-prayer-and-jessicas-mother', '1868_stretton-little-megs-children', '1869_ewing-mrs-overtheways-remembrances', '1869_ewing-the-land-of-lost-toys', '1869_stretton-alone-in-london', '1870_ewing-the-brownies-and-other-tales', '1871_yonge-little-lucys-wonderful-globe', '1872_craik-the-adventure-of-a-brownie', '1872_de_la_ramee-a-dog-of-flanders', '1872_meade-scamp-and-i-a-story-of-city-by-ways', '1873_ewing-a-flat-iron-for-a-farthing', '1875_craik-the-little-lame-prince-and-his-traveling-cloack', '1875_molesworth-tell-me-a-story', '1875_tucker-the-childrens-tabernacle-or-hand-work-and-heart-work', '1876_ewing-jan-of-the-windmill', '1876_ewing-six-to-sixteen-a-story-for-girls', '1876_molesworth-carrots-just-a-little-boy', '1877_ewing-a-great-emergency-and-other-tales', '1877_meade-davids-little-lad', '1877_molesworth-the-cuckoo-clock', '1877_sewell-black-beauty', '1878_molesworth-grandmother-dear-a-book-for-boys-and-girls', '1879_coleridge-the-constant-prince', '1879_ewing-jackanapes-daddy-darwins-dovecot-and-other-stories', '1879_molesworth-the-tapestry-room-a-childs-romance', '1880_burnett-louisiana', '1880_meade-mou-sete-a-negro-hero', '1880_molesworth-a-christmas-child-a-sketch-of-a-boy-life', '1882_delaramee-bimbi', '1882_ewing-brothers-of-pity-and-other-tales-of-beasts-and-men', '1882_meade-a-london-baby-the-story-of-king-roy', '1883_ewing-marys-meadow-and-other-tales-of-fields-and-flowers', '1883_meade-the-childrens-pilgrimage', '1883_molesworth-the-boys-and-i-a-childs-story-for-children', '1883_molesworth-two-little-waifs', '1884_molesworth-the-little-old-portrait', '1886_delaramee-a-houseparty', '1886_hodgson-burnett-little-lord-fauntleroy', '1886_leslie-a-sailors-lass', '1886_meade-a-world-of-girls', '1886_molesworth-christmas-tree-land', '1886_molesworth-us-an-old-fashioned-story', '1887_leslie-kates-ordeal', '1887_meade-the-palace-beautiful', '1887_molesworth-silverthorns', '1887_peard-prentice-hugh', '1888_burnett-little-saint-elizabeth-and-other-tales', '1888_burnett-sara-crewe', '1888_ewing-snap-dragons-old-father-christmas', '1888_meade-the-little-princess-of-towerhill', '1888_molesworth-a-christmas-posy', '1888_molesworth-the-third-miss-st-quentin', '1889_meade-polly-a-new-fashioned-girl', '1889_molesworth-the-rectory-children', '1889_tytler-a-house-full-of-girls', '1890_coleridge-maud-florence-nellie', '1890_meade-the-honorable-miss-a-story-of.an-old-fashioned-town', '1890_molesworth-robin-redbreast-a-story-for-girls', '1890_molesworth-the-children-of-the-castle', '1891_meade-a-sweet-girl-graduate', '1891_molesworth-nurse-heatherdales-story', '1892_everett_green-the-lord-of-dynevor-a-tale-of-the-times-of-edward-the-first', '1892_meade-the-lady-of-the-forest-a-story-for-girls', '1892_molesworth-the-girls-and-i-a-veracious-history', '1893_everett_green-in-the-days-of-chivalry-a-tale-of-the-times-of-the-black-prince', '1893_molesworth-blanche-a-story-for-girls', '1894_everett_green-the-lost-treasure-of-trevlyn-a-story-of-the-days-of-the-gunpowder-plot', '1894_everett_green-the-secret-chamber-at-chad', '1894_meade-red-rose-and-tiger-lily-or-in-a-wider-world', '1894_molesworth-my-new-home', '1895_burnett-two-little-pilgrims-process-a-story-of-the-city-beautiful', '1895_ewing-the-peace-egg-and-other-tales', '1895_meade-girls-new-and-old', '1895_molesworth-the-carved-lions', '1896_meade-a-little-mother-to-the-others', '1896_molesworth-philippa', '1897_meade-wild-kitty', '1897_molesworth-hoodie', '1897_molesworth-miss-mouse-and-her-boys', '1898_everett_green-a-clerk-of-oxford-and-his-adventures-in-the-barons-war', '1898_everett_green-tom-tuftons-travels', '1898_meade-a-bunch-of-cherries-a-story-of-cherry-court-school', '1898_meade-the-girls-of-st-wodes', '1899_everett_green-french-and.english-a-story-of-the-struggle-in-america', '1899_meade-light-o-the-morning', '1899_nesbit-pussy-and-doggy-tales', '1899_nesbit-the-story-of-the-treasure-seekers', '1900_everett_green-esthers-charge-a-story-for-girls', '1900_meade-a-plucky-girl', '1900_molesworth-the-house-that-grew', '1901_everett_green-in-the-wars-of-the-roses-a-story-for-the-young', '1901_meade-a-very-naughty-girl', '1901_meade-girls-of-the-true-blue', '1901_molesworth-the-wood-pigeons-and-mary', '1901_nesbit-the-book-of-dragons', '1901_nesbit-the-wouldbegoods', '1902_everett_green-for-the-faith-a-story-of-the-young-pioneers-of-reformation-in-oxford', '1902_meade-girls-of.the-forest', '1902_molesworth-peterkin', '1902_potter-the-tale-of-peter-rabbit', '1903_potter-the-tailor-of-gloucester', '1903_potter-the-tale-of-squirrel-nutkin', '1904_burnett-in-the-closed-room', '1904_everett_green-the-sign-of-the-red-cross-a-tale-of-old-london', '1904_meade-a-modern-tomboy-a-story-for-girls', '1904_nesbit-the-phoenix-and-the-carpet', '1904_potter-the-tale-of-benjamin-bunny', '1904_potter_the-tale-of-two-bad-mice', '1905_meade-a-bevy-of-girls', '1905_meade-a-plain-girl', '1905_nesbit-new-treasure-seekers-or-the-bastable-children-in-search-of-a-fortune', '1905_potter-the-tale-of-mrs-riggy-winkle', '1905_potter-the-tale-of-the-pie-and-the-the-patty-pan', '1906_burnett-racketty-packetty-house', '1906_everett_green-a-heroine-of-france-the-story-of-joan-of-arc', '1906_everett_green-fallen-fortunes', '1906_meade-turquoise-and-ruby', '1906_molesworth-jasper', '1906_nesbit-the-story-of-the-amulet', '1907_burnett-the-cozy-lion', '1907_meade-the-little-school-mothers', '1907_meade-three-girls-from-school', '1907_nesbit-the-enchanted-castle', '1908_burnett-the-good-wolf', '1908_potter-the-tale-of-jemina-puddle-duck', '1908_potter-the-tale-of-samuel-whiskers-the-roly-poly-pudding', '1909_burnett-barty-crusoe-and-his-man-saturday', '1909_potter-the-tale-of-ginger-and-pickles', '1909_potter-the-tale-of-the-flopsy-bunnies', '1910_meade-betty-vivian-a-story-of-haddo-court-school', '1910_meade-sue-a-little-heroine', '1910_meade-the-school-queens', '1910_potter-the-tale-pf-mrs-tittlemouse', '1911_burnett-the-secret-garden', '1911_nesbit-the-wonderful-garden-oir-the-three-cs', '1911_potter-the-tale-of-timmy-tiptoes', '1912_nesbit-the-magic-world', '1912_potter-the-tale-of-mr-tod', '1913_nesbit-wet-magic'] \n",
      "\n"
     ]
    }
   ],
   "source": [
    "print(\"Titles of female authors texts:\", f_titles, '\\n')"
   ]
  },
  {
   "cell_type": "code",
   "execution_count": 3,
   "metadata": {},
   "outputs": [
    {
     "name": "stdout",
     "output_type": "stream",
     "text": [
      "Titles of male authors texts: ['1836_marryat-mr-midshipman-easy', '1841_marryat-masterman-ready', '1844_marryat-the-settlers-in-canada', '1845_dickens-the-cricket-on-the-hearth-a-fairy-tale-of-home', '1847_marryat-the-children-of-the-new-forest', '1848_marryat-the-little-savage', '1851_ruskin-the-king-of-the-golden-river', '1855_kingsley-westward-ho', '1856_ballantyne-the-young-fur-traders', '1857_ballantyne-the-coral-island-a-tale-of-the-pacific-ocean', '1857_hughes-tom-browns-school-days', '1858_ballantyne-martin-rattler', '1858_farrar-eric-or-little-by-little', '1861_hughes-tom-brown-at-oxford', '1862_farrar-st-winfreds-the-world-of-school', '1863_ballantyne-fighting-the-whales', '1863_kingsley-the-water-babies', '1865_ballantyne-the-lighthouse', '1865_carroll-alices-adventures-in-wonderland', '1869_dickens-david-copperfield', '1870_hemyng-jack-harkaways-boy-tinker-among-the-turks', '1871_carroll-through-the-looking-glass', '1871_macdonald-at-the-back-of-the-north-wind', '1871_macdonald-ranald-bannermans-boyhood', '1872_ballantyne-the-pioneers', '1872_macdonald-the-princess-and-the-goblin', '1873_ballantyne-life-in-the-red-brigade', '1873_macdonald-gutta-percha-willie-the-working-genius', '1874_ballantyne-the-pirate-city-an-algerine-tale', '1875_ballantyne-rivers-of-ice', '1875_macdonald-a-double-story', '1876_adams-hair-breadth-escapes-the-adventures-of-the-three-boys-in-south-africa', '1877_ballantyne-the-settler-and-the-savage', '1878_kingston-the-three-admirals', '1879_hemyng-jack-harkaway-in-new-york', '1879_hemyng-the-slave-of-the-mine', '1881_ballantyne-my-doggie-and-i', '1881_reed-the-fifth-form-at-st-dominics', '1882_ballantyne-the-life-of-a-ship', '1882_henty-facing-death', '1882_jefferies-bevis-the-story-of-a-boy', '1883_ballantyne-battles-with-the-sea', '1883_ballantyne-the-thorogood-family', '1883_fenn-nat-the-naturalist-a-boys-adventures-in-the-eastern-seas', '1883_kingston-adventures-in-africa', '1883_macdonald-the-princess-and-curdie', '1883_reed-the-adventures-of-a-three-guinea-watch', '1883_stevenson-treasure-island', '1884_collingwood-the-pirate-island-a-story-of-the-south-pacific', '1884_collingwood-under-the-meteor-flag-log-of-a-midshipman-during-the-french-revolutionary-ear', '1884_fenn-through-forest-and-stream', '1884_lang-the-princess-nobody-a-tale-of-fairyland', '1885_collingwood-the-congo-rovers-a-story-of-the-slave-squadron', '1885_collingwood-the-voyage-of-the-aurora', '1885_fenn-the-new-forest-spy', '1885_henty-the-dragon-and-the-raven', '1885_henty-the-young-colonists', '1885_kingston-adventures-in-australia', '1885_reed-follow-my-leader', '1885_reed-reginald-cruden', '1886_ballantyne-the-lively-poll', '1886_ballantyne-the-prairie-chief', '1886_fenn-son-phillip', '1886_henty-for-name-and-fame', '1886_henty-within-the-enemy-lines', '1886_stevenson-kidnapped', '1887_adams-perils-in-the-transvaal-and-zululand', '1887_collingwood-the-rovers-secret-a-tale-of-the-pirate-cays-and-lagoons-of-cuba', '1887_fenn-the-bag-of-diamonds', '1887_reed-the-master-of-the-shell', '1888_henty-sturdy-and-strong', '1888_in-the-reign-of-terror', '1888_lang-the-gold-of-fairnilee', '1888_macdonald-a-rough-shaking', '1888_wilde-the-happy-prince-and-other-tales', '1889_fenn-three-boys', '1889_lang-prince-prigio', '1889_reed-sir-ludar', '1890_ballantyne-the-eagle-cliff', '1891_reed-roger-ingleton-minor', '1893_reed-the-cock-house-at-fellsgarth', '1893_stevenson-catriona', '1894_collingwood-the-cruise-of-the-esmeralda', '1894_kipling-the-jungle-book', '1894_reed-a-dog-with-a-bad-name', '1894_reed-tom-dick-and-harry', '1895_collingwood-the-pirate-slaver-a-story-of-the-west-african-coast', '1895_kipling-the-second-jungle-book', '1895_reed-kilgorman-a-story-of-ireland-in-1798', '1896_collingswood-the-log-of-privateersman', '1897_kipling-captains-courageous-a-story-of-the-grand-banks', '1898_collingwood-a-pirate-of-the-caribbees', '1898_farrow-the-wallypug-in-london', '1899_collingwood-the-castaways', '1899_kipling-stalky-and-co', '1900_farrow-the-jungle-baby', '1900_hemyng-jack-harkaway-and-his-sons-escape-from-the-brigands-of-greece', '1906_collingwood-across-the-spanish-main-a-tale-of-the-sea-in-the-days-of-queen-bess', '1907_collingwood-with-airship-and-submarine-a-tale-of-adventure', '1908_collingwood-a-middy-in-command-a-tale-of-the-slave-squadron', '1908_collingwood-under-the-chilian-flag-a-tale-of-war-between-chili-and-peru', '1909_collingwood-harry-escombe-a-tale-of-adventure-in-peru', '1909_collingwood-the-cruise-of-the-thetis-a-tale-of-the-cuban-insurrection', '1910_collingwood-a-middy-of-the-slave-squadron-a-west-african-story', '1910_kipling-rewards-and-fairies', '1911_collingwood-a-middy-of-the-king-a-romance-of-the-old-british-navy', '1911_collingwood-the-adventures-of-dick-maitland-a-tale-of-unknown-africa', '1912_collingwood-two-gallant-sons-of-davon-a-tale-of-the-days-of-queen-bess', '1914_collingwood-the-first-mate-the-story-of-a-strange-cruise'] \n",
      "\n"
     ]
    }
   ],
   "source": [
    "print(\"Titles of male authors texts:\", m_titles, '\\n')"
   ]
  },
  {
   "cell_type": "markdown",
   "metadata": {},
   "source": [
    "### 1) Basic analytics: Dimensions"
   ]
  },
  {
   "cell_type": "markdown",
   "metadata": {},
   "source": [
    "The first thing we should analyze is the dimension of our corpora.\n",
    "\n",
    "In order to do that we will use the following two functions contained in the [analytics file](functions/analytics_functions.py):\n",
    "- <span style=\"color:#EDAE49\">corpus_size</span>: useful in order to compute the total number of texts in each corpus;\n",
    "- <span style=\"color:#EDAE49\">corpus_dimension</span>: thought in order to determine the total number of tokens in a corpus."
   ]
  },
  {
   "cell_type": "code",
   "execution_count": 4,
   "metadata": {},
   "outputs": [
    {
     "name": "stdout",
     "output_type": "stream",
     "text": [
      "The size of our corpus of female authors is: 157\n",
      "The size of our corpus of male authors is: 109\n"
     ]
    }
   ],
   "source": [
    "print(\"The size of our corpus of female authors is:\", corpus_size(f_corpus))\n",
    "print(\"The size of our corpus of male authors is:\", corpus_size(m_corpus))"
   ]
  },
  {
   "cell_type": "code",
   "execution_count": 5,
   "metadata": {},
   "outputs": [
    {
     "name": "stdout",
     "output_type": "stream",
     "text": [
      "The dimension of our corpus of female authors is: 8682705\n",
      "The dimension of our corpus of male authors is: 8915321\n"
     ]
    }
   ],
   "source": [
    "print(\"The dimension of our corpus of female authors is:\", corpus_dimension(f_directory))\n",
    "print(\"The dimension of our corpus of male authors is:\", corpus_dimension(m_directory))"
   ]
  },
  {
   "cell_type": "markdown",
   "metadata": {},
   "source": [
    "### 2) Lexical richness"
   ]
  },
  {
   "cell_type": "markdown",
   "metadata": {},
   "source": [
    "Now, what we want to do is to compute the lexical richness of the texts contained in each corpus.</br>\n",
    "In order to do that, we will use the <span style=\"color:#89FC00\">lexical_richness</span> function, that will compute the statistics of each text and return a dictionary in which such values will be stored."
   ]
  },
  {
   "cell_type": "markdown",
   "metadata": {},
   "source": [
    "Moreover, in order to display the results of this preliminary analysis of our corpora, we decide to aggregate data for decades, in order to have a more meaningful representation of them and a measure for comparison."
   ]
  },
  {
   "cell_type": "markdown",
   "metadata": {},
   "source": [
    "<b><u>Female authors corpus</u></b>"
   ]
  },
  {
   "cell_type": "code",
   "execution_count": 6,
   "metadata": {},
   "outputs": [],
   "source": [
    "f_author_richness = lexical_richness(f_authors_texts)\n",
    "f_aggregated_richness = f_author_richness[0]\n",
    "f_overall_richness = f_author_richness[1]\n",
    "\n",
    "file = \"assets/Visualizations datasets/Lexical richness/f_lexical_richness.csv\"\n",
    "if os.path.exists(file):\n",
    "    os.remove(file)\n",
    "\n",
    "csv_richness = open(file,'a')\n",
    "csv_richness.write(\"Year\"+\",\"+\"Lexical Richness\"+'\\n')\n",
    "for decade in f_aggregated_richness:\n",
    "    csv_richness.write(decade+\",\"+str(f_aggregated_richness[decade])+'\\n')\n",
    "csv_richness.close()\n",
    "\n",
    "file = \"assets/Visualizations datasets/Lexical richness/f_texts_richness.csv\"\n",
    "if os.path.exists(file):\n",
    "    os.remove(file)\n",
    "\n",
    "csv_richness = open(file,'a')\n",
    "csv_richness.write(\"Year\"+\",\"+\"Lexical Richness\"+'\\n')\n",
    "for text in f_overall_richness:\n",
    "    csv_richness.write(text[21:25]+\",\"+str(f_overall_richness[text])+'\\n')\n",
    "csv_richness.close()"
   ]
  },
  {
   "cell_type": "markdown",
   "metadata": {},
   "source": [
    "<b><u>Male authors corpus</u></b>"
   ]
  },
  {
   "cell_type": "code",
   "execution_count": 7,
   "metadata": {},
   "outputs": [],
   "source": [
    "m_author_richness = lexical_richness(m_authors_texts)\n",
    "m_aggregated_richness = m_author_richness[0]\n",
    "m_overall_richness = m_author_richness[1]\n",
    "\n",
    "file = \"assets/Visualizations datasets/Lexical richness/m_lexical_richness.csv\"\n",
    "if os.path.exists(file):\n",
    "    os.remove(file)\n",
    "\n",
    "csv_richness = open(file,'a')\n",
    "csv_richness.write(\"Year\"+\",\"+\"Lexical Richness\"+'\\n')\n",
    "for decade in m_aggregated_richness:\n",
    "    csv_richness.write(decade+\",\"+str(m_aggregated_richness[decade])+'\\n')\n",
    "csv_richness.close()\n",
    "\n",
    "file = \"assets/Visualizations datasets/Lexical richness/m_texts_richness.csv\"\n",
    "if os.path.exists(file):\n",
    "    os.remove(file)\n",
    "\n",
    "csv_richness = open(file,'a')\n",
    "csv_richness.write(\"Year\"+\",\"+\"Lexical Richness\"+'\\n')\n",
    "for text in m_overall_richness:\n",
    "    csv_richness.write(text[21:25]+\",\"+str(m_overall_richness[text])+'\\n')\n",
    "csv_richness.close()"
   ]
  },
  {
   "cell_type": "markdown",
   "metadata": {},
   "source": [
    "#### 2.1) Differences"
   ]
  },
  {
   "cell_type": "markdown",
   "metadata": {},
   "source": [
    "Once we have such measures of lexical richness, we can move on by computing the mean of them."
   ]
  },
  {
   "cell_type": "code",
   "execution_count": 10,
   "metadata": {},
   "outputs": [
    {
     "name": "stdout",
     "output_type": "stream",
     "text": [
      "The average lexical richness of the female authors corpus is: 0.11315061438042483\n"
     ]
    }
   ],
   "source": [
    "f_lexical_richness_total = 0\n",
    "for key in f_overall_richness:\n",
    "    f_lexical_richness_total += f_overall_richness[key]\n",
    "print(\"The average lexical richness of the female authors corpus is:\", f_lexical_richness_total/corpus_size(f_corpus))"
   ]
  },
  {
   "cell_type": "code",
   "execution_count": 11,
   "metadata": {},
   "outputs": [
    {
     "name": "stdout",
     "output_type": "stream",
     "text": [
      "The average lexical richness of the male authors corpus is: 0.09470654678205137\n"
     ]
    }
   ],
   "source": [
    "m_lexical_richness_total = 0\n",
    "for key in m_overall_richness:\n",
    "    m_lexical_richness_total += m_overall_richness[key]\n",
    "print(\"The average lexical richness of the male authors corpus is:\", m_lexical_richness_total/corpus_size(m_corpus))"
   ]
  },
  {
   "cell_type": "markdown",
   "metadata": {},
   "source": [
    "For now, the only conclusion that we can draw from this first step is that in our corpora, female authors use a richer lexicon with respect to male authors."
   ]
  }
 ],
 "metadata": {
  "kernelspec": {
   "display_name": "Python 3.10.5 64-bit",
   "language": "python",
   "name": "python3"
  },
  "language_info": {
   "codemirror_mode": {
    "name": "ipython",
    "version": 3
   },
   "file_extension": ".py",
   "mimetype": "text/x-python",
   "name": "python",
   "nbconvert_exporter": "python",
   "pygments_lexer": "ipython3",
   "version": "3.10.5"
  },
  "orig_nbformat": 4,
  "vscode": {
   "interpreter": {
    "hash": "aee8b7b246df8f9039afb4144a1f6fd8d2ca17a180786b69acc140d282b71a49"
   }
  }
 },
 "nbformat": 4,
 "nbformat_minor": 2
}
